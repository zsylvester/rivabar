{
 "cells": [
  {
   "cell_type": "code",
   "execution_count": 2,
   "id": "24677c76",
   "metadata": {},
   "outputs": [],
   "source": [
    "import numpy as np\n",
    "import matplotlib.pyplot as plt\n",
    "import pandas as pd\n",
    "import rivabar as rb\n",
    "\n",
    "%matplotlib qt"
   ]
  },
  {
   "cell_type": "markdown",
   "id": "2bc47b24",
   "metadata": {},
   "source": [
    "## Branco River, Brazil - single Landsat TIF file\n",
    "\n",
    "* link to data file: https://www.dropbox.com/s/aa7eq8ky0y1wryl/LC08_232060_20140219.tif?dl=0"
   ]
  },
  {
   "cell_type": "code",
   "execution_count": 20,
   "id": "f0b4eb5f",
   "metadata": {},
   "outputs": [
    {
     "name": "stdout",
     "output_type": "stream",
     "text": [
      "reading Landsat data\n",
      "removing small holes\n",
      "running skeletonization\n",
      "building graph from skeleton\n",
      "finding reasonable starting and ending points on graph edges\n",
      "start_ind: 707\n",
      "end_ind: 708\n",
      "finding nodes that are within a certain radius of the path\n"
     ]
    },
    {
     "name": "stderr",
     "output_type": "stream",
     "text": [
      "100%|████████████████████████████████████████| 214/214 [00:01<00:00, 124.77it/s]\n"
     ]
    },
    {
     "name": "stdout",
     "output_type": "stream",
     "text": [
      "creating list of linestrings for polygonization\n"
     ]
    },
    {
     "name": "stderr",
     "output_type": "stream",
     "text": [
      "100%|████████████████████████████████████████| 422/422 [00:01<00:00, 421.74it/s]\n",
      "/Users/zoltan/anaconda3/envs/channelmapper/lib/python3.10/site-packages/libpysal/weights/weights.py:172: UserWarning: The weights matrix is not fully connected: \n",
      " There are 22 disconnected components.\n",
      " There are 12 islands with ids: 10, 16, 17, 37, 38, 39, 40, 41, 42, 43, 44, 47.\n",
      "  warnings.warn(message)\n"
     ]
    },
    {
     "name": "stdout",
     "output_type": "stream",
     "text": [
      "first point coords:\n",
      "4002.0 565.0\n",
      "second point coords:\n",
      "2415.0 6907.0\n",
      "creating centerline polygons\n"
     ]
    },
    {
     "name": "stderr",
     "output_type": "stream",
     "text": [
      "100%|█████████████████████████████████████████| 64/64 [00:00<00:00, 2398.27it/s]\n"
     ]
    },
    {
     "name": "stdout",
     "output_type": "stream",
     "text": [
      "creating linestrings for primal graph\n"
     ]
    },
    {
     "name": "stderr",
     "output_type": "stream",
     "text": [
      "66it [00:01, 54.14it/s]\n"
     ]
    },
    {
     "name": "stdout",
     "output_type": "stream",
     "text": [
      "getting bank coordinates for the two main banks\n"
     ]
    },
    {
     "name": "stderr",
     "output_type": "stream",
     "text": [
      "100%|████████████████████████████████████| 7544/7544 [00:00<00:00, 31941.60it/s]\n",
      "100%|████████████████████████████████████| 7396/7396 [00:00<00:00, 31518.08it/s]\n"
     ]
    },
    {
     "name": "stdout",
     "output_type": "stream",
     "text": [
      "getting bank coordinates for the rest of the islands\n"
     ]
    },
    {
     "name": "stderr",
     "output_type": "stream",
     "text": [
      "100%|███████████████████████████████████████████| 64/64 [00:08<00:00,  7.76it/s]\n"
     ]
    },
    {
     "name": "stdout",
     "output_type": "stream",
     "text": [
      "setting half channel widths\n"
     ]
    },
    {
     "name": "stderr",
     "output_type": "stream",
     "text": [
      "100%|███████████████████████████████████████████| 66/66 [00:12<00:00,  5.34it/s]\n",
      "100%|█████████████████████████████████████████| 64/64 [00:00<00:00, 1860.25it/s]\n",
      "100%|███████████████████████████████████████| 188/188 [00:00<00:00, 3156.01it/s]\n"
     ]
    }
   ],
   "source": [
    "reload(rb)\n",
    "dirname = '/Users/zoltan/Dropbox/Channels/Fluvial/Branco/'\n",
    "fname = 'LC08_232060_20140219.tif'\n",
    "start_x = 675796.2\n",
    "start_y = 98338.8\n",
    "end_x = 628190.3\n",
    "end_y = -91886.6\n",
    "\n",
    "mndwi, G, G_primal, G_rook, gdf2, left_utm_x, right_utm_x, lower_utm_y, upper_utm_y =\\\n",
    "                rb.extract_centerline(fname, dirname, start_x, start_y, end_x, end_y,\\\n",
    "                file_type='single_tif', ratio = 20,\\\n",
    "                ch_belt_smooth_factor=1e8, n_pixels_per_channel = 5, remove_smaller_components=True)\n",
    "\n",
    "fig = rb.plot_im_and_lines(mndwi, left_utm_x, right_utm_x, lower_utm_y, upper_utm_y, \n",
    "                            G_rook, G_primal, smoothing=False)"
   ]
  },
  {
   "cell_type": "code",
   "execution_count": null,
   "id": "f7dbaa1a",
   "metadata": {},
   "outputs": [],
   "source": [
    "# save results to shapefiles:\n",
    "rb.save_shapefiles(dirname, fname, G_rook, gdf2, fname_add_on='')"
   ]
  },
  {
   "cell_type": "markdown",
   "id": "c240c1b0",
   "metadata": {},
   "source": [
    "### Display an image band in UTM coordinates\n",
    "\n",
    "The cell below is an example of how you can load the first band from a raster file and display it in UTM coordinate space (so that you can use 'ginput' to get start_x, start_y, end_x, end_y). Ideally this raster is already an mndwi file so that the channels are more obvious."
   ]
  },
  {
   "cell_type": "code",
   "execution_count": 6,
   "id": "bdb0c655",
   "metadata": {},
   "outputs": [
    {
     "data": {
      "text/plain": [
       "<module 'rivabar' from '/Users/zoltan/Dropbox/rivabar/rivabar/rivabar.py'>"
      ]
     },
     "execution_count": 6,
     "metadata": {},
     "output_type": "execute_result"
    }
   ],
   "source": [
    "from importlib import reload\n",
    "reload(rb)\n",
    "dirname = '/Users/zoltan/Dropbox/Channels/Fluvial/Branco/'\n",
    "fname = 'LC08_232060_20140219.tif'\n",
    "im, left_utm_x, right_utm_x, lower_utm_y, upper_utm_y = rb.read_and_plot_im(dirname, fname)"
   ]
  },
  {
   "cell_type": "markdown",
   "id": "d1307c64",
   "metadata": {},
   "source": [
    "## Mamore River, Bolivia - Landsat bands\n",
    "\n",
    "* link to data folder: https://www.dropbox.com/scl/fo/k7lhzey6kv6kjux92or5d/h?rlkey=zx8g66sprd6038i5sw5xkixgi&dl=0"
   ]
  },
  {
   "cell_type": "code",
   "execution_count": 21,
   "id": "d153ce14",
   "metadata": {},
   "outputs": [
    {
     "name": "stdout",
     "output_type": "stream",
     "text": [
      "reading Landsat data\n"
     ]
    },
    {
     "name": "stderr",
     "output_type": "stream",
     "text": [
      "100%|█████████████████████████████████████████████| 4/4 [00:00<00:00, 13.16it/s]\n"
     ]
    },
    {
     "name": "stdout",
     "output_type": "stream",
     "text": [
      "removing small holes\n",
      "running skeletonization\n",
      "building graph from skeleton\n",
      "finding reasonable starting and ending points on graph edges\n",
      "no path between start_ind and end_ind\n",
      "start_ind: 49094\n",
      "end_ind: 49095\n",
      "finding nodes that are within a certain radius of the path\n"
     ]
    },
    {
     "name": "stderr",
     "output_type": "stream",
     "text": [
      "100%|██████████████████████████████████████████| 70/70 [00:00<00:00, 153.84it/s]\n"
     ]
    },
    {
     "name": "stdout",
     "output_type": "stream",
     "text": [
      "creating list of linestrings for polygonization\n"
     ]
    },
    {
     "name": "stderr",
     "output_type": "stream",
     "text": [
      "100%|████████████████████████████████████████| 269/269 [00:00<00:00, 380.42it/s]\n",
      "/Users/zoltan/anaconda3/envs/channelmapper/lib/python3.10/site-packages/libpysal/weights/weights.py:172: UserWarning: The weights matrix is not fully connected: \n",
      " There are 14 disconnected components.\n",
      " There are 14 islands with ids: 0, 1, 2, 3, 4, 5, 6, 7, 8, 9, 10, 11, 12, 13.\n",
      "  warnings.warn(message)\n"
     ]
    },
    {
     "name": "stdout",
     "output_type": "stream",
     "text": [
      "first point coords:\n",
      "4075.0 6937.0\n",
      "second point coords:\n",
      "3470.0 737.0\n",
      "creating centerline polygons\n"
     ]
    },
    {
     "name": "stderr",
     "output_type": "stream",
     "text": [
      "100%|█████████████████████████████████████████| 10/10 [00:00<00:00, 3005.81it/s]\n"
     ]
    },
    {
     "name": "stdout",
     "output_type": "stream",
     "text": [
      "creating linestrings for primal graph\n"
     ]
    },
    {
     "name": "stderr",
     "output_type": "stream",
     "text": [
      "12it [00:00, 47.60it/s]\n"
     ]
    },
    {
     "name": "stdout",
     "output_type": "stream",
     "text": [
      "getting bank coordinates for the two main banks\n"
     ]
    },
    {
     "name": "stderr",
     "output_type": "stream",
     "text": [
      "100%|██████████████████████████████████| 14089/14089 [00:00<00:00, 40248.21it/s]\n",
      "100%|██████████████████████████████████| 14024/14024 [00:00<00:00, 40656.24it/s]\n"
     ]
    },
    {
     "name": "stdout",
     "output_type": "stream",
     "text": [
      "getting bank coordinates for the rest of the islands\n"
     ]
    },
    {
     "name": "stderr",
     "output_type": "stream",
     "text": [
      "100%|███████████████████████████████████████████| 10/10 [00:01<00:00,  8.06it/s]\n"
     ]
    },
    {
     "name": "stdout",
     "output_type": "stream",
     "text": [
      "setting half channel widths\n"
     ]
    },
    {
     "name": "stderr",
     "output_type": "stream",
     "text": [
      "100%|███████████████████████████████████████████| 12/12 [00:03<00:00,  3.30it/s]\n",
      "100%|█████████████████████████████████████████| 10/10 [00:00<00:00, 1730.75it/s]\n",
      "100%|██████████████████████████████████████████| 31/31 [00:00<00:00, 942.99it/s]\n"
     ]
    }
   ],
   "source": [
    "reload(rb)\n",
    "dirname = '/Users/zoltan/Dropbox/Channels/Fluvial/Bolivia/Mamore/'\n",
    "fname = 'LC08_L1TP_232071_20160616_20170324_01_T1'\n",
    "start_x = 303810\n",
    "start_y = -1851620\n",
    "end_x = 285603\n",
    "end_y = -1666131\n",
    "\n",
    "mndwi, G, G_primal, G_rook, gdf2, left_utm_x, right_utm_x, lower_utm_y, upper_utm_y =\\\n",
    "                rb.extract_centerline(fname, dirname, start_x, start_y, end_x, end_y,\\\n",
    "                file_type='multiple_tifs', ratio = 10,\\\n",
    "                ch_belt_smooth_factor=1e8, n_pixels_per_channel = 2, \n",
    "                remove_smaller_components=False, delete_pixels_polys = False)\n",
    "\n",
    "fig = rb.plot_im_and_lines(mndwi, left_utm_x, right_utm_x, lower_utm_y, upper_utm_y, \n",
    "                            G_rook, G_primal, smoothing=False)"
   ]
  },
  {
   "cell_type": "markdown",
   "id": "57c7a137",
   "metadata": {},
   "source": [
    "## Brahmaputra River, India / Bangladesh - Landsat bands\n",
    "\n",
    "* link to data folder: https://www.dropbox.com/scl/fo/wqb8z30wgor3vwg19bdeq/h?rlkey=pq0vxqabhxwnf2rxs07sjk8o1&dl=0"
   ]
  },
  {
   "cell_type": "code",
   "execution_count": 7,
   "id": "f3f37c7c",
   "metadata": {},
   "outputs": [
    {
     "name": "stdout",
     "output_type": "stream",
     "text": [
      "removing small holes\n",
      "running skeletonization\n",
      "building graph from skeleton\n",
      "finding reasonable starting and ending points on graph edges\n",
      "start_ind: 5040\n",
      "end_ind: 5041\n",
      "finding nodes that are within a certain radius of the path\n"
     ]
    },
    {
     "name": "stderr",
     "output_type": "stream",
     "text": [
      "100%|█████████████████████████████████████████| 221/221 [00:18<00:00, 11.77it/s]\n"
     ]
    },
    {
     "name": "stdout",
     "output_type": "stream",
     "text": [
      "creating list of linestrings for polygonization\n"
     ]
    },
    {
     "name": "stderr",
     "output_type": "stream",
     "text": [
      "100%|███████████████████████████████████████| 2820/2820 [00:40<00:00, 69.07it/s]\n",
      "/Users/zoltan/anaconda3/envs/channelmapper/lib/python3.10/site-packages/libpysal/weights/weights.py:172: UserWarning: The weights matrix is not fully connected: \n",
      " There are 95 disconnected components.\n",
      " There are 65 islands with ids: 0, 1, 2, 3, 4, 8, 18, 21, 22, 23, 24, 25, 26, 29, 35, 36, 40, 41, 42, 43, 44, 45, 46, 47, 48, 49, 51, 55, 67, 68, 81, 87, 99, 100, 104, 111, 144, 178, 186, 201, 206, 209, 214, 215, 225, 227, 234, 237, 240, 241, 244, 257, 293, 295, 311, 320, 346, 354, 373, 381, 388, 389, 390, 454, 455.\n",
      "  warnings.warn(message)\n"
     ]
    },
    {
     "name": "stdout",
     "output_type": "stream",
     "text": [
      "first point coords:\n",
      "7168.0 2961.0\n",
      "second point coords:\n",
      "4094.0 7207.0\n",
      "creating centerline polygons\n"
     ]
    },
    {
     "name": "stderr",
     "output_type": "stream",
     "text": [
      "100%|███████████████████████████████████████| 297/297 [00:00<00:00, 2365.35it/s]"
     ]
    },
    {
     "name": "stdout",
     "output_type": "stream",
     "text": [
      "creating linestrings for primal graph\n"
     ]
    },
    {
     "name": "stderr",
     "output_type": "stream",
     "text": [
      "\n",
      "299it [00:17, 16.68it/s]\n"
     ]
    },
    {
     "name": "stdout",
     "output_type": "stream",
     "text": [
      "getting bank coordinates for the two main banks\n"
     ]
    },
    {
     "name": "stderr",
     "output_type": "stream",
     "text": [
      "100%|████████████████████████████████████| 7857/7857 [00:00<00:00, 31778.43it/s]\n",
      "100%|████████████████████████████████████| 6828/6828 [00:00<00:00, 28466.12it/s]\n"
     ]
    },
    {
     "name": "stdout",
     "output_type": "stream",
     "text": [
      "getting bank coordinates for the rest of the islands\n"
     ]
    },
    {
     "name": "stderr",
     "output_type": "stream",
     "text": [
      "100%|█████████████████████████████████████████| 297/297 [00:39<00:00,  7.54it/s]\n"
     ]
    },
    {
     "name": "stdout",
     "output_type": "stream",
     "text": [
      "setting half channel widths\n"
     ]
    },
    {
     "name": "stderr",
     "output_type": "stream",
     "text": [
      "100%|█████████████████████████████████████████| 299/299 [00:49<00:00,  6.04it/s]\n",
      "100%|███████████████████████████████████████| 297/297 [00:00<00:00, 1760.84it/s]\n",
      "100%|███████████████████████████████████████| 869/869 [00:00<00:00, 4555.89it/s]\n"
     ]
    }
   ],
   "source": [
    "dirname = '/Users/zoltan/Dropbox/Channels/Fluvial/Brahmaputra_2/'\n",
    "fname = 'LC08_L1TP_138042_20190114_20190131_01_T1'\n",
    "start_x = 859250.5\n",
    "start_y = 2903119.2\n",
    "end_x = 767358.1\n",
    "end_y = 2776067.9\n",
    "\n",
    "mndwi, G, G_primal, G_rook, gdf2, left_utm_x, right_utm_x, lower_utm_y, upper_utm_y =\\\n",
    "                rb.extract_centerline(fname, dirname, start_x, start_y, end_x, end_y,\\\n",
    "                file_type='multiple_tifs', ratio = 20,\\\n",
    "                ch_belt_smooth_factor=1e8, n_pixels_per_channel = 40, remove_smaller_components=True, \n",
    "                                      mndwi_threshold = 0.01)\n",
    "\n",
    "fig = rb.plot_im_and_lines(mndwi, left_utm_x, right_utm_x, lower_utm_y, upper_utm_y, \n",
    "                            G_rook, G_primal, smoothing=False)"
   ]
  },
  {
   "cell_type": "markdown",
   "id": "52a62796",
   "metadata": {},
   "source": [
    "## Purus River, MNDWI image generated in Google Earth Engine\n",
    "\n",
    "* output from GEE needs to be converted to UTM coordinates before running rivabar\n",
    "* link to data file: https://www.dropbox.com/scl/fi/7bpz3b4eikzdu59cv4bqu/L8_mndwi_Purus_2017_UTM.tif?rlkey=dkv5ykf1xca0jh478yhn6a6im&dl=0"
   ]
  },
  {
   "cell_type": "code",
   "execution_count": 8,
   "id": "ef86106a",
   "metadata": {},
   "outputs": [
    {
     "name": "stdout",
     "output_type": "stream",
     "text": [
      "removing small holes\n",
      "running skeletonization\n",
      "building graph from skeleton\n",
      "finding reasonable starting and ending points on graph edges\n",
      "start_ind: 1930\n",
      "end_ind: 1931\n",
      "finding nodes that are within a certain radius of the path\n"
     ]
    },
    {
     "name": "stderr",
     "output_type": "stream",
     "text": [
      "100%|█████████████████████████████████████████| 266/266 [00:06<00:00, 40.95it/s]\n"
     ]
    },
    {
     "name": "stdout",
     "output_type": "stream",
     "text": [
      "creating list of linestrings for polygonization\n"
     ]
    },
    {
     "name": "stderr",
     "output_type": "stream",
     "text": [
      "100%|████████████████████████████████████████| 605/605 [00:03<00:00, 163.05it/s]\n",
      "/Users/zoltan/anaconda3/envs/channelmapper/lib/python3.10/site-packages/libpysal/weights/weights.py:172: UserWarning: The weights matrix is not fully connected: \n",
      " There are 17 disconnected components.\n",
      " There are 14 islands with ids: 0, 1, 2, 3, 6, 7, 8, 9, 12, 13, 14, 19, 20, 21.\n",
      "  warnings.warn(message)\n"
     ]
    },
    {
     "name": "stdout",
     "output_type": "stream",
     "text": [
      "first point coords:\n",
      "98.0 16722.0\n",
      "second point coords:\n",
      "29969.0 507.0\n",
      "creating centerline polygons\n"
     ]
    },
    {
     "name": "stderr",
     "output_type": "stream",
     "text": [
      "100%|██████████████████████████████████████████| 10/10 [00:00<00:00, 715.00it/s]"
     ]
    },
    {
     "name": "stdout",
     "output_type": "stream",
     "text": [
      "creating linestrings for primal graph\n"
     ]
    },
    {
     "name": "stderr",
     "output_type": "stream",
     "text": [
      "\n",
      "12it [00:01,  8.18it/s]\n"
     ]
    },
    {
     "name": "stdout",
     "output_type": "stream",
     "text": [
      "getting bank coordinates for the two main banks\n"
     ]
    },
    {
     "name": "stderr",
     "output_type": "stream",
     "text": [
      "100%|██████████████████████████████████| 84705/84705 [00:02<00:00, 35835.04it/s]\n",
      "100%|██████████████████████████████████| 85041/85041 [00:02<00:00, 35343.92it/s]\n"
     ]
    },
    {
     "name": "stdout",
     "output_type": "stream",
     "text": [
      "getting bank coordinates for the rest of the islands\n"
     ]
    },
    {
     "name": "stderr",
     "output_type": "stream",
     "text": [
      "100%|███████████████████████████████████████████| 10/10 [00:16<00:00,  1.61s/it]\n"
     ]
    },
    {
     "name": "stdout",
     "output_type": "stream",
     "text": [
      "setting half channel widths\n"
     ]
    },
    {
     "name": "stderr",
     "output_type": "stream",
     "text": [
      "100%|███████████████████████████████████████████| 12/12 [01:13<00:00,  6.11s/it]\n",
      "100%|██████████████████████████████████████████| 10/10 [00:00<00:00, 547.68it/s]\n",
      "100%|██████████████████████████████████████████| 31/31 [00:00<00:00, 213.80it/s]\n"
     ]
    }
   ],
   "source": [
    "dirname = \"/Users/zoltan/Dropbox/Channels/Fluvial/Purus/\"\n",
    "fname = \"L8_mndwi_Purus_2017_UTM.tif\"\n",
    "start_x = 363166.2\n",
    "start_y = -1011937.1\n",
    "end_x = 1254178.3\n",
    "end_y = -528280.7\n",
    "\n",
    "mndwi, G, G_primal, G_rook, gdf2, left_utm_x, right_utm_x, lower_utm_y, upper_utm_y = \\\n",
    "                rb.extract_centerline(fname, dirname, start_x, start_y, end_x, end_y,\\\n",
    "                file_type='water_index', ratio = 20, mndwi_threshold=0.1, \\\n",
    "                ch_belt_smooth_factor=1e8, n_pixels_per_channel = 40, remove_smaller_components=True,\\\n",
    "                delete_pixels_polys = False, small_hole_threshold = 100)\n",
    "\n",
    "fig = rb.plot_im_and_lines(mndwi, left_utm_x, right_utm_x, lower_utm_y, upper_utm_y, \n",
    "                            G_rook, G_primal, smoothing=False)"
   ]
  },
  {
   "cell_type": "markdown",
   "id": "030fe72f",
   "metadata": {},
   "source": [
    "### This is how you can use the `convert_geographic_proj_to_utm` function to reproject a raster from geographic coordinates to UTM:"
   ]
  },
  {
   "cell_type": "code",
   "execution_count": null,
   "id": "b2b3cae3",
   "metadata": {},
   "outputs": [],
   "source": [
    "dirname = \"/Users/zoltan/Dropbox/Channels/Fluvial/Purus/\"\n",
    "fname = \"L8_mndwi_Purus_2017.tif\" # file from Google Earth Engine\n",
    "dstCrs = {'init': 'EPSG:32619'} # EPSG for the Purus River area\n",
    "# this will write out a file named \"L8_mndwi_Purus_2017_UTM.tif\":\n",
    "rb.convert_geographic_proj_to_utm(dirname, fname, dstCrs)"
   ]
  },
  {
   "cell_type": "markdown",
   "id": "57547877",
   "metadata": {},
   "source": [
    "### Merge two files into a single TIF file (often needed when downloading files from GEE)"
   ]
  },
  {
   "cell_type": "code",
   "execution_count": null,
   "id": "91072420",
   "metadata": {},
   "outputs": [],
   "source": [
    "dirname = \"/Users/zoltan/Dropbox/Channels/Fluvial/Purus/\"\n",
    "fname1 = 'L8_mndwi_mosaic_Purus_2019_2020-0000000000-0000000000_UTM.tif'\n",
    "fname2 = 'L8_mndwi_mosaic_Purus_2019_2020-0000000000-0000032768_UTM.tif'\n",
    "\n",
    "# Open the first raster dataset\n",
    "src1 = rasterio.open(dirname+fname1) \n",
    "meta1 = src1.meta\n",
    "# Open the second raster dataset\n",
    "src2 = rasterio.open(dirname+fname2)\n",
    "# Merge the two arrays\n",
    "merged_arr, merged_transform = rasterio.merge.merge([src1, src2])\n",
    "merged_arr = merged_arr[0, :, :]\n",
    "# Update the metadata with the merged shape and transform\n",
    "meta1.update({\n",
    "    'height': merged_arr.shape[0],\n",
    "    'width': merged_arr.shape[1],\n",
    "    'transform': merged_transform\n",
    "})\n",
    "# Write the merged raster dataset to disk\n",
    "with rasterio.open(dirname + 'L8_mndwi_mosaic_Purus_2019_2020_UTM.tif', 'w', **meta1) as dst:\n",
    "    dst.write(merged_arr, 1)"
   ]
  },
  {
   "cell_type": "markdown",
   "id": "435ac864",
   "metadata": {},
   "source": [
    "## Adelaide River, Australia, water index generated from Planet Labs data\n",
    "\n",
    "* link to data file: https://www.dropbox.com/scl/fi/mg84hoc7xls7xqmsbc1f2/ndwi_mosaic.tif?rlkey=ygy5tpyy964gnirvtkyzyzcfg&dl=0"
   ]
  },
  {
   "cell_type": "code",
   "execution_count": 9,
   "id": "1c765407",
   "metadata": {},
   "outputs": [
    {
     "name": "stdout",
     "output_type": "stream",
     "text": [
      "removing small holes\n",
      "running skeletonization\n",
      "building graph from skeleton\n",
      "finding reasonable starting and ending points on graph edges\n",
      "start_ind: 26488\n",
      "end_ind: 26489\n",
      "finding nodes that are within a certain radius of the path\n"
     ]
    },
    {
     "name": "stderr",
     "output_type": "stream",
     "text": [
      "100%|██████████████████████████████████████████| 62/62 [00:00<00:00, 169.29it/s]\n"
     ]
    },
    {
     "name": "stdout",
     "output_type": "stream",
     "text": [
      "creating list of linestrings for polygonization\n"
     ]
    },
    {
     "name": "stderr",
     "output_type": "stream",
     "text": [
      "100%|████████████████████████████████████████| 217/217 [00:00<00:00, 440.90it/s]\n"
     ]
    },
    {
     "name": "stdout",
     "output_type": "stream",
     "text": [
      "first point coords:\n",
      "3622.0 16966.0\n",
      "second point coords:\n",
      "257.0 453.0\n",
      "creating centerline polygons\n"
     ]
    },
    {
     "name": "stderr",
     "output_type": "stream",
     "text": [
      "0it [00:00, ?it/s]\n"
     ]
    },
    {
     "name": "stdout",
     "output_type": "stream",
     "text": [
      "creating linestrings for primal graph\n"
     ]
    },
    {
     "name": "stderr",
     "output_type": "stream",
     "text": [
      "2it [00:00,  7.49it/s]\n"
     ]
    },
    {
     "name": "stdout",
     "output_type": "stream",
     "text": [
      "getting bank coordinates for the two main banks\n"
     ]
    },
    {
     "name": "stderr",
     "output_type": "stream",
     "text": [
      "100%|███████████████████████████████████| 29882/29882 [00:06<00:00, 4884.81it/s]\n",
      "100%|███████████████████████████████████| 29804/29804 [00:06<00:00, 4669.55it/s]\n"
     ]
    },
    {
     "name": "stdout",
     "output_type": "stream",
     "text": [
      "getting bank coordinates for the rest of the islands\n"
     ]
    },
    {
     "name": "stderr",
     "output_type": "stream",
     "text": [
      "0it [00:00, ?it/s]\n"
     ]
    },
    {
     "name": "stdout",
     "output_type": "stream",
     "text": [
      "setting half channel widths\n"
     ]
    },
    {
     "name": "stderr",
     "output_type": "stream",
     "text": [
      "100%|█████████████████████████████████████████████| 2/2 [00:13<00:00,  6.72s/it]\n",
      "0it [00:00, ?it/s]\n",
      "100%|█████████████████████████████████████████████| 1/1 [00:00<00:00, 20.96it/s]\n"
     ]
    }
   ],
   "source": [
    "dirname = '/Users/zoltan/Dropbox/Channels/Fluvial/Adelaide/Adelaide_River_1_psscene_analytic_sr_udm2/files/'\n",
    "fname = 'ndwi_mosaic.tif'\n",
    "start_x = 753443.4\n",
    "start_y = 8598434.2\n",
    "end_x = 743089.7\n",
    "end_y = 8648110.2\n",
    "\n",
    "mndwi, G, G_primal, G_rook, gdf2, left_utm_x, right_utm_x, lower_utm_y, upper_utm_y =\\\n",
    "                rb.extract_centerline(fname, dirname, start_x, start_y, end_x, end_y,\\\n",
    "                file_type='water_index', ratio = 20, mndwi_threshold = 0.5, \\\n",
    "                ch_belt_smooth_factor=1e8, n_pixels_per_channel = 100, remove_smaller_components=False)\n",
    "\n",
    "fig = rb.plot_im_and_lines(mndwi, left_utm_x, right_utm_x, lower_utm_y, upper_utm_y, \n",
    "                            G_rook, G_primal, smoothing=False)"
   ]
  }
 ],
 "metadata": {
  "kernelspec": {
   "display_name": "Python 3 (ipykernel)",
   "language": "python",
   "name": "python3"
  },
  "language_info": {
   "codemirror_mode": {
    "name": "ipython",
    "version": 3
   },
   "file_extension": ".py",
   "mimetype": "text/x-python",
   "name": "python",
   "nbconvert_exporter": "python",
   "pygments_lexer": "ipython3",
   "version": "3.10.10"
  },
  "vscode": {
   "interpreter": {
    "hash": "5293af085d627a1ec0b9d033ae6d3c17b7c5c9820fe8c5e4672c38887edecf15"
   }
  }
 },
 "nbformat": 4,
 "nbformat_minor": 5
}
