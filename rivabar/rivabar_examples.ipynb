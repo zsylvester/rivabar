{
 "cells": [
  {
   "cell_type": "code",
   "execution_count": 1,
   "id": "24677c76",
   "metadata": {},
   "outputs": [],
   "source": [
    "import numpy as np\n",
    "import matplotlib.pyplot as plt\n",
    "import pandas as pd\n",
    "import rivabar as rb\n",
    "\n",
    "%matplotlib qt"
   ]
  },
  {
   "cell_type": "markdown",
   "id": "2bc47b24",
   "metadata": {},
   "source": [
    "## Branco River, Brazil - single Landsat TIF file\n",
    "\n",
    "* link to data file: https://www.dropbox.com/s/aa7eq8ky0y1wryl/LC08_232060_20140219.tif?dl=0"
   ]
  },
  {
   "cell_type": "code",
   "execution_count": 2,
   "id": "f0b4eb5f",
   "metadata": {},
   "outputs": [
    {
     "name": "stdout",
     "output_type": "stream",
     "text": [
      "reading Landsat data\n"
     ]
    },
    {
     "name": "stderr",
     "output_type": "stream",
     "text": [
      "100%|█████████████████████████████████████████████| 4/4 [00:05<00:00,  1.48s/it]\n"
     ]
    },
    {
     "name": "stdout",
     "output_type": "stream",
     "text": [
      "removing small holes\n",
      "running skeletonization\n",
      "building graph from skeleton\n",
      "finding reasonable starting and ending points on graph edges\n",
      "finding nodes that are within a certain radius of the path\n"
     ]
    },
    {
     "name": "stderr",
     "output_type": "stream",
     "text": [
      "100%|████████████████████████████████████████| 206/206 [00:01<00:00, 117.41it/s]\n",
      "100%|████████████████████████████████████████| 422/422 [00:00<00:00, 456.68it/s]\n",
      "100%|█████████████████████████████████████████| 63/63 [00:00<00:00, 6238.28it/s]\n"
     ]
    },
    {
     "name": "stdout",
     "output_type": "stream",
     "text": [
      "creating linestrings for primal graph\n"
     ]
    },
    {
     "name": "stderr",
     "output_type": "stream",
     "text": [
      "65it [00:00, 107.81it/s]\n"
     ]
    },
    {
     "name": "stdout",
     "output_type": "stream",
     "text": [
      "getting bank coordinates for the two main banks\n"
     ]
    },
    {
     "name": "stderr",
     "output_type": "stream",
     "text": [
      "100%|████████████████████████████████████| 7140/7140 [00:00<00:00, 32895.45it/s]\n",
      "100%|████████████████████████████████████| 7106/7106 [00:00<00:00, 32693.06it/s]\n"
     ]
    },
    {
     "name": "stdout",
     "output_type": "stream",
     "text": [
      "getting bank coordinates for the rest of the islands\n"
     ]
    },
    {
     "name": "stderr",
     "output_type": "stream",
     "text": [
      "100%|███████████████████████████████████████████| 63/63 [00:06<00:00,  9.94it/s]\n"
     ]
    },
    {
     "name": "stdout",
     "output_type": "stream",
     "text": [
      "setting half channel widths\n"
     ]
    },
    {
     "name": "stderr",
     "output_type": "stream",
     "text": [
      "100%|███████████████████████████████████████████| 65/65 [00:17<00:00,  3.75it/s]\n",
      "100%|████████████████████████████████████████| 189/189 [00:01<00:00, 138.55it/s]\n",
      "100%|████████████████████████████████████| 6746/6746 [00:00<00:00, 30996.86it/s]\n",
      "100%|████████████████████████████████████| 6746/6746 [00:00<00:00, 30543.02it/s]\n"
     ]
    }
   ],
   "source": [
    "dirname = '/Users/zoltan/Dropbox/Channels/Fluvial/Branco/'\n",
    "fname = 'LC08_232060_20140219.tif'\n",
    "start_x = 675796.2\n",
    "start_y = 98338.8\n",
    "end_x = 628190.3\n",
    "end_y = -91886.6\n",
    "\n",
    "D_primal, G_rook, G_primal, mndwi, dataset, left_utm_x, right_utm_x, lower_utm_y, upper_utm_y, xs, ys =\\\n",
    "        rb.extract_centerline(fname, dirname, start_x, start_y, end_x, end_y,\\\n",
    "        file_type='single_tif', ratio = 20,\\\n",
    "        ch_belt_smooth_factor=1e8, n_pixels_per_channel = 10, \n",
    "        remove_smaller_components=True, delete_pixels_polys = False)\n",
    "\n",
    "start_node, inds = rb.find_start_node(D_primal)\n",
    "edge_path = rb.traverse_multigraph(D_primal, start_node)\n",
    "x, y, x_utm1, y_utm1, x_utm2, y_utm2 = rb.get_bank_coords_for_main_channel(D_primal, mndwi, edge_path, dataset)\n",
    "xl, yl, w1l, w2l, w, s = rb.get_channel_widths_along_path(D_primal, edge_path)\n",
    "\n",
    "rb.plot_directed_graph(D_primal, mndwi, left_utm_x, right_utm_x, lower_utm_y, upper_utm_y, edge_path=edge_path)"
   ]
  },
  {
   "cell_type": "markdown",
   "id": "ff976547-7e67-4d90-969b-08a63e4b2331",
   "metadata": {},
   "source": [
    "### Plot width data for main channel"
   ]
  },
  {
   "cell_type": "code",
   "execution_count": 3,
   "id": "0d8a8848-ced1-44cb-8d0a-9cc15732ce06",
   "metadata": {},
   "outputs": [],
   "source": [
    "# plot width data for main channel\n",
    "plt.figure()\n",
    "plt.plot(s, (np.array(w1l)+np.array(w2l))*30.0)\n",
    "plt.xlabel('along-channel distance (m)')\n",
    "plt.ylabel('channel width (m)');"
   ]
  },
  {
   "cell_type": "markdown",
   "id": "2a3551ed-5fa5-4300-8ea8-b550a48887e4",
   "metadata": {},
   "source": [
    "### Plot banks and centerline for main channel"
   ]
  },
  {
   "cell_type": "code",
   "execution_count": 4,
   "id": "a35bd98a-223f-432a-9d08-69dd685c4850",
   "metadata": {},
   "outputs": [],
   "source": [
    "plt.figure()\n",
    "plt.plot(x, y)\n",
    "plt.plot(x_utm1, y_utm1)\n",
    "plt.plot(x_utm2, y_utm2)\n",
    "plt.axis('equal');"
   ]
  },
  {
   "cell_type": "markdown",
   "id": "3ef86026-e01d-4322-8676-1529ecd7b0b0",
   "metadata": {},
   "source": [
    "### Save results to shapefiles"
   ]
  },
  {
   "cell_type": "code",
   "execution_count": null,
   "id": "f7dbaa1a",
   "metadata": {},
   "outputs": [],
   "source": [
    "rb.save_shapefiles(dirname, fname, G_rook, gdf2, fname_add_on='')"
   ]
  },
  {
   "cell_type": "markdown",
   "id": "ad7735c0",
   "metadata": {
    "jp-MarkdownHeadingCollapsed": true
   },
   "source": [
    "### Display an image band in UTM coordinates\n",
    "\n",
    "The cell below is an example of how you can load the first band from a raster file and display it in UTM coordinate space (so that you can use 'ginput' to get start_x, start_y, end_x, end_y). Ideally this raster is already an mndwi file so that the channels are more obvious."
   ]
  },
  {
   "cell_type": "code",
   "execution_count": 4,
   "id": "cdcbfec8",
   "metadata": {},
   "outputs": [],
   "source": [
    "from importlib import reload\n",
    "reload(rb)\n",
    "dirname = '/Users/zoltan/Dropbox/Channels/Fluvial/Branco/'\n",
    "fname = 'LC08_232060_20140219.tif'\n",
    "im, dataset, left_utm_x, right_utm_x, lower_utm_y, upper_utm_y = rb.read_and_plot_im(dirname, fname)"
   ]
  },
  {
   "cell_type": "markdown",
   "id": "d1307c64",
   "metadata": {},
   "source": [
    "## Mamore River, Bolivia - Landsat bands\n",
    "\n",
    "* link to data folder: https://www.dropbox.com/scl/fo/k7lhzey6kv6kjux92or5d/h?rlkey=zx8g66sprd6038i5sw5xkixgi&dl=0"
   ]
  },
  {
   "cell_type": "code",
   "execution_count": 6,
   "id": "d153ce14",
   "metadata": {},
   "outputs": [
    {
     "name": "stdout",
     "output_type": "stream",
     "text": [
      "reading Landsat data\n"
     ]
    },
    {
     "name": "stderr",
     "output_type": "stream",
     "text": [
      "100%|█████████████████████████████████████████████| 4/4 [00:00<00:00, 11.84it/s]\n"
     ]
    },
    {
     "name": "stdout",
     "output_type": "stream",
     "text": [
      "removing small holes\n",
      "running skeletonization\n",
      "building graph from skeleton\n",
      "finding reasonable starting and ending points on graph edges\n",
      "no path between start_ind and end_ind\n",
      "finding nodes that are within a certain radius of the path\n"
     ]
    },
    {
     "name": "stderr",
     "output_type": "stream",
     "text": [
      "100%|██████████████████████████████████████████| 70/70 [00:00<00:00, 135.74it/s]\n",
      "100%|████████████████████████████████████████| 269/269 [00:00<00:00, 659.13it/s]\n",
      "100%|█████████████████████████████████████████| 10/10 [00:00<00:00, 5420.40it/s]\n"
     ]
    },
    {
     "name": "stdout",
     "output_type": "stream",
     "text": [
      "creating linestrings for primal graph\n"
     ]
    },
    {
     "name": "stderr",
     "output_type": "stream",
     "text": [
      "12it [00:00, 102.68it/s]\n"
     ]
    },
    {
     "name": "stdout",
     "output_type": "stream",
     "text": [
      "getting bank coordinates for the two main banks\n"
     ]
    },
    {
     "name": "stderr",
     "output_type": "stream",
     "text": [
      "100%|██████████████████████████████████| 13972/13972 [00:00<00:00, 40864.34it/s]\n",
      "100%|██████████████████████████████████| 13907/13907 [00:00<00:00, 40751.58it/s]\n"
     ]
    },
    {
     "name": "stdout",
     "output_type": "stream",
     "text": [
      "getting bank coordinates for the rest of the islands\n"
     ]
    },
    {
     "name": "stderr",
     "output_type": "stream",
     "text": [
      "100%|███████████████████████████████████████████| 10/10 [00:00<00:00, 10.26it/s]\n"
     ]
    },
    {
     "name": "stdout",
     "output_type": "stream",
     "text": [
      "setting half channel widths\n"
     ]
    },
    {
     "name": "stderr",
     "output_type": "stream",
     "text": [
      "100%|███████████████████████████████████████████| 12/12 [00:06<00:00,  1.95it/s]\n",
      "100%|███████████████████████████████████████████| 31/31 [00:00<00:00, 68.70it/s]\n",
      "100%|█████████████████████████████████████████| 10/10 [00:00<00:00, 3040.45it/s]\n",
      "100%|█████████████████████████████████████████| 31/31 [00:00<00:00, 2335.06it/s]\n",
      "100%|██████████████████████████████████| 13449/13449 [00:00<00:00, 40297.23it/s]\n",
      "100%|██████████████████████████████████| 13449/13449 [00:00<00:00, 40533.34it/s]\n"
     ]
    }
   ],
   "source": [
    "dirname = '/Users/zoltan/Dropbox/Channels/Fluvial/Bolivia/Mamore/'\n",
    "fname = 'LC08_L1TP_232071_20160616_20170324_01_T1'\n",
    "start_x = 303810\n",
    "start_y = -1851620\n",
    "end_x = 285603\n",
    "end_y = -1666131\n",
    "\n",
    "D_primal, G_rook, G_primal, mndwi, dataset, left_utm_x, right_utm_x, lower_utm_y, upper_utm_y, xs, ys =\\\n",
    "                rb.extract_centerline(fname, dirname, start_x, start_y, end_x, end_y,\\\n",
    "                file_type='multiple_tifs', ratio = 10,\\\n",
    "                ch_belt_smooth_factor=1e8, n_pixels_per_channel = 2, \n",
    "                remove_smaller_components=False, delete_pixels_polys = False)\n",
    "\n",
    "fig = rb.plot_im_and_lines(mndwi, left_utm_x, right_utm_x, lower_utm_y, upper_utm_y, \n",
    "                            G_rook, G_primal, smoothing=False)\n",
    "\n",
    "start_node, inds = rb.find_start_node(D_primal)\n",
    "edge_path = rb.traverse_multigraph(D_primal, start_node)\n",
    "x, y, x_utm1, y_utm1, x_utm2, y_utm2 = rb.get_bank_coords_for_main_channel(D_primal, mndwi, edge_path, dataset)\n",
    "xl, yl, w1l, w2l, w, s = rb.get_channel_widths_along_path(D_primal, edge_path)\n",
    "rb.plot_directed_graph(D_primal, mndwi, left_utm_x, right_utm_x, lower_utm_y, upper_utm_y, edge_path=edge_path)"
   ]
  },
  {
   "cell_type": "markdown",
   "id": "52b1e802-f6d8-42e3-ac79-6e99d469ee29",
   "metadata": {},
   "source": [
    "### Plot width data for main channel"
   ]
  },
  {
   "cell_type": "code",
   "execution_count": 7,
   "id": "5d46f781-2990-44b7-b971-363973167c78",
   "metadata": {},
   "outputs": [],
   "source": [
    "plt.figure()\n",
    "plt.plot(s, np.array(w)*30.0)\n",
    "plt.xlabel('along-channel distance (m)')\n",
    "plt.ylabel('channel width (m)');"
   ]
  },
  {
   "cell_type": "markdown",
   "id": "46ff76fe-db30-44eb-bb60-b00f238aad9d",
   "metadata": {},
   "source": [
    "### Plot meander wavelength and channel width data"
   ]
  },
  {
   "cell_type": "code",
   "execution_count": 10,
   "id": "2db1c6de-a04e-4997-9d4d-b936d7fd8985",
   "metadata": {},
   "outputs": [
    {
     "data": {
      "text/html": [
       "<div>\n",
       "<style scoped>\n",
       "    .dataframe tbody tr th:only-of-type {\n",
       "        vertical-align: middle;\n",
       "    }\n",
       "\n",
       "    .dataframe tbody tr th {\n",
       "        vertical-align: top;\n",
       "    }\n",
       "\n",
       "    .dataframe thead th {\n",
       "        text-align: right;\n",
       "    }\n",
       "</style>\n",
       "<table border=\"1\" class=\"dataframe\">\n",
       "  <thead>\n",
       "    <tr style=\"text-align: right;\">\n",
       "      <th></th>\n",
       "      <th>wavelengths (m)</th>\n",
       "      <th>sinuosities</th>\n",
       "      <th>mean widths (m)</th>\n",
       "      <th>std. dev. of widths (m)</th>\n",
       "      <th>along-channel distance (km)</th>\n",
       "    </tr>\n",
       "  </thead>\n",
       "  <tbody>\n",
       "    <tr>\n",
       "      <th>0</th>\n",
       "      <td>2341.471672</td>\n",
       "      <td>1.318817</td>\n",
       "      <td>295.765688</td>\n",
       "      <td>61.875644</td>\n",
       "      <td>0.941263</td>\n",
       "    </tr>\n",
       "    <tr>\n",
       "      <th>1</th>\n",
       "      <td>5104.628118</td>\n",
       "      <td>1.202831</td>\n",
       "      <td>261.667942</td>\n",
       "      <td>85.122023</td>\n",
       "      <td>3.418928</td>\n",
       "    </tr>\n",
       "    <tr>\n",
       "      <th>2</th>\n",
       "      <td>2596.847340</td>\n",
       "      <td>2.042607</td>\n",
       "      <td>162.393540</td>\n",
       "      <td>31.244930</td>\n",
       "      <td>9.221460</td>\n",
       "    </tr>\n",
       "    <tr>\n",
       "      <th>3</th>\n",
       "      <td>4311.836920</td>\n",
       "      <td>1.204874</td>\n",
       "      <td>202.713648</td>\n",
       "      <td>43.140583</td>\n",
       "      <td>12.870490</td>\n",
       "    </tr>\n",
       "    <tr>\n",
       "      <th>4</th>\n",
       "      <td>5412.782080</td>\n",
       "      <td>1.742643</td>\n",
       "      <td>220.911595</td>\n",
       "      <td>42.964761</td>\n",
       "      <td>17.900541</td>\n",
       "    </tr>\n",
       "  </tbody>\n",
       "</table>\n",
       "</div>"
      ],
      "text/plain": [
       "   wavelengths (m)  sinuosities  mean widths (m)  std. dev. of widths (m)  \\\n",
       "0      2341.471672     1.318817       295.765688                61.875644   \n",
       "1      5104.628118     1.202831       261.667942                85.122023   \n",
       "2      2596.847340     2.042607       162.393540                31.244930   \n",
       "3      4311.836920     1.204874       202.713648                43.140583   \n",
       "4      5412.782080     1.742643       220.911595                42.964761   \n",
       "\n",
       "   along-channel distance (km)  \n",
       "0                     0.941263  \n",
       "1                     3.418928  \n",
       "2                     9.221460  \n",
       "3                    12.870490  \n",
       "4                    17.900541  "
      ]
     },
     "execution_count": 10,
     "metadata": {},
     "output_type": "execute_result"
    }
   ],
   "source": [
    "fig, ax = plt.subplots()\n",
    "plt.imshow(mndwi, extent=[left_utm_x, right_utm_x, lower_utm_y, upper_utm_y], cmap='gray_r', alpha=0.5)\n",
    "df = rb.analyze_width_and_wavelength(D_primal, edge_path, ax, delta_s=5, smoothing_factor=0.5*1e7, min_sinuosity=1.1, dx=30)\n",
    "df.head()"
   ]
  },
  {
   "cell_type": "markdown",
   "id": "57c7a137",
   "metadata": {},
   "source": [
    "## Brahmaputra River, India / Bangladesh - Landsat bands\n",
    "\n",
    "* link to data folder: https://www.dropbox.com/scl/fo/wqb8z30wgor3vwg19bdeq/h?rlkey=pq0vxqabhxwnf2rxs07sjk8o1&dl=0"
   ]
  },
  {
   "cell_type": "code",
   "execution_count": 11,
   "id": "f3f37c7c",
   "metadata": {},
   "outputs": [
    {
     "name": "stdout",
     "output_type": "stream",
     "text": [
      "reading Landsat data\n"
     ]
    },
    {
     "name": "stderr",
     "output_type": "stream",
     "text": [
      "100%|█████████████████████████████████████████████| 4/4 [00:00<00:00,  9.76it/s]\n"
     ]
    },
    {
     "name": "stdout",
     "output_type": "stream",
     "text": [
      "removing small holes\n",
      "running skeletonization\n",
      "building graph from skeleton\n",
      "finding reasonable starting and ending points on graph edges\n",
      "finding nodes that are within a certain radius of the path\n"
     ]
    },
    {
     "name": "stderr",
     "output_type": "stream",
     "text": [
      "100%|█████████████████████████████████████████| 220/220 [00:25<00:00,  8.79it/s]\n",
      "100%|███████████████████████████████████████| 2820/2820 [00:43<00:00, 65.50it/s]\n",
      "100%|███████████████████████████████████████| 297/297 [00:00<00:00, 5889.96it/s]\n"
     ]
    },
    {
     "name": "stdout",
     "output_type": "stream",
     "text": [
      "creating linestrings for primal graph\n"
     ]
    },
    {
     "name": "stderr",
     "output_type": "stream",
     "text": [
      "299it [00:13, 22.36it/s]\n"
     ]
    },
    {
     "name": "stdout",
     "output_type": "stream",
     "text": [
      "getting bank coordinates for the two main banks\n"
     ]
    },
    {
     "name": "stderr",
     "output_type": "stream",
     "text": [
      "100%|████████████████████████████████████| 7254/7254 [00:00<00:00, 30465.15it/s]\n",
      "100%|████████████████████████████████████| 6437/6437 [00:00<00:00, 27182.24it/s]\n"
     ]
    },
    {
     "name": "stdout",
     "output_type": "stream",
     "text": [
      "getting bank coordinates for the rest of the islands\n"
     ]
    },
    {
     "name": "stderr",
     "output_type": "stream",
     "text": [
      "100%|█████████████████████████████████████████| 297/297 [00:29<00:00, 10.22it/s]\n"
     ]
    },
    {
     "name": "stdout",
     "output_type": "stream",
     "text": [
      "setting half channel widths\n"
     ]
    },
    {
     "name": "stderr",
     "output_type": "stream",
     "text": [
      "100%|█████████████████████████████████████████| 299/299 [01:32<00:00,  3.23it/s]\n",
      "100%|████████████████████████████████████████| 875/875 [00:06<00:00, 137.99it/s]\n",
      "100%|███████████████████████████████████████| 297/297 [00:00<00:00, 1957.27it/s]\n",
      "100%|███████████████████████████████████████| 875/875 [00:00<00:00, 4777.51it/s]\n",
      "100%|████████████████████████████████████| 6613/6613 [00:00<00:00, 22292.34it/s]\n",
      "100%|████████████████████████████████████| 6611/6611 [00:00<00:00, 22286.05it/s]\n"
     ]
    }
   ],
   "source": [
    "dirname = '/Users/zoltan/Dropbox/Channels/Fluvial/Brahmaputra_2/'\n",
    "fname = 'LC08_L1TP_138042_20190114_20190131_01_T1'\n",
    "start_x = 859250.5\n",
    "start_y = 2903119.2\n",
    "end_x = 767358.1\n",
    "end_y = 2776067.9\n",
    "\n",
    "D_primal, G_rook, G_primal, mndwi, dataset, left_utm_x, right_utm_x, lower_utm_y, upper_utm_y, xs, ys =\\\n",
    "                rb.extract_centerline(fname, dirname, start_x, start_y, end_x, end_y,\\\n",
    "                file_type='multiple_tifs', ratio = 20,\\\n",
    "                ch_belt_smooth_factor=1e8, n_pixels_per_channel = 40, remove_smaller_components=True, \n",
    "                                      mndwi_threshold = 0.01)\n",
    "\n",
    "fig = rb.plot_im_and_lines(mndwi, left_utm_x, right_utm_x, lower_utm_y, upper_utm_y, \n",
    "                            G_rook, G_primal, smoothing=False)\n",
    "\n",
    "start_node, inds = rb.find_start_node(D_primal)\n",
    "edge_path = rb.traverse_multigraph(D_primal, start_node)\n",
    "x, y, x_utm1, y_utm1, x_utm2, y_utm2 = rb.get_bank_coords_for_main_channel(D_primal, mndwi, edge_path, dataset)\n",
    "xl, yl, w1l, w2l, w, s = rb.get_channel_widths_along_path(D_primal, edge_path)\n",
    "rb.plot_directed_graph(D_primal, mndwi, left_utm_x, right_utm_x, lower_utm_y, upper_utm_y, edge_path=edge_path)"
   ]
  },
  {
   "cell_type": "markdown",
   "id": "759f0649-db50-4477-89bf-bec71d3388f6",
   "metadata": {},
   "source": [
    "### Exceedance probability plot of island areas"
   ]
  },
  {
   "cell_type": "code",
   "execution_count": 28,
   "id": "587b6061-fcc3-40c7-aedc-394903d9dbb7",
   "metadata": {},
   "outputs": [],
   "source": [
    "island_areas = []\n",
    "channel_areas = []\n",
    "total_areas = []\n",
    "degrees = []\n",
    "lengths = []\n",
    "for node in G_rook:\n",
    "    poly1 = G_rook.nodes()[node]['bank_polygon']\n",
    "    poly2 = G_rook.nodes()[node]['cl_polygon']\n",
    "    if poly1.area > 0 and poly2.area > poly1.area:\n",
    "        island_areas.append(poly1.area)\n",
    "        channel_areas.append(poly2.area - poly1.area)\n",
    "        total_areas.append(poly2.area)\n",
    "        degrees.append(G_rook.degree(node))\n",
    "        lengths.append(poly1.length)\n",
    "        \n",
    "island_areas_sorted = np.sort(island_areas)\n",
    "island_areas_sorted = island_areas_sorted[:-2]\n",
    "exceedance = 1.-np.arange(1.,len(island_areas_sorted) + 1.)/len(island_areas_sorted)\n",
    "\n",
    "plt.figure()\n",
    "plt.loglog(island_areas_sorted, exceedance);"
   ]
  },
  {
   "cell_type": "markdown",
   "id": "79750cd4-15d1-4686-a30c-78313763c697",
   "metadata": {},
   "source": [
    "### Histogram of node degree distribution"
   ]
  },
  {
   "cell_type": "code",
   "execution_count": 17,
   "id": "2e7142f5-487e-494c-88bd-35fc23f73d51",
   "metadata": {},
   "outputs": [],
   "source": [
    "plt.figure()\n",
    "n, bins, patches = plt.hist(degrees, bins=np.arange(1.5, 25.6, 1))\n",
    "\n",
    "plt.bar(np.arange(2,26), n)\n",
    "plt.xticks(np.arange(2,26))\n",
    "plt.xlabel('node degree')\n",
    "plt.ylabel('count')\n",
    "plt.title('number of neighbors in island neighborhood graph');"
   ]
  },
  {
   "cell_type": "markdown",
   "id": "52a62796",
   "metadata": {},
   "source": [
    "## Purus River, MNDWI image generated in Google Earth Engine\n",
    "\n",
    "* output from GEE needs to be converted to UTM coordinates before running rivabar\n",
    "* link to data file: https://www.dropbox.com/scl/fi/7bpz3b4eikzdu59cv4bqu/L8_mndwi_Purus_2017_UTM.tif?rlkey=dkv5ykf1xca0jh478yhn6a6im&dl=0"
   ]
  },
  {
   "cell_type": "code",
   "execution_count": 29,
   "id": "ef86106a",
   "metadata": {},
   "outputs": [
    {
     "name": "stdout",
     "output_type": "stream",
     "text": [
      "removing small holes\n",
      "running skeletonization\n",
      "building graph from skeleton\n",
      "finding reasonable starting and ending points on graph edges\n",
      "finding nodes that are within a certain radius of the path\n"
     ]
    },
    {
     "name": "stderr",
     "output_type": "stream",
     "text": [
      "100%|█████████████████████████████████████████| 266/266 [00:07<00:00, 33.40it/s]\n",
      "100%|████████████████████████████████████████| 605/605 [00:02<00:00, 297.05it/s]\n",
      "100%|█████████████████████████████████████████| 10/10 [00:00<00:00, 2090.78it/s]\n"
     ]
    },
    {
     "name": "stdout",
     "output_type": "stream",
     "text": [
      "creating linestrings for primal graph\n"
     ]
    },
    {
     "name": "stderr",
     "output_type": "stream",
     "text": [
      "12it [00:00, 18.31it/s]\n"
     ]
    },
    {
     "name": "stdout",
     "output_type": "stream",
     "text": [
      "getting bank coordinates for the two main banks\n"
     ]
    },
    {
     "name": "stderr",
     "output_type": "stream",
     "text": [
      "100%|██████████████████████████████████| 83560/83560 [00:02<00:00, 34281.97it/s]\n",
      "100%|██████████████████████████████████| 84147/84147 [00:02<00:00, 34595.73it/s]\n"
     ]
    },
    {
     "name": "stdout",
     "output_type": "stream",
     "text": [
      "getting bank coordinates for the rest of the islands\n"
     ]
    },
    {
     "name": "stderr",
     "output_type": "stream",
     "text": [
      "100%|███████████████████████████████████████████| 10/10 [00:09<00:00,  1.01it/s]\n"
     ]
    },
    {
     "name": "stdout",
     "output_type": "stream",
     "text": [
      "setting half channel widths\n"
     ]
    },
    {
     "name": "stderr",
     "output_type": "stream",
     "text": [
      "100%|███████████████████████████████████████████| 12/12 [01:23<00:00,  7.00s/it]\n",
      "100%|███████████████████████████████████████████| 31/31 [00:02<00:00, 10.91it/s]\n",
      "100%|█████████████████████████████████████████| 10/10 [00:00<00:00, 1257.70it/s]\n",
      "100%|██████████████████████████████████████████| 31/31 [00:00<00:00, 615.71it/s]\n",
      "100%|██████████████████████████████████| 83277/83277 [00:02<00:00, 34587.16it/s]\n",
      "100%|██████████████████████████████████| 83277/83277 [00:02<00:00, 34051.35it/s]\n"
     ]
    }
   ],
   "source": [
    "dirname = \"/Users/zoltan/Dropbox/Channels/Fluvial/Purus/\"\n",
    "fname = \"L8_mndwi_Purus_2017_UTM.tif\"\n",
    "start_x = 363166.2\n",
    "start_y = -1011937.1\n",
    "end_x = 1254178.3\n",
    "end_y = -528280.7\n",
    "\n",
    "D_primal, G_rook, G_primal, mndwi, dataset, left_utm_x, right_utm_x, lower_utm_y, upper_utm_y, xs, ys = \\\n",
    "                rb.extract_centerline(fname, dirname, start_x, start_y, end_x, end_y,\\\n",
    "                file_type='water_index', ratio = 20, mndwi_threshold=0.1, \\\n",
    "                ch_belt_smooth_factor=1e8, n_pixels_per_channel = 40, remove_smaller_components=True,\\\n",
    "                delete_pixels_polys = False, small_hole_threshold = 100)\n",
    "\n",
    "fig = rb.plot_im_and_lines(mndwi, left_utm_x, right_utm_x, lower_utm_y, upper_utm_y, \n",
    "                            G_rook, G_primal, smoothing=False)\n",
    "\n",
    "start_node, inds = rb.find_start_node(D_primal)\n",
    "edge_path = rb.traverse_multigraph(D_primal, start_node)\n",
    "x, y, x_utm1, y_utm1, x_utm2, y_utm2 = rb.get_bank_coords_for_main_channel(D_primal, mndwi, edge_path, dataset)\n",
    "xl, yl, w1l, w2l, w, s = rb.get_channel_widths_along_path(D_primal, edge_path)\n",
    "rb.plot_directed_graph(D_primal, mndwi, left_utm_x, right_utm_x, lower_utm_y, upper_utm_y, edge_path=edge_path)"
   ]
  },
  {
   "cell_type": "markdown",
   "id": "ef0538ab-218d-4af9-9f75-26d6a854c292",
   "metadata": {},
   "source": [
    "### Plot width data for main channel"
   ]
  },
  {
   "cell_type": "code",
   "execution_count": 33,
   "id": "c5c4026f-22e6-42c4-a7f7-6f361a5024ce",
   "metadata": {},
   "outputs": [],
   "source": [
    "plt.figure()\n",
    "plt.plot(s, np.array(w)*30.0)\n",
    "plt.xlabel('along-channel distance (m)')\n",
    "plt.ylabel('channel width (m)');"
   ]
  },
  {
   "cell_type": "markdown",
   "id": "cec93243-4c73-4895-98f0-62038bf48777",
   "metadata": {},
   "source": [
    "### Plot meander wavelength and channel width data"
   ]
  },
  {
   "cell_type": "code",
   "execution_count": 34,
   "id": "15ccb7fc-eaf4-470f-a3c3-db51263aed0d",
   "metadata": {},
   "outputs": [],
   "source": [
    "fig, ax = plt.subplots()\n",
    "plt.imshow(mndwi, extent=[left_utm_x, right_utm_x, lower_utm_y, upper_utm_y], cmap='gray_r', alpha=0.5)\n",
    "df = rb.analyze_width_and_wavelength(D_primal, edge_path, ax, delta_s=5, smoothing_factor=0.5*1e8, min_sinuosity=1.1, dx=30)"
   ]
  },
  {
   "cell_type": "code",
   "execution_count": 35,
   "id": "b24de9c7-dcee-4d56-891b-b22af3316a79",
   "metadata": {},
   "outputs": [
    {
     "data": {
      "text/html": [
       "<div>\n",
       "<style scoped>\n",
       "    .dataframe tbody tr th:only-of-type {\n",
       "        vertical-align: middle;\n",
       "    }\n",
       "\n",
       "    .dataframe tbody tr th {\n",
       "        vertical-align: top;\n",
       "    }\n",
       "\n",
       "    .dataframe thead th {\n",
       "        text-align: right;\n",
       "    }\n",
       "</style>\n",
       "<table border=\"1\" class=\"dataframe\">\n",
       "  <thead>\n",
       "    <tr style=\"text-align: right;\">\n",
       "      <th></th>\n",
       "      <th>wavelengths (m)</th>\n",
       "      <th>sinuosities</th>\n",
       "      <th>mean widths (m)</th>\n",
       "      <th>std. dev. of widths (m)</th>\n",
       "      <th>along-channel distance (km)</th>\n",
       "    </tr>\n",
       "  </thead>\n",
       "  <tbody>\n",
       "    <tr>\n",
       "      <th>0</th>\n",
       "      <td>1752.252348</td>\n",
       "      <td>1.237055</td>\n",
       "      <td>121.748176</td>\n",
       "      <td>28.825572</td>\n",
       "      <td>2.806955</td>\n",
       "    </tr>\n",
       "    <tr>\n",
       "      <th>1</th>\n",
       "      <td>4263.784085</td>\n",
       "      <td>1.667524</td>\n",
       "      <td>125.442179</td>\n",
       "      <td>25.828625</td>\n",
       "      <td>6.370545</td>\n",
       "    </tr>\n",
       "    <tr>\n",
       "      <th>2</th>\n",
       "      <td>1568.772243</td>\n",
       "      <td>1.923519</td>\n",
       "      <td>121.780176</td>\n",
       "      <td>26.767989</td>\n",
       "      <td>10.022511</td>\n",
       "    </tr>\n",
       "    <tr>\n",
       "      <th>3</th>\n",
       "      <td>3532.849601</td>\n",
       "      <td>1.461790</td>\n",
       "      <td>134.627692</td>\n",
       "      <td>32.260299</td>\n",
       "      <td>13.672834</td>\n",
       "    </tr>\n",
       "    <tr>\n",
       "      <th>4</th>\n",
       "      <td>2988.472395</td>\n",
       "      <td>1.147091</td>\n",
       "      <td>136.017204</td>\n",
       "      <td>36.570841</td>\n",
       "      <td>15.873356</td>\n",
       "    </tr>\n",
       "  </tbody>\n",
       "</table>\n",
       "</div>"
      ],
      "text/plain": [
       "   wavelengths (m)  sinuosities  mean widths (m)  std. dev. of widths (m)  \\\n",
       "0      1752.252348     1.237055       121.748176                28.825572   \n",
       "1      4263.784085     1.667524       125.442179                25.828625   \n",
       "2      1568.772243     1.923519       121.780176                26.767989   \n",
       "3      3532.849601     1.461790       134.627692                32.260299   \n",
       "4      2988.472395     1.147091       136.017204                36.570841   \n",
       "\n",
       "   along-channel distance (km)  \n",
       "0                     2.806955  \n",
       "1                     6.370545  \n",
       "2                    10.022511  \n",
       "3                    13.672834  \n",
       "4                    15.873356  "
      ]
     },
     "execution_count": 35,
     "metadata": {},
     "output_type": "execute_result"
    }
   ],
   "source": [
    "df.head()"
   ]
  },
  {
   "cell_type": "markdown",
   "id": "da0e173a",
   "metadata": {
    "jp-MarkdownHeadingCollapsed": true
   },
   "source": [
    "### This is how you can use the `convert_geographic_proj_to_utm` function to reproject a raster from geographic coordinates to UTM:"
   ]
  },
  {
   "cell_type": "code",
   "execution_count": null,
   "id": "40f904a9",
   "metadata": {},
   "outputs": [],
   "source": [
    "dirname = \"/Users/zoltan/Dropbox/Channels/Fluvial/Purus/\"\n",
    "fname = \"L8_mndwi_Purus_2017.tif\" # file from Google Earth Engine\n",
    "dstCrs = {'init': 'EPSG:32619'} # EPSG for the Purus River area\n",
    "# this will write out a file named \"L8_mndwi_Purus_2017_UTM.tif\":\n",
    "rb.convert_geographic_proj_to_utm(dirname, fname, dstCrs)"
   ]
  },
  {
   "cell_type": "markdown",
   "id": "fe83c0be",
   "metadata": {
    "jp-MarkdownHeadingCollapsed": true
   },
   "source": [
    "### Merge two files into a single TIF file (often needed when downloading files from GEE)"
   ]
  },
  {
   "cell_type": "code",
   "execution_count": null,
   "id": "5c6cc08f",
   "metadata": {},
   "outputs": [],
   "source": [
    "dirname = \"/Users/zoltan/Dropbox/Channels/Fluvial/Purus/\"\n",
    "fname1 = 'L8_mndwi_mosaic_Purus_2019_2020-0000000000-0000000000_UTM.tif'\n",
    "fname2 = 'L8_mndwi_mosaic_Purus_2019_2020-0000000000-0000032768_UTM.tif'\n",
    "\n",
    "# Open the first raster dataset\n",
    "src1 = rasterio.open(dirname+fname1) \n",
    "meta1 = src1.meta\n",
    "# Open the second raster dataset\n",
    "src2 = rasterio.open(dirname+fname2)\n",
    "# Merge the two arrays\n",
    "merged_arr, merged_transform = rasterio.merge.merge([src1, src2])\n",
    "merged_arr = merged_arr[0, :, :]\n",
    "# Update the metadata with the merged shape and transform\n",
    "meta1.update({\n",
    "    'height': merged_arr.shape[0],\n",
    "    'width': merged_arr.shape[1],\n",
    "    'transform': merged_transform\n",
    "})\n",
    "# Write the merged raster dataset to disk\n",
    "with rasterio.open(dirname + 'L8_mndwi_mosaic_Purus_2019_2020_UTM.tif', 'w', **meta1) as dst:\n",
    "    dst.write(merged_arr, 1)"
   ]
  },
  {
   "cell_type": "markdown",
   "id": "435ac864",
   "metadata": {},
   "source": [
    "## Adelaide River, Australia, water index generated from Planet Labs data\n",
    "\n",
    "* link to data file: https://www.dropbox.com/scl/fi/mg84hoc7xls7xqmsbc1f2/ndwi_mosaic.tif?rlkey=ygy5tpyy964gnirvtkyzyzcfg&dl=0"
   ]
  },
  {
   "cell_type": "code",
   "execution_count": 36,
   "id": "1c765407",
   "metadata": {},
   "outputs": [
    {
     "name": "stdout",
     "output_type": "stream",
     "text": [
      "removing small holes\n",
      "running skeletonization\n",
      "building graph from skeleton\n",
      "finding reasonable starting and ending points on graph edges\n",
      "finding nodes that are within a certain radius of the path\n"
     ]
    },
    {
     "name": "stderr",
     "output_type": "stream",
     "text": [
      "100%|██████████████████████████████████████████| 62/62 [00:00<00:00, 144.48it/s]\n",
      "100%|████████████████████████████████████████| 217/217 [00:00<00:00, 821.18it/s]\n",
      "0it [00:00, ?it/s]\n"
     ]
    },
    {
     "name": "stdout",
     "output_type": "stream",
     "text": [
      "creating linestrings for primal graph\n"
     ]
    },
    {
     "name": "stderr",
     "output_type": "stream",
     "text": [
      "2it [00:00, 11.45it/s]\n"
     ]
    },
    {
     "name": "stdout",
     "output_type": "stream",
     "text": [
      "getting bank coordinates for the two main banks\n"
     ]
    },
    {
     "name": "stderr",
     "output_type": "stream",
     "text": [
      "100%|███████████████████████████████████| 29452/29452 [00:06<00:00, 4449.51it/s]\n",
      "100%|███████████████████████████████████| 29672/29672 [00:06<00:00, 4451.77it/s]\n"
     ]
    },
    {
     "name": "stdout",
     "output_type": "stream",
     "text": [
      "getting bank coordinates for the rest of the islands\n"
     ]
    },
    {
     "name": "stderr",
     "output_type": "stream",
     "text": [
      "0it [00:00, ?it/s]\n"
     ]
    },
    {
     "name": "stdout",
     "output_type": "stream",
     "text": [
      "setting half channel widths\n"
     ]
    },
    {
     "name": "stderr",
     "output_type": "stream",
     "text": [
      "100%|█████████████████████████████████████████████| 2/2 [00:12<00:00,  6.35s/it]\n",
      "100%|█████████████████████████████████████████████| 1/1 [00:00<00:00, 12.31it/s]\n",
      "0it [00:00, ?it/s]\n",
      "100%|█████████████████████████████████████████████| 1/1 [00:00<00:00, 59.92it/s]\n",
      "100%|███████████████████████████████████| 28442/28442 [00:06<00:00, 4496.97it/s]\n",
      "100%|███████████████████████████████████| 28440/28440 [00:06<00:00, 4368.68it/s]\n"
     ]
    }
   ],
   "source": [
    "dirname = '/Users/zoltan/Dropbox/Channels/Fluvial/Adelaide/Adelaide_River_1_psscene_analytic_sr_udm2/files/'\n",
    "fname = 'ndwi_mosaic.tif'\n",
    "start_x = 753443.4\n",
    "start_y = 8598434.2\n",
    "end_x = 743089.7\n",
    "end_y = 8648110.2\n",
    "\n",
    "D_primal, G_rook, G_primal, mndwi, dataset, left_utm_x, right_utm_x, lower_utm_y, upper_utm_y, xs, ys =\\\n",
    "                rb.extract_centerline(fname, dirname, start_x, start_y, end_x, end_y,\\\n",
    "                file_type='water_index', ratio = 20, mndwi_threshold = 0.5, \\\n",
    "                ch_belt_smooth_factor=1e8, n_pixels_per_channel = 100, remove_smaller_components=False)\n",
    "\n",
    "fig = rb.plot_im_and_lines(mndwi, left_utm_x, right_utm_x, lower_utm_y, upper_utm_y, \n",
    "                            G_rook, G_primal, smoothing=False)\n",
    "\n",
    "start_node, inds = rb.find_start_node(D_primal)\n",
    "edge_path = rb.traverse_multigraph(D_primal, start_node)\n",
    "x, y, x_utm1, y_utm1, x_utm2, y_utm2 = rb.get_bank_coords_for_main_channel(D_primal, mndwi, edge_path, dataset)\n",
    "xl, yl, w1l, w2l, w, s = rb.get_channel_widths_along_path(D_primal, edge_path)\n",
    "rb.plot_directed_graph(D_primal, mndwi, left_utm_x, right_utm_x, lower_utm_y, upper_utm_y, edge_path=edge_path)"
   ]
  },
  {
   "cell_type": "markdown",
   "id": "fbdff003-dee9-4826-b33c-8bfa06f8976e",
   "metadata": {},
   "source": [
    "### Plot width data for main channel"
   ]
  },
  {
   "cell_type": "code",
   "execution_count": 37,
   "id": "8a2f3657-d4de-4ebe-b8d1-1a968c8a8858",
   "metadata": {},
   "outputs": [],
   "source": [
    "plt.figure()\n",
    "plt.plot(s, np.array(w)*30.0)\n",
    "plt.xlabel('along-channel distance (m)')\n",
    "plt.ylabel('channel width (m)');"
   ]
  },
  {
   "cell_type": "markdown",
   "id": "a6817793-9c8f-4a79-8924-05d207fd9cca",
   "metadata": {},
   "source": [
    "### Plot meander wavelength and channel width data"
   ]
  },
  {
   "cell_type": "code",
   "execution_count": 38,
   "id": "e63e1c49-3b22-49ca-a762-3cef16cccd6c",
   "metadata": {},
   "outputs": [],
   "source": [
    "fig, ax = plt.subplots()\n",
    "plt.imshow(mndwi, extent=[left_utm_x, right_utm_x, lower_utm_y, upper_utm_y], cmap='gray_r', alpha=0.5)\n",
    "df = rb.analyze_width_and_wavelength(D_primal, edge_path, ax, delta_s=5, smoothing_factor=1e6, min_sinuosity=1.1, dx=30)"
   ]
  },
  {
   "cell_type": "code",
   "execution_count": 39,
   "id": "03ac2e1e-36ec-4629-9a48-f0ad19ae9f0e",
   "metadata": {},
   "outputs": [
    {
     "data": {
      "text/html": [
       "<div>\n",
       "<style scoped>\n",
       "    .dataframe tbody tr th:only-of-type {\n",
       "        vertical-align: middle;\n",
       "    }\n",
       "\n",
       "    .dataframe tbody tr th {\n",
       "        vertical-align: top;\n",
       "    }\n",
       "\n",
       "    .dataframe thead th {\n",
       "        text-align: right;\n",
       "    }\n",
       "</style>\n",
       "<table border=\"1\" class=\"dataframe\">\n",
       "  <thead>\n",
       "    <tr style=\"text-align: right;\">\n",
       "      <th></th>\n",
       "      <th>wavelengths (m)</th>\n",
       "      <th>sinuosities</th>\n",
       "      <th>mean widths (m)</th>\n",
       "      <th>std. dev. of widths (m)</th>\n",
       "      <th>along-channel distance (km)</th>\n",
       "    </tr>\n",
       "  </thead>\n",
       "  <tbody>\n",
       "    <tr>\n",
       "      <th>0</th>\n",
       "      <td>1727.639393</td>\n",
       "      <td>1.264736</td>\n",
       "      <td>1178.258034</td>\n",
       "      <td>53.036518</td>\n",
       "      <td>3.112430</td>\n",
       "    </tr>\n",
       "    <tr>\n",
       "      <th>1</th>\n",
       "      <td>1773.920657</td>\n",
       "      <td>2.353161</td>\n",
       "      <td>1071.909290</td>\n",
       "      <td>58.041996</td>\n",
       "      <td>5.745113</td>\n",
       "    </tr>\n",
       "    <tr>\n",
       "      <th>2</th>\n",
       "      <td>3729.837664</td>\n",
       "      <td>1.420480</td>\n",
       "      <td>1039.415243</td>\n",
       "      <td>55.685396</td>\n",
       "      <td>8.113659</td>\n",
       "    </tr>\n",
       "    <tr>\n",
       "      <th>3</th>\n",
       "      <td>1430.129481</td>\n",
       "      <td>1.163256</td>\n",
       "      <td>1169.062481</td>\n",
       "      <td>52.194814</td>\n",
       "      <td>11.769402</td>\n",
       "    </tr>\n",
       "    <tr>\n",
       "      <th>4</th>\n",
       "      <td>3124.475046</td>\n",
       "      <td>1.312008</td>\n",
       "      <td>1069.858045</td>\n",
       "      <td>59.697959</td>\n",
       "      <td>13.215096</td>\n",
       "    </tr>\n",
       "  </tbody>\n",
       "</table>\n",
       "</div>"
      ],
      "text/plain": [
       "   wavelengths (m)  sinuosities  mean widths (m)  std. dev. of widths (m)  \\\n",
       "0      1727.639393     1.264736      1178.258034                53.036518   \n",
       "1      1773.920657     2.353161      1071.909290                58.041996   \n",
       "2      3729.837664     1.420480      1039.415243                55.685396   \n",
       "3      1430.129481     1.163256      1169.062481                52.194814   \n",
       "4      3124.475046     1.312008      1069.858045                59.697959   \n",
       "\n",
       "   along-channel distance (km)  \n",
       "0                     3.112430  \n",
       "1                     5.745113  \n",
       "2                     8.113659  \n",
       "3                    11.769402  \n",
       "4                    13.215096  "
      ]
     },
     "execution_count": 39,
     "metadata": {},
     "output_type": "execute_result"
    }
   ],
   "source": [
    "df.head()"
   ]
  },
  {
   "cell_type": "markdown",
   "id": "a4797eaf-8a06-467e-bf71-987b3e831d15",
   "metadata": {},
   "source": [
    "## Working with geemap to display and download mndwi images"
   ]
  },
  {
   "cell_type": "markdown",
   "id": "62ae7c35-e5d2-4faa-97e1-b23707f92e04",
   "metadata": {},
   "source": [
    "### Create geemap map object"
   ]
  },
  {
   "cell_type": "code",
   "execution_count": 40,
   "id": "1865267b-e47b-40a6-9621-ef3004f6c1bd",
   "metadata": {},
   "outputs": [],
   "source": [
    "import ee\n",
    "import geemap"
   ]
  },
  {
   "cell_type": "code",
   "execution_count": 41,
   "id": "b5920511-a938-4734-b69e-95b8cf5cbb07",
   "metadata": {},
   "outputs": [
    {
     "data": {
      "text/html": [
       "\n",
       "            <style>\n",
       "                .geemap-dark {\n",
       "                    --jp-widgets-color: white;\n",
       "                    --jp-widgets-label-color: white;\n",
       "                    --jp-ui-font-color1: white;\n",
       "                    --jp-layout-color2: #454545;\n",
       "                    background-color: #383838;\n",
       "                }\n",
       "                    \n",
       "                .geemap-dark .jupyter-button {\n",
       "                    --jp-layout-color3: #383838;\n",
       "                }\n",
       "                \n",
       "                .geemap-colab {\n",
       "                    background-color: var(--colab-primary-surface-color, white);\n",
       "                }\n",
       "                    \n",
       "                .geemap-colab .jupyter-button {\n",
       "                    --jp-layout-color3: var(--colab-primary-surface-color, white);\n",
       "                }\n",
       "            </style>\n",
       "            "
      ],
      "text/plain": [
       "<IPython.core.display.HTML object>"
      ]
     },
     "metadata": {},
     "output_type": "display_data"
    },
    {
     "data": {
      "text/html": [
       "<p>To authorize access needed by Earth Engine, open the following\n",
       "        URL in a web browser and follow the instructions:</p>\n",
       "        <p><a href=https://code.earthengine.google.com/client-auth?scopes=https%3A//www.googleapis.com/auth/earthengine%20https%3A//www.googleapis.com/auth/devstorage.full_control&request_id=EEe84jArzmuPe9ZoXzdoptTPitgUqCwiAsvJo8cU92E&tc=gFWT0EwzYvLEKhUvb-aHIcAEEWMCsbFJVRi5VJeJ9Sg&cc=m554H2C4ji64YpG5-6KNibkbVkXMKEatEjHZHcHHoXM>https://code.earthengine.google.com/client-auth?scopes=https%3A//www.googleapis.com/auth/earthengine%20https%3A//www.googleapis.com/auth/devstorage.full_control&request_id=EEe84jArzmuPe9ZoXzdoptTPitgUqCwiAsvJo8cU92E&tc=gFWT0EwzYvLEKhUvb-aHIcAEEWMCsbFJVRi5VJeJ9Sg&cc=m554H2C4ji64YpG5-6KNibkbVkXMKEatEjHZHcHHoXM</a></p>\n",
       "        <p>The authorization workflow will generate a code, which you should paste in the box below.</p>\n",
       "        "
      ],
      "text/plain": [
       "<IPython.core.display.HTML object>"
      ]
     },
     "metadata": {},
     "output_type": "display_data"
    },
    {
     "name": "stdin",
     "output_type": "stream",
     "text": [
      "Enter verification code:  4/1AeaYSHCwprP10BQFz0HVr0w7TnCGzMYPHEgRn15VKkuVOZz7EfQTCsOw308\n"
     ]
    },
    {
     "name": "stdout",
     "output_type": "stream",
     "text": [
      "\n",
      "Successfully saved authorization token.\n"
     ]
    }
   ],
   "source": [
    "ee.Authenticate()"
   ]
  },
  {
   "cell_type": "code",
   "execution_count": 46,
   "id": "1c47e341-5254-44b2-adcf-c23e49a5d606",
   "metadata": {},
   "outputs": [
    {
     "data": {
      "text/html": [
       "\n",
       "            <style>\n",
       "                .geemap-dark {\n",
       "                    --jp-widgets-color: white;\n",
       "                    --jp-widgets-label-color: white;\n",
       "                    --jp-ui-font-color1: white;\n",
       "                    --jp-layout-color2: #454545;\n",
       "                    background-color: #383838;\n",
       "                }\n",
       "                    \n",
       "                .geemap-dark .jupyter-button {\n",
       "                    --jp-layout-color3: #383838;\n",
       "                }\n",
       "                \n",
       "                .geemap-colab {\n",
       "                    background-color: var(--colab-primary-surface-color, white);\n",
       "                }\n",
       "                    \n",
       "                .geemap-colab .jupyter-button {\n",
       "                    --jp-layout-color3: var(--colab-primary-surface-color, white);\n",
       "                }\n",
       "            </style>\n",
       "            "
      ],
      "text/plain": [
       "<IPython.core.display.HTML object>"
      ]
     },
     "metadata": {},
     "output_type": "display_data"
    },
    {
     "data": {
      "application/vnd.jupyter.widget-view+json": {
       "model_id": "cd3a64fc365e4ecd8eea397c91889466",
       "version_major": 2,
       "version_minor": 0
      },
      "text/plain": [
       "Map(center=[0, 0], controls=(WidgetControl(options=['position', 'transparent_bg'], widget=SearchDataGUI(childr…"
      ]
     },
     "execution_count": 46,
     "metadata": {},
     "output_type": "execute_result"
    }
   ],
   "source": [
    "Map = geemap.Map()\n",
    "Map"
   ]
  },
  {
   "cell_type": "markdown",
   "id": "bd8b97d1-d704-4150-9ad5-4183f30b5aa5",
   "metadata": {},
   "source": [
    "### Select Landsat tiles to be displayed on map, defined by point"
   ]
  },
  {
   "cell_type": "code",
   "execution_count": 43,
   "id": "3a91a6fc-9c0e-4b29-932f-37e97c58ce25",
   "metadata": {},
   "outputs": [
    {
     "data": {
      "text/html": [
       "\n",
       "            <style>\n",
       "                .geemap-dark {\n",
       "                    --jp-widgets-color: white;\n",
       "                    --jp-widgets-label-color: white;\n",
       "                    --jp-ui-font-color1: white;\n",
       "                    --jp-layout-color2: #454545;\n",
       "                    background-color: #383838;\n",
       "                }\n",
       "                    \n",
       "                .geemap-dark .jupyter-button {\n",
       "                    --jp-layout-color3: #383838;\n",
       "                }\n",
       "                \n",
       "                .geemap-colab {\n",
       "                    background-color: var(--colab-primary-surface-color, white);\n",
       "                }\n",
       "                    \n",
       "                .geemap-colab .jupyter-button {\n",
       "                    --jp-layout-color3: var(--colab-primary-surface-color, white);\n",
       "                }\n",
       "            </style>\n",
       "            "
      ],
      "text/plain": [
       "<IPython.core.display.HTML object>"
      ]
     },
     "metadata": {},
     "output_type": "display_data"
    }
   ],
   "source": [
    "point = ee.Geometry.Point([-57.78, -25.73]) # Paraguay\n",
    "\n",
    "Map.centerObject(point, 9)\n",
    "\n",
    "for year in range(2013, 2016):\n",
    "    start_date = str(year)+'-01-01' \n",
    "    end_date =  str(year)+'-12-31'\n",
    "\n",
    "    collection = ee.ImageCollection(\"LANDSAT/LC08/C02/T1_L2\") \\\n",
    "        .filterDate(start_date, end_date) \\\n",
    "        .filterBounds(point) \\\n",
    "        .filter(ee.Filter.lt(\"CLOUD_COVER\", 10)) \\\n",
    "        .sort('CLOUD_COVER',True).limit(3)\n",
    "\n",
    "    visParams = {'bands': ['SR_B4',  'SR_B3',  'SR_B2'], 'min': 0, 'max':0.3, 'gamma':1.3}\n",
    "    n_images = collection.size().getInfo()\n",
    "    if n_images > 0:\n",
    "        # list of images (client side)\n",
    "        imgs = collection.toList(collection.size())\n",
    "        # loop on client side\n",
    "        for i in range(0, n_images):\n",
    "            im = ee.Image(imgs.get(i))\n",
    "            tilename = im.getString('system:index').getInfo()\n",
    "            mndwi = im.normalizedDifference(['SR_B3', 'SR_B6'])\n",
    "            Map.addLayer(mndwi, {'min':-0.3, 'max':0.3}, tilename)"
   ]
  },
  {
   "cell_type": "markdown",
   "id": "3425244f-6ed2-4be9-b3b1-6214ca3e40bb",
   "metadata": {},
   "source": [
    "### Select Landsat tiles to be displayed on map, defined by Landsat path and row numbers"
   ]
  },
  {
   "cell_type": "code",
   "execution_count": 44,
   "id": "bc6f2dcc-7acf-47e6-b306-a4c8d76b63c3",
   "metadata": {},
   "outputs": [
    {
     "data": {
      "text/html": [
       "\n",
       "            <style>\n",
       "                .geemap-dark {\n",
       "                    --jp-widgets-color: white;\n",
       "                    --jp-widgets-label-color: white;\n",
       "                    --jp-ui-font-color1: white;\n",
       "                    --jp-layout-color2: #454545;\n",
       "                    background-color: #383838;\n",
       "                }\n",
       "                    \n",
       "                .geemap-dark .jupyter-button {\n",
       "                    --jp-layout-color3: #383838;\n",
       "                }\n",
       "                \n",
       "                .geemap-colab {\n",
       "                    background-color: var(--colab-primary-surface-color, white);\n",
       "                }\n",
       "                    \n",
       "                .geemap-colab .jupyter-button {\n",
       "                    --jp-layout-color3: var(--colab-primary-surface-color, white);\n",
       "                }\n",
       "            </style>\n",
       "            "
      ],
      "text/plain": [
       "<IPython.core.display.HTML object>"
      ]
     },
     "metadata": {},
     "output_type": "display_data"
    },
    {
     "data": {
      "text/html": [
       "<div>\n",
       "<style scoped>\n",
       "    .dataframe tbody tr th:only-of-type {\n",
       "        vertical-align: middle;\n",
       "    }\n",
       "\n",
       "    .dataframe tbody tr th {\n",
       "        vertical-align: top;\n",
       "    }\n",
       "\n",
       "    .dataframe thead th {\n",
       "        text-align: right;\n",
       "    }\n",
       "</style>\n",
       "<table border=\"1\" class=\"dataframe\">\n",
       "  <thead>\n",
       "    <tr style=\"text-align: right;\">\n",
       "      <th></th>\n",
       "      <th>AREA</th>\n",
       "      <th>PERIMETER</th>\n",
       "      <th>PR_</th>\n",
       "      <th>PR_ID</th>\n",
       "      <th>RINGS_OK</th>\n",
       "      <th>RINGS_NOK</th>\n",
       "      <th>PATH</th>\n",
       "      <th>ROW</th>\n",
       "      <th>MODE</th>\n",
       "      <th>SEQUENCE</th>\n",
       "      <th>WRSPR</th>\n",
       "      <th>PR</th>\n",
       "      <th>ACQDayL7</th>\n",
       "      <th>ACQDayL8</th>\n",
       "      <th>geometry</th>\n",
       "    </tr>\n",
       "  </thead>\n",
       "  <tbody>\n",
       "    <tr>\n",
       "      <th>0</th>\n",
       "      <td>15.74326</td>\n",
       "      <td>26.98611</td>\n",
       "      <td>1.0</td>\n",
       "      <td>1.0</td>\n",
       "      <td>1</td>\n",
       "      <td>0</td>\n",
       "      <td>13</td>\n",
       "      <td>1</td>\n",
       "      <td>D</td>\n",
       "      <td>2233</td>\n",
       "      <td>013001</td>\n",
       "      <td>013001</td>\n",
       "      <td>1</td>\n",
       "      <td>9</td>\n",
       "      <td>POLYGON ((-10.80341 80.98880, -8.97407 80.3420...</td>\n",
       "    </tr>\n",
       "    <tr>\n",
       "      <th>1</th>\n",
       "      <td>14.55366</td>\n",
       "      <td>25.84254</td>\n",
       "      <td>2.0</td>\n",
       "      <td>2.0</td>\n",
       "      <td>1</td>\n",
       "      <td>0</td>\n",
       "      <td>13</td>\n",
       "      <td>2</td>\n",
       "      <td>D</td>\n",
       "      <td>2234</td>\n",
       "      <td>013002</td>\n",
       "      <td>013002</td>\n",
       "      <td>1</td>\n",
       "      <td>9</td>\n",
       "      <td>POLYGON ((-29.24250 80.18681, -29.29593 80.198...</td>\n",
       "    </tr>\n",
       "    <tr>\n",
       "      <th>2</th>\n",
       "      <td>13.37247</td>\n",
       "      <td>24.20303</td>\n",
       "      <td>3.0</td>\n",
       "      <td>3.0</td>\n",
       "      <td>1</td>\n",
       "      <td>0</td>\n",
       "      <td>13</td>\n",
       "      <td>3</td>\n",
       "      <td>D</td>\n",
       "      <td>2235</td>\n",
       "      <td>013003</td>\n",
       "      <td>013003</td>\n",
       "      <td>1</td>\n",
       "      <td>9</td>\n",
       "      <td>POLYGON ((-24.04206 79.12261, -23.78294 79.063...</td>\n",
       "    </tr>\n",
       "    <tr>\n",
       "      <th>3</th>\n",
       "      <td>12.26691</td>\n",
       "      <td>22.40265</td>\n",
       "      <td>4.0</td>\n",
       "      <td>4.0</td>\n",
       "      <td>1</td>\n",
       "      <td>0</td>\n",
       "      <td>13</td>\n",
       "      <td>4</td>\n",
       "      <td>D</td>\n",
       "      <td>2236</td>\n",
       "      <td>013004</td>\n",
       "      <td>013004</td>\n",
       "      <td>1</td>\n",
       "      <td>9</td>\n",
       "      <td>POLYGON ((-36.66813 77.46094, -40.05219 78.098...</td>\n",
       "    </tr>\n",
       "    <tr>\n",
       "      <th>4</th>\n",
       "      <td>11.26511</td>\n",
       "      <td>20.64284</td>\n",
       "      <td>5.0</td>\n",
       "      <td>5.0</td>\n",
       "      <td>1</td>\n",
       "      <td>0</td>\n",
       "      <td>13</td>\n",
       "      <td>5</td>\n",
       "      <td>D</td>\n",
       "      <td>2237</td>\n",
       "      <td>013005</td>\n",
       "      <td>013005</td>\n",
       "      <td>1</td>\n",
       "      <td>9</td>\n",
       "      <td>POLYGON ((-44.11210 76.93656, -44.12470 76.938...</td>\n",
       "    </tr>\n",
       "  </tbody>\n",
       "</table>\n",
       "</div>"
      ],
      "text/plain": [
       "       AREA  PERIMETER  PR_  PR_ID  RINGS_OK  RINGS_NOK  PATH  ROW MODE  \\\n",
       "0  15.74326   26.98611  1.0    1.0         1          0    13    1    D   \n",
       "1  14.55366   25.84254  2.0    2.0         1          0    13    2    D   \n",
       "2  13.37247   24.20303  3.0    3.0         1          0    13    3    D   \n",
       "3  12.26691   22.40265  4.0    4.0         1          0    13    4    D   \n",
       "4  11.26511   20.64284  5.0    5.0         1          0    13    5    D   \n",
       "\n",
       "   SEQUENCE   WRSPR      PR ACQDayL7 ACQDayL8  \\\n",
       "0      2233  013001  013001        1        9   \n",
       "1      2234  013002  013002        1        9   \n",
       "2      2235  013003  013003        1        9   \n",
       "3      2236  013004  013004        1        9   \n",
       "4      2237  013005  013005        1        9   \n",
       "\n",
       "                                            geometry  \n",
       "0  POLYGON ((-10.80341 80.98880, -8.97407 80.3420...  \n",
       "1  POLYGON ((-29.24250 80.18681, -29.29593 80.198...  \n",
       "2  POLYGON ((-24.04206 79.12261, -23.78294 79.063...  \n",
       "3  POLYGON ((-36.66813 77.46094, -40.05219 78.098...  \n",
       "4  POLYGON ((-44.11210 76.93656, -44.12470 76.938...  "
      ]
     },
     "execution_count": 44,
     "metadata": {},
     "output_type": "execute_result"
    }
   ],
   "source": [
    "import geopandas\n",
    "wrs2_gdf = geopandas.read_file('/Users/zoltan/Dropbox/rivabar/WRS2_descending_0/WRS2_descending.shp')\n",
    "wrs2_gdf.head()"
   ]
  },
  {
   "cell_type": "code",
   "execution_count": 45,
   "id": "81f8edd3-9ba0-43fe-ade7-406555ebb8f4",
   "metadata": {},
   "outputs": [
    {
     "data": {
      "text/html": [
       "\n",
       "            <style>\n",
       "                .geemap-dark {\n",
       "                    --jp-widgets-color: white;\n",
       "                    --jp-widgets-label-color: white;\n",
       "                    --jp-ui-font-color1: white;\n",
       "                    --jp-layout-color2: #454545;\n",
       "                    background-color: #383838;\n",
       "                }\n",
       "                    \n",
       "                .geemap-dark .jupyter-button {\n",
       "                    --jp-layout-color3: #383838;\n",
       "                }\n",
       "                \n",
       "                .geemap-colab {\n",
       "                    background-color: var(--colab-primary-surface-color, white);\n",
       "                }\n",
       "                    \n",
       "                .geemap-colab .jupyter-button {\n",
       "                    --jp-layout-color3: var(--colab-primary-surface-color, white);\n",
       "                }\n",
       "            </style>\n",
       "            "
      ],
      "text/plain": [
       "<IPython.core.display.HTML object>"
      ]
     },
     "metadata": {},
     "output_type": "display_data"
    }
   ],
   "source": [
    "# Extract coordinates from GEE Point\n",
    "from shapely.geometry import Point\n",
    "coordinates = point.getInfo()['coordinates']\n",
    "path_number = int(wrs2_gdf[wrs2_gdf['geometry'].contains(Point(coordinates[0], coordinates[1]))]['PATH'].values[0])\n",
    "row_number = int(wrs2_gdf[wrs2_gdf['geometry'].contains(Point(coordinates[0], coordinates[1]))]['ROW'].values[0])\n",
    "wrs2_poly = wrs2_gdf[(wrs2_gdf['PATH']==path_number) & (wrs2_gdf['ROW']==row_number)]['geometry'].values[0]"
   ]
  },
  {
   "cell_type": "code",
   "execution_count": 47,
   "id": "14be0a8a-86e6-4900-abc9-0bb0bfc77492",
   "metadata": {},
   "outputs": [
    {
     "data": {
      "text/html": [
       "\n",
       "            <style>\n",
       "                .geemap-dark {\n",
       "                    --jp-widgets-color: white;\n",
       "                    --jp-widgets-label-color: white;\n",
       "                    --jp-ui-font-color1: white;\n",
       "                    --jp-layout-color2: #454545;\n",
       "                    background-color: #383838;\n",
       "                }\n",
       "                    \n",
       "                .geemap-dark .jupyter-button {\n",
       "                    --jp-layout-color3: #383838;\n",
       "                }\n",
       "                \n",
       "                .geemap-colab {\n",
       "                    background-color: var(--colab-primary-surface-color, white);\n",
       "                }\n",
       "                    \n",
       "                .geemap-colab .jupyter-button {\n",
       "                    --jp-layout-color3: var(--colab-primary-surface-color, white);\n",
       "                }\n",
       "            </style>\n",
       "            "
      ],
      "text/plain": [
       "<IPython.core.display.HTML object>"
      ]
     },
     "metadata": {},
     "output_type": "display_data"
    }
   ],
   "source": [
    "point = ee.Geometry.Point([wrs2_poly.centroid.x, wrs2_poly.centroid.y])\n",
    "\n",
    "Map.centerObject(point, 9)\n",
    "path_number = 226\n",
    "row_number = 79\n",
    "\n",
    "for year in range(2013, 2014):\n",
    "    start_date = str(year)+'-01-01'\n",
    "    end_date =  str(year)+'-12-31'\n",
    "    collection = ee.ImageCollection(\"LANDSAT/LC08/C02/T1_L2\") \\\n",
    "      .filterDate(start_date, end_date) \\\n",
    "      .filter(ee.Filter.eq('WRS_PATH', path_number)) \\\n",
    "      .filter(ee.Filter.eq('WRS_ROW', row_number)) \\\n",
    "      .filter(ee.Filter.lt(\"CLOUD_COVER\", 10)) \\\n",
    "      .sort('CLOUD_COVER',True).limit(3)\n",
    "\n",
    "    visParams = {'bands': ['SR_B4',  'SR_B3',  'SR_B2'], 'min': 0, 'max':0.3, 'gamma':1.3}\n",
    "    n_images = collection.size().getInfo()\n",
    "    if n_images > 0:\n",
    "        # list of images (client side)\n",
    "        imgs = collection.toList(collection.size())\n",
    "        # loop on client side\n",
    "        for i in range(0, n_images):\n",
    "            im = ee.Image(imgs.get(i))\n",
    "            tilename = im.getString('system:index').getInfo()\n",
    "            mndwi = im.normalizedDifference(['SR_B3', 'SR_B6'])\n",
    "            Map.addLayer(mndwi, {'min':-0.3, 'max':0.3}, tilename)"
   ]
  },
  {
   "cell_type": "code",
   "execution_count": 20,
   "id": "55c67712-9dba-4f41-8cb3-6efcdd859da8",
   "metadata": {},
   "outputs": [
    {
     "data": {
      "text/html": [
       "\n",
       "            <style>\n",
       "                .geemap-dark {\n",
       "                    --jp-widgets-color: white;\n",
       "                    --jp-widgets-label-color: white;\n",
       "                    --jp-ui-font-color1: white;\n",
       "                    --jp-layout-color2: #454545;\n",
       "                    background-color: #383838;\n",
       "                }\n",
       "                    \n",
       "                .geemap-dark .jupyter-button {\n",
       "                    --jp-layout-color3: #383838;\n",
       "                }\n",
       "                \n",
       "                .geemap-colab {\n",
       "                    background-color: var(--colab-primary-surface-color, white);\n",
       "                }\n",
       "                    \n",
       "                .geemap-colab .jupyter-button {\n",
       "                    --jp-layout-color3: var(--colab-primary-surface-color, white);\n",
       "                }\n",
       "            </style>\n",
       "            "
      ],
      "text/plain": [
       "<IPython.core.display.HTML object>"
      ]
     },
     "metadata": {},
     "output_type": "display_data"
    }
   ],
   "source": [
    "start_point = [-27.36468802461247, -57.35586404800416]\n",
    "end_point = [-28.220433108132823, -59.09495472908021]"
   ]
  },
  {
   "cell_type": "markdown",
   "id": "61455eca-f2d1-4e47-84fe-77c2855da84e",
   "metadata": {},
   "source": [
    "### Find names of rivers in a Landsat scene and select centerlines that belong to a certain river"
   ]
  },
  {
   "cell_type": "code",
   "execution_count": 50,
   "id": "250d6dcd-51c4-44b6-913e-c19c226d838c",
   "metadata": {},
   "outputs": [
    {
     "data": {
      "text/html": [
       "\n",
       "            <style>\n",
       "                .geemap-dark {\n",
       "                    --jp-widgets-color: white;\n",
       "                    --jp-widgets-label-color: white;\n",
       "                    --jp-ui-font-color1: white;\n",
       "                    --jp-layout-color2: #454545;\n",
       "                    background-color: #383838;\n",
       "                }\n",
       "                    \n",
       "                .geemap-dark .jupyter-button {\n",
       "                    --jp-layout-color3: #383838;\n",
       "                }\n",
       "                \n",
       "                .geemap-colab {\n",
       "                    background-color: var(--colab-primary-surface-color, white);\n",
       "                }\n",
       "                    \n",
       "                .geemap-colab .jupyter-button {\n",
       "                    --jp-layout-color3: var(--colab-primary-surface-color, white);\n",
       "                }\n",
       "            </style>\n",
       "            "
      ],
      "text/plain": [
       "<IPython.core.display.HTML object>"
      ]
     },
     "metadata": {},
     "output_type": "display_data"
    },
    {
     "data": {
      "text/plain": [
       "['Riacho Chouí',\n",
       " 'Riacho Barranqueras',\n",
       " 'Río Paraná',\n",
       " 'Arroyo Santa Isabel',\n",
       " 'noname',\n",
       " 'Arroyo Santa María',\n",
       " 'Río Santa Lucía',\n",
       " 'Arroyo Iribú Cuá',\n",
       " 'arroyo Ñeembucu',\n",
       " 'Aroyo Bai']"
      ]
     },
     "execution_count": 50,
     "metadata": {},
     "output_type": "execute_result"
    }
   ],
   "source": [
    "import osmnx as ox\n",
    "polygon = wrs2_gdf[(wrs2_gdf['PATH']==path_number) & (wrs2_gdf['ROW']==row_number)]['geometry'].values[0]\n",
    "gdf = ox.features_from_polygon(polygon, tags={'waterway': ['river', 'stream', 'tidal channel']})\n",
    "gdf['name'].fillna('noname', inplace = True)\n",
    "names = list(gdf['name'].unique())\n",
    "names[:10]"
   ]
  },
  {
   "cell_type": "code",
   "execution_count": 51,
   "id": "2233184e-ab85-4589-82c8-f1e777bc8d7e",
   "metadata": {},
   "outputs": [
    {
     "data": {
      "text/html": [
       "\n",
       "            <style>\n",
       "                .geemap-dark {\n",
       "                    --jp-widgets-color: white;\n",
       "                    --jp-widgets-label-color: white;\n",
       "                    --jp-ui-font-color1: white;\n",
       "                    --jp-layout-color2: #454545;\n",
       "                    background-color: #383838;\n",
       "                }\n",
       "                    \n",
       "                .geemap-dark .jupyter-button {\n",
       "                    --jp-layout-color3: #383838;\n",
       "                }\n",
       "                \n",
       "                .geemap-colab {\n",
       "                    background-color: var(--colab-primary-surface-color, white);\n",
       "                }\n",
       "                    \n",
       "                .geemap-colab .jupyter-button {\n",
       "                    --jp-layout-color3: var(--colab-primary-surface-color, white);\n",
       "                }\n",
       "            </style>\n",
       "            "
      ],
      "text/plain": [
       "<IPython.core.display.HTML object>"
      ]
     },
     "metadata": {},
     "output_type": "display_data"
    },
    {
     "data": {
      "image/svg+xml": [
       "<svg xmlns=\"http://www.w3.org/2000/svg\" xmlns:xlink=\"http://www.w3.org/1999/xlink\" width=\"100.0\" height=\"100.0\" viewBox=\"-59.145375964 -28.213506463999998 1.8251477280000046 1.0250634279999957\" preserveAspectRatio=\"xMinYMin meet\"><g transform=\"matrix(1,0,0,-1,0,-55.4019495)\"><g><polyline fill=\"none\" stroke=\"#66cc99\" stroke-width=\"0.03650295456000009\" points=\"-58.8378861,-27.6492161 -58.8320163,-27.6594284 -58.8191549,-27.681955 -58.8174098,-27.6923813 -58.8139083,-27.7232049 -58.8117582,-27.7421284 -58.8147788,-27.7777673 -58.821358,-27.8553537 -58.8341368,-27.8726827 -58.8424724,-27.9028097 -58.8304775,-27.9568031 -58.8397762,-27.9875558 -58.8482237,-28.0001232 -58.8544672,-28.0084866 -58.857708,-28.0123616 -58.8607979,-28.0223635 -58.8603259,-28.033122 -58.8614846,-28.037857 -58.8618708,-28.0519091 -58.864832,-28.0563023 -58.8722992,-28.0615664 -58.8801957,-28.0687237 -58.8890791,-28.0736843 -58.8966322,-28.0799698 -58.9024687,-28.0858007 -58.9055586,-28.0885646 -58.9125109,-28.0954172 -58.9197636,-28.102345 -58.9306212,-28.1138148 -58.9338398,-28.1186597 -58.9379168,-28.1238829 -58.9415646,-28.1297114 -58.9450407,-28.1336473 -58.9525938,-28.1369019 -58.9553833,-28.1375831 -58.9628506,-28.1394374 -58.9711762,-28.1399294 -58.9783001,-28.1403835 -58.9798452,-28.1403391 -58.9865588,-28.140146 -58.9901448,-28.1400429 -59.0013028,-28.1394753 -59.0187693,-28.1367127 -59.0213442,-28.1362208 -59.0309143,-28.1339501 -59.0422011,-28.1293708 -59.0529728,-28.1267972 -59.0567494,-28.1272892 -59.0583107,-28.1275149 -59.0619851,-28.1280461 -59.0670491,-28.1314902 -59.0724993,-28.1363721 -59.0777779,-28.1459084\" opacity=\"0.8\" /><polyline fill=\"none\" stroke=\"#66cc99\" stroke-width=\"0.03650295456000009\" points=\"-58.8808628,-27.5429378 -58.8707983,-27.5620149 -58.8712474,-27.5817859 -58.8755223,-27.5940042 -58.8827271,-27.6094003\" opacity=\"0.8\" /><polyline fill=\"none\" stroke=\"#66cc99\" stroke-width=\"0.03650295456000009\" points=\"-58.8808628,-27.5429378 -58.8853455,-27.5556883 -58.8874913,-27.5639062 -58.8882731,-27.5748944 -58.8877488,-27.5842579 -58.8869763,-27.5904198 -58.8844294,-27.6000979 -58.8827271,-27.6094003\" opacity=\"0.8\" /><polyline fill=\"none\" stroke=\"#66cc99\" stroke-width=\"0.03650295456000009\" points=\"-58.8827271,-27.6094003 -58.875008,-27.6210629 -58.8687733,-27.6263238 -58.8573926,-27.6356176 -58.8421523,-27.6455271 -58.8378861,-27.6492161\" opacity=\"0.8\" /><polyline fill=\"none\" stroke=\"#66cc99\" stroke-width=\"0.03650295456000009\" points=\"-58.8670669,-27.4814251 -58.8774432,-27.4908732 -58.8848528,-27.5258812 -58.8852972,-27.5345313 -58.8808628,-27.5429378\" opacity=\"0.8\" /><polyline fill=\"none\" stroke=\"#66cc99\" stroke-width=\"0.03650295456000009\" points=\"-58.3098004,-27.2745442 -58.3657198,-27.2805619 -58.3838999,-27.2825183 -58.3950042,-27.2836168 -58.4018621,-27.2842156 -58.4134127,-27.2866661 -58.4174639,-27.2866661 -58.4215752,-27.2857622 -58.4344627,-27.2806437 -58.4472622,-27.277207 -58.4560738,-27.2750622 -58.462444,-27.2738001 -58.4721402,-27.2728968 -58.4761428,-27.2730724 -58.4829656,-27.2733717 -58.4892248,-27.2733164 -58.4942846,-27.2740754 -58.5000524,-27.2757595 -58.5117575,-27.2813588 -58.5294537,-27.2928694 -58.5380217,-27.2955219 -58.5626789,-27.2990367 -58.5748523,-27.3027264 -58.5990454,-27.2998427 -58.6054992,-27.3026375 -58.6121694,-27.3083311 -58.6181654,-27.314316 -58.6252954,-27.3194456 -58.6303522,-27.322397 -58.6348694,-27.325986 -58.6434887,-27.333097 -58.6466105,-27.3360441 -58.6491292,-27.3382453 -58.6548465,-27.342989 -58.6733859,-27.3536622 -58.7196669,-27.371917 -58.7432958,-27.3735965 -58.7693668,-27.3745684 -58.7726569,-27.3765361 -58.7887231,-27.3894152 -58.7943051,-27.3938895 -58.8120565,-27.4363882 -58.8324309,-27.4535605 -58.8502619,-27.4579685 -58.8577168,-27.4621789 -58.8614895,-27.4700246 -58.8631721,-27.4734084 -58.8670669,-27.4814251\" opacity=\"0.8\" /><polyline fill=\"none\" stroke=\"#66cc99\" stroke-width=\"0.03650295456000009\" points=\"-58.8670669,-27.4814251 -58.8626862,-27.4966995 -58.8615275,-27.4995926 -58.8604117,-27.5016862 -58.8586522,-27.5040843 -58.8545323,-27.509261 -58.8408423,-27.5258553 -58.8395548,-27.5280626 -58.8378811,-27.5308788 -58.8368512,-27.5335046 -58.8363791,-27.5363967 -58.8359929,-27.5395551 -58.8363098,-27.5497281\" opacity=\"0.8\" /><polyline fill=\"none\" stroke=\"#66cc99\" stroke-width=\"0.03650295456000009\" points=\"-58.8363098,-27.5497281 -58.838018,-27.5582925 -58.8389755,-27.5598544 -58.843031,-27.5639062 -58.8441714,-27.5655241 -58.8462067,-27.5693463 -58.8480092,-27.5744819 -58.8481494,-27.5788654 -58.8467357,-27.5868533 -58.8389605,-27.5996954 -58.8321866,-27.6112312 -58.831358,-27.623011 -58.8315296,-27.6248742 -58.8319589,-27.628106 -58.8335414,-27.6343512 -58.8378861,-27.6492161\" opacity=\"0.8\" /><polyline fill=\"none\" stroke=\"#66cc99\" stroke-width=\"0.03650295456000009\" points=\"-58.8363098,-27.5497281 -58.8320138,-27.55426 -58.8286512,-27.5567826 -58.8255103,-27.558912 -58.8236257,-27.5614999 -58.8219629,-27.5657585 -58.8211499,-27.5688049 -58.8213347,-27.5710323 -58.8222954,-27.573882 -58.82418,-27.5759783 -58.8276725,-27.5776572 -58.8287294,-27.5784476 -58.8292794,-27.5791227 -58.8298993,-27.5813086 -58.8304846,-27.5858812 -58.8316155,-27.5900395 -58.8322725,-27.5927472 -58.8321866,-27.6112312\" opacity=\"0.8\" /><polyline fill=\"none\" stroke=\"#66cc99\" stroke-width=\"0.03650295456000009\" points=\"-58.2430521,-27.2619595 -58.2532454,-27.2586353 -58.2599402,-27.2568423 -58.2680512,-27.2560411 -58.2747031,-27.2574145 -58.278308,-27.2594364 -58.2876206,-27.2666083 -58.2978146,-27.2726912 -58.3033159,-27.27385 -58.3098004,-27.2745442\" opacity=\"0.8\" /><polyline fill=\"none\" stroke=\"#66cc99\" stroke-width=\"0.03650295456000009\" points=\"-58.2430521,-27.2619595 -58.246661,-27.2614512 -58.2494059,-27.2616037 -58.2520999,-27.2618578 -58.2569796,-27.2627219 -58.2618593,-27.2634844 -58.2672982,-27.2642469 -58.2684164,-27.2646535 -58.2728381,-27.2657594 -58.2758598,-27.2674228 -58.2788787,-27.2690048 -58.2806157,-27.2707023 -58.2848855,-27.2727864 -58.2876571,-27.2737899 -58.2907818,-27.2749213 -58.2953202,-27.2759547 -58.2959157,-27.2760904 -58.2976399,-27.2763902 -58.299423,-27.2767003 -58.3098004,-27.2745442\" opacity=\"0.8\" /><polyline fill=\"none\" stroke=\"#66cc99\" stroke-width=\"0.03650295456000009\" points=\"-58.1775862,-27.2777164 -58.1802626,-27.2782907 -58.1822736,-27.2787518 -58.184683,-27.2792087 -58.1868251,-27.2796699 -58.188014,-27.2799849 -58.1886166,-27.2801302 -58.1912559,-27.2807667 -58.1942549,-27.2804618 -58.1968981,-27.2799026 -58.1984738,-27.2793181 -58.2000496,-27.2787335 -58.2029474,-27.2773536 -58.2058442,-27.2757854 -58.2098746,-27.2739783 -58.2129096,-27.2729389 -58.2171286,-27.2710581 -58.2232282,-27.2691774 -58.2285654,-27.2679067 -58.2308662,-27.267112 -58.2348176,-27.2657209 -58.2367274,-27.2646181 -58.2384265,-27.2636369 -58.2430521,-27.2619595\" opacity=\"0.8\" /><polyline fill=\"none\" stroke=\"#66cc99\" stroke-width=\"0.03650295456000009\" points=\"-58.1775862,-27.2777164 -58.1884873,-27.2750515 -58.1982272,-27.2734353 -58.2089229,-27.2705583 -58.2430521,-27.2619595\" opacity=\"0.8\" /><polyline fill=\"none\" stroke=\"#66cc99\" stroke-width=\"0.03650295456000009\" points=\"-57.3878263,-27.4213557 -57.39125,-27.4217951 -57.4042568,-27.4237379 -57.4126682,-27.4251092 -57.4207878,-27.4278899 -57.4290275,-27.4312419 -57.4355,-27.4343099 -57.4497836,-27.4396205 -57.4600532,-27.4417631 -57.4619078,-27.4419343 -57.4805152,-27.4436521 -57.4875448,-27.4441777 -57.4968188,-27.4432768 -57.5066675,-27.4410971 -57.5157827,-27.4378064 -57.5226405,-27.4344394 -57.5295027,-27.4328244 -57.5449005,-27.4308182 -57.5611406,-27.4158163 -57.5681741,-27.4069922 -57.5831001,-27.401102 -57.591623,-27.3980692 -57.6080936,-27.3913447 -57.6247603,-27.3815839 -57.6302793,-27.3779576 -57.6317228,-27.3770091 -57.6413358,-27.372131 -57.6519788,-27.3663381 -57.6609052,-27.3610022 -57.6633752,-27.3589998 -57.6672052,-27.3558948 -57.673056,-27.3405614 -57.6792097,-27.3348891 -57.6862908,-27.3308289 -57.6872993,-27.330276 -57.6945305,-27.3269782 -57.7020444,-27.324545 -57.7188474,-27.3261286 -57.7298099,-27.3282205 -57.7428991,-27.33063 -57.7643145,-27.3360419 -57.7781069,-27.33827 -57.7910158,-27.338209 -57.7923066,-27.3379865 -57.8145,-27.3341603 -57.8163874,-27.3334741 -57.818104,-27.3326354 -57.8215372,-27.3303479 -57.8247558,-27.3279079 -57.8544331,-27.2946044 -57.8774358,-27.2783568 -57.9145146,-27.2653112 -57.9445117,-27.2638226 -57.9630156,-27.2657202 -57.9644244,-27.2658062 -57.9762272,-27.2650876 -57.9840131,-27.2646135 -57.9895859,-27.2642742 -58.0147803,-27.2631304 -58.0259511,-27.2630884 -58.0432825,-27.2625544 -58.0520208,-27.2621429 -58.0596311,-27.2622511 -58.0659898,-27.2626808 -58.0692685,-27.2641845 -58.0740063,-27.2671822 -58.0828211,-27.2723661 -58.0926959,-27.2750096 -58.1163123,-27.275372 -58.1350405,-27.2750173 -58.143336,-27.2773211 -58.1455026,-27.2775103 -58.1617379,-27.2786967 -58.1675435,-27.2785094 -58.1775862,-27.2777164\" opacity=\"0.8\" /></g></g></svg>"
      ],
      "text/plain": [
       "<MULTILINESTRING ((-58.838 -27.649, -58.832 -27.659, -58.819 -27.682, -58.81...>"
      ]
     },
     "execution_count": 51,
     "metadata": {},
     "output_type": "execute_result"
    }
   ],
   "source": [
    "from shapely.ops import split, linemerge\n",
    "lines = []\n",
    "river_name = 'Río Paraná'\n",
    "for line in gdf.loc[gdf['name']==river_name,'geometry'].values:\n",
    "    lines.append(line)\n",
    "Line = linemerge(lines)\n",
    "Line"
   ]
  },
  {
   "cell_type": "markdown",
   "id": "60d75ecb-7741-405c-ac0b-04261ec1da1a",
   "metadata": {},
   "source": [
    "## Rio Parana, 105 Landsat images (download + analysis)"
   ]
  },
  {
   "cell_type": "markdown",
   "id": "4b2081e3-2b6d-4135-95ca-0776a2e538fb",
   "metadata": {},
   "source": [
    "### Download images and extract graphs"
   ]
  },
  {
   "cell_type": "code",
   "execution_count": 26,
   "id": "84480076-3ff3-4c4c-8c24-354e4a3aa575",
   "metadata": {
    "scrolled": true
   },
   "outputs": [
    {
     "data": {
      "text/html": [
       "\n",
       "            <style>\n",
       "                .geemap-dark {\n",
       "                    --jp-widgets-color: white;\n",
       "                    --jp-widgets-label-color: white;\n",
       "                    --jp-ui-font-color1: white;\n",
       "                    --jp-layout-color2: #454545;\n",
       "                    background-color: #383838;\n",
       "                }\n",
       "                    \n",
       "                .geemap-dark .jupyter-button {\n",
       "                    --jp-layout-color3: #383838;\n",
       "                }\n",
       "                \n",
       "                .geemap-colab {\n",
       "                    background-color: var(--colab-primary-surface-color, white);\n",
       "                }\n",
       "                    \n",
       "                .geemap-colab .jupyter-button {\n",
       "                    --jp-layout-color3: var(--colab-primary-surface-color, white);\n",
       "                }\n",
       "            </style>\n",
       "            "
      ],
      "text/plain": [
       "<IPython.core.display.HTML object>"
      ]
     },
     "metadata": {},
     "output_type": "display_data"
    },
    {
     "name": "stdout",
     "output_type": "stream",
     "text": [
      "LT05_226079_19850124_mndwi.tif\n",
      "removing small holes\n",
      "running skeletonization\n",
      "building graph from skeleton\n",
      "finding reasonable starting and ending points on graph edges\n",
      "finding nodes that are within a certain radius of the path\n"
     ]
    },
    {
     "name": "stderr",
     "output_type": "stream",
     "text": [
      "100%|███████████████████████████████████████████████████████████████████████████████████████████| 240/240 [00:12<00:00, 19.60it/s]\n",
      "100%|████████████████████████████████████████████████████████████████████████████████████████| 1228/1228 [00:07<00:00, 154.82it/s]\n",
      "100%|█████████████████████████████████████████████████████████████████████████████████████████| 183/183 [00:00<00:00, 5439.77it/s]\n"
     ]
    },
    {
     "name": "stdout",
     "output_type": "stream",
     "text": [
      "creating linestrings for primal graph\n"
     ]
    },
    {
     "name": "stderr",
     "output_type": "stream",
     "text": [
      "185it [00:04, 39.38it/s]\n"
     ]
    },
    {
     "name": "stdout",
     "output_type": "stream",
     "text": [
      "getting bank coordinates for the two main banks\n"
     ]
    },
    {
     "name": "stderr",
     "output_type": "stream",
     "text": [
      "100%|████████████████████████████████████████████████████████████████████████████████████| 10221/10221 [00:00<00:00, 19218.33it/s]\n",
      "100%|███████████████████████████████████████████████████████████████████████████████████████| 9011/9011 [00:00<00:00, 9815.08it/s]\n"
     ]
    },
    {
     "name": "stdout",
     "output_type": "stream",
     "text": [
      "getting bank coordinates for the rest of the islands\n"
     ]
    },
    {
     "name": "stderr",
     "output_type": "stream",
     "text": [
      "100%|███████████████████████████████████████████████████████████████████████████████████████████| 183/183 [00:20<00:00,  9.09it/s]\n"
     ]
    },
    {
     "name": "stdout",
     "output_type": "stream",
     "text": [
      "setting half channel widths\n"
     ]
    },
    {
     "name": "stderr",
     "output_type": "stream",
     "text": [
      "100%|███████████████████████████████████████████████████████████████████████████████████████████| 185/185 [00:58<00:00,  3.16it/s]\n",
      "100%|███████████████████████████████████████████████████████████████████████████████████████████| 551/551 [00:05<00:00, 98.65it/s]\n"
     ]
    },
    {
     "name": "stdout",
     "output_type": "stream",
     "text": [
      "1 out of 106 processed\n",
      "LT05_226079_19860127_mndwi.tif\n",
      "removing small holes\n",
      "running skeletonization\n",
      "building graph from skeleton\n",
      "finding reasonable starting and ending points on graph edges\n",
      "finding nodes that are within a certain radius of the path\n"
     ]
    },
    {
     "name": "stderr",
     "output_type": "stream",
     "text": [
      "100%|███████████████████████████████████████████████████████████████████████████████████████████| 203/203 [00:03<00:00, 56.21it/s]\n",
      "100%|██████████████████████████████████████████████████████████████████████████████████████████| 859/859 [00:04<00:00, 209.00it/s]\n",
      "100%|█████████████████████████████████████████████████████████████████████████████████████████| 187/187 [00:00<00:00, 5306.01it/s]\n"
     ]
    },
    {
     "name": "stdout",
     "output_type": "stream",
     "text": [
      "creating linestrings for primal graph\n"
     ]
    },
    {
     "name": "stderr",
     "output_type": "stream",
     "text": [
      "189it [00:04, 38.84it/s]\n"
     ]
    },
    {
     "name": "stdout",
     "output_type": "stream",
     "text": [
      "getting bank coordinates for the two main banks\n"
     ]
    },
    {
     "name": "stderr",
     "output_type": "stream",
     "text": [
      "100%|████████████████████████████████████████████████████████████████████████████████████| 10085/10085 [00:00<00:00, 24404.76it/s]\n",
      "100%|██████████████████████████████████████████████████████████████████████████████████████| 8859/8859 [00:00<00:00, 18553.55it/s]\n"
     ]
    },
    {
     "name": "stdout",
     "output_type": "stream",
     "text": [
      "getting bank coordinates for the rest of the islands\n"
     ]
    },
    {
     "name": "stderr",
     "output_type": "stream",
     "text": [
      "100%|███████████████████████████████████████████████████████████████████████████████████████████| 187/187 [00:20<00:00,  9.18it/s]\n"
     ]
    },
    {
     "name": "stdout",
     "output_type": "stream",
     "text": [
      "setting half channel widths\n"
     ]
    },
    {
     "name": "stderr",
     "output_type": "stream",
     "text": [
      "100%|███████████████████████████████████████████████████████████████████████████████████████████| 189/189 [00:58<00:00,  3.20it/s]\n",
      "100%|██████████████████████████████████████████████████████████████████████████████████████████| 552/552 [00:05<00:00, 100.09it/s]\n"
     ]
    },
    {
     "name": "stdout",
     "output_type": "stream",
     "text": [
      "2 out of 106 processed\n",
      "LT05_226079_19860807_mndwi.tif\n",
      "removing small holes\n",
      "running skeletonization\n",
      "building graph from skeleton\n",
      "finding reasonable starting and ending points on graph edges\n",
      "finding nodes that are within a certain radius of the path\n"
     ]
    },
    {
     "name": "stderr",
     "output_type": "stream",
     "text": [
      "100%|███████████████████████████████████████████████████████████████████████████████████████████| 222/222 [00:07<00:00, 29.81it/s]\n",
      "100%|████████████████████████████████████████████████████████████████████████████████████████| 1037/1037 [00:05<00:00, 175.01it/s]\n",
      "100%|█████████████████████████████████████████████████████████████████████████████████████████| 178/178 [00:00<00:00, 5217.78it/s]\n"
     ]
    },
    {
     "name": "stdout",
     "output_type": "stream",
     "text": [
      "creating linestrings for primal graph\n"
     ]
    },
    {
     "name": "stderr",
     "output_type": "stream",
     "text": [
      "180it [00:04, 39.01it/s]\n"
     ]
    },
    {
     "name": "stdout",
     "output_type": "stream",
     "text": [
      "getting bank coordinates for the two main banks\n"
     ]
    },
    {
     "name": "stderr",
     "output_type": "stream",
     "text": [
      "100%|██████████████████████████████████████████████████████████████████████████████████████| 8855/8855 [00:00<00:00, 21852.11it/s]\n",
      "100%|██████████████████████████████████████████████████████████████████████████████████████| 8620/8620 [00:00<00:00, 12278.34it/s]\n"
     ]
    },
    {
     "name": "stdout",
     "output_type": "stream",
     "text": [
      "getting bank coordinates for the rest of the islands\n"
     ]
    },
    {
     "name": "stderr",
     "output_type": "stream",
     "text": [
      "100%|███████████████████████████████████████████████████████████████████████████████████████████| 178/178 [00:19<00:00,  8.94it/s]\n"
     ]
    },
    {
     "name": "stdout",
     "output_type": "stream",
     "text": [
      "setting half channel widths\n"
     ]
    },
    {
     "name": "stderr",
     "output_type": "stream",
     "text": [
      "100%|███████████████████████████████████████████████████████████████████████████████████████████| 180/180 [00:54<00:00,  3.29it/s]\n",
      "100%|██████████████████████████████████████████████████████████████████████████████████████████| 532/532 [00:04<00:00, 107.47it/s]\n"
     ]
    },
    {
     "name": "stdout",
     "output_type": "stream",
     "text": [
      "3 out of 106 processed\n",
      "LT05_226079_19860908_mndwi.tif\n",
      "removing small holes\n",
      "running skeletonization\n",
      "building graph from skeleton\n",
      "finding reasonable starting and ending points on graph edges\n",
      "finding nodes that are within a certain radius of the path\n"
     ]
    },
    {
     "name": "stderr",
     "output_type": "stream",
     "text": [
      "100%|███████████████████████████████████████████████████████████████████████████████████████████| 228/228 [00:05<00:00, 39.24it/s]\n",
      "100%|██████████████████████████████████████████████████████████████████████████████████████████| 968/968 [00:05<00:00, 188.40it/s]\n",
      "100%|█████████████████████████████████████████████████████████████████████████████████████████| 192/192 [00:00<00:00, 5420.35it/s]\n"
     ]
    },
    {
     "name": "stdout",
     "output_type": "stream",
     "text": [
      "creating linestrings for primal graph\n"
     ]
    },
    {
     "name": "stderr",
     "output_type": "stream",
     "text": [
      "194it [00:05, 36.99it/s]\n"
     ]
    },
    {
     "name": "stdout",
     "output_type": "stream",
     "text": [
      "getting bank coordinates for the two main banks\n"
     ]
    },
    {
     "name": "stderr",
     "output_type": "stream",
     "text": [
      "100%|██████████████████████████████████████████████████████████████████████████████████████| 9002/9002 [00:00<00:00, 21732.98it/s]\n",
      "100%|██████████████████████████████████████████████████████████████████████████████████████| 8874/8874 [00:00<00:00, 14136.09it/s]\n"
     ]
    },
    {
     "name": "stdout",
     "output_type": "stream",
     "text": [
      "getting bank coordinates for the rest of the islands\n"
     ]
    },
    {
     "name": "stderr",
     "output_type": "stream",
     "text": [
      "100%|███████████████████████████████████████████████████████████████████████████████████████████| 192/192 [00:21<00:00,  8.76it/s]\n"
     ]
    },
    {
     "name": "stdout",
     "output_type": "stream",
     "text": [
      "setting half channel widths\n"
     ]
    },
    {
     "name": "stderr",
     "output_type": "stream",
     "text": [
      "100%|███████████████████████████████████████████████████████████████████████████████████████████| 194/194 [01:01<00:00,  3.14it/s]\n",
      "100%|██████████████████████████████████████████████████████████████████████████████████████████| 570/570 [00:05<00:00, 103.12it/s]\n"
     ]
    },
    {
     "name": "stdout",
     "output_type": "stream",
     "text": [
      "4 out of 106 processed\n",
      "LT05_226079_19870130_mndwi.tif\n",
      "removing small holes\n",
      "running skeletonization\n",
      "building graph from skeleton\n",
      "finding reasonable starting and ending points on graph edges\n",
      "finding nodes that are within a certain radius of the path\n"
     ]
    },
    {
     "name": "stderr",
     "output_type": "stream",
     "text": [
      "100%|███████████████████████████████████████████████████████████████████████████████████████████| 202/202 [00:05<00:00, 36.37it/s]\n",
      "100%|██████████████████████████████████████████████████████████████████████████████████████████| 995/995 [00:05<00:00, 175.09it/s]\n",
      "100%|█████████████████████████████████████████████████████████████████████████████████████████| 184/184 [00:00<00:00, 5115.51it/s]\n"
     ]
    },
    {
     "name": "stdout",
     "output_type": "stream",
     "text": [
      "creating linestrings for primal graph\n"
     ]
    },
    {
     "name": "stderr",
     "output_type": "stream",
     "text": [
      "186it [00:05, 36.75it/s]\n"
     ]
    },
    {
     "name": "stdout",
     "output_type": "stream",
     "text": [
      "getting bank coordinates for the two main banks\n"
     ]
    },
    {
     "name": "stderr",
     "output_type": "stream",
     "text": [
      "100%|████████████████████████████████████████████████████████████████████████████████████| 10032/10032 [00:00<00:00, 24015.69it/s]\n",
      "100%|██████████████████████████████████████████████████████████████████████████████████████| 8637/8637 [00:00<00:00, 16054.38it/s]\n"
     ]
    },
    {
     "name": "stdout",
     "output_type": "stream",
     "text": [
      "getting bank coordinates for the rest of the islands\n"
     ]
    },
    {
     "name": "stderr",
     "output_type": "stream",
     "text": [
      "100%|███████████████████████████████████████████████████████████████████████████████████████████| 184/184 [00:21<00:00,  8.46it/s]\n"
     ]
    },
    {
     "name": "stdout",
     "output_type": "stream",
     "text": [
      "setting half channel widths\n"
     ]
    },
    {
     "name": "stderr",
     "output_type": "stream",
     "text": [
      "100%|███████████████████████████████████████████████████████████████████████████████████████████| 186/186 [00:58<00:00,  3.16it/s]\n",
      "100%|██████████████████████████████████████████████████████████████████████████████████████████| 548/548 [00:05<00:00, 101.19it/s]\n"
     ]
    },
    {
     "name": "stdout",
     "output_type": "stream",
     "text": [
      "5 out of 106 processed\n",
      "LT05_226079_19870215_mndwi.tif\n",
      "removing small holes\n",
      "running skeletonization\n",
      "building graph from skeleton\n",
      "finding reasonable starting and ending points on graph edges\n",
      "finding nodes that are within a certain radius of the path\n"
     ]
    },
    {
     "name": "stderr",
     "output_type": "stream",
     "text": [
      "100%|███████████████████████████████████████████████████████████████████████████████████████████| 251/251 [00:17<00:00, 14.26it/s]\n",
      "100%|████████████████████████████████████████████████████████████████████████████████████████| 1300/1300 [00:09<00:00, 140.69it/s]\n",
      "100%|█████████████████████████████████████████████████████████████████████████████████████████| 165/165 [00:00<00:00, 5083.03it/s]\n"
     ]
    },
    {
     "name": "stdout",
     "output_type": "stream",
     "text": [
      "creating linestrings for primal graph\n"
     ]
    },
    {
     "name": "stderr",
     "output_type": "stream",
     "text": [
      "167it [00:03, 42.66it/s]\n"
     ]
    },
    {
     "name": "stdout",
     "output_type": "stream",
     "text": [
      "getting bank coordinates for the two main banks\n"
     ]
    },
    {
     "name": "stderr",
     "output_type": "stream",
     "text": [
      "100%|████████████████████████████████████████████████████████████████████████████████████| 10218/10218 [00:00<00:00, 19636.23it/s]\n",
      "100%|██████████████████████████████████████████████████████████████████████████████████████| 8705/8705 [00:00<00:00, 10309.89it/s]\n"
     ]
    },
    {
     "name": "stdout",
     "output_type": "stream",
     "text": [
      "getting bank coordinates for the rest of the islands\n"
     ]
    },
    {
     "name": "stderr",
     "output_type": "stream",
     "text": [
      "100%|███████████████████████████████████████████████████████████████████████████████████████████| 165/165 [00:18<00:00,  8.81it/s]\n"
     ]
    },
    {
     "name": "stdout",
     "output_type": "stream",
     "text": [
      "setting half channel widths\n"
     ]
    },
    {
     "name": "stderr",
     "output_type": "stream",
     "text": [
      "100%|███████████████████████████████████████████████████████████████████████████████████████████| 167/167 [00:52<00:00,  3.20it/s]\n",
      "100%|███████████████████████████████████████████████████████████████████████████████████████████| 492/492 [00:04<00:00, 99.57it/s]\n"
     ]
    },
    {
     "name": "stdout",
     "output_type": "stream",
     "text": [
      "6 out of 106 processed\n",
      "LT05_226079_19870303_mndwi.tif\n",
      "removing small holes\n",
      "running skeletonization\n",
      "building graph from skeleton\n",
      "finding reasonable starting and ending points on graph edges\n",
      "finding nodes that are within a certain radius of the path\n"
     ]
    },
    {
     "name": "stderr",
     "output_type": "stream",
     "text": [
      "100%|███████████████████████████████████████████████████████████████████████████████████████████| 229/229 [00:12<00:00, 17.75it/s]\n",
      "100%|████████████████████████████████████████████████████████████████████████████████████████| 1197/1197 [00:07<00:00, 152.87it/s]\n",
      "100%|█████████████████████████████████████████████████████████████████████████████████████████| 168/168 [00:00<00:00, 5136.86it/s]\n"
     ]
    },
    {
     "name": "stdout",
     "output_type": "stream",
     "text": [
      "creating linestrings for primal graph\n"
     ]
    },
    {
     "name": "stderr",
     "output_type": "stream",
     "text": [
      "170it [00:04, 41.53it/s]\n"
     ]
    },
    {
     "name": "stdout",
     "output_type": "stream",
     "text": [
      "getting bank coordinates for the two main banks\n"
     ]
    },
    {
     "name": "stderr",
     "output_type": "stream",
     "text": [
      "100%|██████████████████████████████████████████████████████████████████████████████████████| 9969/9969 [00:00<00:00, 22544.40it/s]\n",
      "100%|██████████████████████████████████████████████████████████████████████████████████████| 8612/8612 [00:00<00:00, 12940.86it/s]\n"
     ]
    },
    {
     "name": "stdout",
     "output_type": "stream",
     "text": [
      "getting bank coordinates for the rest of the islands\n"
     ]
    },
    {
     "name": "stderr",
     "output_type": "stream",
     "text": [
      "100%|███████████████████████████████████████████████████████████████████████████████████████████| 168/168 [00:19<00:00,  8.83it/s]\n"
     ]
    },
    {
     "name": "stdout",
     "output_type": "stream",
     "text": [
      "setting half channel widths\n"
     ]
    },
    {
     "name": "stderr",
     "output_type": "stream",
     "text": [
      "100%|███████████████████████████████████████████████████████████████████████████████████████████| 170/170 [00:52<00:00,  3.24it/s]\n",
      "100%|██████████████████████████████████████████████████████████████████████████████████████████| 503/503 [00:04<00:00, 102.06it/s]\n"
     ]
    },
    {
     "name": "stdout",
     "output_type": "stream",
     "text": [
      "7 out of 106 processed\n",
      "LT05_226079_19880202_mndwi.tif\n",
      "removing small holes\n",
      "running skeletonization\n",
      "building graph from skeleton\n",
      "finding reasonable starting and ending points on graph edges\n",
      "finding nodes that are within a certain radius of the path\n"
     ]
    },
    {
     "name": "stderr",
     "output_type": "stream",
     "text": [
      "100%|███████████████████████████████████████████████████████████████████████████████████████████| 210/210 [00:06<00:00, 31.34it/s]\n",
      "100%|██████████████████████████████████████████████████████████████████████████████████████████| 975/975 [00:05<00:00, 178.77it/s]\n",
      "100%|█████████████████████████████████████████████████████████████████████████████████████████| 171/171 [00:00<00:00, 4693.40it/s]\n"
     ]
    },
    {
     "name": "stdout",
     "output_type": "stream",
     "text": [
      "creating linestrings for primal graph\n"
     ]
    },
    {
     "name": "stderr",
     "output_type": "stream",
     "text": [
      "173it [00:04, 38.86it/s]\n"
     ]
    },
    {
     "name": "stdout",
     "output_type": "stream",
     "text": [
      "getting bank coordinates for the two main banks\n"
     ]
    },
    {
     "name": "stderr",
     "output_type": "stream",
     "text": [
      "100%|████████████████████████████████████████████████████████████████████████████████████| 10120/10120 [00:00<00:00, 21282.50it/s]\n",
      "100%|██████████████████████████████████████████████████████████████████████████████████████| 8839/8839 [00:00<00:00, 11774.36it/s]\n"
     ]
    },
    {
     "name": "stdout",
     "output_type": "stream",
     "text": [
      "getting bank coordinates for the rest of the islands\n"
     ]
    },
    {
     "name": "stderr",
     "output_type": "stream",
     "text": [
      "100%|███████████████████████████████████████████████████████████████████████████████████████████| 171/171 [00:21<00:00,  8.11it/s]\n"
     ]
    },
    {
     "name": "stdout",
     "output_type": "stream",
     "text": [
      "setting half channel widths\n"
     ]
    },
    {
     "name": "stderr",
     "output_type": "stream",
     "text": [
      "100%|███████████████████████████████████████████████████████████████████████████████████████████| 173/173 [00:56<00:00,  3.05it/s]\n",
      "100%|███████████████████████████████████████████████████████████████████████████████████████████| 514/514 [00:05<00:00, 97.56it/s]\n"
     ]
    },
    {
     "name": "stdout",
     "output_type": "stream",
     "text": [
      "8 out of 106 processed\n",
      "LT05_226079_19880218_mndwi.tif\n",
      "removing small holes\n",
      "running skeletonization\n",
      "building graph from skeleton\n",
      "finding reasonable starting and ending points on graph edges\n",
      "finding nodes that are within a certain radius of the path\n"
     ]
    },
    {
     "name": "stderr",
     "output_type": "stream",
     "text": [
      "100%|███████████████████████████████████████████████████████████████████████████████████████████| 210/210 [00:05<00:00, 35.35it/s]\n",
      "100%|██████████████████████████████████████████████████████████████████████████████████████████| 944/944 [00:05<00:00, 185.08it/s]\n",
      "100%|█████████████████████████████████████████████████████████████████████████████████████████| 172/172 [00:00<00:00, 5065.98it/s]\n"
     ]
    },
    {
     "name": "stdout",
     "output_type": "stream",
     "text": [
      "creating linestrings for primal graph\n"
     ]
    },
    {
     "name": "stderr",
     "output_type": "stream",
     "text": [
      "174it [00:04, 39.24it/s]\n"
     ]
    },
    {
     "name": "stdout",
     "output_type": "stream",
     "text": [
      "getting bank coordinates for the two main banks\n"
     ]
    },
    {
     "name": "stderr",
     "output_type": "stream",
     "text": [
      "100%|████████████████████████████████████████████████████████████████████████████████████| 10005/10005 [00:00<00:00, 22791.71it/s]\n",
      "100%|██████████████████████████████████████████████████████████████████████████████████████| 8601/8601 [00:00<00:00, 13451.11it/s]\n"
     ]
    },
    {
     "name": "stdout",
     "output_type": "stream",
     "text": [
      "getting bank coordinates for the rest of the islands\n"
     ]
    },
    {
     "name": "stderr",
     "output_type": "stream",
     "text": [
      "100%|███████████████████████████████████████████████████████████████████████████████████████████| 172/172 [00:21<00:00,  8.15it/s]\n"
     ]
    },
    {
     "name": "stdout",
     "output_type": "stream",
     "text": [
      "setting half channel widths\n"
     ]
    },
    {
     "name": "stderr",
     "output_type": "stream",
     "text": [
      "100%|███████████████████████████████████████████████████████████████████████████████████████████| 174/174 [00:56<00:00,  3.08it/s]\n",
      "100%|███████████████████████████████████████████████████████████████████████████████████████████| 516/516 [00:05<00:00, 99.13it/s]\n"
     ]
    },
    {
     "name": "stdout",
     "output_type": "stream",
     "text": [
      "9 out of 106 processed\n",
      "LT05_226079_19880305_mndwi.tif\n",
      "removing small holes\n",
      "running skeletonization\n",
      "building graph from skeleton\n",
      "finding reasonable starting and ending points on graph edges\n",
      "finding nodes that are within a certain radius of the path\n"
     ]
    },
    {
     "name": "stderr",
     "output_type": "stream",
     "text": [
      "100%|███████████████████████████████████████████████████████████████████████████████████████████| 207/207 [00:06<00:00, 32.30it/s]\n",
      "100%|██████████████████████████████████████████████████████████████████████████████████████████| 956/956 [00:05<00:00, 182.06it/s]\n",
      "100%|█████████████████████████████████████████████████████████████████████████████████████████| 169/169 [00:00<00:00, 4973.63it/s]\n"
     ]
    },
    {
     "name": "stdout",
     "output_type": "stream",
     "text": [
      "creating linestrings for primal graph\n"
     ]
    },
    {
     "name": "stderr",
     "output_type": "stream",
     "text": [
      "171it [00:04, 40.87it/s]\n"
     ]
    },
    {
     "name": "stdout",
     "output_type": "stream",
     "text": [
      "getting bank coordinates for the two main banks\n"
     ]
    },
    {
     "name": "stderr",
     "output_type": "stream",
     "text": [
      "100%|████████████████████████████████████████████████████████████████████████████████████| 10012/10012 [00:00<00:00, 23324.51it/s]\n",
      "100%|██████████████████████████████████████████████████████████████████████████████████████| 8770/8770 [00:00<00:00, 15815.13it/s]\n"
     ]
    },
    {
     "name": "stdout",
     "output_type": "stream",
     "text": [
      "getting bank coordinates for the rest of the islands\n"
     ]
    },
    {
     "name": "stderr",
     "output_type": "stream",
     "text": [
      "100%|███████████████████████████████████████████████████████████████████████████████████████████| 169/169 [00:20<00:00,  8.11it/s]\n"
     ]
    },
    {
     "name": "stdout",
     "output_type": "stream",
     "text": [
      "setting half channel widths\n"
     ]
    },
    {
     "name": "stderr",
     "output_type": "stream",
     "text": [
      "100%|███████████████████████████████████████████████████████████████████████████████████████████| 171/171 [00:55<00:00,  3.09it/s]\n",
      "100%|██████████████████████████████████████████████████████████████████████████████████████████| 503/503 [00:05<00:00, 100.52it/s]\n"
     ]
    },
    {
     "name": "stdout",
     "output_type": "stream",
     "text": [
      "10 out of 106 processed\n",
      "LT05_226079_19890204_mndwi.tif\n",
      "removing small holes\n",
      "running skeletonization\n",
      "building graph from skeleton\n",
      "finding reasonable starting and ending points on graph edges\n",
      "finding nodes that are within a certain radius of the path\n"
     ]
    },
    {
     "name": "stderr",
     "output_type": "stream",
     "text": [
      "100%|███████████████████████████████████████████████████████████████████████████████████████████| 295/295 [00:51<00:00,  5.69it/s]\n",
      "100%|█████████████████████████████████████████████████████████████████████████████████████████| 2474/2474 [00:33<00:00, 74.93it/s]\n",
      "100%|█████████████████████████████████████████████████████████████████████████████████████████| 335/335 [00:00<00:00, 6111.78it/s]\n"
     ]
    },
    {
     "name": "stdout",
     "output_type": "stream",
     "text": [
      "creating linestrings for primal graph\n"
     ]
    },
    {
     "name": "stderr",
     "output_type": "stream",
     "text": [
      "337it [00:16, 20.49it/s]\n"
     ]
    },
    {
     "name": "stdout",
     "output_type": "stream",
     "text": [
      "getting bank coordinates for the two main banks\n"
     ]
    },
    {
     "name": "stderr",
     "output_type": "stream",
     "text": [
      "100%|████████████████████████████████████████████████████████████████████████████████████| 10268/10268 [00:00<00:00, 13842.89it/s]\n",
      "100%|████████████████████████████████████████████████████████████████████████████████████| 10280/10280 [00:00<00:00, 12723.29it/s]\n"
     ]
    },
    {
     "name": "stdout",
     "output_type": "stream",
     "text": [
      "getting bank coordinates for the rest of the islands\n"
     ]
    },
    {
     "name": "stderr",
     "output_type": "stream",
     "text": [
      "100%|███████████████████████████████████████████████████████████████████████████████████████████| 335/335 [00:36<00:00,  9.08it/s]\n"
     ]
    },
    {
     "name": "stdout",
     "output_type": "stream",
     "text": [
      "setting half channel widths\n"
     ]
    },
    {
     "name": "stderr",
     "output_type": "stream",
     "text": [
      "100%|███████████████████████████████████████████████████████████████████████████████████████████| 337/337 [02:02<00:00,  2.74it/s]\n",
      "100%|███████████████████████████████████████████████████████████████████████████████████████████| 993/993 [00:10<00:00, 93.18it/s]\n"
     ]
    },
    {
     "name": "stdout",
     "output_type": "stream",
     "text": [
      "11 out of 106 processed\n",
      "LT05_226079_19890324_mndwi.tif\n",
      "removing small holes\n",
      "running skeletonization\n",
      "building graph from skeleton\n",
      "finding reasonable starting and ending points on graph edges\n",
      "finding nodes that are within a certain radius of the path\n"
     ]
    },
    {
     "name": "stderr",
     "output_type": "stream",
     "text": [
      "100%|███████████████████████████████████████████████████████████████████████████████████████████| 231/231 [00:07<00:00, 31.15it/s]\n",
      "100%|████████████████████████████████████████████████████████████████████████████████████████| 1001/1001 [00:05<00:00, 184.03it/s]\n",
      "100%|█████████████████████████████████████████████████████████████████████████████████████████| 187/187 [00:00<00:00, 5408.35it/s]\n"
     ]
    },
    {
     "name": "stdout",
     "output_type": "stream",
     "text": [
      "creating linestrings for primal graph\n"
     ]
    },
    {
     "name": "stderr",
     "output_type": "stream",
     "text": [
      "189it [00:04, 38.63it/s]\n"
     ]
    },
    {
     "name": "stdout",
     "output_type": "stream",
     "text": [
      "getting bank coordinates for the two main banks\n"
     ]
    },
    {
     "name": "stderr",
     "output_type": "stream",
     "text": [
      "100%|██████████████████████████████████████████████████████████████████████████████████████| 9188/9188 [00:00<00:00, 20552.92it/s]\n",
      "100%|██████████████████████████████████████████████████████████████████████████████████████| 9083/9083 [00:00<00:00, 14093.51it/s]\n"
     ]
    },
    {
     "name": "stdout",
     "output_type": "stream",
     "text": [
      "getting bank coordinates for the rest of the islands\n"
     ]
    },
    {
     "name": "stderr",
     "output_type": "stream",
     "text": [
      "100%|███████████████████████████████████████████████████████████████████████████████████████████| 187/187 [00:21<00:00,  8.61it/s]\n"
     ]
    },
    {
     "name": "stdout",
     "output_type": "stream",
     "text": [
      "setting half channel widths\n"
     ]
    },
    {
     "name": "stderr",
     "output_type": "stream",
     "text": [
      "100%|███████████████████████████████████████████████████████████████████████████████████████████| 189/189 [01:02<00:00,  3.05it/s]\n",
      "100%|██████████████████████████████████████████████████████████████████████████████████████████| 556/556 [00:05<00:00, 100.94it/s]\n"
     ]
    },
    {
     "name": "stdout",
     "output_type": "stream",
     "text": [
      "12 out of 106 processed\n",
      "LT05_226079_19890527_mndwi.tif\n",
      "removing small holes\n",
      "running skeletonization\n",
      "building graph from skeleton\n",
      "finding reasonable starting and ending points on graph edges\n",
      "finding nodes that are within a certain radius of the path\n"
     ]
    },
    {
     "name": "stderr",
     "output_type": "stream",
     "text": [
      "100%|███████████████████████████████████████████████████████████████████████████████████████████| 219/219 [00:05<00:00, 37.51it/s]\n",
      "100%|██████████████████████████████████████████████████████████████████████████████████████████| 952/952 [00:05<00:00, 190.18it/s]\n",
      "100%|█████████████████████████████████████████████████████████████████████████████████████████| 173/173 [00:00<00:00, 5294.22it/s]\n"
     ]
    },
    {
     "name": "stdout",
     "output_type": "stream",
     "text": [
      "creating linestrings for primal graph\n"
     ]
    },
    {
     "name": "stderr",
     "output_type": "stream",
     "text": [
      "175it [00:04, 41.16it/s]\n"
     ]
    },
    {
     "name": "stdout",
     "output_type": "stream",
     "text": [
      "getting bank coordinates for the two main banks\n"
     ]
    },
    {
     "name": "stderr",
     "output_type": "stream",
     "text": [
      "100%|██████████████████████████████████████████████████████████████████████████████████████| 8778/8778 [00:00<00:00, 17233.59it/s]\n",
      "100%|██████████████████████████████████████████████████████████████████████████████████████| 8498/8498 [00:00<00:00, 14764.06it/s]\n"
     ]
    },
    {
     "name": "stdout",
     "output_type": "stream",
     "text": [
      "getting bank coordinates for the rest of the islands\n"
     ]
    },
    {
     "name": "stderr",
     "output_type": "stream",
     "text": [
      "100%|███████████████████████████████████████████████████████████████████████████████████████████| 173/173 [00:19<00:00,  8.75it/s]\n"
     ]
    },
    {
     "name": "stdout",
     "output_type": "stream",
     "text": [
      "setting half channel widths\n"
     ]
    },
    {
     "name": "stderr",
     "output_type": "stream",
     "text": [
      "100%|███████████████████████████████████████████████████████████████████████████████████████████| 175/175 [00:52<00:00,  3.33it/s]\n",
      "100%|██████████████████████████████████████████████████████████████████████████████████████████| 517/517 [00:04<00:00, 109.67it/s]\n"
     ]
    },
    {
     "name": "stdout",
     "output_type": "stream",
     "text": [
      "13 out of 106 processed\n",
      "LT05_226079_19900327_mndwi.tif\n",
      "removing small holes\n",
      "running skeletonization\n",
      "building graph from skeleton\n",
      "finding reasonable starting and ending points on graph edges\n",
      "finding nodes that are within a certain radius of the path\n"
     ]
    },
    {
     "name": "stderr",
     "output_type": "stream",
     "text": [
      "100%|███████████████████████████████████████████████████████████████████████████████████████████| 203/203 [00:04<00:00, 49.05it/s]\n",
      "100%|██████████████████████████████████████████████████████████████████████████████████████████| 883/883 [00:04<00:00, 203.35it/s]\n",
      "100%|█████████████████████████████████████████████████████████████████████████████████████████| 172/172 [00:00<00:00, 5101.62it/s]\n"
     ]
    },
    {
     "name": "stdout",
     "output_type": "stream",
     "text": [
      "creating linestrings for primal graph\n"
     ]
    },
    {
     "name": "stderr",
     "output_type": "stream",
     "text": [
      "174it [00:04, 41.57it/s]\n"
     ]
    },
    {
     "name": "stdout",
     "output_type": "stream",
     "text": [
      "getting bank coordinates for the two main banks\n"
     ]
    },
    {
     "name": "stderr",
     "output_type": "stream",
     "text": [
      "100%|██████████████████████████████████████████████████████████████████████████████████████| 9916/9916 [00:00<00:00, 26135.72it/s]\n",
      "100%|██████████████████████████████████████████████████████████████████████████████████████| 8691/8691 [00:00<00:00, 19059.30it/s]\n"
     ]
    },
    {
     "name": "stdout",
     "output_type": "stream",
     "text": [
      "getting bank coordinates for the rest of the islands\n"
     ]
    },
    {
     "name": "stderr",
     "output_type": "stream",
     "text": [
      "100%|███████████████████████████████████████████████████████████████████████████████████████████| 172/172 [00:19<00:00,  8.81it/s]\n"
     ]
    },
    {
     "name": "stdout",
     "output_type": "stream",
     "text": [
      "setting half channel widths\n"
     ]
    },
    {
     "name": "stderr",
     "output_type": "stream",
     "text": [
      "100%|███████████████████████████████████████████████████████████████████████████████████████████| 174/174 [00:54<00:00,  3.20it/s]\n",
      "100%|██████████████████████████████████████████████████████████████████████████████████████████| 512/512 [00:04<00:00, 102.47it/s]\n"
     ]
    },
    {
     "name": "stdout",
     "output_type": "stream",
     "text": [
      "14 out of 106 processed\n",
      "LT05_226079_19900615_mndwi.tif\n",
      "removing small holes\n",
      "running skeletonization\n",
      "building graph from skeleton\n",
      "finding reasonable starting and ending points on graph edges\n",
      "finding nodes that are within a certain radius of the path\n"
     ]
    },
    {
     "name": "stderr",
     "output_type": "stream",
     "text": [
      "100%|███████████████████████████████████████████████████████████████████████████████████████████| 344/344 [02:43<00:00,  2.11it/s]\n",
      "100%|█████████████████████████████████████████████████████████████████████████████████████████| 5381/5381 [02:40<00:00, 33.53it/s]\n",
      "100%|█████████████████████████████████████████████████████████████████████████████████████████| 418/418 [00:00<00:00, 6588.57it/s]\n"
     ]
    },
    {
     "name": "stdout",
     "output_type": "stream",
     "text": [
      "creating linestrings for primal graph\n"
     ]
    },
    {
     "name": "stderr",
     "output_type": "stream",
     "text": [
      "420it [00:26, 16.12it/s]\n"
     ]
    },
    {
     "name": "stdout",
     "output_type": "stream",
     "text": [
      "getting bank coordinates for the two main banks\n"
     ]
    },
    {
     "name": "stderr",
     "output_type": "stream",
     "text": [
      "100%|████████████████████████████████████████████████████████████████████████████████████| 12556/12556 [00:00<00:00, 15435.85it/s]\n",
      "100%|████████████████████████████████████████████████████████████████████████████████████| 10574/10574 [00:00<00:00, 13504.70it/s]\n"
     ]
    },
    {
     "name": "stdout",
     "output_type": "stream",
     "text": [
      "getting bank coordinates for the rest of the islands\n"
     ]
    },
    {
     "name": "stderr",
     "output_type": "stream",
     "text": [
      "100%|███████████████████████████████████████████████████████████████████████████████████████████| 418/418 [00:48<00:00,  8.59it/s]\n"
     ]
    },
    {
     "name": "stdout",
     "output_type": "stream",
     "text": [
      "setting half channel widths\n"
     ]
    },
    {
     "name": "stderr",
     "output_type": "stream",
     "text": [
      "100%|███████████████████████████████████████████████████████████████████████████████████████████| 420/420 [02:53<00:00,  2.42it/s]\n",
      "100%|█████████████████████████████████████████████████████████████████████████████████████████| 1243/1243 [00:15<00:00, 82.74it/s]\n"
     ]
    },
    {
     "name": "stdout",
     "output_type": "stream",
     "text": [
      "15 out of 106 processed\n",
      "LT05_226079_19900802_mndwi.tif\n",
      "removing small holes\n",
      "running skeletonization\n",
      "building graph from skeleton\n",
      "finding reasonable starting and ending points on graph edges\n",
      "finding nodes that are within a certain radius of the path\n"
     ]
    },
    {
     "name": "stderr",
     "output_type": "stream",
     "text": [
      "100%|███████████████████████████████████████████████████████████████████████████████████████████| 277/277 [00:47<00:00,  5.78it/s]\n",
      "100%|█████████████████████████████████████████████████████████████████████████████████████████| 2098/2098 [00:23<00:00, 88.92it/s]\n",
      "100%|█████████████████████████████████████████████████████████████████████████████████████████| 214/214 [00:00<00:00, 5873.18it/s]\n"
     ]
    },
    {
     "name": "stdout",
     "output_type": "stream",
     "text": [
      "creating linestrings for primal graph\n"
     ]
    },
    {
     "name": "stderr",
     "output_type": "stream",
     "text": [
      "216it [00:06, 33.40it/s]\n"
     ]
    },
    {
     "name": "stdout",
     "output_type": "stream",
     "text": [
      "getting bank coordinates for the two main banks\n"
     ]
    },
    {
     "name": "stderr",
     "output_type": "stream",
     "text": [
      "100%|██████████████████████████████████████████████████████████████████████████████████████| 9442/9442 [00:00<00:00, 18975.00it/s]\n",
      "100%|██████████████████████████████████████████████████████████████████████████████████████| 8984/8984 [00:00<00:00, 14518.75it/s]\n"
     ]
    },
    {
     "name": "stdout",
     "output_type": "stream",
     "text": [
      "getting bank coordinates for the rest of the islands\n"
     ]
    },
    {
     "name": "stderr",
     "output_type": "stream",
     "text": [
      "100%|███████████████████████████████████████████████████████████████████████████████████████████| 214/214 [00:23<00:00,  9.22it/s]\n"
     ]
    },
    {
     "name": "stdout",
     "output_type": "stream",
     "text": [
      "setting half channel widths\n"
     ]
    },
    {
     "name": "stderr",
     "output_type": "stream",
     "text": [
      "100%|███████████████████████████████████████████████████████████████████████████████████████████| 216/216 [01:07<00:00,  3.19it/s]\n",
      "100%|██████████████████████████████████████████████████████████████████████████████████████████| 642/642 [00:06<00:00, 103.85it/s]\n"
     ]
    },
    {
     "name": "stdout",
     "output_type": "stream",
     "text": [
      "16 out of 106 processed\n",
      "LT05_226079_19910330_mndwi.tif\n",
      "removing small holes\n",
      "running skeletonization\n",
      "building graph from skeleton\n",
      "finding reasonable starting and ending points on graph edges\n",
      "finding nodes that are within a certain radius of the path\n"
     ]
    },
    {
     "name": "stderr",
     "output_type": "stream",
     "text": [
      "100%|███████████████████████████████████████████████████████████████████████████████████████████| 233/233 [00:06<00:00, 35.75it/s]\n",
      "100%|██████████████████████████████████████████████████████████████████████████████████████████| 996/996 [00:05<00:00, 185.34it/s]\n",
      "100%|█████████████████████████████████████████████████████████████████████████████████████████| 170/170 [00:00<00:00, 5126.18it/s]\n"
     ]
    },
    {
     "name": "stdout",
     "output_type": "stream",
     "text": [
      "creating linestrings for primal graph\n"
     ]
    },
    {
     "name": "stderr",
     "output_type": "stream",
     "text": [
      "172it [00:04, 40.82it/s]\n"
     ]
    },
    {
     "name": "stdout",
     "output_type": "stream",
     "text": [
      "getting bank coordinates for the two main banks\n"
     ]
    },
    {
     "name": "stderr",
     "output_type": "stream",
     "text": [
      "100%|██████████████████████████████████████████████████████████████████████████████████████| 9978/9978 [00:00<00:00, 24827.26it/s]\n",
      "100%|██████████████████████████████████████████████████████████████████████████████████████| 8650/8650 [00:00<00:00, 16776.05it/s]\n"
     ]
    },
    {
     "name": "stdout",
     "output_type": "stream",
     "text": [
      "getting bank coordinates for the rest of the islands\n"
     ]
    },
    {
     "name": "stderr",
     "output_type": "stream",
     "text": [
      "100%|███████████████████████████████████████████████████████████████████████████████████████████| 170/170 [00:19<00:00,  8.82it/s]\n"
     ]
    },
    {
     "name": "stdout",
     "output_type": "stream",
     "text": [
      "setting half channel widths\n"
     ]
    },
    {
     "name": "stderr",
     "output_type": "stream",
     "text": [
      "100%|███████████████████████████████████████████████████████████████████████████████████████████| 172/172 [00:54<00:00,  3.16it/s]\n",
      "100%|██████████████████████████████████████████████████████████████████████████████████████████| 511/511 [00:05<00:00, 101.51it/s]\n"
     ]
    },
    {
     "name": "stdout",
     "output_type": "stream",
     "text": [
      "17 out of 106 processed\n",
      "LT05_226079_19911008_mndwi.tif\n",
      "removing small holes\n",
      "running skeletonization\n",
      "building graph from skeleton\n",
      "finding reasonable starting and ending points on graph edges\n",
      "no path between start_ind and end_ind\n",
      "distance too large between nodes1 and nodes2\n",
      "finding nodes that are within a certain radius of the path\n"
     ]
    },
    {
     "name": "stderr",
     "output_type": "stream",
     "text": [
      "100%|██████████████████████████████████████████████████████████████████████████████████████████| 114/114 [00:00<00:00, 139.76it/s]\n",
      "100%|██████████████████████████████████████████████████████████████████████████████████████████| 364/364 [00:00<00:00, 495.50it/s]\n",
      "100%|███████████████████████████████████████████████████████████████████████████████████████████| 80/80 [00:00<00:00, 5553.62it/s]\n"
     ]
    },
    {
     "name": "stdout",
     "output_type": "stream",
     "text": [
      "creating linestrings for primal graph\n"
     ]
    },
    {
     "name": "stderr",
     "output_type": "stream",
     "text": [
      "82it [00:00, 85.67it/s] \n"
     ]
    },
    {
     "name": "stdout",
     "output_type": "stream",
     "text": [
      "getting bank coordinates for the two main banks\n"
     ]
    },
    {
     "name": "stderr",
     "output_type": "stream",
     "text": [
      "100%|██████████████████████████████████████████████████████████████████████████████████████| 4371/4371 [00:00<00:00, 17299.86it/s]\n",
      "100%|██████████████████████████████████████████████████████████████████████████████████████| 4408/4408 [00:00<00:00, 18803.45it/s]\n"
     ]
    },
    {
     "name": "stdout",
     "output_type": "stream",
     "text": [
      "getting bank coordinates for the rest of the islands\n"
     ]
    },
    {
     "name": "stderr",
     "output_type": "stream",
     "text": [
      "100%|█████████████████████████████████████████████████████████████████████████████████████████████| 80/80 [00:08<00:00,  8.89it/s]\n"
     ]
    },
    {
     "name": "stdout",
     "output_type": "stream",
     "text": [
      "setting half channel widths\n"
     ]
    },
    {
     "name": "stderr",
     "output_type": "stream",
     "text": [
      "100%|█████████████████████████████████████████████████████████████████████████████████████████████| 82/82 [00:17<00:00,  4.62it/s]\n",
      "100%|██████████████████████████████████████████████████████████████████████████████████████████| 239/239 [00:01<00:00, 211.95it/s]\n"
     ]
    },
    {
     "name": "stdout",
     "output_type": "stream",
     "text": [
      "18 out of 106 processed\n",
      "LT05_226079_19920417_mndwi.tif\n",
      "removing small holes\n",
      "running skeletonization\n",
      "building graph from skeleton\n",
      "finding reasonable starting and ending points on graph edges\n",
      "finding nodes that are within a certain radius of the path\n"
     ]
    },
    {
     "name": "stderr",
     "output_type": "stream",
     "text": [
      "100%|███████████████████████████████████████████████████████████████████████████████████████████| 231/231 [00:08<00:00, 28.59it/s]\n",
      "100%|██████████████████████████████████████████████████████████████████████████████████████████| 989/989 [00:05<00:00, 184.67it/s]\n",
      "100%|█████████████████████████████████████████████████████████████████████████████████████████| 163/163 [00:00<00:00, 5182.20it/s]\n"
     ]
    },
    {
     "name": "stdout",
     "output_type": "stream",
     "text": [
      "creating linestrings for primal graph\n"
     ]
    },
    {
     "name": "stderr",
     "output_type": "stream",
     "text": [
      "165it [00:03, 43.66it/s]\n"
     ]
    },
    {
     "name": "stdout",
     "output_type": "stream",
     "text": [
      "getting bank coordinates for the two main banks\n"
     ]
    },
    {
     "name": "stderr",
     "output_type": "stream",
     "text": [
      "100%|██████████████████████████████████████████████████████████████████████████████████████| 9898/9898 [00:00<00:00, 21636.80it/s]\n",
      "100%|██████████████████████████████████████████████████████████████████████████████████████| 8486/8486 [00:00<00:00, 14538.72it/s]\n"
     ]
    },
    {
     "name": "stdout",
     "output_type": "stream",
     "text": [
      "getting bank coordinates for the rest of the islands\n"
     ]
    },
    {
     "name": "stderr",
     "output_type": "stream",
     "text": [
      "100%|███████████████████████████████████████████████████████████████████████████████████████████| 163/163 [00:18<00:00,  8.72it/s]\n"
     ]
    },
    {
     "name": "stdout",
     "output_type": "stream",
     "text": [
      "setting half channel widths\n"
     ]
    },
    {
     "name": "stderr",
     "output_type": "stream",
     "text": [
      "100%|███████████████████████████████████████████████████████████████████████████████████████████| 165/165 [00:50<00:00,  3.25it/s]\n",
      "100%|██████████████████████████████████████████████████████████████████████████████████████████| 484/484 [00:04<00:00, 102.23it/s]\n"
     ]
    },
    {
     "name": "stdout",
     "output_type": "stream",
     "text": [
      "19 out of 106 processed\n",
      "LT05_226079_19920823_mndwi.tif\n",
      "removing small holes\n",
      "running skeletonization\n",
      "building graph from skeleton\n",
      "finding reasonable starting and ending points on graph edges\n",
      "finding nodes that are within a certain radius of the path\n"
     ]
    },
    {
     "name": "stderr",
     "output_type": "stream",
     "text": [
      "100%|███████████████████████████████████████████████████████████████████████████████████████████| 224/224 [00:14<00:00, 15.61it/s]\n",
      "100%|████████████████████████████████████████████████████████████████████████████████████████| 1257/1257 [00:08<00:00, 144.82it/s]\n",
      "100%|█████████████████████████████████████████████████████████████████████████████████████████| 156/156 [00:00<00:00, 5142.22it/s]\n"
     ]
    },
    {
     "name": "stdout",
     "output_type": "stream",
     "text": [
      "creating linestrings for primal graph\n"
     ]
    },
    {
     "name": "stderr",
     "output_type": "stream",
     "text": [
      "158it [00:03, 45.62it/s]\n"
     ]
    },
    {
     "name": "stdout",
     "output_type": "stream",
     "text": [
      "getting bank coordinates for the two main banks\n"
     ]
    },
    {
     "name": "stderr",
     "output_type": "stream",
     "text": [
      "100%|██████████████████████████████████████████████████████████████████████████████████████| 8814/8814 [00:00<00:00, 19388.22it/s]\n",
      "100%|██████████████████████████████████████████████████████████████████████████████████████| 8565/8565 [00:00<00:00, 14986.84it/s]\n"
     ]
    },
    {
     "name": "stdout",
     "output_type": "stream",
     "text": [
      "getting bank coordinates for the rest of the islands\n"
     ]
    },
    {
     "name": "stderr",
     "output_type": "stream",
     "text": [
      "100%|███████████████████████████████████████████████████████████████████████████████████████████| 156/156 [00:17<00:00,  8.71it/s]\n"
     ]
    },
    {
     "name": "stdout",
     "output_type": "stream",
     "text": [
      "setting half channel widths\n"
     ]
    },
    {
     "name": "stderr",
     "output_type": "stream",
     "text": [
      "100%|███████████████████████████████████████████████████████████████████████████████████████████| 158/158 [00:47<00:00,  3.30it/s]\n",
      "100%|██████████████████████████████████████████████████████████████████████████████████████████| 467/467 [00:04<00:00, 107.75it/s]\n"
     ]
    },
    {
     "name": "stdout",
     "output_type": "stream",
     "text": [
      "20 out of 106 processed\n",
      "LT05_226079_19921213_mndwi.tif\n",
      "removing small holes\n",
      "running skeletonization\n",
      "building graph from skeleton\n",
      "finding reasonable starting and ending points on graph edges\n",
      "finding nodes that are within a certain radius of the path\n"
     ]
    },
    {
     "name": "stderr",
     "output_type": "stream",
     "text": [
      "100%|███████████████████████████████████████████████████████████████████████████████████████████| 245/245 [00:28<00:00,  8.57it/s]\n",
      "100%|█████████████████████████████████████████████████████████████████████████████████████████| 1900/1900 [00:19<00:00, 96.57it/s]\n",
      "100%|█████████████████████████████████████████████████████████████████████████████████████████| 162/162 [00:00<00:00, 5096.89it/s]\n"
     ]
    },
    {
     "name": "stdout",
     "output_type": "stream",
     "text": [
      "creating linestrings for primal graph\n"
     ]
    },
    {
     "name": "stderr",
     "output_type": "stream",
     "text": [
      "164it [00:03, 44.89it/s]\n"
     ]
    },
    {
     "name": "stdout",
     "output_type": "stream",
     "text": [
      "getting bank coordinates for the two main banks\n"
     ]
    },
    {
     "name": "stderr",
     "output_type": "stream",
     "text": [
      "100%|████████████████████████████████████████████████████████████████████████████████████| 10200/10200 [00:00<00:00, 22130.32it/s]\n",
      "100%|██████████████████████████████████████████████████████████████████████████████████████| 8445/8445 [00:00<00:00, 14818.70it/s]\n"
     ]
    },
    {
     "name": "stdout",
     "output_type": "stream",
     "text": [
      "getting bank coordinates for the rest of the islands\n"
     ]
    },
    {
     "name": "stderr",
     "output_type": "stream",
     "text": [
      "100%|███████████████████████████████████████████████████████████████████████████████████████████| 162/162 [00:18<00:00,  8.64it/s]\n"
     ]
    },
    {
     "name": "stdout",
     "output_type": "stream",
     "text": [
      "setting half channel widths\n"
     ]
    },
    {
     "name": "stderr",
     "output_type": "stream",
     "text": [
      "100%|███████████████████████████████████████████████████████████████████████████████████████████| 164/164 [00:51<00:00,  3.19it/s]\n",
      "100%|██████████████████████████████████████████████████████████████████████████████████████████| 476/476 [00:04<00:00, 100.49it/s]\n"
     ]
    },
    {
     "name": "stdout",
     "output_type": "stream",
     "text": [
      "21 out of 106 processed\n",
      "LT05_226079_19930215_mndwi.tif\n",
      "removing small holes\n",
      "running skeletonization\n",
      "building graph from skeleton\n",
      "finding reasonable starting and ending points on graph edges\n",
      "finding nodes that are within a certain radius of the path\n"
     ]
    },
    {
     "name": "stderr",
     "output_type": "stream",
     "text": [
      "100%|███████████████████████████████████████████████████████████████████████████████████████████| 243/243 [00:18<00:00, 13.45it/s]\n",
      "100%|████████████████████████████████████████████████████████████████████████████████████████| 1362/1362 [00:10<00:00, 130.11it/s]\n",
      "100%|█████████████████████████████████████████████████████████████████████████████████████████| 162/162 [00:00<00:00, 5099.46it/s]\n"
     ]
    },
    {
     "name": "stdout",
     "output_type": "stream",
     "text": [
      "creating linestrings for primal graph\n"
     ]
    },
    {
     "name": "stderr",
     "output_type": "stream",
     "text": [
      "164it [00:03, 42.24it/s]\n"
     ]
    },
    {
     "name": "stdout",
     "output_type": "stream",
     "text": [
      "getting bank coordinates for the two main banks\n"
     ]
    },
    {
     "name": "stderr",
     "output_type": "stream",
     "text": [
      "100%|██████████████████████████████████████████████████████████████████████████████████████| 8826/8826 [00:00<00:00, 18984.07it/s]\n",
      "100%|██████████████████████████████████████████████████████████████████████████████████████| 8699/8699 [00:00<00:00, 14654.33it/s]\n"
     ]
    },
    {
     "name": "stdout",
     "output_type": "stream",
     "text": [
      "getting bank coordinates for the rest of the islands\n"
     ]
    },
    {
     "name": "stderr",
     "output_type": "stream",
     "text": [
      "100%|███████████████████████████████████████████████████████████████████████████████████████████| 162/162 [00:19<00:00,  8.16it/s]\n"
     ]
    },
    {
     "name": "stdout",
     "output_type": "stream",
     "text": [
      "setting half channel widths\n"
     ]
    },
    {
     "name": "stderr",
     "output_type": "stream",
     "text": [
      "100%|███████████████████████████████████████████████████████████████████████████████████████████| 164/164 [00:51<00:00,  3.16it/s]\n",
      "100%|██████████████████████████████████████████████████████████████████████████████████████████| 485/485 [00:04<00:00, 104.14it/s]\n"
     ]
    },
    {
     "name": "stdout",
     "output_type": "stream",
     "text": [
      "22 out of 106 processed\n",
      "LT05_226079_19930506_mndwi.tif\n",
      "removing small holes\n",
      "running skeletonization\n",
      "building graph from skeleton\n",
      "finding reasonable starting and ending points on graph edges\n",
      "finding nodes that are within a certain radius of the path\n"
     ]
    },
    {
     "name": "stderr",
     "output_type": "stream",
     "text": [
      "100%|███████████████████████████████████████████████████████████████████████████████████████████| 207/207 [00:07<00:00, 28.90it/s]\n",
      "100%|██████████████████████████████████████████████████████████████████████████████████████████| 976/976 [00:05<00:00, 186.40it/s]\n",
      "100%|█████████████████████████████████████████████████████████████████████████████████████████| 167/167 [00:00<00:00, 5234.61it/s]\n"
     ]
    },
    {
     "name": "stdout",
     "output_type": "stream",
     "text": [
      "creating linestrings for primal graph\n"
     ]
    },
    {
     "name": "stderr",
     "output_type": "stream",
     "text": [
      "169it [00:04, 41.69it/s]\n"
     ]
    },
    {
     "name": "stdout",
     "output_type": "stream",
     "text": [
      "getting bank coordinates for the two main banks\n"
     ]
    },
    {
     "name": "stderr",
     "output_type": "stream",
     "text": [
      "100%|██████████████████████████████████████████████████████████████████████████████████████| 8772/8772 [00:00<00:00, 22350.18it/s]\n",
      "100%|██████████████████████████████████████████████████████████████████████████████████████| 8614/8614 [00:00<00:00, 17283.87it/s]\n"
     ]
    },
    {
     "name": "stdout",
     "output_type": "stream",
     "text": [
      "getting bank coordinates for the rest of the islands\n"
     ]
    },
    {
     "name": "stderr",
     "output_type": "stream",
     "text": [
      "100%|███████████████████████████████████████████████████████████████████████████████████████████| 167/167 [00:19<00:00,  8.68it/s]\n"
     ]
    },
    {
     "name": "stdout",
     "output_type": "stream",
     "text": [
      "setting half channel widths\n"
     ]
    },
    {
     "name": "stderr",
     "output_type": "stream",
     "text": [
      "100%|███████████████████████████████████████████████████████████████████████████████████████████| 169/169 [00:51<00:00,  3.29it/s]\n",
      "100%|██████████████████████████████████████████████████████████████████████████████████████████| 499/499 [00:04<00:00, 108.31it/s]\n"
     ]
    },
    {
     "name": "stdout",
     "output_type": "stream",
     "text": [
      "23 out of 106 processed\n",
      "LT05_226079_19930927_mndwi.tif\n",
      "removing small holes\n",
      "running skeletonization\n",
      "building graph from skeleton\n",
      "finding reasonable starting and ending points on graph edges\n",
      "finding nodes that are within a certain radius of the path\n"
     ]
    },
    {
     "name": "stderr",
     "output_type": "stream",
     "text": [
      "100%|███████████████████████████████████████████████████████████████████████████████████████████| 209/209 [00:05<00:00, 40.56it/s]\n",
      "100%|██████████████████████████████████████████████████████████████████████████████████████████| 913/913 [00:04<00:00, 199.64it/s]\n",
      "100%|█████████████████████████████████████████████████████████████████████████████████████████| 177/177 [00:00<00:00, 5263.17it/s]\n"
     ]
    },
    {
     "name": "stdout",
     "output_type": "stream",
     "text": [
      "creating linestrings for primal graph\n"
     ]
    },
    {
     "name": "stderr",
     "output_type": "stream",
     "text": [
      "179it [00:04, 40.28it/s]\n"
     ]
    },
    {
     "name": "stdout",
     "output_type": "stream",
     "text": [
      "getting bank coordinates for the two main banks\n"
     ]
    },
    {
     "name": "stderr",
     "output_type": "stream",
     "text": [
      "100%|██████████████████████████████████████████████████████████████████████████████████████| 8967/8967 [00:00<00:00, 22517.24it/s]\n",
      "100%|██████████████████████████████████████████████████████████████████████████████████████| 8934/8934 [00:00<00:00, 17410.04it/s]\n"
     ]
    },
    {
     "name": "stdout",
     "output_type": "stream",
     "text": [
      "getting bank coordinates for the rest of the islands\n"
     ]
    },
    {
     "name": "stderr",
     "output_type": "stream",
     "text": [
      "100%|███████████████████████████████████████████████████████████████████████████████████████████| 177/177 [00:20<00:00,  8.73it/s]\n"
     ]
    },
    {
     "name": "stdout",
     "output_type": "stream",
     "text": [
      "setting half channel widths\n"
     ]
    },
    {
     "name": "stderr",
     "output_type": "stream",
     "text": [
      "100%|███████████████████████████████████████████████████████████████████████████████████████████| 179/179 [00:56<00:00,  3.17it/s]\n",
      "100%|██████████████████████████████████████████████████████████████████████████████████████████| 529/529 [00:04<00:00, 106.45it/s]\n"
     ]
    },
    {
     "name": "stdout",
     "output_type": "stream",
     "text": [
      "24 out of 106 processed\n",
      "LT05_226079_19940101_mndwi.tif\n",
      "removing small holes\n",
      "running skeletonization\n",
      "building graph from skeleton\n",
      "finding reasonable starting and ending points on graph edges\n",
      "finding nodes that are within a certain radius of the path\n"
     ]
    },
    {
     "name": "stderr",
     "output_type": "stream",
     "text": [
      "100%|███████████████████████████████████████████████████████████████████████████████████████████| 202/202 [00:04<00:00, 43.38it/s]\n",
      "100%|██████████████████████████████████████████████████████████████████████████████████████████| 892/892 [00:04<00:00, 204.62it/s]\n",
      "100%|█████████████████████████████████████████████████████████████████████████████████████████| 165/165 [00:00<00:00, 5046.01it/s]\n"
     ]
    },
    {
     "name": "stdout",
     "output_type": "stream",
     "text": [
      "creating linestrings for primal graph\n"
     ]
    },
    {
     "name": "stderr",
     "output_type": "stream",
     "text": [
      "167it [00:03, 42.96it/s]\n"
     ]
    },
    {
     "name": "stdout",
     "output_type": "stream",
     "text": [
      "getting bank coordinates for the two main banks\n"
     ]
    },
    {
     "name": "stderr",
     "output_type": "stream",
     "text": [
      "100%|████████████████████████████████████████████████████████████████████████████████████| 10163/10163 [00:00<00:00, 24313.40it/s]\n",
      "100%|██████████████████████████████████████████████████████████████████████████████████████| 8756/8756 [00:00<00:00, 17218.46it/s]\n"
     ]
    },
    {
     "name": "stdout",
     "output_type": "stream",
     "text": [
      "getting bank coordinates for the rest of the islands\n"
     ]
    },
    {
     "name": "stderr",
     "output_type": "stream",
     "text": [
      "100%|███████████████████████████████████████████████████████████████████████████████████████████| 165/165 [00:19<00:00,  8.65it/s]\n"
     ]
    },
    {
     "name": "stdout",
     "output_type": "stream",
     "text": [
      "setting half channel widths\n"
     ]
    },
    {
     "name": "stderr",
     "output_type": "stream",
     "text": [
      "100%|███████████████████████████████████████████████████████████████████████████████████████████| 167/167 [00:54<00:00,  3.09it/s]\n",
      "100%|███████████████████████████████████████████████████████████████████████████████████████████| 496/496 [00:05<00:00, 98.45it/s]\n"
     ]
    },
    {
     "name": "stdout",
     "output_type": "stream",
     "text": [
      "25 out of 106 processed\n",
      "LT05_226079_19940117_mndwi.tif\n",
      "removing small holes\n",
      "running skeletonization\n",
      "building graph from skeleton\n",
      "finding reasonable starting and ending points on graph edges\n",
      "finding nodes that are within a certain radius of the path\n"
     ]
    },
    {
     "name": "stderr",
     "output_type": "stream",
     "text": [
      "100%|███████████████████████████████████████████████████████████████████████████████████████████| 211/211 [00:05<00:00, 41.13it/s]\n",
      "100%|██████████████████████████████████████████████████████████████████████████████████████████| 903/903 [00:04<00:00, 200.05it/s]\n",
      "100%|█████████████████████████████████████████████████████████████████████████████████████████| 176/176 [00:00<00:00, 5199.86it/s]\n"
     ]
    },
    {
     "name": "stdout",
     "output_type": "stream",
     "text": [
      "creating linestrings for primal graph\n"
     ]
    },
    {
     "name": "stderr",
     "output_type": "stream",
     "text": [
      "178it [00:04, 40.07it/s]\n"
     ]
    },
    {
     "name": "stdout",
     "output_type": "stream",
     "text": [
      "getting bank coordinates for the two main banks\n"
     ]
    },
    {
     "name": "stderr",
     "output_type": "stream",
     "text": [
      "100%|██████████████████████████████████████████████████████████████████████████████████████| 9014/9014 [00:00<00:00, 22401.71it/s]\n",
      "100%|██████████████████████████████████████████████████████████████████████████████████████| 8895/8895 [00:00<00:00, 17184.79it/s]\n"
     ]
    },
    {
     "name": "stdout",
     "output_type": "stream",
     "text": [
      "getting bank coordinates for the rest of the islands\n"
     ]
    },
    {
     "name": "stderr",
     "output_type": "stream",
     "text": [
      "100%|███████████████████████████████████████████████████████████████████████████████████████████| 176/176 [00:20<00:00,  8.58it/s]\n"
     ]
    },
    {
     "name": "stdout",
     "output_type": "stream",
     "text": [
      "setting half channel widths\n"
     ]
    },
    {
     "name": "stderr",
     "output_type": "stream",
     "text": [
      "100%|███████████████████████████████████████████████████████████████████████████████████████████| 178/178 [00:55<00:00,  3.19it/s]\n",
      "100%|██████████████████████████████████████████████████████████████████████████████████████████| 525/525 [00:04<00:00, 106.51it/s]\n"
     ]
    },
    {
     "name": "stdout",
     "output_type": "stream",
     "text": [
      "26 out of 106 processed\n",
      "LT05_226079_19941203_mndwi.tif\n",
      "removing small holes\n",
      "running skeletonization\n",
      "building graph from skeleton\n",
      "finding reasonable starting and ending points on graph edges\n",
      "finding nodes that are within a certain radius of the path\n"
     ]
    },
    {
     "name": "stderr",
     "output_type": "stream",
     "text": [
      "100%|███████████████████████████████████████████████████████████████████████████████████████████| 222/222 [00:06<00:00, 32.50it/s]\n",
      "100%|██████████████████████████████████████████████████████████████████████████████████████████| 942/942 [00:04<00:00, 196.01it/s]\n",
      "100%|█████████████████████████████████████████████████████████████████████████████████████████| 172/172 [00:00<00:00, 5501.90it/s]\n"
     ]
    },
    {
     "name": "stdout",
     "output_type": "stream",
     "text": [
      "creating linestrings for primal graph\n"
     ]
    },
    {
     "name": "stderr",
     "output_type": "stream",
     "text": [
      "174it [00:04, 42.21it/s]\n"
     ]
    },
    {
     "name": "stdout",
     "output_type": "stream",
     "text": [
      "getting bank coordinates for the two main banks\n"
     ]
    },
    {
     "name": "stderr",
     "output_type": "stream",
     "text": [
      "100%|██████████████████████████████████████████████████████████████████████████████████████| 9004/9004 [00:00<00:00, 19024.35it/s]\n",
      "100%|██████████████████████████████████████████████████████████████████████████████████████| 9009/9009 [00:00<00:00, 16823.00it/s]\n"
     ]
    },
    {
     "name": "stdout",
     "output_type": "stream",
     "text": [
      "getting bank coordinates for the rest of the islands\n"
     ]
    },
    {
     "name": "stderr",
     "output_type": "stream",
     "text": [
      "100%|███████████████████████████████████████████████████████████████████████████████████████████| 172/172 [00:19<00:00,  9.01it/s]\n"
     ]
    },
    {
     "name": "stdout",
     "output_type": "stream",
     "text": [
      "setting half channel widths\n"
     ]
    },
    {
     "name": "stderr",
     "output_type": "stream",
     "text": [
      "100%|███████████████████████████████████████████████████████████████████████████████████████████| 174/174 [00:54<00:00,  3.22it/s]\n",
      "100%|██████████████████████████████████████████████████████████████████████████████████████████| 518/518 [00:04<00:00, 105.37it/s]\n"
     ]
    },
    {
     "name": "stdout",
     "output_type": "stream",
     "text": [
      "27 out of 106 processed\n",
      "LT05_226079_19950325_mndwi.tif\n",
      "removing small holes\n",
      "running skeletonization\n",
      "building graph from skeleton\n",
      "finding reasonable starting and ending points on graph edges\n",
      "finding nodes that are within a certain radius of the path\n"
     ]
    },
    {
     "name": "stderr",
     "output_type": "stream",
     "text": [
      "100%|███████████████████████████████████████████████████████████████████████████████████████████| 230/230 [00:13<00:00, 16.96it/s]\n",
      "100%|████████████████████████████████████████████████████████████████████████████████████████| 1182/1182 [00:07<00:00, 156.69it/s]\n",
      "100%|█████████████████████████████████████████████████████████████████████████████████████████| 169/169 [00:00<00:00, 5002.95it/s]\n"
     ]
    },
    {
     "name": "stdout",
     "output_type": "stream",
     "text": [
      "creating linestrings for primal graph\n"
     ]
    },
    {
     "name": "stderr",
     "output_type": "stream",
     "text": [
      "171it [00:04, 42.40it/s]\n"
     ]
    },
    {
     "name": "stdout",
     "output_type": "stream",
     "text": [
      "getting bank coordinates for the two main banks\n"
     ]
    },
    {
     "name": "stderr",
     "output_type": "stream",
     "text": [
      "100%|████████████████████████████████████████████████████████████████████████████████████| 10414/10414 [00:00<00:00, 21713.80it/s]\n",
      "100%|██████████████████████████████████████████████████████████████████████████████████████| 9227/9227 [00:00<00:00, 14791.84it/s]\n"
     ]
    },
    {
     "name": "stdout",
     "output_type": "stream",
     "text": [
      "getting bank coordinates for the rest of the islands\n"
     ]
    },
    {
     "name": "stderr",
     "output_type": "stream",
     "text": [
      "100%|███████████████████████████████████████████████████████████████████████████████████████████| 169/169 [00:19<00:00,  8.86it/s]\n"
     ]
    },
    {
     "name": "stdout",
     "output_type": "stream",
     "text": [
      "setting half channel widths\n"
     ]
    },
    {
     "name": "stderr",
     "output_type": "stream",
     "text": [
      "100%|███████████████████████████████████████████████████████████████████████████████████████████| 171/171 [00:55<00:00,  3.08it/s]\n",
      "100%|███████████████████████████████████████████████████████████████████████████████████████████| 504/504 [00:05<00:00, 96.72it/s]\n"
     ]
    },
    {
     "name": "stdout",
     "output_type": "stream",
     "text": [
      "28 out of 106 processed\n",
      "LT05_226079_19950629_mndwi.tif\n",
      "removing small holes\n",
      "running skeletonization\n",
      "building graph from skeleton\n",
      "finding reasonable starting and ending points on graph edges\n",
      "finding nodes that are within a certain radius of the path\n"
     ]
    },
    {
     "name": "stderr",
     "output_type": "stream",
     "text": [
      "100%|███████████████████████████████████████████████████████████████████████████████████████████| 206/206 [00:05<00:00, 35.37it/s]\n",
      "100%|██████████████████████████████████████████████████████████████████████████████████████████| 960/960 [00:05<00:00, 181.92it/s]\n",
      "100%|█████████████████████████████████████████████████████████████████████████████████████████| 179/179 [00:00<00:00, 5314.85it/s]\n"
     ]
    },
    {
     "name": "stdout",
     "output_type": "stream",
     "text": [
      "creating linestrings for primal graph\n"
     ]
    },
    {
     "name": "stderr",
     "output_type": "stream",
     "text": [
      "181it [00:04, 38.00it/s]\n"
     ]
    },
    {
     "name": "stdout",
     "output_type": "stream",
     "text": [
      "getting bank coordinates for the two main banks\n"
     ]
    },
    {
     "name": "stderr",
     "output_type": "stream",
     "text": [
      "100%|██████████████████████████████████████████████████████████████████████████████████████| 8994/8994 [00:00<00:00, 18912.63it/s]\n",
      "100%|██████████████████████████████████████████████████████████████████████████████████████| 9016/9016 [00:00<00:00, 17670.26it/s]\n"
     ]
    },
    {
     "name": "stdout",
     "output_type": "stream",
     "text": [
      "getting bank coordinates for the rest of the islands\n"
     ]
    },
    {
     "name": "stderr",
     "output_type": "stream",
     "text": [
      "100%|███████████████████████████████████████████████████████████████████████████████████████████| 179/179 [00:21<00:00,  8.45it/s]\n"
     ]
    },
    {
     "name": "stdout",
     "output_type": "stream",
     "text": [
      "setting half channel widths\n"
     ]
    },
    {
     "name": "stderr",
     "output_type": "stream",
     "text": [
      "100%|███████████████████████████████████████████████████████████████████████████████████████████| 181/181 [00:58<00:00,  3.09it/s]\n",
      "100%|██████████████████████████████████████████████████████████████████████████████████████████| 536/536 [00:05<00:00, 101.06it/s]\n"
     ]
    },
    {
     "name": "stdout",
     "output_type": "stream",
     "text": [
      "29 out of 106 processed\n",
      "LT05_226079_19950917_mndwi.tif\n",
      "removing small holes\n",
      "running skeletonization\n",
      "building graph from skeleton\n",
      "finding reasonable starting and ending points on graph edges\n",
      "finding nodes that are within a certain radius of the path\n"
     ]
    },
    {
     "name": "stderr",
     "output_type": "stream",
     "text": [
      "100%|███████████████████████████████████████████████████████████████████████████████████████████| 199/199 [00:05<00:00, 33.63it/s]\n",
      "100%|██████████████████████████████████████████████████████████████████████████████████████████| 939/939 [00:05<00:00, 182.01it/s]\n",
      "100%|█████████████████████████████████████████████████████████████████████████████████████████| 185/185 [00:00<00:00, 5610.52it/s]\n"
     ]
    },
    {
     "name": "stdout",
     "output_type": "stream",
     "text": [
      "creating linestrings for primal graph\n"
     ]
    },
    {
     "name": "stderr",
     "output_type": "stream",
     "text": [
      "187it [00:05, 37.24it/s]\n"
     ]
    },
    {
     "name": "stdout",
     "output_type": "stream",
     "text": [
      "getting bank coordinates for the two main banks\n"
     ]
    },
    {
     "name": "stderr",
     "output_type": "stream",
     "text": [
      "100%|██████████████████████████████████████████████████████████████████████████████████████| 8848/8848 [00:00<00:00, 19196.64it/s]\n",
      "100%|██████████████████████████████████████████████████████████████████████████████████████| 8898/8898 [00:00<00:00, 18442.10it/s]\n"
     ]
    },
    {
     "name": "stdout",
     "output_type": "stream",
     "text": [
      "getting bank coordinates for the rest of the islands\n"
     ]
    },
    {
     "name": "stderr",
     "output_type": "stream",
     "text": [
      "100%|███████████████████████████████████████████████████████████████████████████████████████████| 185/185 [00:21<00:00,  8.45it/s]\n"
     ]
    },
    {
     "name": "stdout",
     "output_type": "stream",
     "text": [
      "setting half channel widths\n"
     ]
    },
    {
     "name": "stderr",
     "output_type": "stream",
     "text": [
      "100%|███████████████████████████████████████████████████████████████████████████████████████████| 187/187 [00:59<00:00,  3.14it/s]\n",
      "100%|██████████████████████████████████████████████████████████████████████████████████████████| 553/553 [00:05<00:00, 102.26it/s]\n"
     ]
    },
    {
     "name": "stdout",
     "output_type": "stream",
     "text": [
      "30 out of 106 processed\n",
      "LT05_226079_19960107_mndwi.tif\n",
      "removing small holes\n",
      "running skeletonization\n",
      "building graph from skeleton\n",
      "finding reasonable starting and ending points on graph edges\n",
      "finding nodes that are within a certain radius of the path\n"
     ]
    },
    {
     "name": "stderr",
     "output_type": "stream",
     "text": [
      "100%|███████████████████████████████████████████████████████████████████████████████████████████| 191/191 [00:04<00:00, 45.58it/s]\n",
      "100%|██████████████████████████████████████████████████████████████████████████████████████████| 837/837 [00:03<00:00, 212.02it/s]\n",
      "100%|█████████████████████████████████████████████████████████████████████████████████████████| 165/165 [00:00<00:00, 5345.17it/s]\n"
     ]
    },
    {
     "name": "stdout",
     "output_type": "stream",
     "text": [
      "creating linestrings for primal graph\n"
     ]
    },
    {
     "name": "stderr",
     "output_type": "stream",
     "text": [
      "167it [00:03, 42.52it/s]\n"
     ]
    },
    {
     "name": "stdout",
     "output_type": "stream",
     "text": [
      "getting bank coordinates for the two main banks\n"
     ]
    },
    {
     "name": "stderr",
     "output_type": "stream",
     "text": [
      "100%|██████████████████████████████████████████████████████████████████████████████████████| 8572/8572 [00:00<00:00, 21012.01it/s]\n",
      "100%|██████████████████████████████████████████████████████████████████████████████████████| 8567/8567 [00:00<00:00, 18559.44it/s]\n"
     ]
    },
    {
     "name": "stdout",
     "output_type": "stream",
     "text": [
      "getting bank coordinates for the rest of the islands\n"
     ]
    },
    {
     "name": "stderr",
     "output_type": "stream",
     "text": [
      "100%|███████████████████████████████████████████████████████████████████████████████████████████| 165/165 [00:19<00:00,  8.33it/s]\n"
     ]
    },
    {
     "name": "stdout",
     "output_type": "stream",
     "text": [
      "setting half channel widths\n"
     ]
    },
    {
     "name": "stderr",
     "output_type": "stream",
     "text": [
      "100%|███████████████████████████████████████████████████████████████████████████████████████████| 167/167 [00:51<00:00,  3.25it/s]\n",
      "100%|██████████████████████████████████████████████████████████████████████████████████████████| 490/490 [00:04<00:00, 105.42it/s]\n"
     ]
    },
    {
     "name": "stdout",
     "output_type": "stream",
     "text": [
      "31 out of 106 processed\n",
      "LT05_226079_19960802_mndwi.tif\n",
      "removing small holes\n",
      "running skeletonization\n",
      "building graph from skeleton\n",
      "finding reasonable starting and ending points on graph edges\n",
      "finding nodes that are within a certain radius of the path\n"
     ]
    },
    {
     "name": "stderr",
     "output_type": "stream",
     "text": [
      "100%|███████████████████████████████████████████████████████████████████████████████████████████| 190/190 [00:04<00:00, 44.80it/s]\n",
      "100%|██████████████████████████████████████████████████████████████████████████████████████████| 851/851 [00:04<00:00, 203.08it/s]\n",
      "100%|█████████████████████████████████████████████████████████████████████████████████████████| 159/159 [00:00<00:00, 4967.19it/s]\n"
     ]
    },
    {
     "name": "stdout",
     "output_type": "stream",
     "text": [
      "creating linestrings for primal graph\n"
     ]
    },
    {
     "name": "stderr",
     "output_type": "stream",
     "text": [
      "161it [00:03, 42.78it/s]\n"
     ]
    },
    {
     "name": "stdout",
     "output_type": "stream",
     "text": [
      "getting bank coordinates for the two main banks\n"
     ]
    },
    {
     "name": "stderr",
     "output_type": "stream",
     "text": [
      "100%|██████████████████████████████████████████████████████████████████████████████████████| 8919/8919 [00:00<00:00, 24231.48it/s]\n",
      "100%|██████████████████████████████████████████████████████████████████████████████████████| 8715/8715 [00:00<00:00, 18985.19it/s]\n"
     ]
    },
    {
     "name": "stdout",
     "output_type": "stream",
     "text": [
      "getting bank coordinates for the rest of the islands\n"
     ]
    },
    {
     "name": "stderr",
     "output_type": "stream",
     "text": [
      "100%|███████████████████████████████████████████████████████████████████████████████████████████| 159/159 [00:18<00:00,  8.41it/s]\n"
     ]
    },
    {
     "name": "stdout",
     "output_type": "stream",
     "text": [
      "setting half channel widths\n"
     ]
    },
    {
     "name": "stderr",
     "output_type": "stream",
     "text": [
      "100%|███████████████████████████████████████████████████████████████████████████████████████████| 161/161 [00:50<00:00,  3.18it/s]\n",
      "100%|██████████████████████████████████████████████████████████████████████████████████████████| 473/473 [00:04<00:00, 103.01it/s]\n"
     ]
    },
    {
     "name": "stdout",
     "output_type": "stream",
     "text": [
      "32 out of 106 processed\n",
      "LT05_226079_19960818_mndwi.tif\n",
      "removing small holes\n",
      "running skeletonization\n",
      "building graph from skeleton\n",
      "finding reasonable starting and ending points on graph edges\n",
      "finding nodes that are within a certain radius of the path\n"
     ]
    },
    {
     "name": "stderr",
     "output_type": "stream",
     "text": [
      "100%|███████████████████████████████████████████████████████████████████████████████████████████| 189/189 [00:04<00:00, 44.79it/s]\n",
      "100%|██████████████████████████████████████████████████████████████████████████████████████████| 847/847 [00:04<00:00, 200.42it/s]\n",
      "100%|█████████████████████████████████████████████████████████████████████████████████████████| 163/163 [00:00<00:00, 5168.21it/s]\n"
     ]
    },
    {
     "name": "stdout",
     "output_type": "stream",
     "text": [
      "creating linestrings for primal graph\n"
     ]
    },
    {
     "name": "stderr",
     "output_type": "stream",
     "text": [
      "165it [00:03, 42.17it/s]\n"
     ]
    },
    {
     "name": "stdout",
     "output_type": "stream",
     "text": [
      "getting bank coordinates for the two main banks\n"
     ]
    },
    {
     "name": "stderr",
     "output_type": "stream",
     "text": [
      "100%|██████████████████████████████████████████████████████████████████████████████████████| 8743/8743 [00:00<00:00, 20872.17it/s]\n",
      "100%|██████████████████████████████████████████████████████████████████████████████████████| 8809/8809 [00:00<00:00, 18378.92it/s]\n"
     ]
    },
    {
     "name": "stdout",
     "output_type": "stream",
     "text": [
      "getting bank coordinates for the rest of the islands\n"
     ]
    },
    {
     "name": "stderr",
     "output_type": "stream",
     "text": [
      "100%|███████████████████████████████████████████████████████████████████████████████████████████| 163/163 [00:19<00:00,  8.42it/s]\n"
     ]
    },
    {
     "name": "stdout",
     "output_type": "stream",
     "text": [
      "setting half channel widths\n"
     ]
    },
    {
     "name": "stderr",
     "output_type": "stream",
     "text": [
      "100%|███████████████████████████████████████████████████████████████████████████████████████████| 165/165 [00:52<00:00,  3.17it/s]\n",
      "100%|██████████████████████████████████████████████████████████████████████████████████████████| 484/484 [00:04<00:00, 103.54it/s]\n"
     ]
    },
    {
     "name": "stdout",
     "output_type": "stream",
     "text": [
      "33 out of 106 processed\n",
      "LT05_226079_19970330_mndwi.tif\n",
      "removing small holes\n",
      "running skeletonization\n",
      "building graph from skeleton\n",
      "finding reasonable starting and ending points on graph edges\n",
      "finding nodes that are within a certain radius of the path\n"
     ]
    },
    {
     "name": "stderr",
     "output_type": "stream",
     "text": [
      "100%|███████████████████████████████████████████████████████████████████████████████████████████| 235/235 [00:13<00:00, 17.99it/s]\n",
      "100%|████████████████████████████████████████████████████████████████████████████████████████| 1151/1151 [00:07<00:00, 150.50it/s]\n",
      "100%|█████████████████████████████████████████████████████████████████████████████████████████| 176/176 [00:00<00:00, 4964.88it/s]\n"
     ]
    },
    {
     "name": "stdout",
     "output_type": "stream",
     "text": [
      "creating linestrings for primal graph\n"
     ]
    },
    {
     "name": "stderr",
     "output_type": "stream",
     "text": [
      "178it [00:04, 37.85it/s]\n"
     ]
    },
    {
     "name": "stdout",
     "output_type": "stream",
     "text": [
      "getting bank coordinates for the two main banks\n"
     ]
    },
    {
     "name": "stderr",
     "output_type": "stream",
     "text": [
      "100%|████████████████████████████████████████████████████████████████████████████████████| 10096/10096 [00:00<00:00, 23457.97it/s]\n",
      "100%|██████████████████████████████████████████████████████████████████████████████████████| 8992/8992 [00:00<00:00, 16149.39it/s]\n"
     ]
    },
    {
     "name": "stdout",
     "output_type": "stream",
     "text": [
      "getting bank coordinates for the rest of the islands\n"
     ]
    },
    {
     "name": "stderr",
     "output_type": "stream",
     "text": [
      "100%|███████████████████████████████████████████████████████████████████████████████████████████| 176/176 [00:21<00:00,  8.27it/s]\n"
     ]
    },
    {
     "name": "stdout",
     "output_type": "stream",
     "text": [
      "setting half channel widths\n"
     ]
    },
    {
     "name": "stderr",
     "output_type": "stream",
     "text": [
      "100%|███████████████████████████████████████████████████████████████████████████████████████████| 178/178 [00:58<00:00,  3.03it/s]\n",
      "100%|███████████████████████████████████████████████████████████████████████████████████████████| 529/529 [00:05<00:00, 96.09it/s]\n"
     ]
    },
    {
     "name": "stdout",
     "output_type": "stream",
     "text": [
      "34 out of 106 processed\n",
      "LT05_226079_19970805_mndwi.tif\n",
      "removing small holes\n",
      "running skeletonization\n",
      "building graph from skeleton\n",
      "finding reasonable starting and ending points on graph edges\n",
      "finding nodes that are within a certain radius of the path\n"
     ]
    },
    {
     "name": "stderr",
     "output_type": "stream",
     "text": [
      "100%|███████████████████████████████████████████████████████████████████████████████████████████| 237/237 [00:12<00:00, 18.29it/s]\n",
      "100%|████████████████████████████████████████████████████████████████████████████████████████| 1073/1073 [00:06<00:00, 161.33it/s]\n",
      "100%|█████████████████████████████████████████████████████████████████████████████████████████| 161/161 [00:00<00:00, 5128.37it/s]\n"
     ]
    },
    {
     "name": "stdout",
     "output_type": "stream",
     "text": [
      "creating linestrings for primal graph\n"
     ]
    },
    {
     "name": "stderr",
     "output_type": "stream",
     "text": [
      "163it [00:03, 42.16it/s]\n"
     ]
    },
    {
     "name": "stdout",
     "output_type": "stream",
     "text": [
      "getting bank coordinates for the two main banks\n"
     ]
    },
    {
     "name": "stderr",
     "output_type": "stream",
     "text": [
      "100%|██████████████████████████████████████████████████████████████████████████████████████| 9008/9008 [00:00<00:00, 20921.72it/s]\n",
      "100%|██████████████████████████████████████████████████████████████████████████████████████| 8809/8809 [00:00<00:00, 15283.05it/s]\n"
     ]
    },
    {
     "name": "stdout",
     "output_type": "stream",
     "text": [
      "getting bank coordinates for the rest of the islands\n"
     ]
    },
    {
     "name": "stderr",
     "output_type": "stream",
     "text": [
      "100%|███████████████████████████████████████████████████████████████████████████████████████████| 161/161 [00:19<00:00,  8.25it/s]\n"
     ]
    },
    {
     "name": "stdout",
     "output_type": "stream",
     "text": [
      "setting half channel widths\n"
     ]
    },
    {
     "name": "stderr",
     "output_type": "stream",
     "text": [
      "100%|███████████████████████████████████████████████████████████████████████████████████████████| 163/163 [00:51<00:00,  3.17it/s]\n",
      "100%|██████████████████████████████████████████████████████████████████████████████████████████| 479/479 [00:04<00:00, 103.87it/s]\n"
     ]
    },
    {
     "name": "stdout",
     "output_type": "stream",
     "text": [
      "35 out of 106 processed\n",
      "LT05_226079_19970906_mndwi.tif\n",
      "removing small holes\n",
      "running skeletonization\n",
      "building graph from skeleton\n",
      "finding reasonable starting and ending points on graph edges\n",
      "finding nodes that are within a certain radius of the path\n"
     ]
    },
    {
     "name": "stderr",
     "output_type": "stream",
     "text": [
      "100%|███████████████████████████████████████████████████████████████████████████████████████████| 222/222 [00:13<00:00, 16.39it/s]\n",
      "100%|████████████████████████████████████████████████████████████████████████████████████████| 1160/1160 [00:07<00:00, 150.85it/s]\n",
      "100%|█████████████████████████████████████████████████████████████████████████████████████████| 170/170 [00:00<00:00, 5134.56it/s]\n"
     ]
    },
    {
     "name": "stdout",
     "output_type": "stream",
     "text": [
      "creating linestrings for primal graph\n"
     ]
    },
    {
     "name": "stderr",
     "output_type": "stream",
     "text": [
      "172it [00:04, 40.45it/s]\n"
     ]
    },
    {
     "name": "stdout",
     "output_type": "stream",
     "text": [
      "getting bank coordinates for the two main banks\n"
     ]
    },
    {
     "name": "stderr",
     "output_type": "stream",
     "text": [
      "100%|██████████████████████████████████████████████████████████████████████████████████████| 8953/8953 [00:00<00:00, 21655.00it/s]\n",
      "100%|██████████████████████████████████████████████████████████████████████████████████████| 8740/8740 [00:00<00:00, 16075.66it/s]\n"
     ]
    },
    {
     "name": "stdout",
     "output_type": "stream",
     "text": [
      "getting bank coordinates for the rest of the islands\n"
     ]
    },
    {
     "name": "stderr",
     "output_type": "stream",
     "text": [
      "100%|███████████████████████████████████████████████████████████████████████████████████████████| 170/170 [00:20<00:00,  8.30it/s]\n"
     ]
    },
    {
     "name": "stdout",
     "output_type": "stream",
     "text": [
      "setting half channel widths\n"
     ]
    },
    {
     "name": "stderr",
     "output_type": "stream",
     "text": [
      "100%|███████████████████████████████████████████████████████████████████████████████████████████| 172/172 [00:54<00:00,  3.15it/s]\n",
      "100%|██████████████████████████████████████████████████████████████████████████████████████████| 507/507 [00:04<00:00, 103.51it/s]\n"
     ]
    },
    {
     "name": "stdout",
     "output_type": "stream",
     "text": [
      "36 out of 106 processed\n",
      "LT05_226079_19980301_mndwi.tif\n",
      "removing small holes\n",
      "running skeletonization\n",
      "building graph from skeleton\n",
      "finding reasonable starting and ending points on graph edges\n",
      "finding nodes that are within a certain radius of the path\n"
     ]
    },
    {
     "name": "stderr",
     "output_type": "stream",
     "text": [
      "100%|███████████████████████████████████████████████████████████████████████████████████████████| 257/257 [00:26<00:00,  9.83it/s]\n",
      "100%|████████████████████████████████████████████████████████████████████████████████████████| 1457/1457 [00:12<00:00, 120.80it/s]\n",
      "100%|█████████████████████████████████████████████████████████████████████████████████████████| 168/168 [00:00<00:00, 5122.44it/s]\n"
     ]
    },
    {
     "name": "stdout",
     "output_type": "stream",
     "text": [
      "creating linestrings for primal graph\n"
     ]
    },
    {
     "name": "stderr",
     "output_type": "stream",
     "text": [
      "170it [00:04, 41.00it/s]\n"
     ]
    },
    {
     "name": "stdout",
     "output_type": "stream",
     "text": [
      "getting bank coordinates for the two main banks\n"
     ]
    },
    {
     "name": "stderr",
     "output_type": "stream",
     "text": [
      "100%|██████████████████████████████████████████████████████████████████████████████████████| 9304/9304 [00:00<00:00, 20122.24it/s]\n",
      "100%|██████████████████████████████████████████████████████████████████████████████████████| 8707/8707 [00:00<00:00, 14556.21it/s]\n"
     ]
    },
    {
     "name": "stdout",
     "output_type": "stream",
     "text": [
      "getting bank coordinates for the rest of the islands\n"
     ]
    },
    {
     "name": "stderr",
     "output_type": "stream",
     "text": [
      "100%|███████████████████████████████████████████████████████████████████████████████████████████| 168/168 [00:20<00:00,  8.32it/s]\n"
     ]
    },
    {
     "name": "stdout",
     "output_type": "stream",
     "text": [
      "setting half channel widths\n"
     ]
    },
    {
     "name": "stderr",
     "output_type": "stream",
     "text": [
      "100%|███████████████████████████████████████████████████████████████████████████████████████████| 170/170 [00:54<00:00,  3.13it/s]\n",
      "100%|██████████████████████████████████████████████████████████████████████████████████████████| 501/501 [00:04<00:00, 101.16it/s]\n"
     ]
    },
    {
     "name": "stdout",
     "output_type": "stream",
     "text": [
      "37 out of 106 processed\n",
      "LT05_226079_19980402_mndwi.tif\n",
      "removing small holes\n",
      "running skeletonization\n",
      "building graph from skeleton\n",
      "finding reasonable starting and ending points on graph edges\n",
      "finding nodes that are within a certain radius of the path\n"
     ]
    },
    {
     "name": "stderr",
     "output_type": "stream",
     "text": [
      "100%|███████████████████████████████████████████████████████████████████████████████████████████| 286/286 [01:01<00:00,  4.65it/s]\n",
      "100%|█████████████████████████████████████████████████████████████████████████████████████████| 2661/2661 [00:39<00:00, 66.73it/s]\n",
      "100%|█████████████████████████████████████████████████████████████████████████████████████████| 278/278 [00:00<00:00, 5648.68it/s]\n"
     ]
    },
    {
     "name": "stdout",
     "output_type": "stream",
     "text": [
      "creating linestrings for primal graph\n"
     ]
    },
    {
     "name": "stderr",
     "output_type": "stream",
     "text": [
      "280it [00:11, 24.53it/s]\n"
     ]
    },
    {
     "name": "stdout",
     "output_type": "stream",
     "text": [
      "getting bank coordinates for the two main banks\n"
     ]
    },
    {
     "name": "stderr",
     "output_type": "stream",
     "text": [
      "100%|████████████████████████████████████████████████████████████████████████████████████| 10114/10114 [00:00<00:00, 21177.20it/s]\n",
      "100%|██████████████████████████████████████████████████████████████████████████████████████| 9025/9025 [00:00<00:00, 14820.39it/s]\n"
     ]
    },
    {
     "name": "stdout",
     "output_type": "stream",
     "text": [
      "getting bank coordinates for the rest of the islands\n"
     ]
    },
    {
     "name": "stderr",
     "output_type": "stream",
     "text": [
      "100%|███████████████████████████████████████████████████████████████████████████████████████████| 278/278 [00:32<00:00,  8.46it/s]\n"
     ]
    },
    {
     "name": "stdout",
     "output_type": "stream",
     "text": [
      "setting half channel widths\n"
     ]
    },
    {
     "name": "stderr",
     "output_type": "stream",
     "text": [
      "100%|███████████████████████████████████████████████████████████████████████████████████████████| 280/280 [01:38<00:00,  2.85it/s]\n",
      "100%|███████████████████████████████████████████████████████████████████████████████████████████| 828/828 [00:08<00:00, 97.24it/s]\n"
     ]
    },
    {
     "name": "stdout",
     "output_type": "stream",
     "text": [
      "38 out of 106 processed\n",
      "LT05_226079_19980621_mndwi.tif\n",
      "removing small holes\n",
      "running skeletonization\n",
      "building graph from skeleton\n",
      "finding reasonable starting and ending points on graph edges\n",
      "finding nodes that are within a certain radius of the path\n"
     ]
    },
    {
     "name": "stderr",
     "output_type": "stream",
     "text": [
      "100%|███████████████████████████████████████████████████████████████████████████████████████████| 201/201 [00:16<00:00, 12.19it/s]\n",
      "100%|████████████████████████████████████████████████████████████████████████████████████████| 1260/1260 [00:09<00:00, 137.67it/s]\n",
      "100%|█████████████████████████████████████████████████████████████████████████████████████████| 138/138 [00:00<00:00, 5174.73it/s]\n"
     ]
    },
    {
     "name": "stdout",
     "output_type": "stream",
     "text": [
      "creating linestrings for primal graph\n"
     ]
    },
    {
     "name": "stderr",
     "output_type": "stream",
     "text": [
      "140it [00:02, 48.55it/s]\n"
     ]
    },
    {
     "name": "stdout",
     "output_type": "stream",
     "text": [
      "getting bank coordinates for the two main banks\n"
     ]
    },
    {
     "name": "stderr",
     "output_type": "stream",
     "text": [
      "100%|██████████████████████████████████████████████████████████████████████████████████████| 7850/7850 [00:00<00:00, 20396.34it/s]\n",
      "100%|██████████████████████████████████████████████████████████████████████████████████████| 7994/7994 [00:00<00:00, 15025.69it/s]\n"
     ]
    },
    {
     "name": "stdout",
     "output_type": "stream",
     "text": [
      "getting bank coordinates for the rest of the islands\n"
     ]
    },
    {
     "name": "stderr",
     "output_type": "stream",
     "text": [
      "100%|███████████████████████████████████████████████████████████████████████████████████████████| 138/138 [00:16<00:00,  8.17it/s]\n"
     ]
    },
    {
     "name": "stdout",
     "output_type": "stream",
     "text": [
      "setting half channel widths\n"
     ]
    },
    {
     "name": "stderr",
     "output_type": "stream",
     "text": [
      "100%|███████████████████████████████████████████████████████████████████████████████████████████| 140/140 [00:41<00:00,  3.41it/s]\n",
      "100%|██████████████████████████████████████████████████████████████████████████████████████████| 414/414 [00:03<00:00, 116.31it/s]\n"
     ]
    },
    {
     "name": "stdout",
     "output_type": "stream",
     "text": [
      "39 out of 106 processed\n",
      "LT05_226079_19990131_mndwi.tif\n",
      "removing small holes\n",
      "running skeletonization\n",
      "building graph from skeleton\n",
      "finding reasonable starting and ending points on graph edges\n",
      "finding nodes that are within a certain radius of the path\n"
     ]
    },
    {
     "name": "stderr",
     "output_type": "stream",
     "text": [
      "100%|███████████████████████████████████████████████████████████████████████████████████████████| 246/246 [00:25<00:00,  9.72it/s]\n",
      "100%|████████████████████████████████████████████████████████████████████████████████████████| 1586/1586 [00:14<00:00, 111.63it/s]\n",
      "100%|█████████████████████████████████████████████████████████████████████████████████████████| 176/176 [00:00<00:00, 4980.08it/s]\n"
     ]
    },
    {
     "name": "stdout",
     "output_type": "stream",
     "text": [
      "creating linestrings for primal graph\n"
     ]
    },
    {
     "name": "stderr",
     "output_type": "stream",
     "text": [
      "178it [00:04, 38.89it/s]\n"
     ]
    },
    {
     "name": "stdout",
     "output_type": "stream",
     "text": [
      "getting bank coordinates for the two main banks\n"
     ]
    },
    {
     "name": "stderr",
     "output_type": "stream",
     "text": [
      "100%|████████████████████████████████████████████████████████████████████████████████████| 10246/10246 [00:00<00:00, 22123.95it/s]\n",
      "100%|██████████████████████████████████████████████████████████████████████████████████████| 9098/9098 [00:00<00:00, 14605.65it/s]\n"
     ]
    },
    {
     "name": "stdout",
     "output_type": "stream",
     "text": [
      "getting bank coordinates for the rest of the islands\n"
     ]
    },
    {
     "name": "stderr",
     "output_type": "stream",
     "text": [
      "100%|███████████████████████████████████████████████████████████████████████████████████████████| 176/176 [00:21<00:00,  8.30it/s]\n"
     ]
    },
    {
     "name": "stdout",
     "output_type": "stream",
     "text": [
      "setting half channel widths\n"
     ]
    },
    {
     "name": "stderr",
     "output_type": "stream",
     "text": [
      "100%|███████████████████████████████████████████████████████████████████████████████████████████| 178/178 [00:56<00:00,  3.17it/s]\n",
      "100%|███████████████████████████████████████████████████████████████████████████████████████████| 524/524 [00:05<00:00, 98.74it/s]\n"
     ]
    },
    {
     "name": "stdout",
     "output_type": "stream",
     "text": [
      "40 out of 106 processed\n",
      "LT05_226079_19990507_mndwi.tif\n",
      "removing small holes\n",
      "running skeletonization\n",
      "building graph from skeleton\n",
      "finding reasonable starting and ending points on graph edges\n",
      "finding nodes that are within a certain radius of the path\n"
     ]
    },
    {
     "name": "stderr",
     "output_type": "stream",
     "text": [
      "100%|███████████████████████████████████████████████████████████████████████████████████████████| 225/225 [00:11<00:00, 18.78it/s]\n",
      "100%|████████████████████████████████████████████████████████████████████████████████████████| 1126/1126 [00:07<00:00, 158.39it/s]\n",
      "100%|█████████████████████████████████████████████████████████████████████████████████████████| 167/167 [00:00<00:00, 5348.98it/s]\n"
     ]
    },
    {
     "name": "stdout",
     "output_type": "stream",
     "text": [
      "creating linestrings for primal graph\n"
     ]
    },
    {
     "name": "stderr",
     "output_type": "stream",
     "text": [
      "169it [00:04, 41.53it/s]\n"
     ]
    },
    {
     "name": "stdout",
     "output_type": "stream",
     "text": [
      "getting bank coordinates for the two main banks\n"
     ]
    },
    {
     "name": "stderr",
     "output_type": "stream",
     "text": [
      "100%|██████████████████████████████████████████████████████████████████████████████████████| 8867/8867 [00:00<00:00, 20561.20it/s]\n",
      "100%|██████████████████████████████████████████████████████████████████████████████████████| 8789/8789 [00:00<00:00, 15366.59it/s]\n"
     ]
    },
    {
     "name": "stdout",
     "output_type": "stream",
     "text": [
      "getting bank coordinates for the rest of the islands\n"
     ]
    },
    {
     "name": "stderr",
     "output_type": "stream",
     "text": [
      "100%|███████████████████████████████████████████████████████████████████████████████████████████| 167/167 [00:19<00:00,  8.63it/s]\n"
     ]
    },
    {
     "name": "stdout",
     "output_type": "stream",
     "text": [
      "setting half channel widths\n"
     ]
    },
    {
     "name": "stderr",
     "output_type": "stream",
     "text": [
      "100%|███████████████████████████████████████████████████████████████████████████████████████████| 169/169 [00:52<00:00,  3.22it/s]\n",
      "100%|██████████████████████████████████████████████████████████████████████████████████████████| 497/497 [00:04<00:00, 104.71it/s]\n"
     ]
    },
    {
     "name": "stdout",
     "output_type": "stream",
     "text": [
      "41 out of 106 processed\n",
      "LT05_226079_19990811_mndwi.tif\n",
      "removing small holes\n",
      "running skeletonization\n",
      "building graph from skeleton\n",
      "finding reasonable starting and ending points on graph edges\n",
      "finding nodes that are within a certain radius of the path\n"
     ]
    },
    {
     "name": "stderr",
     "output_type": "stream",
     "text": [
      "100%|███████████████████████████████████████████████████████████████████████████████████████████| 242/242 [00:12<00:00, 19.65it/s]\n",
      "100%|████████████████████████████████████████████████████████████████████████████████████████| 1170/1170 [00:07<00:00, 157.17it/s]\n",
      "100%|█████████████████████████████████████████████████████████████████████████████████████████| 172/172 [00:00<00:00, 5449.25it/s]\n"
     ]
    },
    {
     "name": "stdout",
     "output_type": "stream",
     "text": [
      "creating linestrings for primal graph\n"
     ]
    },
    {
     "name": "stderr",
     "output_type": "stream",
     "text": [
      "174it [00:04, 41.99it/s]\n"
     ]
    },
    {
     "name": "stdout",
     "output_type": "stream",
     "text": [
      "getting bank coordinates for the two main banks\n"
     ]
    },
    {
     "name": "stderr",
     "output_type": "stream",
     "text": [
      "100%|██████████████████████████████████████████████████████████████████████████████████████| 8867/8867 [00:00<00:00, 21894.91it/s]\n",
      "100%|██████████████████████████████████████████████████████████████████████████████████████| 8601/8601 [00:00<00:00, 16041.55it/s]\n"
     ]
    },
    {
     "name": "stdout",
     "output_type": "stream",
     "text": [
      "getting bank coordinates for the rest of the islands\n"
     ]
    },
    {
     "name": "stderr",
     "output_type": "stream",
     "text": [
      "100%|███████████████████████████████████████████████████████████████████████████████████████████| 172/172 [00:18<00:00,  9.38it/s]\n"
     ]
    },
    {
     "name": "stdout",
     "output_type": "stream",
     "text": [
      "setting half channel widths\n"
     ]
    },
    {
     "name": "stderr",
     "output_type": "stream",
     "text": [
      "100%|███████████████████████████████████████████████████████████████████████████████████████████| 174/174 [00:51<00:00,  3.35it/s]\n",
      "100%|██████████████████████████████████████████████████████████████████████████████████████████| 515/515 [00:04<00:00, 109.29it/s]\n"
     ]
    },
    {
     "name": "stdout",
     "output_type": "stream",
     "text": [
      "42 out of 106 processed\n",
      "LT05_226079_20000102_mndwi.tif\n",
      "removing small holes\n",
      "running skeletonization\n",
      "building graph from skeleton\n",
      "finding reasonable starting and ending points on graph edges\n",
      "finding nodes that are within a certain radius of the path\n"
     ]
    },
    {
     "name": "stderr",
     "output_type": "stream",
     "text": [
      "100%|███████████████████████████████████████████████████████████████████████████████████████████| 188/188 [00:02<00:00, 62.74it/s]\n",
      "100%|██████████████████████████████████████████████████████████████████████████████████████████| 743/743 [00:02<00:00, 247.75it/s]\n",
      "100%|█████████████████████████████████████████████████████████████████████████████████████████| 153/153 [00:00<00:00, 5309.95it/s]\n"
     ]
    },
    {
     "name": "stdout",
     "output_type": "stream",
     "text": [
      "creating linestrings for primal graph\n"
     ]
    },
    {
     "name": "stderr",
     "output_type": "stream",
     "text": [
      "155it [00:03, 46.58it/s]\n"
     ]
    },
    {
     "name": "stdout",
     "output_type": "stream",
     "text": [
      "getting bank coordinates for the two main banks\n"
     ]
    },
    {
     "name": "stderr",
     "output_type": "stream",
     "text": [
      "100%|██████████████████████████████████████████████████████████████████████████████████████| 8722/8722 [00:00<00:00, 22000.51it/s]\n",
      "100%|██████████████████████████████████████████████████████████████████████████████████████| 8619/8619 [00:00<00:00, 18422.77it/s]\n"
     ]
    },
    {
     "name": "stdout",
     "output_type": "stream",
     "text": [
      "getting bank coordinates for the rest of the islands\n"
     ]
    },
    {
     "name": "stderr",
     "output_type": "stream",
     "text": [
      "100%|███████████████████████████████████████████████████████████████████████████████████████████| 153/153 [00:16<00:00,  9.46it/s]\n"
     ]
    },
    {
     "name": "stdout",
     "output_type": "stream",
     "text": [
      "setting half channel widths\n"
     ]
    },
    {
     "name": "stderr",
     "output_type": "stream",
     "text": [
      "100%|███████████████████████████████████████████████████████████████████████████████████████████| 155/155 [00:45<00:00,  3.37it/s]\n",
      "100%|██████████████████████████████████████████████████████████████████████████████████████████| 457/457 [00:04<00:00, 109.92it/s]\n"
     ]
    },
    {
     "name": "stdout",
     "output_type": "stream",
     "text": [
      "43 out of 106 processed\n",
      "LT05_226079_20000423_mndwi.tif\n",
      "removing small holes\n",
      "running skeletonization\n",
      "building graph from skeleton\n",
      "finding reasonable starting and ending points on graph edges\n",
      "finding nodes that are within a certain radius of the path\n"
     ]
    },
    {
     "name": "stderr",
     "output_type": "stream",
     "text": [
      "100%|███████████████████████████████████████████████████████████████████████████████████████████| 205/205 [00:04<00:00, 43.77it/s]\n",
      "100%|██████████████████████████████████████████████████████████████████████████████████████████| 879/879 [00:04<00:00, 205.29it/s]\n",
      "100%|█████████████████████████████████████████████████████████████████████████████████████████| 176/176 [00:00<00:00, 5491.76it/s]\n"
     ]
    },
    {
     "name": "stdout",
     "output_type": "stream",
     "text": [
      "creating linestrings for primal graph\n"
     ]
    },
    {
     "name": "stderr",
     "output_type": "stream",
     "text": [
      "178it [00:04, 40.80it/s]\n"
     ]
    },
    {
     "name": "stdout",
     "output_type": "stream",
     "text": [
      "getting bank coordinates for the two main banks\n"
     ]
    },
    {
     "name": "stderr",
     "output_type": "stream",
     "text": [
      "100%|██████████████████████████████████████████████████████████████████████████████████████| 8874/8874 [00:00<00:00, 21966.91it/s]\n",
      "100%|██████████████████████████████████████████████████████████████████████████████████████| 8637/8637 [00:00<00:00, 16924.54it/s]\n"
     ]
    },
    {
     "name": "stdout",
     "output_type": "stream",
     "text": [
      "getting bank coordinates for the rest of the islands\n"
     ]
    },
    {
     "name": "stderr",
     "output_type": "stream",
     "text": [
      "100%|███████████████████████████████████████████████████████████████████████████████████████████| 176/176 [00:18<00:00,  9.30it/s]\n"
     ]
    },
    {
     "name": "stdout",
     "output_type": "stream",
     "text": [
      "setting half channel widths\n"
     ]
    },
    {
     "name": "stderr",
     "output_type": "stream",
     "text": [
      "100%|███████████████████████████████████████████████████████████████████████████████████████████| 178/178 [00:53<00:00,  3.34it/s]\n",
      "100%|██████████████████████████████████████████████████████████████████████████████████████████| 523/523 [00:04<00:00, 108.51it/s]\n"
     ]
    },
    {
     "name": "stdout",
     "output_type": "stream",
     "text": [
      "44 out of 106 processed\n",
      "LT05_226079_20000930_mndwi.tif\n",
      "removing small holes\n",
      "running skeletonization\n",
      "building graph from skeleton\n",
      "finding reasonable starting and ending points on graph edges\n",
      "finding nodes that are within a certain radius of the path\n"
     ]
    },
    {
     "name": "stderr",
     "output_type": "stream",
     "text": [
      "100%|███████████████████████████████████████████████████████████████████████████████████████████| 232/232 [00:13<00:00, 16.82it/s]\n",
      "100%|████████████████████████████████████████████████████████████████████████████████████████| 1196/1196 [00:07<00:00, 154.75it/s]\n",
      "100%|█████████████████████████████████████████████████████████████████████████████████████████| 162/162 [00:00<00:00, 5296.75it/s]\n"
     ]
    },
    {
     "name": "stdout",
     "output_type": "stream",
     "text": [
      "creating linestrings for primal graph\n"
     ]
    },
    {
     "name": "stderr",
     "output_type": "stream",
     "text": [
      "164it [00:03, 43.36it/s]\n"
     ]
    },
    {
     "name": "stdout",
     "output_type": "stream",
     "text": [
      "getting bank coordinates for the two main banks\n"
     ]
    },
    {
     "name": "stderr",
     "output_type": "stream",
     "text": [
      "100%|██████████████████████████████████████████████████████████████████████████████████████| 8828/8828 [00:00<00:00, 19737.79it/s]\n",
      "100%|██████████████████████████████████████████████████████████████████████████████████████| 8559/8559 [00:00<00:00, 14579.45it/s]\n"
     ]
    },
    {
     "name": "stdout",
     "output_type": "stream",
     "text": [
      "getting bank coordinates for the rest of the islands\n"
     ]
    },
    {
     "name": "stderr",
     "output_type": "stream",
     "text": [
      "100%|███████████████████████████████████████████████████████████████████████████████████████████| 162/162 [00:17<00:00,  9.13it/s]\n"
     ]
    },
    {
     "name": "stdout",
     "output_type": "stream",
     "text": [
      "setting half channel widths\n"
     ]
    },
    {
     "name": "stderr",
     "output_type": "stream",
     "text": [
      "100%|███████████████████████████████████████████████████████████████████████████████████████████| 164/164 [00:48<00:00,  3.38it/s]\n",
      "100%|██████████████████████████████████████████████████████████████████████████████████████████| 483/483 [00:04<00:00, 110.49it/s]\n"
     ]
    },
    {
     "name": "stdout",
     "output_type": "stream",
     "text": [
      "45 out of 106 processed\n",
      "LT05_226079_20010731_mndwi.tif\n",
      "removing small holes\n",
      "running skeletonization\n",
      "building graph from skeleton\n",
      "finding reasonable starting and ending points on graph edges\n",
      "no path between start_ind and end_ind\n",
      "distance too large between nodes1 and nodes2\n",
      "path is too short!\n",
      "finding nodes that are within a certain radius of the path\n"
     ]
    },
    {
     "name": "stderr",
     "output_type": "stream",
     "text": [
      "100%|████████████████████████████████████████████████████████████████████████████████████████████| 3/3 [00:00<00:00, 15968.16it/s]"
     ]
    },
    {
     "name": "stdout",
     "output_type": "stream",
     "text": [
      "main path is too short\n",
      "46 out of 106 processed\n",
      "LT05_226079_20011019_mndwi.tif\n"
     ]
    },
    {
     "name": "stderr",
     "output_type": "stream",
     "text": [
      "\n"
     ]
    },
    {
     "name": "stdout",
     "output_type": "stream",
     "text": [
      "removing small holes\n",
      "running skeletonization\n",
      "building graph from skeleton\n",
      "finding reasonable starting and ending points on graph edges\n",
      "finding nodes that are within a certain radius of the path\n"
     ]
    },
    {
     "name": "stderr",
     "output_type": "stream",
     "text": [
      "100%|███████████████████████████████████████████████████████████████████████████████████████████| 207/207 [00:04<00:00, 46.86it/s]\n",
      "100%|██████████████████████████████████████████████████████████████████████████████████████████| 840/840 [00:03<00:00, 212.81it/s]\n",
      "100%|█████████████████████████████████████████████████████████████████████████████████████████| 165/165 [00:00<00:00, 5267.34it/s]\n"
     ]
    },
    {
     "name": "stdout",
     "output_type": "stream",
     "text": [
      "creating linestrings for primal graph\n"
     ]
    },
    {
     "name": "stderr",
     "output_type": "stream",
     "text": [
      "167it [00:03, 43.90it/s]\n"
     ]
    },
    {
     "name": "stdout",
     "output_type": "stream",
     "text": [
      "getting bank coordinates for the two main banks\n"
     ]
    },
    {
     "name": "stderr",
     "output_type": "stream",
     "text": [
      "100%|██████████████████████████████████████████████████████████████████████████████████████| 8962/8962 [00:00<00:00, 21680.24it/s]\n",
      "100%|██████████████████████████████████████████████████████████████████████████████████████| 8765/8765 [00:00<00:00, 16426.10it/s]\n"
     ]
    },
    {
     "name": "stdout",
     "output_type": "stream",
     "text": [
      "getting bank coordinates for the rest of the islands\n"
     ]
    },
    {
     "name": "stderr",
     "output_type": "stream",
     "text": [
      "100%|███████████████████████████████████████████████████████████████████████████████████████████| 165/165 [00:17<00:00,  9.21it/s]\n"
     ]
    },
    {
     "name": "stdout",
     "output_type": "stream",
     "text": [
      "setting half channel widths\n"
     ]
    },
    {
     "name": "stderr",
     "output_type": "stream",
     "text": [
      "100%|███████████████████████████████████████████████████████████████████████████████████████████| 167/167 [00:49<00:00,  3.35it/s]\n",
      "100%|██████████████████████████████████████████████████████████████████████████████████████████| 492/492 [00:04<00:00, 103.91it/s]\n"
     ]
    },
    {
     "name": "stdout",
     "output_type": "stream",
     "text": [
      "47 out of 106 processed\n",
      "LT05_226079_20011104_mndwi.tif\n",
      "removing small holes\n",
      "running skeletonization\n",
      "building graph from skeleton\n",
      "finding reasonable starting and ending points on graph edges\n",
      "finding nodes that are within a certain radius of the path\n"
     ]
    },
    {
     "name": "stderr",
     "output_type": "stream",
     "text": [
      "100%|███████████████████████████████████████████████████████████████████████████████████████████| 206/206 [00:03<00:00, 52.35it/s]\n",
      "100%|██████████████████████████████████████████████████████████████████████████████████████████| 877/877 [00:04<00:00, 208.15it/s]\n",
      "100%|█████████████████████████████████████████████████████████████████████████████████████████| 172/172 [00:00<00:00, 5666.06it/s]\n"
     ]
    },
    {
     "name": "stdout",
     "output_type": "stream",
     "text": [
      "creating linestrings for primal graph\n"
     ]
    },
    {
     "name": "stderr",
     "output_type": "stream",
     "text": [
      "174it [00:04, 42.22it/s]\n"
     ]
    },
    {
     "name": "stdout",
     "output_type": "stream",
     "text": [
      "getting bank coordinates for the two main banks\n"
     ]
    },
    {
     "name": "stderr",
     "output_type": "stream",
     "text": [
      "100%|██████████████████████████████████████████████████████████████████████████████████████| 8939/8939 [00:00<00:00, 20863.97it/s]\n",
      "100%|██████████████████████████████████████████████████████████████████████████████████████| 8686/8686 [00:00<00:00, 18145.96it/s]\n"
     ]
    },
    {
     "name": "stdout",
     "output_type": "stream",
     "text": [
      "getting bank coordinates for the rest of the islands\n"
     ]
    },
    {
     "name": "stderr",
     "output_type": "stream",
     "text": [
      "100%|███████████████████████████████████████████████████████████████████████████████████████████| 172/172 [00:18<00:00,  9.53it/s]\n"
     ]
    },
    {
     "name": "stdout",
     "output_type": "stream",
     "text": [
      "setting half channel widths\n"
     ]
    },
    {
     "name": "stderr",
     "output_type": "stream",
     "text": [
      "100%|███████████████████████████████████████████████████████████████████████████████████████████| 174/174 [00:52<00:00,  3.33it/s]\n",
      "100%|██████████████████████████████████████████████████████████████████████████████████████████| 516/516 [00:04<00:00, 108.49it/s]\n"
     ]
    },
    {
     "name": "stdout",
     "output_type": "stream",
     "text": [
      "48 out of 106 processed\n",
      "LT05_226079_20020224_mndwi.tif\n",
      "removing small holes\n",
      "running skeletonization\n",
      "building graph from skeleton\n",
      "finding reasonable starting and ending points on graph edges\n",
      "finding nodes that are within a certain radius of the path\n"
     ]
    },
    {
     "name": "stderr",
     "output_type": "stream",
     "text": [
      "100%|███████████████████████████████████████████████████████████████████████████████████████████| 222/222 [00:06<00:00, 32.42it/s]\n",
      "100%|██████████████████████████████████████████████████████████████████████████████████████████| 935/935 [00:04<00:00, 196.97it/s]\n",
      "100%|█████████████████████████████████████████████████████████████████████████████████████████| 174/174 [00:00<00:00, 5354.35it/s]\n"
     ]
    },
    {
     "name": "stdout",
     "output_type": "stream",
     "text": [
      "creating linestrings for primal graph\n"
     ]
    },
    {
     "name": "stderr",
     "output_type": "stream",
     "text": [
      "176it [00:04, 42.05it/s]\n"
     ]
    },
    {
     "name": "stdout",
     "output_type": "stream",
     "text": [
      "getting bank coordinates for the two main banks\n"
     ]
    },
    {
     "name": "stderr",
     "output_type": "stream",
     "text": [
      "100%|██████████████████████████████████████████████████████████████████████████████████████| 9122/9122 [00:00<00:00, 20313.80it/s]\n",
      "100%|██████████████████████████████████████████████████████████████████████████████████████| 8843/8843 [00:00<00:00, 15410.16it/s]\n"
     ]
    },
    {
     "name": "stdout",
     "output_type": "stream",
     "text": [
      "getting bank coordinates for the rest of the islands\n"
     ]
    },
    {
     "name": "stderr",
     "output_type": "stream",
     "text": [
      "100%|███████████████████████████████████████████████████████████████████████████████████████████| 174/174 [00:18<00:00,  9.18it/s]\n"
     ]
    },
    {
     "name": "stdout",
     "output_type": "stream",
     "text": [
      "setting half channel widths\n"
     ]
    },
    {
     "name": "stderr",
     "output_type": "stream",
     "text": [
      "100%|███████████████████████████████████████████████████████████████████████████████████████████| 176/176 [00:53<00:00,  3.30it/s]\n",
      "100%|██████████████████████████████████████████████████████████████████████████████████████████| 517/517 [00:04<00:00, 107.07it/s]\n"
     ]
    },
    {
     "name": "stdout",
     "output_type": "stream",
     "text": [
      "49 out of 106 processed\n",
      "LT05_226079_20030806_mndwi.tif\n",
      "removing small holes\n",
      "running skeletonization\n",
      "building graph from skeleton\n",
      "finding reasonable starting and ending points on graph edges\n",
      "finding nodes that are within a certain radius of the path\n"
     ]
    },
    {
     "name": "stderr",
     "output_type": "stream",
     "text": [
      "100%|███████████████████████████████████████████████████████████████████████████████████████████| 188/188 [00:03<00:00, 55.87it/s]\n",
      "100%|██████████████████████████████████████████████████████████████████████████████████████████| 809/809 [00:03<00:00, 222.07it/s]\n",
      "100%|█████████████████████████████████████████████████████████████████████████████████████████| 173/173 [00:00<00:00, 5457.92it/s]\n"
     ]
    },
    {
     "name": "stdout",
     "output_type": "stream",
     "text": [
      "creating linestrings for primal graph\n"
     ]
    },
    {
     "name": "stderr",
     "output_type": "stream",
     "text": [
      "175it [00:04, 41.71it/s]\n"
     ]
    },
    {
     "name": "stdout",
     "output_type": "stream",
     "text": [
      "getting bank coordinates for the two main banks\n"
     ]
    },
    {
     "name": "stderr",
     "output_type": "stream",
     "text": [
      "100%|██████████████████████████████████████████████████████████████████████████████████████| 9054/9054 [00:00<00:00, 23348.05it/s]\n",
      "100%|██████████████████████████████████████████████████████████████████████████████████████| 8714/8714 [00:00<00:00, 18030.33it/s]\n"
     ]
    },
    {
     "name": "stdout",
     "output_type": "stream",
     "text": [
      "getting bank coordinates for the rest of the islands\n"
     ]
    },
    {
     "name": "stderr",
     "output_type": "stream",
     "text": [
      "100%|███████████████████████████████████████████████████████████████████████████████████████████| 173/173 [00:18<00:00,  9.45it/s]\n"
     ]
    },
    {
     "name": "stdout",
     "output_type": "stream",
     "text": [
      "setting half channel widths\n"
     ]
    },
    {
     "name": "stderr",
     "output_type": "stream",
     "text": [
      "100%|███████████████████████████████████████████████████████████████████████████████████████████| 175/175 [00:52<00:00,  3.31it/s]\n",
      "100%|██████████████████████████████████████████████████████████████████████████████████████████| 514/514 [00:04<00:00, 107.34it/s]\n"
     ]
    },
    {
     "name": "stdout",
     "output_type": "stream",
     "text": [
      "50 out of 106 processed\n",
      "LT05_226079_20030923_mndwi.tif\n",
      "removing small holes\n",
      "running skeletonization\n",
      "building graph from skeleton\n",
      "finding reasonable starting and ending points on graph edges\n",
      "finding nodes that are within a certain radius of the path\n"
     ]
    },
    {
     "name": "stderr",
     "output_type": "stream",
     "text": [
      "100%|███████████████████████████████████████████████████████████████████████████████████████████| 216/216 [00:05<00:00, 38.28it/s]\n",
      "100%|██████████████████████████████████████████████████████████████████████████████████████████| 887/887 [00:04<00:00, 203.22it/s]\n",
      "100%|█████████████████████████████████████████████████████████████████████████████████████████| 160/160 [00:00<00:00, 5452.95it/s]\n"
     ]
    },
    {
     "name": "stdout",
     "output_type": "stream",
     "text": [
      "creating linestrings for primal graph\n"
     ]
    },
    {
     "name": "stderr",
     "output_type": "stream",
     "text": [
      "162it [00:03, 45.22it/s]\n"
     ]
    },
    {
     "name": "stdout",
     "output_type": "stream",
     "text": [
      "getting bank coordinates for the two main banks\n"
     ]
    },
    {
     "name": "stderr",
     "output_type": "stream",
     "text": [
      "100%|██████████████████████████████████████████████████████████████████████████████████████| 8902/8902 [00:00<00:00, 22775.77it/s]\n",
      "100%|██████████████████████████████████████████████████████████████████████████████████████| 8649/8649 [00:00<00:00, 17963.67it/s]\n"
     ]
    },
    {
     "name": "stdout",
     "output_type": "stream",
     "text": [
      "getting bank coordinates for the rest of the islands\n"
     ]
    },
    {
     "name": "stderr",
     "output_type": "stream",
     "text": [
      "100%|███████████████████████████████████████████████████████████████████████████████████████████| 160/160 [00:16<00:00,  9.43it/s]\n"
     ]
    },
    {
     "name": "stdout",
     "output_type": "stream",
     "text": [
      "setting half channel widths\n"
     ]
    },
    {
     "name": "stderr",
     "output_type": "stream",
     "text": [
      "100%|███████████████████████████████████████████████████████████████████████████████████████████| 162/162 [00:47<00:00,  3.41it/s]\n",
      "100%|██████████████████████████████████████████████████████████████████████████████████████████| 473/473 [00:04<00:00, 109.15it/s]\n"
     ]
    },
    {
     "name": "stdout",
     "output_type": "stream",
     "text": [
      "51 out of 106 processed\n",
      "LT05_226079_20040129_mndwi.tif\n",
      "removing small holes\n",
      "running skeletonization\n",
      "building graph from skeleton\n",
      "finding reasonable starting and ending points on graph edges\n",
      "finding nodes that are within a certain radius of the path\n"
     ]
    },
    {
     "name": "stderr",
     "output_type": "stream",
     "text": [
      "100%|███████████████████████████████████████████████████████████████████████████████████████████| 205/205 [00:04<00:00, 47.42it/s]\n",
      "100%|██████████████████████████████████████████████████████████████████████████████████████████| 819/819 [00:03<00:00, 217.19it/s]\n",
      "100%|█████████████████████████████████████████████████████████████████████████████████████████| 162/162 [00:00<00:00, 5257.69it/s]\n"
     ]
    },
    {
     "name": "stdout",
     "output_type": "stream",
     "text": [
      "creating linestrings for primal graph\n"
     ]
    },
    {
     "name": "stderr",
     "output_type": "stream",
     "text": [
      "164it [00:03, 44.60it/s]\n"
     ]
    },
    {
     "name": "stdout",
     "output_type": "stream",
     "text": [
      "getting bank coordinates for the two main banks\n"
     ]
    },
    {
     "name": "stderr",
     "output_type": "stream",
     "text": [
      "100%|██████████████████████████████████████████████████████████████████████████████████████| 9106/9106 [00:00<00:00, 21965.19it/s]\n",
      "100%|██████████████████████████████████████████████████████████████████████████████████████| 8843/8843 [00:00<00:00, 16129.03it/s]\n"
     ]
    },
    {
     "name": "stdout",
     "output_type": "stream",
     "text": [
      "getting bank coordinates for the rest of the islands\n"
     ]
    },
    {
     "name": "stderr",
     "output_type": "stream",
     "text": [
      "100%|███████████████████████████████████████████████████████████████████████████████████████████| 162/162 [00:17<00:00,  9.14it/s]\n"
     ]
    },
    {
     "name": "stdout",
     "output_type": "stream",
     "text": [
      "setting half channel widths\n"
     ]
    },
    {
     "name": "stderr",
     "output_type": "stream",
     "text": [
      "100%|███████████████████████████████████████████████████████████████████████████████████████████| 164/164 [00:49<00:00,  3.32it/s]\n",
      "100%|██████████████████████████████████████████████████████████████████████████████████████████| 484/484 [00:04<00:00, 106.53it/s]\n"
     ]
    },
    {
     "name": "stdout",
     "output_type": "stream",
     "text": [
      "52 out of 106 processed\n",
      "LT05_226079_20040317_mndwi.tif\n",
      "removing small holes\n",
      "running skeletonization\n",
      "building graph from skeleton\n",
      "finding reasonable starting and ending points on graph edges\n",
      "finding nodes that are within a certain radius of the path\n"
     ]
    },
    {
     "name": "stderr",
     "output_type": "stream",
     "text": [
      "100%|███████████████████████████████████████████████████████████████████████████████████████████| 195/195 [00:03<00:00, 50.53it/s]\n",
      "100%|██████████████████████████████████████████████████████████████████████████████████████████| 788/788 [00:03<00:00, 229.81it/s]\n",
      "100%|█████████████████████████████████████████████████████████████████████████████████████████| 165/165 [00:00<00:00, 5532.67it/s]\n"
     ]
    },
    {
     "name": "stdout",
     "output_type": "stream",
     "text": [
      "creating linestrings for primal graph\n"
     ]
    },
    {
     "name": "stderr",
     "output_type": "stream",
     "text": [
      "167it [00:03, 44.76it/s]\n"
     ]
    },
    {
     "name": "stdout",
     "output_type": "stream",
     "text": [
      "getting bank coordinates for the two main banks\n"
     ]
    },
    {
     "name": "stderr",
     "output_type": "stream",
     "text": [
      "100%|██████████████████████████████████████████████████████████████████████████████████████| 9019/9019 [00:00<00:00, 20257.85it/s]\n",
      "100%|██████████████████████████████████████████████████████████████████████████████████████| 8780/8780 [00:00<00:00, 16683.42it/s]\n"
     ]
    },
    {
     "name": "stdout",
     "output_type": "stream",
     "text": [
      "getting bank coordinates for the rest of the islands\n"
     ]
    },
    {
     "name": "stderr",
     "output_type": "stream",
     "text": [
      "100%|███████████████████████████████████████████████████████████████████████████████████████████| 165/165 [00:17<00:00,  9.36it/s]\n"
     ]
    },
    {
     "name": "stdout",
     "output_type": "stream",
     "text": [
      "setting half channel widths\n"
     ]
    },
    {
     "name": "stderr",
     "output_type": "stream",
     "text": [
      "100%|███████████████████████████████████████████████████████████████████████████████████████████| 167/167 [00:49<00:00,  3.40it/s]\n",
      "100%|██████████████████████████████████████████████████████████████████████████████████████████| 488/488 [00:04<00:00, 107.71it/s]\n"
     ]
    },
    {
     "name": "stdout",
     "output_type": "stream",
     "text": [
      "53 out of 106 processed\n",
      "LT05_226079_20040808_mndwi.tif\n",
      "removing small holes\n",
      "running skeletonization\n",
      "building graph from skeleton\n",
      "finding reasonable starting and ending points on graph edges\n",
      "finding nodes that are within a certain radius of the path\n"
     ]
    },
    {
     "name": "stderr",
     "output_type": "stream",
     "text": [
      "100%|███████████████████████████████████████████████████████████████████████████████████████████| 211/211 [00:03<00:00, 53.42it/s]\n",
      "100%|██████████████████████████████████████████████████████████████████████████████████████████| 783/783 [00:03<00:00, 227.57it/s]\n",
      "100%|█████████████████████████████████████████████████████████████████████████████████████████| 167/167 [00:00<00:00, 5392.09it/s]\n"
     ]
    },
    {
     "name": "stdout",
     "output_type": "stream",
     "text": [
      "creating linestrings for primal graph\n"
     ]
    },
    {
     "name": "stderr",
     "output_type": "stream",
     "text": [
      "169it [00:03, 43.00it/s]\n"
     ]
    },
    {
     "name": "stdout",
     "output_type": "stream",
     "text": [
      "getting bank coordinates for the two main banks\n"
     ]
    },
    {
     "name": "stderr",
     "output_type": "stream",
     "text": [
      "100%|██████████████████████████████████████████████████████████████████████████████████████| 9109/9109 [00:00<00:00, 21986.80it/s]\n",
      "100%|██████████████████████████████████████████████████████████████████████████████████████| 8754/8754 [00:00<00:00, 15933.63it/s]\n"
     ]
    },
    {
     "name": "stdout",
     "output_type": "stream",
     "text": [
      "getting bank coordinates for the rest of the islands\n"
     ]
    },
    {
     "name": "stderr",
     "output_type": "stream",
     "text": [
      "100%|███████████████████████████████████████████████████████████████████████████████████████████| 167/167 [00:17<00:00,  9.32it/s]\n"
     ]
    },
    {
     "name": "stdout",
     "output_type": "stream",
     "text": [
      "setting half channel widths\n"
     ]
    },
    {
     "name": "stderr",
     "output_type": "stream",
     "text": [
      "100%|███████████████████████████████████████████████████████████████████████████████████████████| 169/169 [00:50<00:00,  3.36it/s]\n",
      "100%|██████████████████████████████████████████████████████████████████████████████████████████| 498/498 [00:04<00:00, 107.66it/s]\n"
     ]
    },
    {
     "name": "stdout",
     "output_type": "stream",
     "text": [
      "54 out of 106 processed\n",
      "LT05_226079_20050216_mndwi.tif\n",
      "removing small holes\n",
      "running skeletonization\n",
      "building graph from skeleton\n",
      "finding reasonable starting and ending points on graph edges\n",
      "finding nodes that are within a certain radius of the path\n"
     ]
    },
    {
     "name": "stderr",
     "output_type": "stream",
     "text": [
      "100%|███████████████████████████████████████████████████████████████████████████████████████████| 262/262 [00:20<00:00, 13.10it/s]\n",
      "100%|████████████████████████████████████████████████████████████████████████████████████████| 1370/1370 [00:10<00:00, 135.03it/s]\n",
      "100%|█████████████████████████████████████████████████████████████████████████████████████████| 164/164 [00:00<00:00, 5353.17it/s]\n"
     ]
    },
    {
     "name": "stdout",
     "output_type": "stream",
     "text": [
      "creating linestrings for primal graph\n"
     ]
    },
    {
     "name": "stderr",
     "output_type": "stream",
     "text": [
      "166it [00:03, 43.31it/s]\n"
     ]
    },
    {
     "name": "stdout",
     "output_type": "stream",
     "text": [
      "getting bank coordinates for the two main banks\n"
     ]
    },
    {
     "name": "stderr",
     "output_type": "stream",
     "text": [
      "100%|██████████████████████████████████████████████████████████████████████████████████████| 9354/9354 [00:00<00:00, 20521.80it/s]\n",
      "100%|██████████████████████████████████████████████████████████████████████████████████████| 8635/8635 [00:00<00:00, 14132.41it/s]\n"
     ]
    },
    {
     "name": "stdout",
     "output_type": "stream",
     "text": [
      "getting bank coordinates for the rest of the islands\n"
     ]
    },
    {
     "name": "stderr",
     "output_type": "stream",
     "text": [
      "100%|███████████████████████████████████████████████████████████████████████████████████████████| 164/164 [00:18<00:00,  9.10it/s]\n"
     ]
    },
    {
     "name": "stdout",
     "output_type": "stream",
     "text": [
      "setting half channel widths\n"
     ]
    },
    {
     "name": "stderr",
     "output_type": "stream",
     "text": [
      "100%|███████████████████████████████████████████████████████████████████████████████████████████| 166/166 [00:49<00:00,  3.33it/s]\n",
      "100%|██████████████████████████████████████████████████████████████████████████████████████████| 491/491 [00:04<00:00, 106.68it/s]\n"
     ]
    },
    {
     "name": "stdout",
     "output_type": "stream",
     "text": [
      "55 out of 106 processed\n",
      "LT05_226079_20050304_mndwi.tif\n",
      "removing small holes\n",
      "running skeletonization\n",
      "building graph from skeleton\n",
      "finding reasonable starting and ending points on graph edges\n",
      "finding nodes that are within a certain radius of the path\n"
     ]
    },
    {
     "name": "stderr",
     "output_type": "stream",
     "text": [
      "100%|███████████████████████████████████████████████████████████████████████████████████████████| 205/205 [00:04<00:00, 46.49it/s]\n",
      "100%|██████████████████████████████████████████████████████████████████████████████████████████| 868/868 [00:04<00:00, 207.90it/s]\n",
      "100%|█████████████████████████████████████████████████████████████████████████████████████████| 171/171 [00:00<00:00, 5379.01it/s]\n"
     ]
    },
    {
     "name": "stdout",
     "output_type": "stream",
     "text": [
      "creating linestrings for primal graph\n"
     ]
    },
    {
     "name": "stderr",
     "output_type": "stream",
     "text": [
      "173it [00:04, 42.28it/s]\n"
     ]
    },
    {
     "name": "stdout",
     "output_type": "stream",
     "text": [
      "getting bank coordinates for the two main banks\n"
     ]
    },
    {
     "name": "stderr",
     "output_type": "stream",
     "text": [
      "100%|██████████████████████████████████████████████████████████████████████████████████████| 9122/9122 [00:00<00:00, 23350.15it/s]\n",
      "100%|██████████████████████████████████████████████████████████████████████████████████████| 8810/8810 [00:00<00:00, 16833.05it/s]\n"
     ]
    },
    {
     "name": "stdout",
     "output_type": "stream",
     "text": [
      "getting bank coordinates for the rest of the islands\n"
     ]
    },
    {
     "name": "stderr",
     "output_type": "stream",
     "text": [
      "100%|███████████████████████████████████████████████████████████████████████████████████████████| 171/171 [00:18<00:00,  9.29it/s]\n"
     ]
    },
    {
     "name": "stdout",
     "output_type": "stream",
     "text": [
      "setting half channel widths\n"
     ]
    },
    {
     "name": "stderr",
     "output_type": "stream",
     "text": [
      "100%|███████████████████████████████████████████████████████████████████████████████████████████| 173/173 [00:52<00:00,  3.29it/s]\n",
      "100%|██████████████████████████████████████████████████████████████████████████████████████████| 508/508 [00:04<00:00, 106.33it/s]\n"
     ]
    },
    {
     "name": "stdout",
     "output_type": "stream",
     "text": [
      "56 out of 106 processed\n",
      "LT05_226079_20050320_mndwi.tif\n",
      "removing small holes\n",
      "running skeletonization\n",
      "building graph from skeleton\n",
      "finding reasonable starting and ending points on graph edges\n",
      "finding nodes that are within a certain radius of the path\n"
     ]
    },
    {
     "name": "stderr",
     "output_type": "stream",
     "text": [
      "100%|███████████████████████████████████████████████████████████████████████████████████████████| 218/218 [00:04<00:00, 44.16it/s]\n",
      "100%|██████████████████████████████████████████████████████████████████████████████████████████| 907/907 [00:04<00:00, 198.08it/s]\n",
      "100%|█████████████████████████████████████████████████████████████████████████████████████████| 181/181 [00:00<00:00, 5563.31it/s]\n"
     ]
    },
    {
     "name": "stdout",
     "output_type": "stream",
     "text": [
      "creating linestrings for primal graph\n"
     ]
    },
    {
     "name": "stderr",
     "output_type": "stream",
     "text": [
      "183it [00:04, 39.66it/s]\n"
     ]
    },
    {
     "name": "stdout",
     "output_type": "stream",
     "text": [
      "getting bank coordinates for the two main banks\n"
     ]
    },
    {
     "name": "stderr",
     "output_type": "stream",
     "text": [
      "100%|██████████████████████████████████████████████████████████████████████████████████████| 9034/9034 [00:00<00:00, 22802.47it/s]\n",
      "100%|██████████████████████████████████████████████████████████████████████████████████████| 8705/8705 [00:00<00:00, 16450.32it/s]\n"
     ]
    },
    {
     "name": "stdout",
     "output_type": "stream",
     "text": [
      "getting bank coordinates for the rest of the islands\n"
     ]
    },
    {
     "name": "stderr",
     "output_type": "stream",
     "text": [
      "100%|███████████████████████████████████████████████████████████████████████████████████████████| 181/181 [00:19<00:00,  9.36it/s]\n"
     ]
    },
    {
     "name": "stdout",
     "output_type": "stream",
     "text": [
      "setting half channel widths\n"
     ]
    },
    {
     "name": "stderr",
     "output_type": "stream",
     "text": [
      "100%|███████████████████████████████████████████████████████████████████████████████████████████| 183/183 [00:54<00:00,  3.33it/s]\n",
      "100%|██████████████████████████████████████████████████████████████████████████████████████████| 539/539 [00:05<00:00, 107.57it/s]\n"
     ]
    },
    {
     "name": "stdout",
     "output_type": "stream",
     "text": [
      "57 out of 106 processed\n",
      "LT05_226079_20060219_mndwi.tif\n",
      "removing small holes\n",
      "running skeletonization\n",
      "building graph from skeleton\n",
      "finding reasonable starting and ending points on graph edges\n",
      "finding nodes that are within a certain radius of the path\n"
     ]
    },
    {
     "name": "stderr",
     "output_type": "stream",
     "text": [
      "100%|███████████████████████████████████████████████████████████████████████████████████████████| 220/220 [00:04<00:00, 44.34it/s]\n",
      "100%|██████████████████████████████████████████████████████████████████████████████████████████| 886/886 [00:04<00:00, 203.01it/s]\n",
      "100%|█████████████████████████████████████████████████████████████████████████████████████████| 188/188 [00:00<00:00, 5591.73it/s]\n"
     ]
    },
    {
     "name": "stdout",
     "output_type": "stream",
     "text": [
      "creating linestrings for primal graph\n"
     ]
    },
    {
     "name": "stderr",
     "output_type": "stream",
     "text": [
      "190it [00:04, 38.20it/s]\n"
     ]
    },
    {
     "name": "stdout",
     "output_type": "stream",
     "text": [
      "getting bank coordinates for the two main banks\n"
     ]
    },
    {
     "name": "stderr",
     "output_type": "stream",
     "text": [
      "100%|██████████████████████████████████████████████████████████████████████████████████████| 9225/9225 [00:00<00:00, 20742.97it/s]\n",
      "100%|██████████████████████████████████████████████████████████████████████████████████████| 8990/8990 [00:00<00:00, 16445.02it/s]\n"
     ]
    },
    {
     "name": "stdout",
     "output_type": "stream",
     "text": [
      "getting bank coordinates for the rest of the islands\n"
     ]
    },
    {
     "name": "stderr",
     "output_type": "stream",
     "text": [
      "100%|███████████████████████████████████████████████████████████████████████████████████████████| 188/188 [00:21<00:00,  8.71it/s]\n"
     ]
    },
    {
     "name": "stdout",
     "output_type": "stream",
     "text": [
      "setting half channel widths\n"
     ]
    },
    {
     "name": "stderr",
     "output_type": "stream",
     "text": [
      "100%|███████████████████████████████████████████████████████████████████████████████████████████| 190/190 [00:59<00:00,  3.21it/s]\n",
      "100%|██████████████████████████████████████████████████████████████████████████████████████████| 562/562 [00:05<00:00, 104.47it/s]\n"
     ]
    },
    {
     "name": "stdout",
     "output_type": "stream",
     "text": [
      "58 out of 106 processed\n",
      "LT05_226079_20060307_mndwi.tif\n",
      "removing small holes\n",
      "running skeletonization\n",
      "building graph from skeleton\n",
      "finding reasonable starting and ending points on graph edges\n",
      "finding nodes that are within a certain radius of the path\n"
     ]
    },
    {
     "name": "stderr",
     "output_type": "stream",
     "text": [
      "100%|███████████████████████████████████████████████████████████████████████████████████████████| 198/198 [00:04<00:00, 47.78it/s]\n",
      "100%|██████████████████████████████████████████████████████████████████████████████████████████| 776/776 [00:03<00:00, 232.87it/s]\n",
      "100%|█████████████████████████████████████████████████████████████████████████████████████████| 155/155 [00:00<00:00, 5257.08it/s]\n"
     ]
    },
    {
     "name": "stdout",
     "output_type": "stream",
     "text": [
      "creating linestrings for primal graph\n"
     ]
    },
    {
     "name": "stderr",
     "output_type": "stream",
     "text": [
      "157it [00:03, 46.64it/s]\n"
     ]
    },
    {
     "name": "stdout",
     "output_type": "stream",
     "text": [
      "getting bank coordinates for the two main banks\n"
     ]
    },
    {
     "name": "stderr",
     "output_type": "stream",
     "text": [
      "100%|██████████████████████████████████████████████████████████████████████████████████████| 9197/9197 [00:00<00:00, 19406.85it/s]\n",
      "100%|██████████████████████████████████████████████████████████████████████████████████████| 8789/8789 [00:00<00:00, 15290.11it/s]\n"
     ]
    },
    {
     "name": "stdout",
     "output_type": "stream",
     "text": [
      "getting bank coordinates for the rest of the islands\n"
     ]
    },
    {
     "name": "stderr",
     "output_type": "stream",
     "text": [
      "100%|███████████████████████████████████████████████████████████████████████████████████████████| 155/155 [00:17<00:00,  8.70it/s]\n"
     ]
    },
    {
     "name": "stdout",
     "output_type": "stream",
     "text": [
      "setting half channel widths\n"
     ]
    },
    {
     "name": "stderr",
     "output_type": "stream",
     "text": [
      "100%|███████████████████████████████████████████████████████████████████████████████████████████| 157/157 [00:47<00:00,  3.27it/s]\n",
      "100%|██████████████████████████████████████████████████████████████████████████████████████████| 460/460 [00:04<00:00, 106.16it/s]\n"
     ]
    },
    {
     "name": "stdout",
     "output_type": "stream",
     "text": [
      "59 out of 106 processed\n",
      "LT05_226079_20060424_mndwi.tif\n",
      "removing small holes\n",
      "running skeletonization\n",
      "building graph from skeleton\n",
      "finding reasonable starting and ending points on graph edges\n",
      "finding nodes that are within a certain radius of the path\n"
     ]
    },
    {
     "name": "stderr",
     "output_type": "stream",
     "text": [
      "100%|███████████████████████████████████████████████████████████████████████████████████████████| 210/210 [00:05<00:00, 39.44it/s]\n",
      "100%|██████████████████████████████████████████████████████████████████████████████████████████| 823/823 [00:03<00:00, 215.16it/s]\n",
      "100%|█████████████████████████████████████████████████████████████████████████████████████████| 159/159 [00:00<00:00, 5148.49it/s]\n"
     ]
    },
    {
     "name": "stdout",
     "output_type": "stream",
     "text": [
      "creating linestrings for primal graph\n"
     ]
    },
    {
     "name": "stderr",
     "output_type": "stream",
     "text": [
      "161it [00:03, 45.24it/s]\n"
     ]
    },
    {
     "name": "stdout",
     "output_type": "stream",
     "text": [
      "getting bank coordinates for the two main banks\n"
     ]
    },
    {
     "name": "stderr",
     "output_type": "stream",
     "text": [
      "100%|██████████████████████████████████████████████████████████████████████████████████████| 9192/9192 [00:00<00:00, 21080.44it/s]\n",
      "100%|██████████████████████████████████████████████████████████████████████████████████████| 8830/8830 [00:00<00:00, 15101.81it/s]\n"
     ]
    },
    {
     "name": "stdout",
     "output_type": "stream",
     "text": [
      "getting bank coordinates for the rest of the islands\n"
     ]
    },
    {
     "name": "stderr",
     "output_type": "stream",
     "text": [
      "100%|███████████████████████████████████████████████████████████████████████████████████████████| 159/159 [00:18<00:00,  8.40it/s]\n"
     ]
    },
    {
     "name": "stdout",
     "output_type": "stream",
     "text": [
      "setting half channel widths\n"
     ]
    },
    {
     "name": "stderr",
     "output_type": "stream",
     "text": [
      "100%|███████████████████████████████████████████████████████████████████████████████████████████| 161/161 [00:49<00:00,  3.26it/s]\n",
      "100%|██████████████████████████████████████████████████████████████████████████████████████████| 469/469 [00:04<00:00, 103.71it/s]\n"
     ]
    },
    {
     "name": "stdout",
     "output_type": "stream",
     "text": [
      "60 out of 106 processed\n",
      "LT05_226079_20070801_mndwi.tif\n",
      "removing small holes\n",
      "running skeletonization\n",
      "building graph from skeleton\n",
      "finding reasonable starting and ending points on graph edges\n",
      "finding nodes that are within a certain radius of the path\n"
     ]
    },
    {
     "name": "stderr",
     "output_type": "stream",
     "text": [
      "100%|███████████████████████████████████████████████████████████████████████████████████████████| 228/228 [00:06<00:00, 37.52it/s]\n",
      "100%|██████████████████████████████████████████████████████████████████████████████████████████| 972/972 [00:05<00:00, 183.88it/s]\n",
      "100%|█████████████████████████████████████████████████████████████████████████████████████████| 186/186 [00:00<00:00, 5298.86it/s]\n"
     ]
    },
    {
     "name": "stdout",
     "output_type": "stream",
     "text": [
      "creating linestrings for primal graph\n"
     ]
    },
    {
     "name": "stderr",
     "output_type": "stream",
     "text": [
      "188it [00:04, 37.88it/s]\n"
     ]
    },
    {
     "name": "stdout",
     "output_type": "stream",
     "text": [
      "getting bank coordinates for the two main banks\n"
     ]
    },
    {
     "name": "stderr",
     "output_type": "stream",
     "text": [
      "100%|██████████████████████████████████████████████████████████████████████████████████████| 9258/9258 [00:00<00:00, 21560.63it/s]\n",
      "100%|██████████████████████████████████████████████████████████████████████████████████████| 9059/9059 [00:00<00:00, 15826.76it/s]\n"
     ]
    },
    {
     "name": "stdout",
     "output_type": "stream",
     "text": [
      "getting bank coordinates for the rest of the islands\n"
     ]
    },
    {
     "name": "stderr",
     "output_type": "stream",
     "text": [
      "100%|███████████████████████████████████████████████████████████████████████████████████████████| 186/186 [00:21<00:00,  8.63it/s]\n"
     ]
    },
    {
     "name": "stdout",
     "output_type": "stream",
     "text": [
      "setting half channel widths\n"
     ]
    },
    {
     "name": "stderr",
     "output_type": "stream",
     "text": [
      "100%|███████████████████████████████████████████████████████████████████████████████████████████| 188/188 [00:59<00:00,  3.16it/s]\n",
      "100%|██████████████████████████████████████████████████████████████████████████████████████████| 551/551 [00:05<00:00, 103.54it/s]\n"
     ]
    },
    {
     "name": "stdout",
     "output_type": "stream",
     "text": [
      "61 out of 106 processed\n",
      "LT05_226079_20070902_mndwi.tif\n",
      "removing small holes\n",
      "running skeletonization\n",
      "building graph from skeleton\n",
      "finding reasonable starting and ending points on graph edges\n",
      "finding nodes that are within a certain radius of the path\n"
     ]
    },
    {
     "name": "stderr",
     "output_type": "stream",
     "text": [
      "100%|███████████████████████████████████████████████████████████████████████████████████████████| 195/195 [00:03<00:00, 49.01it/s]\n",
      "100%|██████████████████████████████████████████████████████████████████████████████████████████| 863/863 [00:04<00:00, 210.35it/s]\n",
      "100%|█████████████████████████████████████████████████████████████████████████████████████████| 185/185 [00:00<00:00, 5327.14it/s]\n"
     ]
    },
    {
     "name": "stdout",
     "output_type": "stream",
     "text": [
      "creating linestrings for primal graph\n"
     ]
    },
    {
     "name": "stderr",
     "output_type": "stream",
     "text": [
      "187it [00:04, 38.38it/s]\n"
     ]
    },
    {
     "name": "stdout",
     "output_type": "stream",
     "text": [
      "getting bank coordinates for the two main banks\n"
     ]
    },
    {
     "name": "stderr",
     "output_type": "stream",
     "text": [
      "100%|██████████████████████████████████████████████████████████████████████████████████████| 9270/9270 [00:00<00:00, 22408.72it/s]\n",
      "100%|██████████████████████████████████████████████████████████████████████████████████████| 9036/9036 [00:00<00:00, 17307.59it/s]\n"
     ]
    },
    {
     "name": "stdout",
     "output_type": "stream",
     "text": [
      "getting bank coordinates for the rest of the islands\n"
     ]
    },
    {
     "name": "stderr",
     "output_type": "stream",
     "text": [
      "100%|███████████████████████████████████████████████████████████████████████████████████████████| 185/185 [00:21<00:00,  8.68it/s]\n"
     ]
    },
    {
     "name": "stdout",
     "output_type": "stream",
     "text": [
      "setting half channel widths\n"
     ]
    },
    {
     "name": "stderr",
     "output_type": "stream",
     "text": [
      "100%|███████████████████████████████████████████████████████████████████████████████████████████| 187/187 [00:59<00:00,  3.16it/s]\n",
      "100%|██████████████████████████████████████████████████████████████████████████████████████████| 557/557 [00:05<00:00, 103.70it/s]\n"
     ]
    },
    {
     "name": "stdout",
     "output_type": "stream",
     "text": [
      "62 out of 106 processed\n",
      "LT05_226079_20071004_mndwi.tif\n",
      "removing small holes\n",
      "running skeletonization\n",
      "building graph from skeleton\n",
      "finding reasonable starting and ending points on graph edges\n",
      "no path between start_ind and end_ind\n",
      "distance too large between nodes1 and nodes2\n",
      "finding nodes that are within a certain radius of the path\n"
     ]
    },
    {
     "name": "stderr",
     "output_type": "stream",
     "text": [
      "100%|███████████████████████████████████████████████████████████████████████████████████████████| 152/152 [00:01<00:00, 96.49it/s]\n",
      "100%|██████████████████████████████████████████████████████████████████████████████████████████| 295/295 [00:00<00:00, 631.42it/s]\n",
      "100%|█████████████████████████████████████████████████████████████████████████████████████████████| 5/5 [00:00<00:00, 3912.60it/s]\n"
     ]
    },
    {
     "name": "stdout",
     "output_type": "stream",
     "text": [
      "creating linestrings for primal graph\n"
     ]
    },
    {
     "name": "stderr",
     "output_type": "stream",
     "text": [
      "7it [00:00, 274.10it/s]\n"
     ]
    },
    {
     "name": "stdout",
     "output_type": "stream",
     "text": [
      "getting bank coordinates for the two main banks\n"
     ]
    },
    {
     "name": "stderr",
     "output_type": "stream",
     "text": [
      "100%|██████████████████████████████████████████████████████████████████████████████████████| 2617/2617 [00:00<00:00, 42386.67it/s]\n",
      "100%|██████████████████████████████████████████████████████████████████████████████████████| 2456/2456 [00:00<00:00, 43008.62it/s]\n"
     ]
    },
    {
     "name": "stdout",
     "output_type": "stream",
     "text": [
      "getting bank coordinates for the rest of the islands\n"
     ]
    },
    {
     "name": "stderr",
     "output_type": "stream",
     "text": [
      "100%|███████████████████████████████████████████████████████████████████████████████████████████████| 5/5 [00:00<00:00,  9.69it/s]\n"
     ]
    },
    {
     "name": "stdout",
     "output_type": "stream",
     "text": [
      "setting half channel widths\n"
     ]
    },
    {
     "name": "stderr",
     "output_type": "stream",
     "text": [
      "100%|███████████████████████████████████████████████████████████████████████████████████████████████| 7/7 [00:01<00:00,  3.96it/s]\n",
      "100%|████████████████████████████████████████████████████████████████████████████████████████████| 16/16 [00:00<00:00, 333.74it/s]\n"
     ]
    },
    {
     "name": "stdout",
     "output_type": "stream",
     "text": [
      "63 out of 106 processed\n",
      "LT05_226079_20081006_mndwi.tif\n",
      "removing small holes\n",
      "running skeletonization\n",
      "building graph from skeleton\n",
      "finding reasonable starting and ending points on graph edges\n",
      "finding nodes that are within a certain radius of the path\n"
     ]
    },
    {
     "name": "stderr",
     "output_type": "stream",
     "text": [
      "100%|███████████████████████████████████████████████████████████████████████████████████████████| 211/211 [00:04<00:00, 44.52it/s]\n",
      "100%|██████████████████████████████████████████████████████████████████████████████████████████| 915/915 [00:04<00:00, 196.53it/s]\n",
      "100%|█████████████████████████████████████████████████████████████████████████████████████████| 188/188 [00:00<00:00, 5420.04it/s]\n"
     ]
    },
    {
     "name": "stdout",
     "output_type": "stream",
     "text": [
      "creating linestrings for primal graph\n"
     ]
    },
    {
     "name": "stderr",
     "output_type": "stream",
     "text": [
      "190it [00:04, 38.10it/s]\n"
     ]
    },
    {
     "name": "stdout",
     "output_type": "stream",
     "text": [
      "getting bank coordinates for the two main banks\n"
     ]
    },
    {
     "name": "stderr",
     "output_type": "stream",
     "text": [
      "100%|██████████████████████████████████████████████████████████████████████████████████████| 9173/9173 [00:00<00:00, 22294.98it/s]\n",
      "100%|██████████████████████████████████████████████████████████████████████████████████████| 9073/9073 [00:00<00:00, 17081.68it/s]\n"
     ]
    },
    {
     "name": "stdout",
     "output_type": "stream",
     "text": [
      "getting bank coordinates for the rest of the islands\n"
     ]
    },
    {
     "name": "stderr",
     "output_type": "stream",
     "text": [
      "100%|███████████████████████████████████████████████████████████████████████████████████████████| 188/188 [00:21<00:00,  8.94it/s]\n"
     ]
    },
    {
     "name": "stdout",
     "output_type": "stream",
     "text": [
      "setting half channel widths\n"
     ]
    },
    {
     "name": "stderr",
     "output_type": "stream",
     "text": [
      "100%|███████████████████████████████████████████████████████████████████████████████████████████| 190/190 [01:01<00:00,  3.09it/s]\n",
      "100%|██████████████████████████████████████████████████████████████████████████████████████████| 560/560 [00:05<00:00, 100.08it/s]\n"
     ]
    },
    {
     "name": "stdout",
     "output_type": "stream",
     "text": [
      "64 out of 106 processed\n",
      "LT05_226079_20081123_mndwi.tif\n",
      "removing small holes\n",
      "running skeletonization\n",
      "building graph from skeleton\n",
      "finding reasonable starting and ending points on graph edges\n",
      "finding nodes that are within a certain radius of the path\n"
     ]
    },
    {
     "name": "stderr",
     "output_type": "stream",
     "text": [
      "100%|███████████████████████████████████████████████████████████████████████████████████████████| 213/213 [00:04<00:00, 49.53it/s]\n",
      "100%|██████████████████████████████████████████████████████████████████████████████████████████| 795/795 [00:03<00:00, 219.69it/s]\n",
      "100%|█████████████████████████████████████████████████████████████████████████████████████████| 172/172 [00:00<00:00, 5475.59it/s]\n"
     ]
    },
    {
     "name": "stdout",
     "output_type": "stream",
     "text": [
      "creating linestrings for primal graph\n"
     ]
    },
    {
     "name": "stderr",
     "output_type": "stream",
     "text": [
      "174it [00:04, 40.95it/s]\n"
     ]
    },
    {
     "name": "stdout",
     "output_type": "stream",
     "text": [
      "getting bank coordinates for the two main banks\n"
     ]
    },
    {
     "name": "stderr",
     "output_type": "stream",
     "text": [
      "100%|██████████████████████████████████████████████████████████████████████████████████████| 9010/9010 [00:00<00:00, 18785.50it/s]\n",
      "100%|██████████████████████████████████████████████████████████████████████████████████████| 8997/8997 [00:00<00:00, 15946.41it/s]\n"
     ]
    },
    {
     "name": "stdout",
     "output_type": "stream",
     "text": [
      "getting bank coordinates for the rest of the islands\n"
     ]
    },
    {
     "name": "stderr",
     "output_type": "stream",
     "text": [
      "100%|███████████████████████████████████████████████████████████████████████████████████████████| 172/172 [00:20<00:00,  8.28it/s]\n"
     ]
    },
    {
     "name": "stdout",
     "output_type": "stream",
     "text": [
      "setting half channel widths\n"
     ]
    },
    {
     "name": "stderr",
     "output_type": "stream",
     "text": [
      "100%|███████████████████████████████████████████████████████████████████████████████████████████| 174/174 [00:55<00:00,  3.16it/s]\n",
      "100%|██████████████████████████████████████████████████████████████████████████████████████████| 509/509 [00:04<00:00, 102.77it/s]\n"
     ]
    },
    {
     "name": "stdout",
     "output_type": "stream",
     "text": [
      "65 out of 106 processed\n",
      "LT05_226079_20090315_mndwi.tif\n",
      "removing small holes\n",
      "running skeletonization\n",
      "building graph from skeleton\n",
      "finding reasonable starting and ending points on graph edges\n",
      "finding nodes that are within a certain radius of the path\n"
     ]
    },
    {
     "name": "stderr",
     "output_type": "stream",
     "text": [
      "100%|███████████████████████████████████████████████████████████████████████████████████████████| 200/200 [00:04<00:00, 46.67it/s]\n",
      "100%|██████████████████████████████████████████████████████████████████████████████████████████| 831/831 [00:03<00:00, 209.42it/s]\n",
      "100%|█████████████████████████████████████████████████████████████████████████████████████████| 169/169 [00:00<00:00, 5172.64it/s]\n"
     ]
    },
    {
     "name": "stdout",
     "output_type": "stream",
     "text": [
      "creating linestrings for primal graph\n"
     ]
    },
    {
     "name": "stderr",
     "output_type": "stream",
     "text": [
      "171it [00:04, 40.98it/s]\n"
     ]
    },
    {
     "name": "stdout",
     "output_type": "stream",
     "text": [
      "getting bank coordinates for the two main banks\n"
     ]
    },
    {
     "name": "stderr",
     "output_type": "stream",
     "text": [
      "100%|██████████████████████████████████████████████████████████████████████████████████████| 9104/9104 [00:00<00:00, 21979.10it/s]\n",
      "100%|██████████████████████████████████████████████████████████████████████████████████████| 8743/8743 [00:00<00:00, 15899.66it/s]\n"
     ]
    },
    {
     "name": "stdout",
     "output_type": "stream",
     "text": [
      "getting bank coordinates for the rest of the islands\n"
     ]
    },
    {
     "name": "stderr",
     "output_type": "stream",
     "text": [
      "100%|███████████████████████████████████████████████████████████████████████████████████████████| 169/169 [00:20<00:00,  8.17it/s]\n"
     ]
    },
    {
     "name": "stdout",
     "output_type": "stream",
     "text": [
      "setting half channel widths\n"
     ]
    },
    {
     "name": "stderr",
     "output_type": "stream",
     "text": [
      "100%|███████████████████████████████████████████████████████████████████████████████████████████| 171/171 [00:53<00:00,  3.19it/s]\n",
      "100%|██████████████████████████████████████████████████████████████████████████████████████████| 501/501 [00:04<00:00, 103.70it/s]\n"
     ]
    },
    {
     "name": "stdout",
     "output_type": "stream",
     "text": [
      "66 out of 106 processed\n",
      "LT05_226079_20090416_mndwi.tif\n",
      "removing small holes\n",
      "running skeletonization\n",
      "building graph from skeleton\n",
      "finding reasonable starting and ending points on graph edges\n",
      "finding nodes that are within a certain radius of the path\n"
     ]
    },
    {
     "name": "stderr",
     "output_type": "stream",
     "text": [
      "100%|███████████████████████████████████████████████████████████████████████████████████████████| 205/205 [00:04<00:00, 46.54it/s]\n",
      "100%|██████████████████████████████████████████████████████████████████████████████████████████| 887/887 [00:04<00:00, 196.00it/s]\n",
      "100%|█████████████████████████████████████████████████████████████████████████████████████████| 190/190 [00:00<00:00, 5158.04it/s]\n"
     ]
    },
    {
     "name": "stdout",
     "output_type": "stream",
     "text": [
      "creating linestrings for primal graph\n"
     ]
    },
    {
     "name": "stderr",
     "output_type": "stream",
     "text": [
      "192it [00:05, 36.65it/s]\n"
     ]
    },
    {
     "name": "stdout",
     "output_type": "stream",
     "text": [
      "getting bank coordinates for the two main banks\n"
     ]
    },
    {
     "name": "stderr",
     "output_type": "stream",
     "text": [
      "100%|██████████████████████████████████████████████████████████████████████████████████████| 9177/9177 [00:00<00:00, 23085.13it/s]\n",
      "100%|██████████████████████████████████████████████████████████████████████████████████████| 8980/8980 [00:00<00:00, 17118.29it/s]\n"
     ]
    },
    {
     "name": "stdout",
     "output_type": "stream",
     "text": [
      "getting bank coordinates for the rest of the islands\n"
     ]
    },
    {
     "name": "stderr",
     "output_type": "stream",
     "text": [
      "100%|███████████████████████████████████████████████████████████████████████████████████████████| 190/190 [00:23<00:00,  8.21it/s]\n"
     ]
    },
    {
     "name": "stdout",
     "output_type": "stream",
     "text": [
      "setting half channel widths\n"
     ]
    },
    {
     "name": "stderr",
     "output_type": "stream",
     "text": [
      "100%|███████████████████████████████████████████████████████████████████████████████████████████| 192/192 [01:02<00:00,  3.08it/s]\n",
      "100%|██████████████████████████████████████████████████████████████████████████████████████████| 566/566 [00:05<00:00, 102.44it/s]\n"
     ]
    },
    {
     "name": "stdout",
     "output_type": "stream",
     "text": [
      "67 out of 106 processed\n",
      "LT05_226079_20090822_mndwi.tif\n",
      "removing small holes\n",
      "running skeletonization\n",
      "building graph from skeleton\n",
      "finding reasonable starting and ending points on graph edges\n",
      "finding nodes that are within a certain radius of the path\n"
     ]
    },
    {
     "name": "stderr",
     "output_type": "stream",
     "text": [
      "100%|███████████████████████████████████████████████████████████████████████████████████████████| 216/216 [00:05<00:00, 41.31it/s]\n",
      "100%|██████████████████████████████████████████████████████████████████████████████████████████| 882/882 [00:04<00:00, 200.03it/s]\n",
      "100%|█████████████████████████████████████████████████████████████████████████████████████████| 160/160 [00:00<00:00, 5088.90it/s]\n"
     ]
    },
    {
     "name": "stdout",
     "output_type": "stream",
     "text": [
      "creating linestrings for primal graph\n"
     ]
    },
    {
     "name": "stderr",
     "output_type": "stream",
     "text": [
      "162it [00:03, 43.08it/s]\n"
     ]
    },
    {
     "name": "stdout",
     "output_type": "stream",
     "text": [
      "getting bank coordinates for the two main banks\n"
     ]
    },
    {
     "name": "stderr",
     "output_type": "stream",
     "text": [
      "100%|██████████████████████████████████████████████████████████████████████████████████████| 9002/9002 [00:00<00:00, 20759.15it/s]\n",
      "100%|██████████████████████████████████████████████████████████████████████████████████████| 8735/8735 [00:00<00:00, 15358.57it/s]\n"
     ]
    },
    {
     "name": "stdout",
     "output_type": "stream",
     "text": [
      "getting bank coordinates for the rest of the islands\n"
     ]
    },
    {
     "name": "stderr",
     "output_type": "stream",
     "text": [
      "100%|███████████████████████████████████████████████████████████████████████████████████████████| 160/160 [00:19<00:00,  8.16it/s]\n"
     ]
    },
    {
     "name": "stdout",
     "output_type": "stream",
     "text": [
      "setting half channel widths\n"
     ]
    },
    {
     "name": "stderr",
     "output_type": "stream",
     "text": [
      "100%|███████████████████████████████████████████████████████████████████████████████████████████| 162/162 [00:50<00:00,  3.22it/s]\n",
      "100%|██████████████████████████████████████████████████████████████████████████████████████████| 478/478 [00:04<00:00, 104.73it/s]\n"
     ]
    },
    {
     "name": "stdout",
     "output_type": "stream",
     "text": [
      "68 out of 106 processed\n",
      "LT05_226079_20100129_mndwi.tif\n",
      "removing small holes\n",
      "running skeletonization\n",
      "building graph from skeleton\n",
      "finding reasonable starting and ending points on graph edges\n",
      "finding nodes that are within a certain radius of the path\n"
     ]
    },
    {
     "name": "stderr",
     "output_type": "stream",
     "text": [
      "100%|███████████████████████████████████████████████████████████████████████████████████████████| 367/367 [01:38<00:00,  3.74it/s]\n",
      "100%|█████████████████████████████████████████████████████████████████████████████████████████| 3277/3277 [01:00<00:00, 54.08it/s]\n",
      "100%|█████████████████████████████████████████████████████████████████████████████████████████| 371/371 [00:00<00:00, 6101.66it/s]\n"
     ]
    },
    {
     "name": "stdout",
     "output_type": "stream",
     "text": [
      "creating linestrings for primal graph\n"
     ]
    },
    {
     "name": "stderr",
     "output_type": "stream",
     "text": [
      "373it [00:20, 18.13it/s]\n"
     ]
    },
    {
     "name": "stdout",
     "output_type": "stream",
     "text": [
      "getting bank coordinates for the two main banks\n"
     ]
    },
    {
     "name": "stderr",
     "output_type": "stream",
     "text": [
      "100%|████████████████████████████████████████████████████████████████████████████████████| 11736/11736 [00:00<00:00, 18326.28it/s]\n",
      "100%|██████████████████████████████████████████████████████████████████████████████████████| 9674/9674 [00:00<00:00, 12953.10it/s]\n"
     ]
    },
    {
     "name": "stdout",
     "output_type": "stream",
     "text": [
      "getting bank coordinates for the rest of the islands\n"
     ]
    },
    {
     "name": "stderr",
     "output_type": "stream",
     "text": [
      "100%|███████████████████████████████████████████████████████████████████████████████████████████| 371/371 [00:43<00:00,  8.47it/s]\n"
     ]
    },
    {
     "name": "stdout",
     "output_type": "stream",
     "text": [
      "setting half channel widths\n"
     ]
    },
    {
     "name": "stderr",
     "output_type": "stream",
     "text": [
      "100%|███████████████████████████████████████████████████████████████████████████████████████████| 373/373 [02:27<00:00,  2.53it/s]\n",
      "100%|█████████████████████████████████████████████████████████████████████████████████████████| 1098/1098 [00:12<00:00, 89.39it/s]\n"
     ]
    },
    {
     "name": "stdout",
     "output_type": "stream",
     "text": [
      "69 out of 106 processed\n",
      "LT05_226079_20101028_mndwi.tif\n",
      "removing small holes\n",
      "running skeletonization\n",
      "building graph from skeleton\n",
      "finding reasonable starting and ending points on graph edges\n",
      "finding nodes that are within a certain radius of the path\n"
     ]
    },
    {
     "name": "stderr",
     "output_type": "stream",
     "text": [
      "100%|███████████████████████████████████████████████████████████████████████████████████████████| 201/201 [00:04<00:00, 44.41it/s]\n",
      "100%|██████████████████████████████████████████████████████████████████████████████████████████| 852/852 [00:04<00:00, 210.68it/s]\n",
      "100%|█████████████████████████████████████████████████████████████████████████████████████████| 171/171 [00:00<00:00, 5496.28it/s]\n"
     ]
    },
    {
     "name": "stdout",
     "output_type": "stream",
     "text": [
      "creating linestrings for primal graph\n"
     ]
    },
    {
     "name": "stderr",
     "output_type": "stream",
     "text": [
      "173it [00:04, 42.63it/s]\n"
     ]
    },
    {
     "name": "stdout",
     "output_type": "stream",
     "text": [
      "getting bank coordinates for the two main banks\n"
     ]
    },
    {
     "name": "stderr",
     "output_type": "stream",
     "text": [
      "100%|██████████████████████████████████████████████████████████████████████████████████████| 9097/9097 [00:00<00:00, 19998.38it/s]\n",
      "100%|██████████████████████████████████████████████████████████████████████████████████████| 8959/8959 [00:00<00:00, 16804.79it/s]\n"
     ]
    },
    {
     "name": "stdout",
     "output_type": "stream",
     "text": [
      "getting bank coordinates for the rest of the islands\n"
     ]
    },
    {
     "name": "stderr",
     "output_type": "stream",
     "text": [
      "100%|███████████████████████████████████████████████████████████████████████████████████████████| 171/171 [00:19<00:00,  8.68it/s]\n"
     ]
    },
    {
     "name": "stdout",
     "output_type": "stream",
     "text": [
      "setting half channel widths\n"
     ]
    },
    {
     "name": "stderr",
     "output_type": "stream",
     "text": [
      "100%|███████████████████████████████████████████████████████████████████████████████████████████| 173/173 [00:53<00:00,  3.24it/s]\n",
      "100%|██████████████████████████████████████████████████████████████████████████████████████████| 506/506 [00:05<00:00, 100.92it/s]\n"
     ]
    },
    {
     "name": "stdout",
     "output_type": "stream",
     "text": [
      "70 out of 106 processed\n",
      "LT05_226079_20101113_mndwi.tif\n",
      "removing small holes\n",
      "running skeletonization\n",
      "building graph from skeleton\n",
      "finding reasonable starting and ending points on graph edges\n",
      "finding nodes that are within a certain radius of the path\n"
     ]
    },
    {
     "name": "stderr",
     "output_type": "stream",
     "text": [
      "100%|███████████████████████████████████████████████████████████████████████████████████████████| 204/204 [00:04<00:00, 45.19it/s]\n",
      "100%|██████████████████████████████████████████████████████████████████████████████████████████| 827/827 [00:03<00:00, 216.87it/s]\n",
      "100%|█████████████████████████████████████████████████████████████████████████████████████████| 161/161 [00:00<00:00, 5412.70it/s]\n"
     ]
    },
    {
     "name": "stdout",
     "output_type": "stream",
     "text": [
      "creating linestrings for primal graph\n"
     ]
    },
    {
     "name": "stderr",
     "output_type": "stream",
     "text": [
      "163it [00:03, 45.79it/s]\n"
     ]
    },
    {
     "name": "stdout",
     "output_type": "stream",
     "text": [
      "getting bank coordinates for the two main banks\n"
     ]
    },
    {
     "name": "stderr",
     "output_type": "stream",
     "text": [
      "100%|██████████████████████████████████████████████████████████████████████████████████████| 8986/8986 [00:00<00:00, 20163.66it/s]\n",
      "100%|██████████████████████████████████████████████████████████████████████████████████████| 8812/8812 [00:00<00:00, 16947.10it/s]\n"
     ]
    },
    {
     "name": "stdout",
     "output_type": "stream",
     "text": [
      "getting bank coordinates for the rest of the islands\n"
     ]
    },
    {
     "name": "stderr",
     "output_type": "stream",
     "text": [
      "100%|███████████████████████████████████████████████████████████████████████████████████████████| 161/161 [00:18<00:00,  8.61it/s]\n"
     ]
    },
    {
     "name": "stdout",
     "output_type": "stream",
     "text": [
      "setting half channel widths\n"
     ]
    },
    {
     "name": "stderr",
     "output_type": "stream",
     "text": [
      "100%|███████████████████████████████████████████████████████████████████████████████████████████| 163/163 [00:50<00:00,  3.25it/s]\n",
      "100%|██████████████████████████████████████████████████████████████████████████████████████████| 477/477 [00:04<00:00, 105.25it/s]\n"
     ]
    },
    {
     "name": "stdout",
     "output_type": "stream",
     "text": [
      "71 out of 106 processed\n",
      "LT05_226079_20110116_mndwi.tif\n",
      "removing small holes\n",
      "running skeletonization\n",
      "building graph from skeleton\n",
      "finding reasonable starting and ending points on graph edges\n",
      "finding nodes that are within a certain radius of the path\n"
     ]
    },
    {
     "name": "stderr",
     "output_type": "stream",
     "text": [
      "100%|███████████████████████████████████████████████████████████████████████████████████████████| 217/217 [00:05<00:00, 40.75it/s]\n",
      "100%|██████████████████████████████████████████████████████████████████████████████████████████| 876/876 [00:04<00:00, 204.81it/s]\n",
      "100%|█████████████████████████████████████████████████████████████████████████████████████████| 175/175 [00:00<00:00, 5412.92it/s]\n"
     ]
    },
    {
     "name": "stdout",
     "output_type": "stream",
     "text": [
      "creating linestrings for primal graph\n"
     ]
    },
    {
     "name": "stderr",
     "output_type": "stream",
     "text": [
      "177it [00:04, 41.69it/s]\n"
     ]
    },
    {
     "name": "stdout",
     "output_type": "stream",
     "text": [
      "getting bank coordinates for the two main banks\n"
     ]
    },
    {
     "name": "stderr",
     "output_type": "stream",
     "text": [
      "100%|██████████████████████████████████████████████████████████████████████████████████████| 9197/9197 [00:00<00:00, 19876.86it/s]\n",
      "100%|██████████████████████████████████████████████████████████████████████████████████████| 9031/9031 [00:00<00:00, 16170.28it/s]\n"
     ]
    },
    {
     "name": "stdout",
     "output_type": "stream",
     "text": [
      "getting bank coordinates for the rest of the islands\n"
     ]
    },
    {
     "name": "stderr",
     "output_type": "stream",
     "text": [
      "100%|███████████████████████████████████████████████████████████████████████████████████████████| 175/175 [00:20<00:00,  8.63it/s]\n"
     ]
    },
    {
     "name": "stdout",
     "output_type": "stream",
     "text": [
      "setting half channel widths\n"
     ]
    },
    {
     "name": "stderr",
     "output_type": "stream",
     "text": [
      "100%|███████████████████████████████████████████████████████████████████████████████████████████| 177/177 [00:55<00:00,  3.20it/s]\n",
      "100%|██████████████████████████████████████████████████████████████████████████████████████████| 520/520 [00:05<00:00, 103.95it/s]\n"
     ]
    },
    {
     "name": "stdout",
     "output_type": "stream",
     "text": [
      "72 out of 106 processed\n",
      "LT05_226079_20110406_mndwi.tif\n",
      "removing small holes\n",
      "running skeletonization\n",
      "building graph from skeleton\n",
      "finding reasonable starting and ending points on graph edges\n",
      "finding nodes that are within a certain radius of the path\n"
     ]
    },
    {
     "name": "stderr",
     "output_type": "stream",
     "text": [
      "100%|███████████████████████████████████████████████████████████████████████████████████████████| 295/295 [00:37<00:00,  7.79it/s]\n",
      "100%|█████████████████████████████████████████████████████████████████████████████████████████| 1909/1909 [00:19<00:00, 95.85it/s]\n",
      "100%|█████████████████████████████████████████████████████████████████████████████████████████| 197/197 [00:00<00:00, 5235.34it/s]\n"
     ]
    },
    {
     "name": "stdout",
     "output_type": "stream",
     "text": [
      "creating linestrings for primal graph\n"
     ]
    },
    {
     "name": "stderr",
     "output_type": "stream",
     "text": [
      "199it [00:05, 36.14it/s]\n"
     ]
    },
    {
     "name": "stdout",
     "output_type": "stream",
     "text": [
      "getting bank coordinates for the two main banks\n"
     ]
    },
    {
     "name": "stderr",
     "output_type": "stream",
     "text": [
      "100%|██████████████████████████████████████████████████████████████████████████████████████| 9808/9808 [00:00<00:00, 19517.63it/s]\n",
      "100%|██████████████████████████████████████████████████████████████████████████████████████| 9020/9020 [00:00<00:00, 13347.90it/s]\n"
     ]
    },
    {
     "name": "stdout",
     "output_type": "stream",
     "text": [
      "getting bank coordinates for the rest of the islands\n"
     ]
    },
    {
     "name": "stderr",
     "output_type": "stream",
     "text": [
      "100%|███████████████████████████████████████████████████████████████████████████████████████████| 197/197 [00:23<00:00,  8.26it/s]\n"
     ]
    },
    {
     "name": "stdout",
     "output_type": "stream",
     "text": [
      "setting half channel widths\n"
     ]
    },
    {
     "name": "stderr",
     "output_type": "stream",
     "text": [
      "100%|███████████████████████████████████████████████████████████████████████████████████████████| 199/199 [01:05<00:00,  3.04it/s]\n",
      "100%|███████████████████████████████████████████████████████████████████████████████████████████| 585/585 [00:05<00:00, 99.16it/s]\n"
     ]
    },
    {
     "name": "stdout",
     "output_type": "stream",
     "text": [
      "73 out of 106 processed\n",
      "LT05_226079_20110812_mndwi.tif\n",
      "removing small holes\n",
      "running skeletonization\n",
      "building graph from skeleton\n",
      "finding reasonable starting and ending points on graph edges\n",
      "finding nodes that are within a certain radius of the path\n"
     ]
    },
    {
     "name": "stderr",
     "output_type": "stream",
     "text": [
      "100%|███████████████████████████████████████████████████████████████████████████████████████████| 287/287 [00:30<00:00,  9.36it/s]\n",
      "100%|████████████████████████████████████████████████████████████████████████████████████████| 1681/1681 [00:15<00:00, 110.36it/s]\n",
      "100%|█████████████████████████████████████████████████████████████████████████████████████████| 204/204 [00:00<00:00, 5683.07it/s]\n"
     ]
    },
    {
     "name": "stdout",
     "output_type": "stream",
     "text": [
      "creating linestrings for primal graph\n"
     ]
    },
    {
     "name": "stderr",
     "output_type": "stream",
     "text": [
      "206it [00:05, 35.40it/s]\n"
     ]
    },
    {
     "name": "stdout",
     "output_type": "stream",
     "text": [
      "getting bank coordinates for the two main banks\n"
     ]
    },
    {
     "name": "stderr",
     "output_type": "stream",
     "text": [
      "100%|██████████████████████████████████████████████████████████████████████████████████████| 9474/9474 [00:00<00:00, 19580.79it/s]\n",
      "100%|██████████████████████████████████████████████████████████████████████████████████████| 9068/9068 [00:00<00:00, 13909.23it/s]\n"
     ]
    },
    {
     "name": "stdout",
     "output_type": "stream",
     "text": [
      "getting bank coordinates for the rest of the islands\n"
     ]
    },
    {
     "name": "stderr",
     "output_type": "stream",
     "text": [
      "100%|███████████████████████████████████████████████████████████████████████████████████████████| 204/204 [00:24<00:00,  8.36it/s]\n"
     ]
    },
    {
     "name": "stdout",
     "output_type": "stream",
     "text": [
      "setting half channel widths\n"
     ]
    },
    {
     "name": "stderr",
     "output_type": "stream",
     "text": [
      "100%|███████████████████████████████████████████████████████████████████████████████████████████| 206/206 [01:07<00:00,  3.07it/s]\n",
      "100%|██████████████████████████████████████████████████████████████████████████████████████████| 614/614 [00:05<00:00, 103.10it/s]\n"
     ]
    },
    {
     "name": "stdout",
     "output_type": "stream",
     "text": [
      "74 out of 106 processed\n",
      "LC08_226079_20130817_mndwi.tif\n",
      "removing small holes\n",
      "running skeletonization\n",
      "building graph from skeleton\n",
      "finding reasonable starting and ending points on graph edges\n",
      "finding nodes that are within a certain radius of the path\n"
     ]
    },
    {
     "name": "stderr",
     "output_type": "stream",
     "text": [
      "100%|███████████████████████████████████████████████████████████████████████████████████████████| 200/200 [00:05<00:00, 34.54it/s]\n",
      "100%|██████████████████████████████████████████████████████████████████████████████████████████| 976/976 [00:05<00:00, 185.66it/s]\n",
      "100%|█████████████████████████████████████████████████████████████████████████████████████████| 169/169 [00:00<00:00, 5370.71it/s]\n"
     ]
    },
    {
     "name": "stdout",
     "output_type": "stream",
     "text": [
      "creating linestrings for primal graph\n"
     ]
    },
    {
     "name": "stderr",
     "output_type": "stream",
     "text": [
      "171it [00:04, 42.22it/s]\n"
     ]
    },
    {
     "name": "stdout",
     "output_type": "stream",
     "text": [
      "getting bank coordinates for the two main banks\n"
     ]
    },
    {
     "name": "stderr",
     "output_type": "stream",
     "text": [
      "100%|██████████████████████████████████████████████████████████████████████████████████████| 9097/9097 [00:00<00:00, 20711.01it/s]\n",
      "100%|██████████████████████████████████████████████████████████████████████████████████████| 8741/8741 [00:00<00:00, 15741.49it/s]\n"
     ]
    },
    {
     "name": "stdout",
     "output_type": "stream",
     "text": [
      "getting bank coordinates for the rest of the islands\n"
     ]
    },
    {
     "name": "stderr",
     "output_type": "stream",
     "text": [
      "100%|███████████████████████████████████████████████████████████████████████████████████████████| 169/169 [00:20<00:00,  8.21it/s]\n"
     ]
    },
    {
     "name": "stdout",
     "output_type": "stream",
     "text": [
      "setting half channel widths\n"
     ]
    },
    {
     "name": "stderr",
     "output_type": "stream",
     "text": [
      "100%|███████████████████████████████████████████████████████████████████████████████████████████| 171/171 [00:53<00:00,  3.18it/s]\n",
      "100%|██████████████████████████████████████████████████████████████████████████████████████████| 501/501 [00:04<00:00, 105.73it/s]\n"
     ]
    },
    {
     "name": "stdout",
     "output_type": "stream",
     "text": [
      "75 out of 106 processed\n",
      "LC08_226079_20131105_mndwi.tif\n",
      "removing small holes\n",
      "running skeletonization\n",
      "building graph from skeleton\n",
      "finding reasonable starting and ending points on graph edges\n",
      "finding nodes that are within a certain radius of the path\n"
     ]
    },
    {
     "name": "stderr",
     "output_type": "stream",
     "text": [
      "100%|███████████████████████████████████████████████████████████████████████████████████████████| 199/199 [00:05<00:00, 36.68it/s]\n",
      "100%|██████████████████████████████████████████████████████████████████████████████████████████| 911/911 [00:04<00:00, 194.57it/s]\n",
      "100%|█████████████████████████████████████████████████████████████████████████████████████████| 167/167 [00:00<00:00, 5000.60it/s]\n"
     ]
    },
    {
     "name": "stdout",
     "output_type": "stream",
     "text": [
      "creating linestrings for primal graph\n"
     ]
    },
    {
     "name": "stderr",
     "output_type": "stream",
     "text": [
      "169it [00:04, 42.03it/s]\n"
     ]
    },
    {
     "name": "stdout",
     "output_type": "stream",
     "text": [
      "getting bank coordinates for the two main banks\n"
     ]
    },
    {
     "name": "stderr",
     "output_type": "stream",
     "text": [
      "100%|██████████████████████████████████████████████████████████████████████████████████████| 9127/9127 [00:00<00:00, 21415.73it/s]\n",
      "100%|██████████████████████████████████████████████████████████████████████████████████████| 8867/8867 [00:00<00:00, 15668.90it/s]\n"
     ]
    },
    {
     "name": "stdout",
     "output_type": "stream",
     "text": [
      "getting bank coordinates for the rest of the islands\n"
     ]
    },
    {
     "name": "stderr",
     "output_type": "stream",
     "text": [
      "100%|███████████████████████████████████████████████████████████████████████████████████████████| 167/167 [00:20<00:00,  8.17it/s]\n"
     ]
    },
    {
     "name": "stdout",
     "output_type": "stream",
     "text": [
      "setting half channel widths\n"
     ]
    },
    {
     "name": "stderr",
     "output_type": "stream",
     "text": [
      "100%|███████████████████████████████████████████████████████████████████████████████████████████| 169/169 [00:53<00:00,  3.15it/s]\n",
      "100%|██████████████████████████████████████████████████████████████████████████████████████████| 498/498 [00:04<00:00, 104.87it/s]\n"
     ]
    },
    {
     "name": "stdout",
     "output_type": "stream",
     "text": [
      "76 out of 106 processed\n",
      "LC08_226079_20131223_mndwi.tif\n",
      "removing small holes\n",
      "running skeletonization\n",
      "building graph from skeleton\n",
      "finding reasonable starting and ending points on graph edges\n",
      "finding nodes that are within a certain radius of the path\n"
     ]
    },
    {
     "name": "stderr",
     "output_type": "stream",
     "text": [
      "100%|███████████████████████████████████████████████████████████████████████████████████████████| 189/189 [00:04<00:00, 43.50it/s]\n",
      "100%|██████████████████████████████████████████████████████████████████████████████████████████| 861/861 [00:04<00:00, 212.15it/s]\n",
      "100%|█████████████████████████████████████████████████████████████████████████████████████████| 160/160 [00:00<00:00, 5244.89it/s]\n"
     ]
    },
    {
     "name": "stdout",
     "output_type": "stream",
     "text": [
      "creating linestrings for primal graph\n"
     ]
    },
    {
     "name": "stderr",
     "output_type": "stream",
     "text": [
      "162it [00:03, 45.07it/s]\n"
     ]
    },
    {
     "name": "stdout",
     "output_type": "stream",
     "text": [
      "getting bank coordinates for the two main banks\n"
     ]
    },
    {
     "name": "stderr",
     "output_type": "stream",
     "text": [
      "100%|██████████████████████████████████████████████████████████████████████████████████████| 9163/9163 [00:00<00:00, 19673.46it/s]\n",
      "100%|██████████████████████████████████████████████████████████████████████████████████████| 8812/8812 [00:00<00:00, 16220.29it/s]\n"
     ]
    },
    {
     "name": "stdout",
     "output_type": "stream",
     "text": [
      "getting bank coordinates for the rest of the islands\n"
     ]
    },
    {
     "name": "stderr",
     "output_type": "stream",
     "text": [
      "100%|███████████████████████████████████████████████████████████████████████████████████████████| 160/160 [00:19<00:00,  8.23it/s]\n"
     ]
    },
    {
     "name": "stdout",
     "output_type": "stream",
     "text": [
      "setting half channel widths\n"
     ]
    },
    {
     "name": "stderr",
     "output_type": "stream",
     "text": [
      "100%|███████████████████████████████████████████████████████████████████████████████████████████| 162/162 [00:50<00:00,  3.18it/s]\n",
      "100%|██████████████████████████████████████████████████████████████████████████████████████████| 473/473 [00:04<00:00, 105.22it/s]\n"
     ]
    },
    {
     "name": "stdout",
     "output_type": "stream",
     "text": [
      "77 out of 106 processed\n",
      "LC08_226079_20140313_mndwi.tif\n",
      "removing small holes\n",
      "running skeletonization\n",
      "building graph from skeleton\n",
      "finding reasonable starting and ending points on graph edges\n",
      "finding nodes that are within a certain radius of the path\n"
     ]
    },
    {
     "name": "stderr",
     "output_type": "stream",
     "text": [
      "100%|███████████████████████████████████████████████████████████████████████████████████████████| 199/199 [00:04<00:00, 44.38it/s]\n",
      "100%|██████████████████████████████████████████████████████████████████████████████████████████| 871/871 [00:04<00:00, 210.97it/s]\n",
      "100%|█████████████████████████████████████████████████████████████████████████████████████████| 167/167 [00:00<00:00, 5229.69it/s]\n"
     ]
    },
    {
     "name": "stdout",
     "output_type": "stream",
     "text": [
      "creating linestrings for primal graph\n"
     ]
    },
    {
     "name": "stderr",
     "output_type": "stream",
     "text": [
      "169it [00:03, 43.08it/s]\n"
     ]
    },
    {
     "name": "stdout",
     "output_type": "stream",
     "text": [
      "getting bank coordinates for the two main banks\n"
     ]
    },
    {
     "name": "stderr",
     "output_type": "stream",
     "text": [
      "100%|██████████████████████████████████████████████████████████████████████████████████████| 9155/9155 [00:00<00:00, 20723.18it/s]\n",
      "100%|██████████████████████████████████████████████████████████████████████████████████████| 9130/9130 [00:00<00:00, 17002.82it/s]\n"
     ]
    },
    {
     "name": "stdout",
     "output_type": "stream",
     "text": [
      "getting bank coordinates for the rest of the islands\n"
     ]
    },
    {
     "name": "stderr",
     "output_type": "stream",
     "text": [
      "100%|███████████████████████████████████████████████████████████████████████████████████████████| 167/167 [00:19<00:00,  8.38it/s]\n"
     ]
    },
    {
     "name": "stdout",
     "output_type": "stream",
     "text": [
      "setting half channel widths\n"
     ]
    },
    {
     "name": "stderr",
     "output_type": "stream",
     "text": [
      "100%|███████████████████████████████████████████████████████████████████████████████████████████| 169/169 [00:53<00:00,  3.17it/s]\n",
      "100%|██████████████████████████████████████████████████████████████████████████████████████████| 497/497 [00:04<00:00, 104.12it/s]\n"
     ]
    },
    {
     "name": "stdout",
     "output_type": "stream",
     "text": [
      "78 out of 106 processed\n",
      "LC08_226079_20140820_mndwi.tif\n",
      "removing small holes\n",
      "running skeletonization\n",
      "building graph from skeleton\n",
      "finding reasonable starting and ending points on graph edges\n",
      "finding nodes that are within a certain radius of the path\n"
     ]
    },
    {
     "name": "stderr",
     "output_type": "stream",
     "text": [
      "100%|███████████████████████████████████████████████████████████████████████████████████████████| 208/208 [00:12<00:00, 17.19it/s]\n",
      "100%|████████████████████████████████████████████████████████████████████████████████████████| 1437/1437 [00:11<00:00, 127.60it/s]\n",
      "100%|█████████████████████████████████████████████████████████████████████████████████████████| 169/169 [00:00<00:00, 5264.61it/s]\n"
     ]
    },
    {
     "name": "stdout",
     "output_type": "stream",
     "text": [
      "creating linestrings for primal graph\n"
     ]
    },
    {
     "name": "stderr",
     "output_type": "stream",
     "text": [
      "171it [00:04, 42.50it/s]\n"
     ]
    },
    {
     "name": "stdout",
     "output_type": "stream",
     "text": [
      "getting bank coordinates for the two main banks\n"
     ]
    },
    {
     "name": "stderr",
     "output_type": "stream",
     "text": [
      "100%|██████████████████████████████████████████████████████████████████████████████████████| 9091/9091 [00:00<00:00, 21439.28it/s]\n",
      "100%|██████████████████████████████████████████████████████████████████████████████████████| 8805/8805 [00:00<00:00, 15762.43it/s]\n"
     ]
    },
    {
     "name": "stdout",
     "output_type": "stream",
     "text": [
      "getting bank coordinates for the rest of the islands\n"
     ]
    },
    {
     "name": "stderr",
     "output_type": "stream",
     "text": [
      "100%|███████████████████████████████████████████████████████████████████████████████████████████| 169/169 [00:20<00:00,  8.34it/s]\n"
     ]
    },
    {
     "name": "stdout",
     "output_type": "stream",
     "text": [
      "setting half channel widths\n"
     ]
    },
    {
     "name": "stderr",
     "output_type": "stream",
     "text": [
      "100%|███████████████████████████████████████████████████████████████████████████████████████████| 171/171 [00:54<00:00,  3.14it/s]\n",
      "100%|██████████████████████████████████████████████████████████████████████████████████████████| 504/504 [00:04<00:00, 105.01it/s]\n"
     ]
    },
    {
     "name": "stdout",
     "output_type": "stream",
     "text": [
      "79 out of 106 processed\n",
      "LC08_226079_20140921_mndwi.tif\n",
      "removing small holes\n",
      "running skeletonization\n",
      "building graph from skeleton\n",
      "finding reasonable starting and ending points on graph edges\n",
      "finding nodes that are within a certain radius of the path\n"
     ]
    },
    {
     "name": "stderr",
     "output_type": "stream",
     "text": [
      "100%|███████████████████████████████████████████████████████████████████████████████████████████| 210/210 [00:07<00:00, 27.16it/s]\n",
      "100%|████████████████████████████████████████████████████████████████████████████████████████| 1084/1084 [00:06<00:00, 164.10it/s]\n",
      "100%|█████████████████████████████████████████████████████████████████████████████████████████| 172/172 [00:00<00:00, 5067.47it/s]\n"
     ]
    },
    {
     "name": "stdout",
     "output_type": "stream",
     "text": [
      "creating linestrings for primal graph\n"
     ]
    },
    {
     "name": "stderr",
     "output_type": "stream",
     "text": [
      "174it [00:04, 40.18it/s]\n"
     ]
    },
    {
     "name": "stdout",
     "output_type": "stream",
     "text": [
      "getting bank coordinates for the two main banks\n"
     ]
    },
    {
     "name": "stderr",
     "output_type": "stream",
     "text": [
      "100%|██████████████████████████████████████████████████████████████████████████████████████| 9175/9175 [00:00<00:00, 20885.83it/s]\n",
      "100%|██████████████████████████████████████████████████████████████████████████████████████| 9065/9065 [00:00<00:00, 15876.41it/s]\n"
     ]
    },
    {
     "name": "stdout",
     "output_type": "stream",
     "text": [
      "getting bank coordinates for the rest of the islands\n"
     ]
    },
    {
     "name": "stderr",
     "output_type": "stream",
     "text": [
      "100%|███████████████████████████████████████████████████████████████████████████████████████████| 172/172 [00:21<00:00,  7.96it/s]\n"
     ]
    },
    {
     "name": "stdout",
     "output_type": "stream",
     "text": [
      "setting half channel widths\n"
     ]
    },
    {
     "name": "stderr",
     "output_type": "stream",
     "text": [
      "100%|███████████████████████████████████████████████████████████████████████████████████████████| 174/174 [00:56<00:00,  3.08it/s]\n",
      "100%|██████████████████████████████████████████████████████████████████████████████████████████| 517/517 [00:05<00:00, 102.87it/s]\n"
     ]
    },
    {
     "name": "stdout",
     "output_type": "stream",
     "text": [
      "80 out of 106 processed\n",
      "LC08_226079_20150316_mndwi.tif\n",
      "removing small holes\n",
      "running skeletonization\n",
      "building graph from skeleton\n",
      "finding reasonable starting and ending points on graph edges\n",
      "finding nodes that are within a certain radius of the path\n"
     ]
    },
    {
     "name": "stderr",
     "output_type": "stream",
     "text": [
      "100%|███████████████████████████████████████████████████████████████████████████████████████████| 210/210 [00:06<00:00, 31.92it/s]\n",
      "100%|██████████████████████████████████████████████████████████████████████████████████████████| 923/923 [00:04<00:00, 191.15it/s]\n",
      "100%|█████████████████████████████████████████████████████████████████████████████████████████| 169/169 [00:00<00:00, 5370.43it/s]\n"
     ]
    },
    {
     "name": "stdout",
     "output_type": "stream",
     "text": [
      "creating linestrings for primal graph\n"
     ]
    },
    {
     "name": "stderr",
     "output_type": "stream",
     "text": [
      "171it [00:04, 42.00it/s]\n"
     ]
    },
    {
     "name": "stdout",
     "output_type": "stream",
     "text": [
      "getting bank coordinates for the two main banks\n"
     ]
    },
    {
     "name": "stderr",
     "output_type": "stream",
     "text": [
      "100%|██████████████████████████████████████████████████████████████████████████████████████| 9174/9174 [00:00<00:00, 18543.94it/s]\n",
      "100%|██████████████████████████████████████████████████████████████████████████████████████| 9103/9103 [00:00<00:00, 15480.97it/s]\n"
     ]
    },
    {
     "name": "stdout",
     "output_type": "stream",
     "text": [
      "getting bank coordinates for the rest of the islands\n"
     ]
    },
    {
     "name": "stderr",
     "output_type": "stream",
     "text": [
      "100%|███████████████████████████████████████████████████████████████████████████████████████████| 169/169 [00:21<00:00,  7.92it/s]\n"
     ]
    },
    {
     "name": "stdout",
     "output_type": "stream",
     "text": [
      "setting half channel widths\n"
     ]
    },
    {
     "name": "stderr",
     "output_type": "stream",
     "text": [
      "100%|███████████████████████████████████████████████████████████████████████████████████████████| 171/171 [00:55<00:00,  3.07it/s]\n",
      "100%|██████████████████████████████████████████████████████████████████████████████████████████| 499/499 [00:04<00:00, 101.65it/s]\n"
     ]
    },
    {
     "name": "stdout",
     "output_type": "stream",
     "text": [
      "81 out of 106 processed\n",
      "LC08_226079_20150401_mndwi.tif\n",
      "removing small holes\n",
      "running skeletonization\n",
      "building graph from skeleton\n",
      "finding reasonable starting and ending points on graph edges\n",
      "finding nodes that are within a certain radius of the path\n"
     ]
    },
    {
     "name": "stderr",
     "output_type": "stream",
     "text": [
      "100%|███████████████████████████████████████████████████████████████████████████████████████████| 201/201 [00:06<00:00, 31.68it/s]\n",
      "100%|████████████████████████████████████████████████████████████████████████████████████████| 1029/1029 [00:06<00:00, 171.14it/s]\n",
      "100%|█████████████████████████████████████████████████████████████████████████████████████████| 179/179 [00:00<00:00, 5157.63it/s]\n"
     ]
    },
    {
     "name": "stdout",
     "output_type": "stream",
     "text": [
      "creating linestrings for primal graph\n"
     ]
    },
    {
     "name": "stderr",
     "output_type": "stream",
     "text": [
      "181it [00:04, 38.91it/s]\n"
     ]
    },
    {
     "name": "stdout",
     "output_type": "stream",
     "text": [
      "getting bank coordinates for the two main banks\n"
     ]
    },
    {
     "name": "stderr",
     "output_type": "stream",
     "text": [
      "100%|██████████████████████████████████████████████████████████████████████████████████████| 9251/9251 [00:00<00:00, 21564.11it/s]\n",
      "100%|██████████████████████████████████████████████████████████████████████████████████████| 9099/9099 [00:00<00:00, 15808.19it/s]\n"
     ]
    },
    {
     "name": "stdout",
     "output_type": "stream",
     "text": [
      "getting bank coordinates for the rest of the islands\n"
     ]
    },
    {
     "name": "stderr",
     "output_type": "stream",
     "text": [
      "100%|███████████████████████████████████████████████████████████████████████████████████████████| 179/179 [00:22<00:00,  7.96it/s]\n"
     ]
    },
    {
     "name": "stdout",
     "output_type": "stream",
     "text": [
      "setting half channel widths\n"
     ]
    },
    {
     "name": "stderr",
     "output_type": "stream",
     "text": [
      "100%|███████████████████████████████████████████████████████████████████████████████████████████| 181/181 [00:58<00:00,  3.10it/s]\n",
      "100%|██████████████████████████████████████████████████████████████████████████████████████████| 531/531 [00:05<00:00, 103.00it/s]\n"
     ]
    },
    {
     "name": "stdout",
     "output_type": "stream",
     "text": [
      "82 out of 106 processed\n",
      "LC08_226079_20150519_mndwi.tif\n",
      "removing small holes\n",
      "running skeletonization\n",
      "building graph from skeleton\n",
      "finding reasonable starting and ending points on graph edges\n",
      "finding nodes that are within a certain radius of the path\n"
     ]
    },
    {
     "name": "stderr",
     "output_type": "stream",
     "text": [
      "100%|███████████████████████████████████████████████████████████████████████████████████████████| 206/206 [00:06<00:00, 33.48it/s]\n",
      "100%|██████████████████████████████████████████████████████████████████████████████████████████| 972/972 [00:05<00:00, 184.26it/s]\n",
      "100%|█████████████████████████████████████████████████████████████████████████████████████████| 168/168 [00:00<00:00, 5197.33it/s]\n"
     ]
    },
    {
     "name": "stdout",
     "output_type": "stream",
     "text": [
      "creating linestrings for primal graph\n"
     ]
    },
    {
     "name": "stderr",
     "output_type": "stream",
     "text": [
      "170it [00:04, 41.55it/s]\n"
     ]
    },
    {
     "name": "stdout",
     "output_type": "stream",
     "text": [
      "getting bank coordinates for the two main banks\n"
     ]
    },
    {
     "name": "stderr",
     "output_type": "stream",
     "text": [
      "100%|██████████████████████████████████████████████████████████████████████████████████████| 9121/9121 [00:00<00:00, 22008.55it/s]\n",
      "100%|██████████████████████████████████████████████████████████████████████████████████████| 8771/8771 [00:00<00:00, 16478.35it/s]\n"
     ]
    },
    {
     "name": "stdout",
     "output_type": "stream",
     "text": [
      "getting bank coordinates for the rest of the islands\n"
     ]
    },
    {
     "name": "stderr",
     "output_type": "stream",
     "text": [
      "100%|███████████████████████████████████████████████████████████████████████████████████████████| 168/168 [00:20<00:00,  8.13it/s]\n"
     ]
    },
    {
     "name": "stdout",
     "output_type": "stream",
     "text": [
      "setting half channel widths\n"
     ]
    },
    {
     "name": "stderr",
     "output_type": "stream",
     "text": [
      "100%|███████████████████████████████████████████████████████████████████████████████████████████| 170/170 [00:53<00:00,  3.16it/s]\n",
      "100%|██████████████████████████████████████████████████████████████████████████████████████████| 499/499 [00:04<00:00, 105.11it/s]\n"
     ]
    },
    {
     "name": "stdout",
     "output_type": "stream",
     "text": [
      "83 out of 106 processed\n",
      "LC08_226079_20160809_mndwi.tif\n",
      "removing small holes\n",
      "running skeletonization\n",
      "building graph from skeleton\n",
      "finding reasonable starting and ending points on graph edges\n",
      "finding nodes that are within a certain radius of the path\n"
     ]
    },
    {
     "name": "stderr",
     "output_type": "stream",
     "text": [
      "100%|███████████████████████████████████████████████████████████████████████████████████████████| 203/203 [00:07<00:00, 27.54it/s]\n",
      "100%|████████████████████████████████████████████████████████████████████████████████████████| 1048/1048 [00:06<00:00, 171.60it/s]\n",
      "100%|█████████████████████████████████████████████████████████████████████████████████████████| 175/175 [00:00<00:00, 5031.52it/s]\n"
     ]
    },
    {
     "name": "stdout",
     "output_type": "stream",
     "text": [
      "creating linestrings for primal graph\n"
     ]
    },
    {
     "name": "stderr",
     "output_type": "stream",
     "text": [
      "177it [00:04, 39.03it/s]\n"
     ]
    },
    {
     "name": "stdout",
     "output_type": "stream",
     "text": [
      "getting bank coordinates for the two main banks\n"
     ]
    },
    {
     "name": "stderr",
     "output_type": "stream",
     "text": [
      "100%|██████████████████████████████████████████████████████████████████████████████████████| 9187/9187 [00:00<00:00, 22261.15it/s]\n",
      "100%|██████████████████████████████████████████████████████████████████████████████████████| 8924/8924 [00:00<00:00, 16616.02it/s]\n"
     ]
    },
    {
     "name": "stdout",
     "output_type": "stream",
     "text": [
      "getting bank coordinates for the rest of the islands\n"
     ]
    },
    {
     "name": "stderr",
     "output_type": "stream",
     "text": [
      "100%|███████████████████████████████████████████████████████████████████████████████████████████| 175/175 [00:22<00:00,  7.90it/s]\n"
     ]
    },
    {
     "name": "stdout",
     "output_type": "stream",
     "text": [
      "setting half channel widths\n"
     ]
    },
    {
     "name": "stderr",
     "output_type": "stream",
     "text": [
      "100%|███████████████████████████████████████████████████████████████████████████████████████████| 177/177 [00:56<00:00,  3.11it/s]\n",
      "100%|██████████████████████████████████████████████████████████████████████████████████████████| 519/519 [00:05<00:00, 103.75it/s]\n"
     ]
    },
    {
     "name": "stdout",
     "output_type": "stream",
     "text": [
      "84 out of 106 processed\n",
      "LC08_226079_20160825_mndwi.tif\n",
      "removing small holes\n",
      "running skeletonization\n",
      "building graph from skeleton\n",
      "finding reasonable starting and ending points on graph edges\n",
      "no path between start_ind and end_ind\n",
      "finding nodes that are within a certain radius of the path\n"
     ]
    },
    {
     "name": "stderr",
     "output_type": "stream",
     "text": [
      "100%|███████████████████████████████████████████████████████████████████████████████████████████| 210/210 [00:07<00:00, 27.28it/s]\n",
      "100%|████████████████████████████████████████████████████████████████████████████████████████| 1058/1058 [00:06<00:00, 171.38it/s]\n",
      "100%|█████████████████████████████████████████████████████████████████████████████████████████| 162/162 [00:00<00:00, 5063.32it/s]\n"
     ]
    },
    {
     "name": "stdout",
     "output_type": "stream",
     "text": [
      "creating linestrings for primal graph\n"
     ]
    },
    {
     "name": "stderr",
     "output_type": "stream",
     "text": [
      "164it [00:03, 42.69it/s]\n"
     ]
    },
    {
     "name": "stdout",
     "output_type": "stream",
     "text": [
      "getting bank coordinates for the two main banks\n"
     ]
    },
    {
     "name": "stderr",
     "output_type": "stream",
     "text": [
      "100%|██████████████████████████████████████████████████████████████████████████████████████| 9159/9159 [00:00<00:00, 21388.73it/s]\n",
      "100%|██████████████████████████████████████████████████████████████████████████████████████| 9509/9509 [00:00<00:00, 15470.19it/s]\n"
     ]
    },
    {
     "name": "stdout",
     "output_type": "stream",
     "text": [
      "getting bank coordinates for the rest of the islands\n"
     ]
    },
    {
     "name": "stderr",
     "output_type": "stream",
     "text": [
      "100%|███████████████████████████████████████████████████████████████████████████████████████████| 162/162 [00:19<00:00,  8.13it/s]\n"
     ]
    },
    {
     "name": "stdout",
     "output_type": "stream",
     "text": [
      "setting half channel widths\n"
     ]
    },
    {
     "name": "stderr",
     "output_type": "stream",
     "text": [
      "100%|███████████████████████████████████████████████████████████████████████████████████████████| 164/164 [00:51<00:00,  3.17it/s]\n",
      "100%|██████████████████████████████████████████████████████████████████████████████████████████| 476/476 [00:04<00:00, 100.96it/s]\n"
     ]
    },
    {
     "name": "stdout",
     "output_type": "stream",
     "text": [
      "85 out of 106 processed\n",
      "LC08_226079_20160910_mndwi.tif\n",
      "removing small holes\n",
      "running skeletonization\n",
      "building graph from skeleton\n",
      "finding reasonable starting and ending points on graph edges\n",
      "finding nodes that are within a certain radius of the path\n"
     ]
    },
    {
     "name": "stderr",
     "output_type": "stream",
     "text": [
      "100%|███████████████████████████████████████████████████████████████████████████████████████████| 199/199 [00:06<00:00, 29.23it/s]\n",
      "100%|████████████████████████████████████████████████████████████████████████████████████████| 1048/1048 [00:06<00:00, 169.66it/s]\n",
      "100%|█████████████████████████████████████████████████████████████████████████████████████████| 175/175 [00:00<00:00, 5191.81it/s]\n"
     ]
    },
    {
     "name": "stdout",
     "output_type": "stream",
     "text": [
      "creating linestrings for primal graph\n"
     ]
    },
    {
     "name": "stderr",
     "output_type": "stream",
     "text": [
      "177it [00:04, 39.47it/s]\n"
     ]
    },
    {
     "name": "stdout",
     "output_type": "stream",
     "text": [
      "getting bank coordinates for the two main banks\n"
     ]
    },
    {
     "name": "stderr",
     "output_type": "stream",
     "text": [
      "100%|██████████████████████████████████████████████████████████████████████████████████████| 9144/9144 [00:00<00:00, 21593.94it/s]\n",
      "100%|██████████████████████████████████████████████████████████████████████████████████████| 9348/9348 [00:00<00:00, 15802.79it/s]\n"
     ]
    },
    {
     "name": "stdout",
     "output_type": "stream",
     "text": [
      "getting bank coordinates for the rest of the islands\n"
     ]
    },
    {
     "name": "stderr",
     "output_type": "stream",
     "text": [
      "100%|███████████████████████████████████████████████████████████████████████████████████████████| 175/175 [00:21<00:00,  8.00it/s]\n"
     ]
    },
    {
     "name": "stdout",
     "output_type": "stream",
     "text": [
      "setting half channel widths\n"
     ]
    },
    {
     "name": "stderr",
     "output_type": "stream",
     "text": [
      "100%|███████████████████████████████████████████████████████████████████████████████████████████| 177/177 [00:57<00:00,  3.09it/s]\n",
      "100%|██████████████████████████████████████████████████████████████████████████████████████████| 518/518 [00:05<00:00, 102.56it/s]\n"
     ]
    },
    {
     "name": "stdout",
     "output_type": "stream",
     "text": [
      "86 out of 106 processed\n",
      "LC08_226079_20170422_mndwi.tif\n",
      "removing small holes\n",
      "running skeletonization\n",
      "building graph from skeleton\n",
      "finding reasonable starting and ending points on graph edges\n",
      "finding nodes that are within a certain radius of the path\n"
     ]
    },
    {
     "name": "stderr",
     "output_type": "stream",
     "text": [
      "100%|███████████████████████████████████████████████████████████████████████████████████████████| 218/218 [00:08<00:00, 26.79it/s]\n",
      "100%|████████████████████████████████████████████████████████████████████████████████████████| 1052/1052 [00:06<00:00, 173.66it/s]\n",
      "100%|█████████████████████████████████████████████████████████████████████████████████████████| 174/174 [00:00<00:00, 5213.63it/s]\n"
     ]
    },
    {
     "name": "stdout",
     "output_type": "stream",
     "text": [
      "creating linestrings for primal graph\n"
     ]
    },
    {
     "name": "stderr",
     "output_type": "stream",
     "text": [
      "176it [00:04, 40.75it/s]\n"
     ]
    },
    {
     "name": "stdout",
     "output_type": "stream",
     "text": [
      "getting bank coordinates for the two main banks\n"
     ]
    },
    {
     "name": "stderr",
     "output_type": "stream",
     "text": [
      "100%|██████████████████████████████████████████████████████████████████████████████████████| 9179/9179 [00:00<00:00, 20644.64it/s]\n",
      "100%|██████████████████████████████████████████████████████████████████████████████████████| 9144/9144 [00:00<00:00, 15256.22it/s]\n"
     ]
    },
    {
     "name": "stdout",
     "output_type": "stream",
     "text": [
      "getting bank coordinates for the rest of the islands\n"
     ]
    },
    {
     "name": "stderr",
     "output_type": "stream",
     "text": [
      "100%|███████████████████████████████████████████████████████████████████████████████████████████| 174/174 [00:21<00:00,  8.12it/s]\n"
     ]
    },
    {
     "name": "stdout",
     "output_type": "stream",
     "text": [
      "setting half channel widths\n"
     ]
    },
    {
     "name": "stderr",
     "output_type": "stream",
     "text": [
      "100%|███████████████████████████████████████████████████████████████████████████████████████████| 176/176 [00:56<00:00,  3.12it/s]\n",
      "100%|██████████████████████████████████████████████████████████████████████████████████████████| 518/518 [00:04<00:00, 103.92it/s]\n"
     ]
    },
    {
     "name": "stdout",
     "output_type": "stream",
     "text": [
      "87 out of 106 processed\n",
      "LC08_226079_20170727_mndwi.tif\n",
      "removing small holes\n",
      "running skeletonization\n",
      "building graph from skeleton\n",
      "finding reasonable starting and ending points on graph edges\n",
      "finding nodes that are within a certain radius of the path\n"
     ]
    },
    {
     "name": "stderr",
     "output_type": "stream",
     "text": [
      "100%|███████████████████████████████████████████████████████████████████████████████████████████| 200/200 [00:06<00:00, 28.87it/s]\n",
      "100%|████████████████████████████████████████████████████████████████████████████████████████| 1078/1078 [00:06<00:00, 168.62it/s]\n",
      "100%|█████████████████████████████████████████████████████████████████████████████████████████| 189/189 [00:00<00:00, 5414.08it/s]\n"
     ]
    },
    {
     "name": "stdout",
     "output_type": "stream",
     "text": [
      "creating linestrings for primal graph\n"
     ]
    },
    {
     "name": "stderr",
     "output_type": "stream",
     "text": [
      "191it [00:05, 37.35it/s]\n"
     ]
    },
    {
     "name": "stdout",
     "output_type": "stream",
     "text": [
      "getting bank coordinates for the two main banks\n"
     ]
    },
    {
     "name": "stderr",
     "output_type": "stream",
     "text": [
      "100%|██████████████████████████████████████████████████████████████████████████████████████| 9210/9210 [00:00<00:00, 21904.89it/s]\n",
      "100%|██████████████████████████████████████████████████████████████████████████████████████| 8939/8939 [00:00<00:00, 16364.90it/s]\n"
     ]
    },
    {
     "name": "stdout",
     "output_type": "stream",
     "text": [
      "getting bank coordinates for the rest of the islands\n"
     ]
    },
    {
     "name": "stderr",
     "output_type": "stream",
     "text": [
      "100%|███████████████████████████████████████████████████████████████████████████████████████████| 189/189 [00:22<00:00,  8.25it/s]\n"
     ]
    },
    {
     "name": "stdout",
     "output_type": "stream",
     "text": [
      "setting half channel widths\n"
     ]
    },
    {
     "name": "stderr",
     "output_type": "stream",
     "text": [
      "100%|███████████████████████████████████████████████████████████████████████████████████████████| 191/191 [01:00<00:00,  3.14it/s]\n",
      "100%|██████████████████████████████████████████████████████████████████████████████████████████| 562/562 [00:05<00:00, 104.43it/s]\n"
     ]
    },
    {
     "name": "stdout",
     "output_type": "stream",
     "text": [
      "88 out of 106 processed\n",
      "LC08_226079_20171031_mndwi.tif\n",
      "removing small holes\n",
      "running skeletonization\n",
      "building graph from skeleton\n",
      "finding reasonable starting and ending points on graph edges\n",
      "finding nodes that are within a certain radius of the path\n"
     ]
    },
    {
     "name": "stderr",
     "output_type": "stream",
     "text": [
      "100%|███████████████████████████████████████████████████████████████████████████████████████████| 207/207 [00:07<00:00, 28.56it/s]\n",
      "100%|████████████████████████████████████████████████████████████████████████████████████████| 1017/1017 [00:05<00:00, 180.56it/s]\n",
      "100%|█████████████████████████████████████████████████████████████████████████████████████████| 162/162 [00:00<00:00, 5197.48it/s]\n"
     ]
    },
    {
     "name": "stdout",
     "output_type": "stream",
     "text": [
      "creating linestrings for primal graph\n"
     ]
    },
    {
     "name": "stderr",
     "output_type": "stream",
     "text": [
      "164it [00:03, 44.81it/s]\n"
     ]
    },
    {
     "name": "stdout",
     "output_type": "stream",
     "text": [
      "getting bank coordinates for the two main banks\n"
     ]
    },
    {
     "name": "stderr",
     "output_type": "stream",
     "text": [
      "100%|██████████████████████████████████████████████████████████████████████████████████████| 9147/9147 [00:00<00:00, 20893.44it/s]\n",
      "100%|██████████████████████████████████████████████████████████████████████████████████████| 8832/8832 [00:00<00:00, 15096.28it/s]\n"
     ]
    },
    {
     "name": "stdout",
     "output_type": "stream",
     "text": [
      "getting bank coordinates for the rest of the islands\n"
     ]
    },
    {
     "name": "stderr",
     "output_type": "stream",
     "text": [
      "100%|███████████████████████████████████████████████████████████████████████████████████████████| 162/162 [00:19<00:00,  8.14it/s]\n"
     ]
    },
    {
     "name": "stdout",
     "output_type": "stream",
     "text": [
      "setting half channel widths\n"
     ]
    },
    {
     "name": "stderr",
     "output_type": "stream",
     "text": [
      "100%|███████████████████████████████████████████████████████████████████████████████████████████| 164/164 [00:52<00:00,  3.10it/s]\n",
      "100%|██████████████████████████████████████████████████████████████████████████████████████████| 478/478 [00:04<00:00, 101.45it/s]\n"
     ]
    },
    {
     "name": "stdout",
     "output_type": "stream",
     "text": [
      "89 out of 106 processed\n",
      "LC08_226079_20180103_mndwi.tif\n",
      "removing small holes\n",
      "running skeletonization\n",
      "building graph from skeleton\n",
      "finding reasonable starting and ending points on graph edges\n",
      "finding nodes that are within a certain radius of the path\n"
     ]
    },
    {
     "name": "stderr",
     "output_type": "stream",
     "text": [
      "100%|███████████████████████████████████████████████████████████████████████████████████████████| 216/216 [00:08<00:00, 24.76it/s]\n",
      "100%|████████████████████████████████████████████████████████████████████████████████████████| 1039/1039 [00:06<00:00, 168.94it/s]\n",
      "100%|█████████████████████████████████████████████████████████████████████████████████████████| 172/172 [00:00<00:00, 5046.80it/s]\n"
     ]
    },
    {
     "name": "stdout",
     "output_type": "stream",
     "text": [
      "creating linestrings for primal graph\n"
     ]
    },
    {
     "name": "stderr",
     "output_type": "stream",
     "text": [
      "174it [00:04, 38.91it/s]\n"
     ]
    },
    {
     "name": "stdout",
     "output_type": "stream",
     "text": [
      "getting bank coordinates for the two main banks\n"
     ]
    },
    {
     "name": "stderr",
     "output_type": "stream",
     "text": [
      "100%|██████████████████████████████████████████████████████████████████████████████████████| 9153/9153 [00:00<00:00, 20239.73it/s]\n",
      "100%|██████████████████████████████████████████████████████████████████████████████████████| 9434/9434 [00:00<00:00, 14956.23it/s]\n"
     ]
    },
    {
     "name": "stdout",
     "output_type": "stream",
     "text": [
      "getting bank coordinates for the rest of the islands\n"
     ]
    },
    {
     "name": "stderr",
     "output_type": "stream",
     "text": [
      "100%|███████████████████████████████████████████████████████████████████████████████████████████| 172/172 [00:22<00:00,  7.69it/s]\n"
     ]
    },
    {
     "name": "stdout",
     "output_type": "stream",
     "text": [
      "setting half channel widths\n"
     ]
    },
    {
     "name": "stderr",
     "output_type": "stream",
     "text": [
      "100%|███████████████████████████████████████████████████████████████████████████████████████████| 174/174 [00:58<00:00,  2.98it/s]\n",
      "100%|███████████████████████████████████████████████████████████████████████████████████████████| 515/515 [00:05<00:00, 98.74it/s]\n"
     ]
    },
    {
     "name": "stdout",
     "output_type": "stream",
     "text": [
      "90 out of 106 processed\n",
      "LC08_226079_20180204_mndwi.tif\n",
      "removing small holes\n",
      "running skeletonization\n",
      "building graph from skeleton\n",
      "finding reasonable starting and ending points on graph edges\n",
      "finding nodes that are within a certain radius of the path\n"
     ]
    },
    {
     "name": "stderr",
     "output_type": "stream",
     "text": [
      "100%|███████████████████████████████████████████████████████████████████████████████████████████| 274/274 [00:28<00:00,  9.55it/s]\n",
      "100%|█████████████████████████████████████████████████████████████████████████████████████████| 1811/1811 [00:18<00:00, 97.90it/s]\n",
      "100%|█████████████████████████████████████████████████████████████████████████████████████████| 166/166 [00:00<00:00, 4953.89it/s]\n"
     ]
    },
    {
     "name": "stdout",
     "output_type": "stream",
     "text": [
      "creating linestrings for primal graph\n"
     ]
    },
    {
     "name": "stderr",
     "output_type": "stream",
     "text": [
      "168it [00:04, 40.28it/s]\n"
     ]
    },
    {
     "name": "stdout",
     "output_type": "stream",
     "text": [
      "getting bank coordinates for the two main banks\n"
     ]
    },
    {
     "name": "stderr",
     "output_type": "stream",
     "text": [
      "100%|██████████████████████████████████████████████████████████████████████████████████████| 9279/9279 [00:00<00:00, 19619.87it/s]\n",
      "100%|██████████████████████████████████████████████████████████████████████████████████████| 9047/9047 [00:00<00:00, 13433.23it/s]\n"
     ]
    },
    {
     "name": "stdout",
     "output_type": "stream",
     "text": [
      "getting bank coordinates for the rest of the islands\n"
     ]
    },
    {
     "name": "stderr",
     "output_type": "stream",
     "text": [
      "100%|███████████████████████████████████████████████████████████████████████████████████████████| 166/166 [00:21<00:00,  7.73it/s]\n"
     ]
    },
    {
     "name": "stdout",
     "output_type": "stream",
     "text": [
      "setting half channel widths\n"
     ]
    },
    {
     "name": "stderr",
     "output_type": "stream",
     "text": [
      "100%|███████████████████████████████████████████████████████████████████████████████████████████| 168/168 [00:55<00:00,  3.04it/s]\n",
      "100%|██████████████████████████████████████████████████████████████████████████████████████████| 496/496 [00:04<00:00, 100.88it/s]\n"
     ]
    },
    {
     "name": "stdout",
     "output_type": "stream",
     "text": [
      "91 out of 106 processed\n",
      "LC08_226079_20180714_mndwi.tif\n",
      "removing small holes\n",
      "running skeletonization\n",
      "building graph from skeleton\n",
      "finding reasonable starting and ending points on graph edges\n",
      "finding nodes that are within a certain radius of the path\n"
     ]
    },
    {
     "name": "stderr",
     "output_type": "stream",
     "text": [
      "100%|███████████████████████████████████████████████████████████████████████████████████████████| 190/190 [00:05<00:00, 35.36it/s]\n",
      "100%|██████████████████████████████████████████████████████████████████████████████████████████| 921/921 [00:04<00:00, 193.64it/s]\n",
      "100%|█████████████████████████████████████████████████████████████████████████████████████████| 180/180 [00:00<00:00, 5210.28it/s]\n"
     ]
    },
    {
     "name": "stdout",
     "output_type": "stream",
     "text": [
      "creating linestrings for primal graph\n"
     ]
    },
    {
     "name": "stderr",
     "output_type": "stream",
     "text": [
      "182it [00:04, 38.73it/s]\n"
     ]
    },
    {
     "name": "stdout",
     "output_type": "stream",
     "text": [
      "getting bank coordinates for the two main banks\n"
     ]
    },
    {
     "name": "stderr",
     "output_type": "stream",
     "text": [
      "100%|██████████████████████████████████████████████████████████████████████████████████████| 9102/9102 [00:00<00:00, 22099.36it/s]\n",
      "100%|██████████████████████████████████████████████████████████████████████████████████████| 8906/8906 [00:00<00:00, 17539.79it/s]\n"
     ]
    },
    {
     "name": "stdout",
     "output_type": "stream",
     "text": [
      "getting bank coordinates for the rest of the islands\n"
     ]
    },
    {
     "name": "stderr",
     "output_type": "stream",
     "text": [
      "100%|███████████████████████████████████████████████████████████████████████████████████████████| 180/180 [00:22<00:00,  7.98it/s]\n"
     ]
    },
    {
     "name": "stdout",
     "output_type": "stream",
     "text": [
      "setting half channel widths\n"
     ]
    },
    {
     "name": "stderr",
     "output_type": "stream",
     "text": [
      "100%|███████████████████████████████████████████████████████████████████████████████████████████| 182/182 [00:58<00:00,  3.13it/s]\n",
      "100%|██████████████████████████████████████████████████████████████████████████████████████████| 533/533 [00:05<00:00, 105.22it/s]\n"
     ]
    },
    {
     "name": "stdout",
     "output_type": "stream",
     "text": [
      "92 out of 106 processed\n",
      "LC08_226079_20190514_mndwi.tif\n",
      "removing small holes\n",
      "running skeletonization\n",
      "building graph from skeleton\n",
      "finding reasonable starting and ending points on graph edges\n",
      "finding nodes that are within a certain radius of the path\n"
     ]
    },
    {
     "name": "stderr",
     "output_type": "stream",
     "text": [
      "100%|███████████████████████████████████████████████████████████████████████████████████████████| 226/226 [00:19<00:00, 11.75it/s]\n",
      "100%|████████████████████████████████████████████████████████████████████████████████████████| 1646/1646 [00:14<00:00, 111.89it/s]\n",
      "100%|█████████████████████████████████████████████████████████████████████████████████████████| 155/155 [00:00<00:00, 5096.32it/s]\n"
     ]
    },
    {
     "name": "stdout",
     "output_type": "stream",
     "text": [
      "creating linestrings for primal graph\n"
     ]
    },
    {
     "name": "stderr",
     "output_type": "stream",
     "text": [
      "157it [00:03, 45.05it/s]\n"
     ]
    },
    {
     "name": "stdout",
     "output_type": "stream",
     "text": [
      "getting bank coordinates for the two main banks\n"
     ]
    },
    {
     "name": "stderr",
     "output_type": "stream",
     "text": [
      "100%|██████████████████████████████████████████████████████████████████████████████████████| 9118/9118 [00:00<00:00, 20582.02it/s]\n",
      "100%|██████████████████████████████████████████████████████████████████████████████████████| 8803/8803 [00:00<00:00, 14397.35it/s]\n"
     ]
    },
    {
     "name": "stdout",
     "output_type": "stream",
     "text": [
      "getting bank coordinates for the rest of the islands\n"
     ]
    },
    {
     "name": "stderr",
     "output_type": "stream",
     "text": [
      "100%|███████████████████████████████████████████████████████████████████████████████████████████| 155/155 [00:19<00:00,  8.10it/s]\n"
     ]
    },
    {
     "name": "stdout",
     "output_type": "stream",
     "text": [
      "setting half channel widths\n"
     ]
    },
    {
     "name": "stderr",
     "output_type": "stream",
     "text": [
      "100%|███████████████████████████████████████████████████████████████████████████████████████████| 157/157 [00:48<00:00,  3.22it/s]\n",
      "100%|██████████████████████████████████████████████████████████████████████████████████████████| 459/459 [00:04<00:00, 105.96it/s]\n"
     ]
    },
    {
     "name": "stdout",
     "output_type": "stream",
     "text": [
      "93 out of 106 processed\n",
      "LC08_226079_20190717_mndwi.tif\n",
      "removing small holes\n",
      "running skeletonization\n",
      "building graph from skeleton\n",
      "finding reasonable starting and ending points on graph edges\n",
      "finding nodes that are within a certain radius of the path\n"
     ]
    },
    {
     "name": "stderr",
     "output_type": "stream",
     "text": [
      "100%|███████████████████████████████████████████████████████████████████████████████████████████| 197/197 [00:09<00:00, 19.95it/s]\n",
      "100%|████████████████████████████████████████████████████████████████████████████████████████| 1245/1245 [00:08<00:00, 147.00it/s]\n",
      "100%|█████████████████████████████████████████████████████████████████████████████████████████| 180/180 [00:00<00:00, 5346.62it/s]\n"
     ]
    },
    {
     "name": "stdout",
     "output_type": "stream",
     "text": [
      "creating linestrings for primal graph\n"
     ]
    },
    {
     "name": "stderr",
     "output_type": "stream",
     "text": [
      "182it [00:04, 39.37it/s]\n"
     ]
    },
    {
     "name": "stdout",
     "output_type": "stream",
     "text": [
      "getting bank coordinates for the two main banks\n"
     ]
    },
    {
     "name": "stderr",
     "output_type": "stream",
     "text": [
      "100%|██████████████████████████████████████████████████████████████████████████████████████| 9262/9262 [00:00<00:00, 22852.33it/s]\n",
      "100%|██████████████████████████████████████████████████████████████████████████████████████| 8984/8984 [00:00<00:00, 17175.10it/s]\n"
     ]
    },
    {
     "name": "stdout",
     "output_type": "stream",
     "text": [
      "getting bank coordinates for the rest of the islands\n"
     ]
    },
    {
     "name": "stderr",
     "output_type": "stream",
     "text": [
      "100%|███████████████████████████████████████████████████████████████████████████████████████████| 180/180 [00:21<00:00,  8.20it/s]\n"
     ]
    },
    {
     "name": "stdout",
     "output_type": "stream",
     "text": [
      "setting half channel widths\n"
     ]
    },
    {
     "name": "stderr",
     "output_type": "stream",
     "text": [
      "100%|███████████████████████████████████████████████████████████████████████████████████████████| 182/182 [00:58<00:00,  3.11it/s]\n",
      "100%|██████████████████████████████████████████████████████████████████████████████████████████| 538/538 [00:05<00:00, 102.37it/s]\n"
     ]
    },
    {
     "name": "stdout",
     "output_type": "stream",
     "text": [
      "94 out of 106 processed\n",
      "LC08_226079_20190802_mndwi.tif\n",
      "removing small holes\n",
      "running skeletonization\n",
      "building graph from skeleton\n",
      "finding reasonable starting and ending points on graph edges\n",
      "finding nodes that are within a certain radius of the path\n"
     ]
    },
    {
     "name": "stderr",
     "output_type": "stream",
     "text": [
      "100%|███████████████████████████████████████████████████████████████████████████████████████████| 208/208 [00:09<00:00, 22.57it/s]\n",
      "100%|████████████████████████████████████████████████████████████████████████████████████████| 1141/1141 [00:07<00:00, 158.64it/s]\n",
      "100%|█████████████████████████████████████████████████████████████████████████████████████████| 180/180 [00:00<00:00, 5219.93it/s]\n"
     ]
    },
    {
     "name": "stdout",
     "output_type": "stream",
     "text": [
      "creating linestrings for primal graph\n"
     ]
    },
    {
     "name": "stderr",
     "output_type": "stream",
     "text": [
      "182it [00:04, 38.72it/s]\n"
     ]
    },
    {
     "name": "stdout",
     "output_type": "stream",
     "text": [
      "getting bank coordinates for the two main banks\n"
     ]
    },
    {
     "name": "stderr",
     "output_type": "stream",
     "text": [
      "100%|██████████████████████████████████████████████████████████████████████████████████████| 9253/9253 [00:00<00:00, 22201.75it/s]\n",
      "100%|██████████████████████████████████████████████████████████████████████████████████████| 8901/8901 [00:00<00:00, 16534.03it/s]\n"
     ]
    },
    {
     "name": "stdout",
     "output_type": "stream",
     "text": [
      "getting bank coordinates for the rest of the islands\n"
     ]
    },
    {
     "name": "stderr",
     "output_type": "stream",
     "text": [
      "100%|███████████████████████████████████████████████████████████████████████████████████████████| 180/180 [00:21<00:00,  8.24it/s]\n"
     ]
    },
    {
     "name": "stdout",
     "output_type": "stream",
     "text": [
      "setting half channel widths\n"
     ]
    },
    {
     "name": "stderr",
     "output_type": "stream",
     "text": [
      "100%|███████████████████████████████████████████████████████████████████████████████████████████| 182/182 [00:59<00:00,  3.08it/s]\n",
      "100%|██████████████████████████████████████████████████████████████████████████████████████████| 536/536 [00:05<00:00, 102.87it/s]\n"
     ]
    },
    {
     "name": "stdout",
     "output_type": "stream",
     "text": [
      "95 out of 106 processed\n",
      "LC08_226079_20200226_mndwi.tif\n",
      "removing small holes\n",
      "running skeletonization\n",
      "building graph from skeleton\n",
      "finding reasonable starting and ending points on graph edges\n",
      "finding nodes that are within a certain radius of the path\n"
     ]
    },
    {
     "name": "stderr",
     "output_type": "stream",
     "text": [
      "100%|███████████████████████████████████████████████████████████████████████████████████████████| 185/185 [00:03<00:00, 46.73it/s]\n",
      "100%|██████████████████████████████████████████████████████████████████████████████████████████| 902/902 [00:04<00:00, 199.29it/s]\n",
      "100%|█████████████████████████████████████████████████████████████████████████████████████████| 187/187 [00:00<00:00, 5465.48it/s]\n"
     ]
    },
    {
     "name": "stdout",
     "output_type": "stream",
     "text": [
      "creating linestrings for primal graph\n"
     ]
    },
    {
     "name": "stderr",
     "output_type": "stream",
     "text": [
      "189it [00:04, 38.42it/s]\n"
     ]
    },
    {
     "name": "stdout",
     "output_type": "stream",
     "text": [
      "getting bank coordinates for the two main banks\n"
     ]
    },
    {
     "name": "stderr",
     "output_type": "stream",
     "text": [
      "100%|██████████████████████████████████████████████████████████████████████████████████████| 9243/9243 [00:00<00:00, 23241.01it/s]\n",
      "100%|██████████████████████████████████████████████████████████████████████████████████████| 9008/9008 [00:00<00:00, 16966.32it/s]\n"
     ]
    },
    {
     "name": "stdout",
     "output_type": "stream",
     "text": [
      "getting bank coordinates for the rest of the islands\n"
     ]
    },
    {
     "name": "stderr",
     "output_type": "stream",
     "text": [
      "100%|███████████████████████████████████████████████████████████████████████████████████████████| 187/187 [00:22<00:00,  8.41it/s]\n"
     ]
    },
    {
     "name": "stdout",
     "output_type": "stream",
     "text": [
      "setting half channel widths\n"
     ]
    },
    {
     "name": "stderr",
     "output_type": "stream",
     "text": [
      "100%|███████████████████████████████████████████████████████████████████████████████████████████| 189/189 [01:00<00:00,  3.11it/s]\n",
      "100%|██████████████████████████████████████████████████████████████████████████████████████████| 556/556 [00:05<00:00, 102.55it/s]\n"
     ]
    },
    {
     "name": "stdout",
     "output_type": "stream",
     "text": [
      "96 out of 106 processed\n",
      "LC08_226079_20200414_mndwi.tif\n",
      "removing small holes\n",
      "running skeletonization\n",
      "building graph from skeleton\n",
      "finding reasonable starting and ending points on graph edges\n",
      "finding nodes that are within a certain radius of the path\n"
     ]
    },
    {
     "name": "stderr",
     "output_type": "stream",
     "text": [
      "100%|███████████████████████████████████████████████████████████████████████████████████████████| 204/204 [00:03<00:00, 57.82it/s]\n",
      "100%|██████████████████████████████████████████████████████████████████████████████████████████| 829/829 [00:03<00:00, 216.99it/s]\n",
      "100%|█████████████████████████████████████████████████████████████████████████████████████████| 168/168 [00:00<00:00, 5354.76it/s]\n"
     ]
    },
    {
     "name": "stdout",
     "output_type": "stream",
     "text": [
      "creating linestrings for primal graph\n"
     ]
    },
    {
     "name": "stderr",
     "output_type": "stream",
     "text": [
      "170it [00:04, 41.06it/s]\n"
     ]
    },
    {
     "name": "stdout",
     "output_type": "stream",
     "text": [
      "getting bank coordinates for the two main banks\n"
     ]
    },
    {
     "name": "stderr",
     "output_type": "stream",
     "text": [
      "100%|██████████████████████████████████████████████████████████████████████████████████████| 9141/9141 [00:00<00:00, 22717.51it/s]\n",
      "100%|██████████████████████████████████████████████████████████████████████████████████████| 8827/8827 [00:00<00:00, 18724.51it/s]\n"
     ]
    },
    {
     "name": "stdout",
     "output_type": "stream",
     "text": [
      "getting bank coordinates for the rest of the islands\n"
     ]
    },
    {
     "name": "stderr",
     "output_type": "stream",
     "text": [
      "100%|███████████████████████████████████████████████████████████████████████████████████████████| 168/168 [00:19<00:00,  8.43it/s]\n"
     ]
    },
    {
     "name": "stdout",
     "output_type": "stream",
     "text": [
      "setting half channel widths\n"
     ]
    },
    {
     "name": "stderr",
     "output_type": "stream",
     "text": [
      "100%|███████████████████████████████████████████████████████████████████████████████████████████| 170/170 [00:53<00:00,  3.16it/s]\n",
      "100%|██████████████████████████████████████████████████████████████████████████████████████████| 502/502 [00:04<00:00, 105.51it/s]\n"
     ]
    },
    {
     "name": "stdout",
     "output_type": "stream",
     "text": [
      "97 out of 106 processed\n",
      "LC08_226079_20200719_mndwi.tif\n",
      "removing small holes\n",
      "running skeletonization\n",
      "building graph from skeleton\n",
      "finding reasonable starting and ending points on graph edges\n",
      "finding nodes that are within a certain radius of the path\n"
     ]
    },
    {
     "name": "stderr",
     "output_type": "stream",
     "text": [
      "100%|███████████████████████████████████████████████████████████████████████████████████████████| 202/202 [00:03<00:00, 59.08it/s]\n",
      "100%|██████████████████████████████████████████████████████████████████████████████████████████| 866/866 [00:04<00:00, 201.91it/s]\n",
      "100%|█████████████████████████████████████████████████████████████████████████████████████████| 180/180 [00:00<00:00, 5414.49it/s]\n"
     ]
    },
    {
     "name": "stdout",
     "output_type": "stream",
     "text": [
      "creating linestrings for primal graph\n"
     ]
    },
    {
     "name": "stderr",
     "output_type": "stream",
     "text": [
      "182it [00:04, 39.27it/s]\n"
     ]
    },
    {
     "name": "stdout",
     "output_type": "stream",
     "text": [
      "getting bank coordinates for the two main banks\n"
     ]
    },
    {
     "name": "stderr",
     "output_type": "stream",
     "text": [
      "100%|██████████████████████████████████████████████████████████████████████████████████████| 9169/9169 [00:00<00:00, 23232.82it/s]\n",
      "100%|██████████████████████████████████████████████████████████████████████████████████████| 8833/8833 [00:00<00:00, 18232.49it/s]\n"
     ]
    },
    {
     "name": "stdout",
     "output_type": "stream",
     "text": [
      "getting bank coordinates for the rest of the islands\n"
     ]
    },
    {
     "name": "stderr",
     "output_type": "stream",
     "text": [
      "100%|███████████████████████████████████████████████████████████████████████████████████████████| 180/180 [00:22<00:00,  7.87it/s]\n"
     ]
    },
    {
     "name": "stdout",
     "output_type": "stream",
     "text": [
      "setting half channel widths\n"
     ]
    },
    {
     "name": "stderr",
     "output_type": "stream",
     "text": [
      "100%|███████████████████████████████████████████████████████████████████████████████████████████| 182/182 [00:58<00:00,  3.09it/s]\n",
      "100%|██████████████████████████████████████████████████████████████████████████████████████████| 538/538 [00:05<00:00, 104.24it/s]\n"
     ]
    },
    {
     "name": "stdout",
     "output_type": "stream",
     "text": [
      "98 out of 106 processed\n",
      "LC08_226079_20210228_mndwi.tif\n",
      "removing small holes\n",
      "running skeletonization\n",
      "building graph from skeleton\n",
      "finding reasonable starting and ending points on graph edges\n",
      "finding nodes that are within a certain radius of the path\n"
     ]
    },
    {
     "name": "stderr",
     "output_type": "stream",
     "text": [
      "100%|███████████████████████████████████████████████████████████████████████████████████████████| 183/183 [00:03<00:00, 48.92it/s]\n",
      "100%|██████████████████████████████████████████████████████████████████████████████████████████| 866/866 [00:04<00:00, 208.01it/s]\n",
      "100%|█████████████████████████████████████████████████████████████████████████████████████████| 174/174 [00:00<00:00, 5304.54it/s]\n"
     ]
    },
    {
     "name": "stdout",
     "output_type": "stream",
     "text": [
      "creating linestrings for primal graph\n"
     ]
    },
    {
     "name": "stderr",
     "output_type": "stream",
     "text": [
      "176it [00:04, 40.38it/s]\n"
     ]
    },
    {
     "name": "stdout",
     "output_type": "stream",
     "text": [
      "getting bank coordinates for the two main banks\n"
     ]
    },
    {
     "name": "stderr",
     "output_type": "stream",
     "text": [
      "100%|██████████████████████████████████████████████████████████████████████████████████████| 9261/9261 [00:00<00:00, 21668.28it/s]\n",
      "100%|██████████████████████████████████████████████████████████████████████████████████████| 9089/9089 [00:00<00:00, 16094.27it/s]\n"
     ]
    },
    {
     "name": "stdout",
     "output_type": "stream",
     "text": [
      "getting bank coordinates for the rest of the islands\n"
     ]
    },
    {
     "name": "stderr",
     "output_type": "stream",
     "text": [
      "100%|███████████████████████████████████████████████████████████████████████████████████████████| 174/174 [00:21<00:00,  8.14it/s]\n"
     ]
    },
    {
     "name": "stdout",
     "output_type": "stream",
     "text": [
      "setting half channel widths\n"
     ]
    },
    {
     "name": "stderr",
     "output_type": "stream",
     "text": [
      "100%|███████████████████████████████████████████████████████████████████████████████████████████| 176/176 [00:57<00:00,  3.05it/s]\n",
      "100%|███████████████████████████████████████████████████████████████████████████████████████████| 521/521 [00:05<00:00, 97.85it/s]\n"
     ]
    },
    {
     "name": "stdout",
     "output_type": "stream",
     "text": [
      "99 out of 106 processed\n",
      "LC08_226079_20210401_mndwi.tif\n",
      "removing small holes\n",
      "running skeletonization\n",
      "building graph from skeleton\n",
      "finding reasonable starting and ending points on graph edges\n",
      "finding nodes that are within a certain radius of the path\n"
     ]
    },
    {
     "name": "stderr",
     "output_type": "stream",
     "text": [
      "100%|███████████████████████████████████████████████████████████████████████████████████████████| 180/180 [00:03<00:00, 51.72it/s]\n",
      "100%|██████████████████████████████████████████████████████████████████████████████████████████| 826/826 [00:03<00:00, 211.80it/s]\n",
      "100%|█████████████████████████████████████████████████████████████████████████████████████████| 174/174 [00:00<00:00, 5349.56it/s]\n"
     ]
    },
    {
     "name": "stdout",
     "output_type": "stream",
     "text": [
      "creating linestrings for primal graph\n"
     ]
    },
    {
     "name": "stderr",
     "output_type": "stream",
     "text": [
      "176it [00:04, 41.64it/s]\n"
     ]
    },
    {
     "name": "stdout",
     "output_type": "stream",
     "text": [
      "getting bank coordinates for the two main banks\n"
     ]
    },
    {
     "name": "stderr",
     "output_type": "stream",
     "text": [
      "100%|██████████████████████████████████████████████████████████████████████████████████████| 9167/9167 [00:00<00:00, 21012.31it/s]\n",
      "100%|██████████████████████████████████████████████████████████████████████████████████████| 9121/9121 [00:00<00:00, 16989.57it/s]\n"
     ]
    },
    {
     "name": "stdout",
     "output_type": "stream",
     "text": [
      "getting bank coordinates for the rest of the islands\n"
     ]
    },
    {
     "name": "stderr",
     "output_type": "stream",
     "text": [
      "100%|███████████████████████████████████████████████████████████████████████████████████████████| 174/174 [00:21<00:00,  8.24it/s]\n"
     ]
    },
    {
     "name": "stdout",
     "output_type": "stream",
     "text": [
      "setting half channel widths\n"
     ]
    },
    {
     "name": "stderr",
     "output_type": "stream",
     "text": [
      "100%|███████████████████████████████████████████████████████████████████████████████████████████| 176/176 [00:57<00:00,  3.07it/s]\n",
      "100%|██████████████████████████████████████████████████████████████████████████████████████████| 515/515 [00:04<00:00, 104.32it/s]\n"
     ]
    },
    {
     "name": "stdout",
     "output_type": "stream",
     "text": [
      "100 out of 106 processed\n",
      "LC08_226079_20210807_mndwi.tif\n",
      "removing small holes\n",
      "running skeletonization\n",
      "building graph from skeleton\n",
      "finding reasonable starting and ending points on graph edges\n",
      "finding nodes that are within a certain radius of the path\n"
     ]
    },
    {
     "name": "stderr",
     "output_type": "stream",
     "text": [
      "100%|███████████████████████████████████████████████████████████████████████████████████████████| 203/203 [00:02<00:00, 67.71it/s]\n",
      "100%|██████████████████████████████████████████████████████████████████████████████████████████| 781/781 [00:03<00:00, 235.13it/s]\n",
      "100%|█████████████████████████████████████████████████████████████████████████████████████████| 144/144 [00:00<00:00, 5455.61it/s]\n"
     ]
    },
    {
     "name": "stdout",
     "output_type": "stream",
     "text": [
      "creating linestrings for primal graph\n"
     ]
    },
    {
     "name": "stderr",
     "output_type": "stream",
     "text": [
      "146it [00:02, 51.03it/s]\n"
     ]
    },
    {
     "name": "stdout",
     "output_type": "stream",
     "text": [
      "getting bank coordinates for the two main banks\n"
     ]
    },
    {
     "name": "stderr",
     "output_type": "stream",
     "text": [
      "100%|██████████████████████████████████████████████████████████████████████████████████████| 8958/8958 [00:00<00:00, 22394.21it/s]\n",
      "100%|██████████████████████████████████████████████████████████████████████████████████████| 9029/9029 [00:00<00:00, 20882.38it/s]\n"
     ]
    },
    {
     "name": "stdout",
     "output_type": "stream",
     "text": [
      "getting bank coordinates for the rest of the islands\n"
     ]
    },
    {
     "name": "stderr",
     "output_type": "stream",
     "text": [
      "100%|███████████████████████████████████████████████████████████████████████████████████████████| 144/144 [00:17<00:00,  8.44it/s]\n"
     ]
    },
    {
     "name": "stdout",
     "output_type": "stream",
     "text": [
      "setting half channel widths\n"
     ]
    },
    {
     "name": "stderr",
     "output_type": "stream",
     "text": [
      "100%|███████████████████████████████████████████████████████████████████████████████████████████| 146/146 [00:45<00:00,  3.19it/s]\n",
      "100%|██████████████████████████████████████████████████████████████████████████████████████████| 429/429 [00:04<00:00, 105.40it/s]\n"
     ]
    },
    {
     "name": "stdout",
     "output_type": "stream",
     "text": [
      "101 out of 106 processed\n",
      "LC09_226079_20211205_mndwi.tif\n",
      "removing small holes\n",
      "running skeletonization\n",
      "building graph from skeleton\n",
      "finding reasonable starting and ending points on graph edges\n",
      "finding nodes that are within a certain radius of the path\n"
     ]
    },
    {
     "name": "stderr",
     "output_type": "stream",
     "text": [
      "100%|███████████████████████████████████████████████████████████████████████████████████████████| 183/183 [00:02<00:00, 66.58it/s]\n",
      "100%|██████████████████████████████████████████████████████████████████████████████████████████| 792/792 [00:03<00:00, 225.12it/s]\n",
      "100%|█████████████████████████████████████████████████████████████████████████████████████████| 168/168 [00:00<00:00, 5210.78it/s]\n"
     ]
    },
    {
     "name": "stdout",
     "output_type": "stream",
     "text": [
      "creating linestrings for primal graph\n"
     ]
    },
    {
     "name": "stderr",
     "output_type": "stream",
     "text": [
      "170it [00:03, 42.98it/s]\n"
     ]
    },
    {
     "name": "stdout",
     "output_type": "stream",
     "text": [
      "getting bank coordinates for the two main banks\n"
     ]
    },
    {
     "name": "stderr",
     "output_type": "stream",
     "text": [
      "100%|██████████████████████████████████████████████████████████████████████████████████████| 9081/9081 [00:00<00:00, 23645.06it/s]\n",
      "100%|██████████████████████████████████████████████████████████████████████████████████████| 8891/8891 [00:00<00:00, 19148.92it/s]\n"
     ]
    },
    {
     "name": "stdout",
     "output_type": "stream",
     "text": [
      "getting bank coordinates for the rest of the islands\n"
     ]
    },
    {
     "name": "stderr",
     "output_type": "stream",
     "text": [
      "100%|███████████████████████████████████████████████████████████████████████████████████████████| 168/168 [00:20<00:00,  8.33it/s]\n"
     ]
    },
    {
     "name": "stdout",
     "output_type": "stream",
     "text": [
      "setting half channel widths\n"
     ]
    },
    {
     "name": "stderr",
     "output_type": "stream",
     "text": [
      "100%|███████████████████████████████████████████████████████████████████████████████████████████| 170/170 [00:53<00:00,  3.18it/s]\n",
      "100%|██████████████████████████████████████████████████████████████████████████████████████████| 496/496 [00:04<00:00, 106.44it/s]\n"
     ]
    },
    {
     "name": "stdout",
     "output_type": "stream",
     "text": [
      "102 out of 106 processed\n",
      "LC09_226079_20211221_mndwi.tif\n",
      "removing small holes\n",
      "running skeletonization\n",
      "building graph from skeleton\n",
      "finding reasonable starting and ending points on graph edges\n",
      "finding nodes that are within a certain radius of the path\n"
     ]
    },
    {
     "name": "stderr",
     "output_type": "stream",
     "text": [
      "100%|███████████████████████████████████████████████████████████████████████████████████████████| 206/206 [00:03<00:00, 64.41it/s]\n",
      "100%|██████████████████████████████████████████████████████████████████████████████████████████| 807/807 [00:03<00:00, 227.39it/s]\n",
      "100%|█████████████████████████████████████████████████████████████████████████████████████████| 172/172 [00:00<00:00, 5359.10it/s]\n"
     ]
    },
    {
     "name": "stdout",
     "output_type": "stream",
     "text": [
      "creating linestrings for primal graph\n"
     ]
    },
    {
     "name": "stderr",
     "output_type": "stream",
     "text": [
      "174it [00:04, 42.20it/s]\n"
     ]
    },
    {
     "name": "stdout",
     "output_type": "stream",
     "text": [
      "getting bank coordinates for the two main banks\n"
     ]
    },
    {
     "name": "stderr",
     "output_type": "stream",
     "text": [
      "100%|██████████████████████████████████████████████████████████████████████████████████████| 9000/9000 [00:00<00:00, 22429.46it/s]\n",
      "100%|██████████████████████████████████████████████████████████████████████████████████████| 8865/8865 [00:00<00:00, 19733.45it/s]\n"
     ]
    },
    {
     "name": "stdout",
     "output_type": "stream",
     "text": [
      "getting bank coordinates for the rest of the islands\n"
     ]
    },
    {
     "name": "stderr",
     "output_type": "stream",
     "text": [
      "100%|███████████████████████████████████████████████████████████████████████████████████████████| 172/172 [00:20<00:00,  8.50it/s]\n"
     ]
    },
    {
     "name": "stdout",
     "output_type": "stream",
     "text": [
      "setting half channel widths\n"
     ]
    },
    {
     "name": "stderr",
     "output_type": "stream",
     "text": [
      "100%|███████████████████████████████████████████████████████████████████████████████████████████| 174/174 [00:54<00:00,  3.20it/s]\n",
      "100%|██████████████████████████████████████████████████████████████████████████████████████████| 512/512 [00:04<00:00, 107.04it/s]\n"
     ]
    },
    {
     "name": "stdout",
     "output_type": "stream",
     "text": [
      "103 out of 106 processed\n",
      "LC09_226079_20220122_mndwi.tif\n",
      "removing small holes\n",
      "running skeletonization\n",
      "building graph from skeleton\n",
      "finding reasonable starting and ending points on graph edges\n",
      "finding nodes that are within a certain radius of the path\n"
     ]
    },
    {
     "name": "stderr",
     "output_type": "stream",
     "text": [
      "100%|███████████████████████████████████████████████████████████████████████████████████████████| 210/210 [00:03<00:00, 67.41it/s]\n",
      "100%|██████████████████████████████████████████████████████████████████████████████████████████| 770/770 [00:03<00:00, 237.04it/s]\n",
      "100%|█████████████████████████████████████████████████████████████████████████████████████████| 153/153 [00:00<00:00, 5408.45it/s]\n"
     ]
    },
    {
     "name": "stdout",
     "output_type": "stream",
     "text": [
      "creating linestrings for primal graph\n"
     ]
    },
    {
     "name": "stderr",
     "output_type": "stream",
     "text": [
      "155it [00:03, 46.54it/s]\n"
     ]
    },
    {
     "name": "stdout",
     "output_type": "stream",
     "text": [
      "getting bank coordinates for the two main banks\n"
     ]
    },
    {
     "name": "stderr",
     "output_type": "stream",
     "text": [
      "100%|██████████████████████████████████████████████████████████████████████████████████████| 9005/9005 [00:00<00:00, 22315.80it/s]\n",
      "100%|██████████████████████████████████████████████████████████████████████████████████████| 8778/8778 [00:00<00:00, 20223.11it/s]\n"
     ]
    },
    {
     "name": "stdout",
     "output_type": "stream",
     "text": [
      "getting bank coordinates for the rest of the islands\n"
     ]
    },
    {
     "name": "stderr",
     "output_type": "stream",
     "text": [
      "100%|███████████████████████████████████████████████████████████████████████████████████████████| 153/153 [00:18<00:00,  8.37it/s]\n"
     ]
    },
    {
     "name": "stdout",
     "output_type": "stream",
     "text": [
      "setting half channel widths\n"
     ]
    },
    {
     "name": "stderr",
     "output_type": "stream",
     "text": [
      "100%|███████████████████████████████████████████████████████████████████████████████████████████| 155/155 [00:47<00:00,  3.25it/s]\n",
      "100%|██████████████████████████████████████████████████████████████████████████████████████████| 455/455 [00:04<00:00, 106.96it/s]\n"
     ]
    },
    {
     "name": "stdout",
     "output_type": "stream",
     "text": [
      "104 out of 106 processed\n",
      "LC09_226079_20220223_mndwi.tif\n",
      "removing small holes\n",
      "running skeletonization\n",
      "building graph from skeleton\n",
      "finding reasonable starting and ending points on graph edges\n",
      "finding nodes that are within a certain radius of the path\n"
     ]
    },
    {
     "name": "stderr",
     "output_type": "stream",
     "text": [
      "100%|███████████████████████████████████████████████████████████████████████████████████████████| 199/199 [00:02<00:00, 67.95it/s]\n",
      "100%|██████████████████████████████████████████████████████████████████████████████████████████| 774/774 [00:03<00:00, 237.73it/s]\n",
      "100%|█████████████████████████████████████████████████████████████████████████████████████████| 154/154 [00:00<00:00, 5373.73it/s]\n"
     ]
    },
    {
     "name": "stdout",
     "output_type": "stream",
     "text": [
      "creating linestrings for primal graph\n"
     ]
    },
    {
     "name": "stderr",
     "output_type": "stream",
     "text": [
      "156it [00:03, 44.93it/s]\n"
     ]
    },
    {
     "name": "stdout",
     "output_type": "stream",
     "text": [
      "getting bank coordinates for the two main banks\n"
     ]
    },
    {
     "name": "stderr",
     "output_type": "stream",
     "text": [
      "100%|██████████████████████████████████████████████████████████████████████████████████████| 9068/9068 [00:00<00:00, 22568.61it/s]\n",
      "100%|██████████████████████████████████████████████████████████████████████████████████████| 8818/8818 [00:00<00:00, 19876.73it/s]\n"
     ]
    },
    {
     "name": "stdout",
     "output_type": "stream",
     "text": [
      "getting bank coordinates for the rest of the islands\n"
     ]
    },
    {
     "name": "stderr",
     "output_type": "stream",
     "text": [
      "100%|███████████████████████████████████████████████████████████████████████████████████████████| 154/154 [00:18<00:00,  8.20it/s]\n"
     ]
    },
    {
     "name": "stdout",
     "output_type": "stream",
     "text": [
      "setting half channel widths\n"
     ]
    },
    {
     "name": "stderr",
     "output_type": "stream",
     "text": [
      "100%|███████████████████████████████████████████████████████████████████████████████████████████| 156/156 [00:48<00:00,  3.20it/s]\n",
      "100%|██████████████████████████████████████████████████████████████████████████████████████████| 463/463 [00:04<00:00, 106.55it/s]\n"
     ]
    },
    {
     "name": "stdout",
     "output_type": "stream",
     "text": [
      "105 out of 106 processed\n",
      "LC09_226079_20221106_mndwi.tif\n",
      "removing small holes\n",
      "running skeletonization\n",
      "building graph from skeleton\n",
      "finding reasonable starting and ending points on graph edges\n",
      "finding nodes that are within a certain radius of the path\n"
     ]
    },
    {
     "name": "stderr",
     "output_type": "stream",
     "text": [
      "100%|███████████████████████████████████████████████████████████████████████████████████████████| 237/237 [00:10<00:00, 23.32it/s]\n",
      "100%|████████████████████████████████████████████████████████████████████████████████████████| 1127/1127 [00:06<00:00, 162.86it/s]\n",
      "100%|█████████████████████████████████████████████████████████████████████████████████████████| 174/174 [00:00<00:00, 5325.67it/s]\n"
     ]
    },
    {
     "name": "stdout",
     "output_type": "stream",
     "text": [
      "creating linestrings for primal graph\n"
     ]
    },
    {
     "name": "stderr",
     "output_type": "stream",
     "text": [
      "176it [00:04, 40.73it/s]\n"
     ]
    },
    {
     "name": "stdout",
     "output_type": "stream",
     "text": [
      "getting bank coordinates for the two main banks\n"
     ]
    },
    {
     "name": "stderr",
     "output_type": "stream",
     "text": [
      "100%|██████████████████████████████████████████████████████████████████████████████████████| 9162/9162 [00:00<00:00, 20411.11it/s]\n",
      "100%|██████████████████████████████████████████████████████████████████████████████████████| 9007/9007 [00:00<00:00, 14495.09it/s]\n"
     ]
    },
    {
     "name": "stdout",
     "output_type": "stream",
     "text": [
      "getting bank coordinates for the rest of the islands\n"
     ]
    },
    {
     "name": "stderr",
     "output_type": "stream",
     "text": [
      "100%|███████████████████████████████████████████████████████████████████████████████████████████| 174/174 [00:21<00:00,  8.09it/s]\n"
     ]
    },
    {
     "name": "stdout",
     "output_type": "stream",
     "text": [
      "setting half channel widths\n"
     ]
    },
    {
     "name": "stderr",
     "output_type": "stream",
     "text": [
      "100%|███████████████████████████████████████████████████████████████████████████████████████████| 176/176 [00:56<00:00,  3.10it/s]\n",
      "100%|██████████████████████████████████████████████████████████████████████████████████████████| 522/522 [00:04<00:00, 105.73it/s]\n"
     ]
    },
    {
     "name": "stdout",
     "output_type": "stream",
     "text": [
      "106 out of 106 processed\n"
     ]
    }
   ],
   "source": [
    "import glob\n",
    "from sklearn.cluster import KMeans\n",
    "\n",
    "path_number = 226 # Rio Parana\n",
    "row_number = 79\n",
    "max_cloud_cover = 10\n",
    "n_scenes_per_year = 3\n",
    "download_images = False\n",
    "river_name = 'Río Paraguay'\n",
    "\n",
    "if download_images:\n",
    "    for year in range(1984, 2013):\n",
    "        start_date = str(year)+'-01-01'\n",
    "        end_date =  str(year)+'-12-31'\n",
    "        collection = ee.ImageCollection(\"LANDSAT/LT05/C02/T1_L2\") \\\n",
    "          .filterDate(start_date, end_date) \\\n",
    "          .filter(ee.Filter.eq('WRS_PATH', path_number)) \\\n",
    "          .filter(ee.Filter.eq('WRS_ROW', row_number)) \\\n",
    "          .filter(ee.Filter.lt(\"CLOUD_COVER\", max_cloud_cover)) \\\n",
    "          .sort('CLOUD_COVER',True).limit(n_scenes_per_year)\n",
    "        imgs = collection.toList(collection.size())\n",
    "        for i in range(collection.size().getInfo()):\n",
    "            im = ee.Image(imgs.get(i))\n",
    "            tilename = im.getString('system:index').getInfo()\n",
    "            mndwi = im.normalizedDifference(['SR_B2', 'SR_B5'])\n",
    "            geemap.download_ee_image(mndwi, '/Users/zoltan/Dropbox/rivabar_data/'+tilename+'_mndwi.tif')\n",
    "    \n",
    "    for year in range(2013, 2022):\n",
    "        start_date = str(year)+'-01-01'\n",
    "        end_date =  str(year)+'-12-31'\n",
    "        collection = ee.ImageCollection(\"LANDSAT/LC08/C02/T1_L2\") \\\n",
    "          .filterDate(start_date, end_date) \\\n",
    "          .filter(ee.Filter.eq('WRS_PATH', path_number)) \\\n",
    "          .filter(ee.Filter.eq('WRS_ROW', row_number)) \\\n",
    "          .filter(ee.Filter.lt(\"CLOUD_COVER\", max_cloud_cover)) \\\n",
    "          .sort('CLOUD_COVER',True).limit(n_scenes_per_year)\n",
    "        imgs = collection.toList(collection.size())\n",
    "        for i in range(collection.size().getInfo()):\n",
    "            im = ee.Image(imgs.get(i))\n",
    "            tilename = im.getString('system:index').getInfo()\n",
    "            mndwi = im.normalizedDifference(['SR_B3', 'SR_B6'])\n",
    "            geemap.download_ee_image(mndwi, '/Users/zoltan/Dropbox/rivabar_data/'+tilename+'_mndwi.tif')\n",
    "    \n",
    "    for year in range(2021, 2023):\n",
    "        start_date = str(year)+'-01-01'\n",
    "        end_date =  str(year)+'-12-31'\n",
    "        collection = ee.ImageCollection(\"LANDSAT/LC09/C02/T1_L2\") \\\n",
    "          .filterDate(start_date, end_date) \\\n",
    "          .filter(ee.Filter.eq('WRS_PATH', path_number)) \\\n",
    "          .filter(ee.Filter.eq('WRS_ROW', row_number)) \\\n",
    "          .filter(ee.Filter.lt(\"CLOUD_COVER\", max_cloud_cover)) \\\n",
    "          .sort('CLOUD_COVER',True).limit(n_scenes_per_year)\n",
    "        imgs = collection.toList(collection.size())\n",
    "        for i in range(collection.size().getInfo()):\n",
    "            im = ee.Image(imgs.get(i))\n",
    "            tilename = im.getString('system:index').getInfo()\n",
    "            mndwi = im.normalizedDifference(['SR_B3', 'SR_B6'])\n",
    "            geemap.download_ee_image(mndwi, '/Users/zoltan/Dropbox/rivabar_data/'+tilename+'_mndwi.tif')\n",
    "\n",
    "dirname = '/Users/zoltan/Dropbox/rivabar_data/'\n",
    "fnames = []\n",
    "\n",
    "for name in glob.glob('/Users/zoltan/Dropbox/rivabar_data/*' + f\"{path_number:03d}\" + f\"{row_number:03d}\" + '*.tif'):\n",
    "    fnames.append(name.split('/')[-1])\n",
    "fnames = sorted(fnames, key=lambda s: s[12:20])\n",
    "\n",
    "im, dataset, left_utm_x, right_utm_x, lower_utm_y, upper_utm_y = rb.read_and_plot_im(dirname, fnames[0])\n",
    "\n",
    "# wrs2_gdf = geopandas.read_file('/Users/zoltan/Dropbox/rivabar/WRS2_descending_0/WRS2_descending.shp') \n",
    "# polygon = wrs2_gdf[(wrs2_gdf['PATH']==path_number) & (wrs2_gdf['ROW']==row_number)]['geometry'].values[0]\n",
    "# gdf = ox.features_from_polygon(polygon, tags={'waterway': ['river', 'stream', 'tidal channel']})\n",
    "# lines = []\n",
    "# for line in gdf.loc[gdf['name']==river_name,'geometry'].values:\n",
    "#     lines.append(line)\n",
    "# Line = linemerge(lines)\n",
    "# geoms = Line.intersection(polygon.exterior).geoms\n",
    "# points = []\n",
    "# for geom in geoms:\n",
    "#     points.append((geom.xy[0][0], geom.xy[1][0]))\n",
    "\n",
    "# # Convert the list of points into a numpy array\n",
    "# data = np.array(points)\n",
    "# # Apply K-Means clustering\n",
    "# kmeans = KMeans(n_clusters=2, random_state=0, n_init=10).fit(data)\n",
    "# # Get the coordinates of the cluster centers\n",
    "# centroids = kmeans.cluster_centers_\n",
    "\n",
    "# dem = ee.Image('USGS/SRTMGL1_003')\n",
    "# poi1 = ee.Geometry.Point(list(centroids[0]))\n",
    "# poi2 = ee.Geometry.Point(list(centroids[1]))\n",
    "# scale = 10000 # scale in meters\n",
    "# dem_poi1 = dem.sample(poi1, scale).first().get('elevation').getInfo()\n",
    "# dem_poi2 = dem.sample(poi2, scale).first().get('elevation').getInfo()\n",
    "# print(dem_poi1, dem_poi2)\n",
    "# if dem_poi1 > dem_poi2:\n",
    "#     start_point = 0\n",
    "#     end_point = 1\n",
    "# else:\n",
    "#     start_point = 1\n",
    "#     end_point = 0\n",
    "\n",
    "# points_gs = geopandas.GeoSeries([Point(centroids[0]), Point(centroids[1])])\n",
    "point0 = [-57.35586404800416, -27.36468802461247] # longitude, latitude\n",
    "point1 = [-59.09495472908021, -28.220433108132823]\n",
    "start_point = 0\n",
    "end_point = 1\n",
    "points_gs = geopandas.GeoSeries([Point(point0), Point(point1)])\n",
    "points_gdf = geopandas.GeoDataFrame(geometry=points_gs)\n",
    "points_gdf.crs = 'epsg:'+str(wrs2_gdf.crs.to_epsg())\n",
    "points_gdf = points_gdf.to_crs(dataset.crs.data['init'])\n",
    "\n",
    "start_x = points_gdf.loc[start_point, 'geometry'].xy[0][0]\n",
    "start_y = points_gdf.loc[start_point, 'geometry'].xy[1][0]\n",
    "end_x = points_gdf.loc[end_point, 'geometry'].xy[0][0]\n",
    "end_y = points_gdf.loc[end_point, 'geometry'].xy[1][0]\n",
    "\n",
    "G_rooks = []\n",
    "D_primals = []\n",
    "processed_tiles = []\n",
    "problem_list = []\n",
    "\n",
    "count = 0\n",
    "for fname in fnames:\n",
    "    process_file = True\n",
    "    if process_file:\n",
    "        print(fname)\n",
    "        D_primal, G_rook, G_primal, mndwi, dataset, left_utm_x, right_utm_x, lower_utm_y, upper_utm_y, xs, ys =\\\n",
    "                rb.extract_centerline(fname, dirname, start_x, start_y, end_x, end_y,\\\n",
    "                file_type='water_index', ratio = 10,\\\n",
    "                ch_belt_smooth_factor=1e8, n_pixels_per_channel = 20, \n",
    "                remove_smaller_components=True, delete_pixels_polys = False)\n",
    "        if len(G_rook) > 0:\n",
    "            processed_tiles.append(fname)\n",
    "            D_primals.append(D_primal)\n",
    "            G_rooks.append(G_rook)\n",
    "        count += 1\n",
    "        print(str(count) + ' out of ' + str(len(fnames)) + ' processed')"
   ]
  },
  {
   "cell_type": "markdown",
   "id": "feb6b71d-229b-4798-8b0d-b10d4d395421",
   "metadata": {},
   "source": [
    "### Smooth bank polygons"
   ]
  },
  {
   "cell_type": "code",
   "execution_count": 43,
   "id": "ff1fe45d-db4d-46ff-9be5-3105ecc96bf2",
   "metadata": {},
   "outputs": [
    {
     "data": {
      "text/html": [
       "\n",
       "            <style>\n",
       "                .geemap-dark {\n",
       "                    --jp-widgets-color: white;\n",
       "                    --jp-widgets-label-color: white;\n",
       "                    --jp-ui-font-color1: white;\n",
       "                    --jp-layout-color2: #454545;\n",
       "                    background-color: #383838;\n",
       "                }\n",
       "                    \n",
       "                .geemap-dark .jupyter-button {\n",
       "                    --jp-layout-color3: #383838;\n",
       "                }\n",
       "                \n",
       "                .geemap-colab {\n",
       "                    background-color: var(--colab-primary-surface-color, white);\n",
       "                }\n",
       "                    \n",
       "                .geemap-colab .jupyter-button {\n",
       "                    --jp-layout-color3: var(--colab-primary-surface-color, white);\n",
       "                }\n",
       "            </style>\n",
       "            "
      ],
      "text/plain": [
       "<IPython.core.display.HTML object>"
      ]
     },
     "metadata": {},
     "output_type": "display_data"
    },
    {
     "name": "stderr",
     "output_type": "stream",
     "text": [
      "100%|███████████████████████████████████████████████████████████████████████████████████████████| 105/105 [32:32<00:00, 18.60s/it]\n"
     ]
    }
   ],
   "source": [
    "from shapely.geometry import Polygon\n",
    "from tqdm import tqdm\n",
    "\n",
    "for G_rook in tqdm(G_rooks):\n",
    "    for node in G_rook.nodes:\n",
    "        if node > 1:\n",
    "            x = G_rook.nodes()[node]['bank_polygon'].exterior.xy[0]\n",
    "            y = G_rook.nodes()[node]['bank_polygon'].exterior.xy[1]\n",
    "            x, y = rb.smooth_line(x, y, spline_ds = 10, spline_smoothing = 1000, savgol_window = min(11, len(x)), savgol_poly_order = 3)\n",
    "            G_rook.nodes()[node]['bank_polygon_smooth'] = Polygon(list(zip(x, y)))\n",
    "        else:\n",
    "            x = G_rook.nodes()[node]['bank_polygon'].exterior.xy[0]\n",
    "            y = G_rook.nodes()[node]['bank_polygon'].exterior.xy[1]\n",
    "            # need to remove the last point from x and y for the smoothing to work:\n",
    "            xs, ys = rb.smooth_line(x[:-1], y[:-1], spline_ds = 10, spline_smoothing = 1000, savgol_window = min(11, len(x)), savgol_poly_order = 3)\n",
    "            G_rook.nodes()[node]['bank_polygon_smooth'] = Polygon(list(zip(xs, ys)))"
   ]
  },
  {
   "cell_type": "markdown",
   "id": "b37efcc7-7f73-4715-a762-4791ecfeb823",
   "metadata": {},
   "source": [
    "### Create geodataframe with all polygons"
   ]
  },
  {
   "cell_type": "code",
   "execution_count": 44,
   "id": "609ff1af-a2ee-43fa-8e5a-d300154dd00e",
   "metadata": {},
   "outputs": [
    {
     "data": {
      "text/html": [
       "\n",
       "            <style>\n",
       "                .geemap-dark {\n",
       "                    --jp-widgets-color: white;\n",
       "                    --jp-widgets-label-color: white;\n",
       "                    --jp-ui-font-color1: white;\n",
       "                    --jp-layout-color2: #454545;\n",
       "                    background-color: #383838;\n",
       "                }\n",
       "                    \n",
       "                .geemap-dark .jupyter-button {\n",
       "                    --jp-layout-color3: #383838;\n",
       "                }\n",
       "                \n",
       "                .geemap-colab {\n",
       "                    background-color: var(--colab-primary-surface-color, white);\n",
       "                }\n",
       "                    \n",
       "                .geemap-colab .jupyter-button {\n",
       "                    --jp-layout-color3: var(--colab-primary-surface-color, white);\n",
       "                }\n",
       "            </style>\n",
       "            "
      ],
      "text/plain": [
       "<IPython.core.display.HTML object>"
      ]
     },
     "metadata": {},
     "output_type": "display_data"
    },
    {
     "data": {
      "text/html": [
       "<div>\n",
       "<style scoped>\n",
       "    .dataframe tbody tr th:only-of-type {\n",
       "        vertical-align: middle;\n",
       "    }\n",
       "\n",
       "    .dataframe tbody tr th {\n",
       "        vertical-align: top;\n",
       "    }\n",
       "\n",
       "    .dataframe thead th {\n",
       "        text-align: right;\n",
       "    }\n",
       "</style>\n",
       "<table border=\"1\" class=\"dataframe\">\n",
       "  <thead>\n",
       "    <tr style=\"text-align: right;\">\n",
       "      <th></th>\n",
       "      <th>geometry</th>\n",
       "      <th>year</th>\n",
       "      <th>month</th>\n",
       "      <th>day</th>\n",
       "      <th>date</th>\n",
       "      <th>timedelta</th>\n",
       "      <th>n_days</th>\n",
       "      <th>length</th>\n",
       "      <th>type</th>\n",
       "    </tr>\n",
       "  </thead>\n",
       "  <tbody>\n",
       "    <tr>\n",
       "      <th>0</th>\n",
       "      <td>POLYGON ((247044.668 -3136183.987, 247044.692 ...</td>\n",
       "      <td>1985</td>\n",
       "      <td>1</td>\n",
       "      <td>24</td>\n",
       "      <td>1985-01-24</td>\n",
       "      <td>0 days</td>\n",
       "      <td>0</td>\n",
       "      <td>1.006865e+06</td>\n",
       "      <td>0</td>\n",
       "    </tr>\n",
       "    <tr>\n",
       "      <th>1</th>\n",
       "      <td>POLYGON ((317162.471 -3037546.425, 317152.496 ...</td>\n",
       "      <td>1985</td>\n",
       "      <td>1</td>\n",
       "      <td>24</td>\n",
       "      <td>1985-01-24</td>\n",
       "      <td>0 days</td>\n",
       "      <td>0</td>\n",
       "      <td>1.958982e+04</td>\n",
       "      <td>2</td>\n",
       "    </tr>\n",
       "    <tr>\n",
       "      <th>2</th>\n",
       "      <td>POLYGON ((321601.809 -3035560.798, 321594.294 ...</td>\n",
       "      <td>1985</td>\n",
       "      <td>1</td>\n",
       "      <td>24</td>\n",
       "      <td>1985-01-24</td>\n",
       "      <td>0 days</td>\n",
       "      <td>0</td>\n",
       "      <td>1.032377e+04</td>\n",
       "      <td>2</td>\n",
       "    </tr>\n",
       "    <tr>\n",
       "      <th>3</th>\n",
       "      <td>POLYGON ((324474.128 -3034337.145, 324472.456 ...</td>\n",
       "      <td>1985</td>\n",
       "      <td>1</td>\n",
       "      <td>24</td>\n",
       "      <td>1985-01-24</td>\n",
       "      <td>0 days</td>\n",
       "      <td>0</td>\n",
       "      <td>4.936608e+03</td>\n",
       "      <td>2</td>\n",
       "    </tr>\n",
       "    <tr>\n",
       "      <th>4</th>\n",
       "      <td>POLYGON ((320724.371 -3034849.694, 320712.179 ...</td>\n",
       "      <td>1985</td>\n",
       "      <td>1</td>\n",
       "      <td>24</td>\n",
       "      <td>1985-01-24</td>\n",
       "      <td>0 days</td>\n",
       "      <td>0</td>\n",
       "      <td>3.093883e+03</td>\n",
       "      <td>2</td>\n",
       "    </tr>\n",
       "  </tbody>\n",
       "</table>\n",
       "</div>"
      ],
      "text/plain": [
       "                                            geometry  year  month  day  \\\n",
       "0  POLYGON ((247044.668 -3136183.987, 247044.692 ...  1985      1   24   \n",
       "1  POLYGON ((317162.471 -3037546.425, 317152.496 ...  1985      1   24   \n",
       "2  POLYGON ((321601.809 -3035560.798, 321594.294 ...  1985      1   24   \n",
       "3  POLYGON ((324474.128 -3034337.145, 324472.456 ...  1985      1   24   \n",
       "4  POLYGON ((320724.371 -3034849.694, 320712.179 ...  1985      1   24   \n",
       "\n",
       "        date timedelta  n_days        length  type  \n",
       "0 1985-01-24    0 days       0  1.006865e+06     0  \n",
       "1 1985-01-24    0 days       0  1.958982e+04     2  \n",
       "2 1985-01-24    0 days       0  1.032377e+04     2  \n",
       "3 1985-01-24    0 days       0  4.936608e+03     2  \n",
       "4 1985-01-24    0 days       0  3.093883e+03     2  "
      ]
     },
     "execution_count": 44,
     "metadata": {},
     "output_type": "execute_result"
    }
   ],
   "source": [
    "bank_polys = []\n",
    "year = []\n",
    "month = []\n",
    "day = []\n",
    "bank_type = []\n",
    "for j in range(len(G_rooks)):\n",
    "    if len(G_rook) > 0:\n",
    "        for i in range(0, len(G_rooks[j])):\n",
    "            bank_polys.append(G_rooks[j].nodes()[i]['bank_polygon_smooth'])\n",
    "            year.append(int(processed_tiles[j][12:20][:4]))\n",
    "            month.append(int(processed_tiles[j][12:20][4:6]))\n",
    "            day.append(int(int(processed_tiles[j][12:20][6:])))             \n",
    "            if i == 0:\n",
    "                bank_type.append(0)\n",
    "            elif i == 1:\n",
    "                bank_type.append(1)\n",
    "            else:\n",
    "                bank_type.append(2)\n",
    "gdf = geopandas.GeoDataFrame(bank_polys, columns = ['geometry'])\n",
    "gdf['year'] = year\n",
    "gdf['month'] = month\n",
    "gdf['day'] = day\n",
    "gdf['date'] = pd.to_datetime(gdf[['year', 'month', 'day']])\n",
    "gdf['timedelta'] = gdf['date'] - gdf['date'].min()\n",
    "gdf['n_days'] = gdf['timedelta'].dt.days\n",
    "gdf['length'] = gdf.length\n",
    "gdf['type'] = bank_type\n",
    "# gdf.drop(['date', 'timedelta'], axis=1, inplace=True)\n",
    "gdf.crs = 'epsg:'+str(dataset.crs.to_epsg())\n",
    "gdf = gdf.sort_values(by='date')\n",
    "gdf = gdf.reset_index(drop=True)\n",
    "for i in range(0, len(gdf.geometry)):\n",
    "    if not gdf.geometry[i].is_valid:\n",
    "        gdf.geometry[i] = gdf.geometry[i].buffer(0)\n",
    "gdf.head()"
   ]
  },
  {
   "cell_type": "markdown",
   "id": "ce11fbfa-e3db-4e40-9ed2-dbc72865e551",
   "metadata": {},
   "source": [
    "### Convert geodataframe to southern UTM zone"
   ]
  },
  {
   "cell_type": "code",
   "execution_count": 48,
   "id": "57acb628-8f30-4e55-a2f8-ab904cf60eb6",
   "metadata": {},
   "outputs": [
    {
     "data": {
      "text/html": [
       "\n",
       "            <style>\n",
       "                .geemap-dark {\n",
       "                    --jp-widgets-color: white;\n",
       "                    --jp-widgets-label-color: white;\n",
       "                    --jp-ui-font-color1: white;\n",
       "                    --jp-layout-color2: #454545;\n",
       "                    background-color: #383838;\n",
       "                }\n",
       "                    \n",
       "                .geemap-dark .jupyter-button {\n",
       "                    --jp-layout-color3: #383838;\n",
       "                }\n",
       "                \n",
       "                .geemap-colab {\n",
       "                    background-color: var(--colab-primary-surface-color, white);\n",
       "                }\n",
       "                    \n",
       "                .geemap-colab .jupyter-button {\n",
       "                    --jp-layout-color3: var(--colab-primary-surface-color, white);\n",
       "                }\n",
       "            </style>\n",
       "            "
      ],
      "text/plain": [
       "<IPython.core.display.HTML object>"
      ]
     },
     "metadata": {},
     "output_type": "display_data"
    },
    {
     "data": {
      "text/plain": [
       "(6848785.0, 7080415.0)"
      ]
     },
     "execution_count": 48,
     "metadata": {},
     "output_type": "execute_result"
    }
   ],
   "source": [
    "import rasterio\n",
    "import pyproj\n",
    "from rasterio.crs import CRS\n",
    "import cartopy.crs as ccrs\n",
    "\n",
    "gdf = gdf.to_crs('epsg:32721') # convert geodataframe to southern UTM zone\n",
    "\n",
    "# need to convert the original UTM bounds of the image to the new ones:\n",
    "transformer = pyproj.Transformer.from_crs(CRS.from_epsg(32621), CRS.from_epsg(32721)) #, always_xy=True)\n",
    "left_utm_x1, lower_utm_y1 = transformer.transform(left_utm_x, lower_utm_y)\n",
    "right_utm_x1, upper_utm_y1 = transformer.transform(right_utm_x, upper_utm_y)\n",
    "\n",
    "fig = plt.figure(figsize=(12,12))\n",
    "ax = plt.axes(projection=ccrs.epsg(32721)) # for the southern hemisphere, we need the southern UTM zone so that cartopy doesn't get confused\n",
    "ax.imshow(mndwi, extent=[left_utm_x1, right_utm_x1, lower_utm_y1, upper_utm_y1], cmap='Blues', alpha=0.8) #, transform=ccrs.epsg(32621))\n",
    "ax.set_xlim(left_utm_x1, right_utm_x1)\n",
    "ax.set_ylim(lower_utm_y1, upper_utm_y1)"
   ]
  },
  {
   "cell_type": "markdown",
   "id": "9be4f767-73f8-4c86-add4-55ae85505094",
   "metadata": {},
   "source": [
    "### Use 'ginput' to define area of interest for plotting"
   ]
  },
  {
   "cell_type": "code",
   "execution_count": 50,
   "id": "57b0a7de-7a01-4914-bdeb-85be5701c911",
   "metadata": {},
   "outputs": [
    {
     "data": {
      "text/html": [
       "\n",
       "            <style>\n",
       "                .geemap-dark {\n",
       "                    --jp-widgets-color: white;\n",
       "                    --jp-widgets-label-color: white;\n",
       "                    --jp-ui-font-color1: white;\n",
       "                    --jp-layout-color2: #454545;\n",
       "                    background-color: #383838;\n",
       "                }\n",
       "                    \n",
       "                .geemap-dark .jupyter-button {\n",
       "                    --jp-layout-color3: #383838;\n",
       "                }\n",
       "                \n",
       "                .geemap-colab {\n",
       "                    background-color: var(--colab-primary-surface-color, white);\n",
       "                }\n",
       "                    \n",
       "                .geemap-colab .jupyter-button {\n",
       "                    --jp-layout-color3: var(--colab-primary-surface-color, white);\n",
       "                }\n",
       "            </style>\n",
       "            "
      ],
      "text/plain": [
       "<IPython.core.display.HTML object>"
      ]
     },
     "metadata": {},
     "output_type": "display_data"
    },
    {
     "data": {
      "text/plain": [
       "[(324910.38638620597, 6939368.01615961)]"
      ]
     },
     "execution_count": 50,
     "metadata": {},
     "output_type": "execute_result"
    }
   ],
   "source": [
    "plt.ginput(1)"
   ]
  },
  {
   "cell_type": "markdown",
   "id": "38d227f5-2846-44df-abab-3b8cf88fe068",
   "metadata": {},
   "source": [
    "### Plot summary of migration"
   ]
  },
  {
   "cell_type": "code",
   "execution_count": 151,
   "id": "8a38988d-791c-4c04-901b-cd1a5d5fa94e",
   "metadata": {},
   "outputs": [
    {
     "data": {
      "text/html": [
       "\n",
       "            <style>\n",
       "                .geemap-dark {\n",
       "                    --jp-widgets-color: white;\n",
       "                    --jp-widgets-label-color: white;\n",
       "                    --jp-ui-font-color1: white;\n",
       "                    --jp-layout-color2: #454545;\n",
       "                    background-color: #383838;\n",
       "                }\n",
       "                    \n",
       "                .geemap-dark .jupyter-button {\n",
       "                    --jp-layout-color3: #383838;\n",
       "                }\n",
       "                \n",
       "                .geemap-colab {\n",
       "                    background-color: var(--colab-primary-surface-color, white);\n",
       "                }\n",
       "                    \n",
       "                .geemap-colab .jupyter-button {\n",
       "                    --jp-layout-color3: var(--colab-primary-surface-color, white);\n",
       "                }\n",
       "            </style>\n",
       "            "
      ],
      "text/plain": [
       "<IPython.core.display.HTML object>"
      ]
     },
     "metadata": {},
     "output_type": "display_data"
    },
    {
     "name": "stderr",
     "output_type": "stream",
     "text": [
      "100%|█████████████████████████████████████████████████████████████████████████████████████████| 2200/2200 [03:01<00:00, 12.11it/s]\n"
     ]
    },
    {
     "data": {
      "text/plain": [
       "<matplotlib_scalebar.scalebar.ScaleBar at 0x396337e50>"
      ]
     },
     "execution_count": 151,
     "metadata": {},
     "output_type": "execute_result"
    }
   ],
   "source": [
    "import matplotlib.colors as mcolors\n",
    "from matplotlib_scalebar.scalebar import ScaleBar\n",
    "import matplotlib.ticker as mticker\n",
    "\n",
    "xmin = 304895.671\n",
    "xmax = 324910.386\n",
    "ymin = 6939368.016\n",
    "ymax = 6964461.091\n",
    "\n",
    "aoi_poly = Polygon([(xmin, ymin), (xmax, ymin), (xmax, ymax), (xmin, ymax)])\n",
    "inds = [index for index, row in gdf.iterrows() if row.geometry.overlaps(aoi_poly) or row.geometry.intersects(aoi_poly)]\n",
    "gdf1 = gdf.loc[inds]\n",
    "gdf1 = gdf1.sort_values(by = 'date')\n",
    "gdf1.reset_index(drop=True, inplace=True)\n",
    "\n",
    "xrange = xmax-xmin\n",
    "yrange = ymax-ymin\n",
    "\n",
    "colormap = plt.get_cmap('RdBu')\n",
    "unique_n_days = gdf1.n_days.unique()\n",
    "count = 0\n",
    "# for end_time in unique_n_days:\n",
    "end_time = unique_n_days[-1]\n",
    "norm = mcolors.Normalize(vmin=0, vmax=end_time)\n",
    "n_tiles = len(gdf1[gdf1.n_days <= end_time].n_days.unique())\n",
    "fig = plt.figure(figsize=(12,8))\n",
    "ax = plt.axes(projection=ccrs.epsg(32721))\n",
    "for i in tqdm(gdf1[gdf1.n_days <= end_time].index):\n",
    "    ind = np.where(unique_n_days == gdf1['n_days'][i])[0][0]\n",
    "    # if ~outliers[ind] and ch_areas[ind]/1e6 < 260 and ch_areas[ind]/1e6 > 220: # filter out droughts and large floods\n",
    "    if type(gdf1.geometry[i]) == Polygon:\n",
    "        ax.fill(gdf1.geometry[i].exterior.xy[0], gdf1.geometry[i].exterior.xy[1], color=colormap(norm(gdf1['n_days'][i])), zorder=gdf1['n_days'][i], alpha=1/n_tiles)\n",
    "        ax.plot(gdf1.geometry[i].exterior.xy[0], gdf1.geometry[i].exterior.xy[1], color='k', zorder=gdf1['n_days'][i], linewidth=0.05)\n",
    "        if gdf1.n_days[i] != end_time:\n",
    "            ax.plot(gdf1.geometry[i].exterior.xy[0], gdf1.geometry[i].exterior.xy[1], color='k', zorder=gdf1['n_days'][i], linewidth=0.05)\n",
    "        else:\n",
    "            ax.plot(gdf1.geometry[i].exterior.xy[0], gdf1.geometry[i].exterior.xy[1], color='k', zorder=gdf1['n_days'][i], linewidth=1.0)\n",
    "            \n",
    "# draw lat/lon gridlines:\n",
    "transformer = pyproj.Transformer.from_crs(CRS.from_epsg(32721), CRS.from_epsg(4326), always_xy=True)\n",
    "lonmin, latmin = transformer.transform(xmin, ymin)\n",
    "lonmax, latmax = transformer.transform(xmax, ymax)\n",
    "lons = rb.find_numbers_between(lonmin, lonmax, 1)\n",
    "lats = rb.find_numbers_between(latmin, latmax, 1)\n",
    "ax.gridlines(draw_labels=True, xlocs = mticker.FixedLocator(lons), ylocs = mticker.FixedLocator(lats), color='k', linewidth=0.5, zorder=gdf1.n_days.max()+1)\n",
    "\n",
    "ax.set_xlim(xmin, xmax)\n",
    "ax.set_ylim(ymin, ymax)\n",
    "ax.text(xmin+380, ymax-900, gdf1[gdf1.n_days == end_time].date.iloc[0].strftime(\"%Y/%m/%d\"), fontsize=14, zorder=gdf1.n_days.max()+1)\n",
    "scalebar = ScaleBar(1.0, \"m\", length_fraction=0.25, location='lower right', box_color=\"white\", pad=0.5)\n",
    "scalebar.zorder = gdf1.n_days.max()+1\n",
    "# ax.arrow(xmin+xrange*1/6, ymin-200+yrange*2/3, 0, -1000, width=60, length_includes_head=True, linewidth=None, zorder=gdf1.n_days.max()+1, color='k')\n",
    "# ax.text(xmin+xrange*1/6-500, ymin-200+yrange*2/3+150, 'flow', fontsize=13, zorder=gdf1.n_days.max()+1)\n",
    "ax.add_artist(scalebar)"
   ]
  },
  {
   "cell_type": "markdown",
   "id": "1e01fc07-6b64-44ba-ba7f-4eafd61f28d2",
   "metadata": {},
   "source": [
    "### Look at relationship between channel areas and bar areas"
   ]
  },
  {
   "cell_type": "code",
   "execution_count": 84,
   "id": "3c1ce961-7516-4402-81c1-1f482190c111",
   "metadata": {},
   "outputs": [
    {
     "data": {
      "text/html": [
       "\n",
       "            <style>\n",
       "                .geemap-dark {\n",
       "                    --jp-widgets-color: white;\n",
       "                    --jp-widgets-label-color: white;\n",
       "                    --jp-ui-font-color1: white;\n",
       "                    --jp-layout-color2: #454545;\n",
       "                    background-color: #383838;\n",
       "                }\n",
       "                    \n",
       "                .geemap-dark .jupyter-button {\n",
       "                    --jp-layout-color3: #383838;\n",
       "                }\n",
       "                \n",
       "                .geemap-colab {\n",
       "                    background-color: var(--colab-primary-surface-color, white);\n",
       "                }\n",
       "                    \n",
       "                .geemap-colab .jupyter-button {\n",
       "                    --jp-layout-color3: var(--colab-primary-surface-color, white);\n",
       "                }\n",
       "            </style>\n",
       "            "
      ],
      "text/plain": [
       "<IPython.core.display.HTML object>"
      ]
     },
     "metadata": {},
     "output_type": "display_data"
    },
    {
     "name": "stderr",
     "output_type": "stream",
     "text": [
      "100%|███████████████████████████████████████████████████████████████████████████████████████████| 105/105 [00:15<00:00,  6.87it/s]\n"
     ]
    }
   ],
   "source": [
    "reload(rb)\n",
    "dates, all_bars, chs, ch_belts, bar_areas, ch_areas = rb.get_ch_and_bar_areas(gdf, xmin, xmax, ymin, ymax)\n",
    "\n",
    "plt.figure()\n",
    "plt.scatter(np.array(ch_areas)/1e6, np.array(bar_areas)/1e6, c=gdf.date.unique(), s=50, edgecolor='k')\n",
    "plt.xlabel('channel area (km2)')\n",
    "plt.ylabel('bar area (km2)')\n",
    "plt.colorbar();\n",
    "\n",
    "plt.figure()\n",
    "plt.plot(gdf.date.unique(), np.array(bar_areas)/1e6, '.-', label='bars')\n",
    "plt.plot(gdf.date.unique(), np.array(ch_areas)/1e6, '.-', label='channel')\n",
    "plt.plot(gdf.date.unique(), np.array(ch_areas)/1e6 + np.array(bar_areas)/1e6, '.-');\n",
    "plt.ylabel('area (km2)')\n",
    "plt.legend();"
   ]
  },
  {
   "cell_type": "markdown",
   "id": "d03eeb27-2863-4a1c-90ce-66ac9350e513",
   "metadata": {},
   "source": [
    "### Save geodataframe to shapefile"
   ]
  },
  {
   "cell_type": "code",
   "execution_count": 196,
   "id": "c82820af-2a91-46ea-98f3-3dc51a55874b",
   "metadata": {},
   "outputs": [
    {
     "data": {
      "text/html": [
       "\n",
       "            <style>\n",
       "                .geemap-dark {\n",
       "                    --jp-widgets-color: white;\n",
       "                    --jp-widgets-label-color: white;\n",
       "                    --jp-ui-font-color1: white;\n",
       "                    --jp-layout-color2: #454545;\n",
       "                    background-color: #383838;\n",
       "                }\n",
       "                    \n",
       "                .geemap-dark .jupyter-button {\n",
       "                    --jp-layout-color3: #383838;\n",
       "                }\n",
       "                \n",
       "                .geemap-colab {\n",
       "                    background-color: var(--colab-primary-surface-color, white);\n",
       "                }\n",
       "                    \n",
       "                .geemap-colab .jupyter-button {\n",
       "                    --jp-layout-color3: var(--colab-primary-surface-color, white);\n",
       "                }\n",
       "            </style>\n",
       "            "
      ],
      "text/plain": [
       "<IPython.core.display.HTML object>"
      ]
     },
     "metadata": {},
     "output_type": "display_data"
    }
   ],
   "source": [
    "gdf.drop(['date', 'timedelta'], axis=1, inplace=True)\n",
    "gdf.to_file(dirname + 'Paraguay_226_078_bank_polygons.shp')"
   ]
  }
 ],
 "metadata": {
  "kernelspec": {
   "display_name": "Python 3 (ipykernel)",
   "language": "python",
   "name": "python3"
  },
  "language_info": {
   "codemirror_mode": {
    "name": "ipython",
    "version": 3
   },
   "file_extension": ".py",
   "mimetype": "text/x-python",
   "name": "python",
   "nbconvert_exporter": "python",
   "pygments_lexer": "ipython3",
   "version": "3.10.13"
  },
  "vscode": {
   "interpreter": {
    "hash": "5293af085d627a1ec0b9d033ae6d3c17b7c5c9820fe8c5e4672c38887edecf15"
   }
  }
 },
 "nbformat": 4,
 "nbformat_minor": 5
}
