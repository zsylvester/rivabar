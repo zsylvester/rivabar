{
 "cells": [
  {
   "cell_type": "markdown",
   "id": "e209b6ea",
   "metadata": {},
   "source": [
    "## Import libraries"
   ]
  },
  {
   "cell_type": "code",
   "execution_count": 6,
   "id": "24677c76",
   "metadata": {
    "execution": {
     "iopub.execute_input": "2025-04-01T15:46:56.724372Z",
     "iopub.status.busy": "2025-04-01T15:46:56.723744Z",
     "iopub.status.idle": "2025-04-01T15:46:58.658588Z",
     "shell.execute_reply": "2025-04-01T15:46:58.658108Z",
     "shell.execute_reply.started": "2025-04-01T15:46:56.724333Z"
    }
   },
   "outputs": [],
   "source": [
    "import numpy as np\n",
    "import matplotlib.pyplot as plt\n",
    "import pandas as pd\n",
    "import rasterio\n",
    "import pyproj\n",
    "from rasterio.crs import CRS\n",
    "import cartopy.crs as ccrs\n",
    "from matplotlib_scalebar.scalebar import ScaleBar\n",
    "import matplotlib.ticker as mticker\n",
    "from importlib import reload\n",
    "from pystac_client import Client\n",
    "import rivabar as rb\n",
    "\n",
    "%matplotlib qt\n",
    "plt.rcParams['svg.fonttype'] = 'none'"
   ]
  },
  {
   "cell_type": "markdown",
   "id": "2bc47b24",
   "metadata": {},
   "source": [
    "## Branco River, Brazil"
   ]
  },
  {
   "cell_type": "markdown",
   "id": "17e6ef49",
   "metadata": {},
   "source": [
    "You can find the links to the Landsat bands that are needed by running this cell. Clicking the links will download the raster files."
   ]
  },
  {
   "cell_type": "code",
   "execution_count": 326,
   "id": "ce6ec0f9",
   "metadata": {},
   "outputs": [
    {
     "name": "stdout",
     "output_type": "stream",
     "text": [
      "https://landsatlook.usgs.gov/data/collection02/level-2/standard/oli-tirs/2014/232/060/LC08_L2SP_232060_20140219_20200911_02_T1/LC08_L2SP_232060_20140219_20200911_02_T1_SR_B4.TIF\n",
      "https://landsatlook.usgs.gov/data/collection02/level-2/standard/oli-tirs/2014/232/060/LC08_L2SP_232060_20140219_20200911_02_T1/LC08_L2SP_232060_20140219_20200911_02_T1_SR_B3.TIF\n",
      "https://landsatlook.usgs.gov/data/collection02/level-2/standard/oli-tirs/2014/232/060/LC08_L2SP_232060_20140219_20200911_02_T1/LC08_L2SP_232060_20140219_20200911_02_T1_SR_B2.TIF\n",
      "https://landsatlook.usgs.gov/data/collection02/level-2/standard/oli-tirs/2014/232/060/LC08_L2SP_232060_20140219_20200911_02_T1/LC08_L2SP_232060_20140219_20200911_02_T1_SR_B6.TIF\n"
     ]
    }
   ],
   "source": [
    "catalog = Client.open(\"https://landsatlook.usgs.gov/stac-server\")\n",
    "scene_id = \"LC82320602014050LGN02\"\n",
    "search = catalog.search(\n",
    "    collections=[\"landsat-c2l2-sr\"],\n",
    "    query={\"landsat:scene_id\": {\"eq\": scene_id}},\n",
    "    limit=1\n",
    ")\n",
    "item = next(search.items())\n",
    "for band in ['red', 'green', 'blue', 'swir16']:\n",
    "    print(item.assets[band].href)"
   ]
  },
  {
   "cell_type": "markdown",
   "id": "d17427fe",
   "metadata": {},
   "source": [
    "### Create water index image and pick start- and end points for channel belt"
   ]
  },
  {
   "cell_type": "code",
   "execution_count": 26,
   "id": "f51560c7",
   "metadata": {},
   "outputs": [
    {
     "name": "stdout",
     "output_type": "stream",
     "text": [
      "reading Landsat data\n"
     ]
    },
    {
     "name": "stderr",
     "output_type": "stream",
     "text": [
      "100%|██████████| 4/4 [00:00<00:00,  4.94it/s]\n"
     ]
    },
    {
     "name": "stdout",
     "output_type": "stream",
     "text": [
      "removing small holes\n",
      "removing small components\n"
     ]
    }
   ],
   "source": [
    "dirname = '../data/Branco/' # folder with data for the Branco River\n",
    "fname = 'LC08_L2SP_232060_20140219_20200911_02_T1_SR' # this is a folder that contains the Landsat bands needed to compute the mndwi image\n",
    "file_type = 'multiple_tifs'\n",
    "mndwi, left_utm_x, upper_utm_y, right_utm_x, lower_utm_y, delta_x, delta_y, dataset = rb.create_mndwi(dirname, fname, \n",
    "            file_type, mndwi_threshold=0.01, delete_pixels_polys=False, small_hole_threshold=16, remove_smaller_components=False, solidity_filter=False)\n",
    "plt.figure(figsize=(10, 10))\n",
    "plt.imshow(mndwi, extent=[left_utm_x, right_utm_x, lower_utm_y, upper_utm_y], cmap='gray_r');"
   ]
  },
  {
   "cell_type": "code",
   "execution_count": null,
   "id": "3c5c2aca",
   "metadata": {},
   "outputs": [
    {
     "name": "stdout",
     "output_type": "stream",
     "text": [
      "675779.5909090908 98044.94805194804 628489.9675324674 -91715.96103896103\n"
     ]
    }
   ],
   "source": [
    "# Get two points from user input (these do not need to be exactly on the channel)\n",
    "points = plt.ginput(n=2)\n",
    "# Plot start point in green with 'start' label\n",
    "plt.plot(points[0][0], points[0][1], 'go', markersize=5)\n",
    "plt.text(points[0][0]+50, points[0][1]+50, 'start', fontsize=10, verticalalignment='bottom')\n",
    "# Plot end point in red with 'end' label\n",
    "plt.plot(points[1][0], points[1][1], 'ro', markersize=5)\n",
    "plt.text(points[1][0]+50, points[1][1]+50, 'end', fontsize=10, verticalalignment='bottom')\n",
    "plt.draw()\n",
    "start_x = points[0][0]\n",
    "start_y = points[0][1]\n",
    "end_x = points[1][0]\n",
    "end_y = points[1][1]\n",
    "print(start_x, start_y, end_x, end_y)"
   ]
  },
  {
   "cell_type": "markdown",
   "id": "48ec836d",
   "metadata": {},
   "source": [
    "### Extract channel centerlines and banklines"
   ]
  },
  {
   "cell_type": "code",
   "execution_count": 28,
   "id": "f0b4eb5f",
   "metadata": {
    "execution": {
     "iopub.execute_input": "2024-11-29T17:03:00.760100Z",
     "iopub.status.busy": "2024-11-29T17:03:00.759590Z",
     "iopub.status.idle": "2024-11-29T17:03:53.512611Z",
     "shell.execute_reply": "2024-11-29T17:03:53.512293Z",
     "shell.execute_reply.started": "2024-11-29T17:03:00.760064Z"
    }
   },
   "outputs": [
    {
     "name": "stdout",
     "output_type": "stream",
     "text": [
      "reading Landsat data\n"
     ]
    },
    {
     "name": "stderr",
     "output_type": "stream",
     "text": [
      "100%|██████████| 4/4 [00:00<00:00,  5.01it/s]\n"
     ]
    },
    {
     "name": "stdout",
     "output_type": "stream",
     "text": [
      "removing small holes\n",
      "removing small components\n",
      "running skeletonization\n",
      "building graph from skeleton\n",
      "finding reasonable starting and ending points on graph edges\n",
      "finding nodes that are within a certain radius of the path\n"
     ]
    },
    {
     "name": "stderr",
     "output_type": "stream",
     "text": [
      "100%|██████████| 201/201 [00:00<00:00, 224.05it/s]\n",
      "100%|██████████| 423/423 [00:00<00:00, 452.67it/s] \n",
      "100%|██████████| 65/65 [00:00<00:00, 5987.39it/s]\n"
     ]
    },
    {
     "name": "stdout",
     "output_type": "stream",
     "text": [
      "creating linestrings for primal graph\n"
     ]
    },
    {
     "name": "stderr",
     "output_type": "stream",
     "text": [
      "67it [00:00, 101.98it/s]\n"
     ]
    },
    {
     "name": "stdout",
     "output_type": "stream",
     "text": [
      "start and end nodes in G_primal:\n",
      "43 1\n",
      "getting bank coordinates for the two main banks\n"
     ]
    },
    {
     "name": "stderr",
     "output_type": "stream",
     "text": [
      "100%|██████████| 7284/7284 [00:00<00:00, 30305.59it/s]\n",
      "100%|██████████| 7136/7136 [00:00<00:00, 31476.92it/s]\n"
     ]
    },
    {
     "name": "stdout",
     "output_type": "stream",
     "text": [
      "getting bank coordinates for the rest of the islands\n"
     ]
    },
    {
     "name": "stderr",
     "output_type": "stream",
     "text": [
      "100%|██████████| 65/65 [00:06<00:00,  9.63it/s]\n"
     ]
    },
    {
     "name": "stdout",
     "output_type": "stream",
     "text": [
      "setting half channel widths\n"
     ]
    },
    {
     "name": "stderr",
     "output_type": "stream",
     "text": [
      "100%|██████████| 67/67 [00:21<00:00,  3.11it/s]\n"
     ]
    },
    {
     "name": "stdout",
     "output_type": "stream",
     "text": [
      "creating directed graph\n"
     ]
    },
    {
     "name": "stderr",
     "output_type": "stream",
     "text": [
      "100%|██████████| 192/192 [00:01<00:00, 132.96it/s]\n"
     ]
    },
    {
     "name": "stdout",
     "output_type": "stream",
     "text": [
      "getting bank coordinates for main channel\n"
     ]
    },
    {
     "name": "stderr",
     "output_type": "stream",
     "text": [
      "100%|██████████| 6730/6730 [00:00<00:00, 29200.21it/s]\n",
      "100%|██████████| 6730/6730 [00:00<00:00, 28763.62it/s]\n",
      "100%|██████████| 65/65 [00:00<00:00, 3044.34it/s]\n",
      "100%|██████████| 192/192 [00:00<00:00, 1334.31it/s]\n"
     ]
    }
   ],
   "source": [
    "# start_x = 675796.2\n",
    "# start_y = 98338.8\n",
    "# end_x = 628190.3\n",
    "# end_y = -91886.6\n",
    "\n",
    "D_primal, G_rook, G_primal, mndwi, dataset, left_utm_x, right_utm_x, lower_utm_y, upper_utm_y, xs, ys = \\\n",
    "        rb.extract_centerline(fname, dirname, start_x, start_y, end_x, end_y,\\\n",
    "        file_type='multiple_tifs', flip_outlier_edges=True, mndwi_threshold=0.0,\\\n",
    "        ch_belt_smooth_factor=1e8, ch_belt_half_width=2000, remove_smaller_components=True,\\\n",
    "        delete_pixels_polys=False, small_hole_threshold=64, solidity_filter=False, plot_D_primal=True)"
   ]
  },
  {
   "cell_type": "markdown",
   "id": "ff976547-7e67-4d90-969b-08a63e4b2331",
   "metadata": {},
   "source": [
    "### Plot width data for main channel"
   ]
  },
  {
   "cell_type": "code",
   "execution_count": 337,
   "id": "0d8a8848-ced1-44cb-8d0a-9cc15732ce06",
   "metadata": {
    "execution": {
     "iopub.execute_input": "2024-11-29T17:04:36.869275Z",
     "iopub.status.busy": "2024-11-29T17:04:36.869069Z",
     "iopub.status.idle": "2024-11-29T17:04:36.919187Z",
     "shell.execute_reply": "2024-11-29T17:04:36.918525Z",
     "shell.execute_reply.started": "2024-11-29T17:04:36.869259Z"
    }
   },
   "outputs": [],
   "source": [
    "# plot width data for main channel\n",
    "xl, yl, w1l, w2l, w, s = rb.get_channel_widths_along_path(D_primal, D_primal.graph['main_path'])\n",
    "plt.figure(figsize=(12, 4))\n",
    "plt.plot(s, (np.array(w1l)+np.array(w2l))*30.0)\n",
    "plt.xlabel('along-channel distance (m)')\n",
    "plt.ylabel('channel width (m)');"
   ]
  },
  {
   "cell_type": "markdown",
   "id": "2a3551ed-5fa5-4300-8ea8-b550a48887e4",
   "metadata": {},
   "source": [
    "### Plot banks and centerline for main channel"
   ]
  },
  {
   "cell_type": "code",
   "execution_count": 338,
   "id": "a35bd98a-223f-432a-9d08-69dd685c4850",
   "metadata": {
    "execution": {
     "iopub.execute_input": "2024-11-29T17:04:43.473957Z",
     "iopub.status.busy": "2024-11-29T17:04:43.473447Z",
     "iopub.status.idle": "2024-11-29T17:04:48.649915Z",
     "shell.execute_reply": "2024-11-29T17:04:48.648582Z",
     "shell.execute_reply.started": "2024-11-29T17:04:43.473920Z"
    }
   },
   "outputs": [
    {
     "name": "stderr",
     "output_type": "stream",
     "text": [
      "100%|██████████| 6786/6786 [00:00<00:00, 28593.36it/s]\n",
      "100%|██████████| 6786/6786 [00:00<00:00, 28938.53it/s]\n"
     ]
    }
   ],
   "source": [
    "x, y, x_utm1, y_utm1, x_utm2, y_utm2 = rb.get_bank_coords_for_main_channel(D_primal, mndwi, D_primal.graph['main_path'], dataset)\n",
    "plt.figure()\n",
    "plt.plot(x, y)\n",
    "plt.plot(x_utm1, y_utm1)\n",
    "plt.plot(x_utm2, y_utm2)\n",
    "plt.axis('equal');"
   ]
  },
  {
   "cell_type": "markdown",
   "id": "3ef86026-e01d-4322-8676-1529ecd7b0b0",
   "metadata": {},
   "source": [
    "### Save results to shapefiles"
   ]
  },
  {
   "cell_type": "code",
   "execution_count": 118,
   "id": "f7dbaa1a",
   "metadata": {
    "execution": {
     "iopub.execute_input": "2024-11-29T17:12:25.226220Z",
     "iopub.status.busy": "2024-11-29T17:12:25.225357Z",
     "iopub.status.idle": "2024-11-29T17:12:25.336650Z",
     "shell.execute_reply": "2024-11-29T17:12:25.336279Z",
     "shell.execute_reply.started": "2024-11-29T17:12:25.226149Z"
    }
   },
   "outputs": [],
   "source": [
    "reload(rb)\n",
    "rb.write_shapefiles_and_graphs(G_rook, D_primal, dataset, dirname, 'Branco')"
   ]
  },
  {
   "cell_type": "markdown",
   "id": "ad7735c0",
   "metadata": {},
   "source": [
    "### Display an image band in UTM coordinates\n",
    "\n",
    "The cell below is an example of how you can load the first band from a raster file and display it in UTM coordinate space (so that you can use 'ginput' to get start_x, start_y, end_x, end_y)."
   ]
  },
  {
   "cell_type": "code",
   "execution_count": 340,
   "id": "cdcbfec8",
   "metadata": {
    "execution": {
     "iopub.execute_input": "2024-11-29T17:12:47.960179Z",
     "iopub.status.busy": "2024-11-29T17:12:47.959366Z",
     "iopub.status.idle": "2024-11-29T17:12:53.770709Z",
     "shell.execute_reply": "2024-11-29T17:12:53.770237Z",
     "shell.execute_reply.started": "2024-11-29T17:12:47.960124Z"
    }
   },
   "outputs": [],
   "source": [
    "reload(rb)\n",
    "dirname = '../data/Branco/LC08_L2SP_232060_20140219_20200911_02_T1_SR/'\n",
    "fname = 'LC08_L2SP_232060_20140219_20200911_02_T1_SR_B2.tif'\n",
    "im, dataset, left_utm_x, right_utm_x, lower_utm_y, upper_utm_y = rb.read_and_plot_im(dirname, fname)"
   ]
  },
  {
   "cell_type": "markdown",
   "id": "d1307c64",
   "metadata": {},
   "source": [
    "## Mamore River, Bolivia"
   ]
  },
  {
   "cell_type": "markdown",
   "id": "aae0eda7",
   "metadata": {},
   "source": [
    "\n",
    "Data download links:"
   ]
  },
  {
   "cell_type": "code",
   "execution_count": 341,
   "id": "52fa4088",
   "metadata": {},
   "outputs": [
    {
     "name": "stdout",
     "output_type": "stream",
     "text": [
      "https://landsatlook.usgs.gov/data/collection02/level-2/standard/oli-tirs/2016/232/071/LC08_L2SP_232071_20160616_20200906_02_T1/LC08_L2SP_232071_20160616_20200906_02_T1_SR_B4.TIF\n",
      "https://landsatlook.usgs.gov/data/collection02/level-2/standard/oli-tirs/2016/232/071/LC08_L2SP_232071_20160616_20200906_02_T1/LC08_L2SP_232071_20160616_20200906_02_T1_SR_B3.TIF\n",
      "https://landsatlook.usgs.gov/data/collection02/level-2/standard/oli-tirs/2016/232/071/LC08_L2SP_232071_20160616_20200906_02_T1/LC08_L2SP_232071_20160616_20200906_02_T1_SR_B2.TIF\n",
      "https://landsatlook.usgs.gov/data/collection02/level-2/standard/oli-tirs/2016/232/071/LC08_L2SP_232071_20160616_20200906_02_T1/LC08_L2SP_232071_20160616_20200906_02_T1_SR_B6.TIF\n"
     ]
    }
   ],
   "source": [
    "scene_id = \"LC82320712016168LGN01\"\n",
    "search = catalog.search(\n",
    "    collections=[\"landsat-c2l2-sr\"],\n",
    "    query={\"landsat:scene_id\": {\"eq\": scene_id}},\n",
    "    limit=1\n",
    ")\n",
    "item = next(search.items())\n",
    "for band in ['red', 'green', 'blue', 'swir16']:\n",
    "    print(item.assets[band].href)"
   ]
  },
  {
   "cell_type": "code",
   "execution_count": 422,
   "id": "d153ce14",
   "metadata": {
    "execution": {
     "iopub.execute_input": "2024-11-29T17:13:02.208754Z",
     "iopub.status.busy": "2024-11-29T17:13:02.208232Z",
     "iopub.status.idle": "2024-11-29T17:13:38.503852Z",
     "shell.execute_reply": "2024-11-29T17:13:38.503372Z",
     "shell.execute_reply.started": "2024-11-29T17:13:02.208718Z"
    }
   },
   "outputs": [
    {
     "name": "stdout",
     "output_type": "stream",
     "text": [
      "reading Landsat data\n"
     ]
    },
    {
     "name": "stderr",
     "output_type": "stream",
     "text": [
      "100%|██████████| 4/4 [00:00<00:00,  4.67it/s]\n"
     ]
    },
    {
     "name": "stdout",
     "output_type": "stream",
     "text": [
      "removing small holes\n",
      "removing small components\n",
      "running skeletonization\n",
      "building graph from skeleton\n",
      "finding reasonable starting and ending points on graph edges\n",
      "no path between start_ind and end_ind\n",
      "finding nodes that are within a certain radius of the path\n"
     ]
    },
    {
     "name": "stderr",
     "output_type": "stream",
     "text": [
      "100%|██████████| 66/66 [00:00<00:00, 612.14it/s]\n",
      "100%|██████████| 77/77 [00:00<00:00, 1647.66it/s]\n",
      "100%|██████████| 12/12 [00:00<00:00, 5744.31it/s]\n"
     ]
    },
    {
     "name": "stdout",
     "output_type": "stream",
     "text": [
      "creating linestrings for primal graph\n"
     ]
    },
    {
     "name": "stderr",
     "output_type": "stream",
     "text": [
      "14it [00:00, 100.11it/s]\n"
     ]
    },
    {
     "name": "stdout",
     "output_type": "stream",
     "text": [
      "start and end nodes in G_primal:\n",
      "2 1\n",
      "getting bank coordinates for the two main banks\n"
     ]
    },
    {
     "name": "stderr",
     "output_type": "stream",
     "text": [
      "100%|██████████| 14383/14383 [00:00<00:00, 38499.01it/s]\n",
      "100%|██████████| 13597/13597 [00:00<00:00, 38835.94it/s]\n"
     ]
    },
    {
     "name": "stdout",
     "output_type": "stream",
     "text": [
      "getting bank coordinates for the rest of the islands\n"
     ]
    },
    {
     "name": "stderr",
     "output_type": "stream",
     "text": [
      "100%|██████████| 12/12 [00:01<00:00,  9.93it/s]\n"
     ]
    },
    {
     "name": "stdout",
     "output_type": "stream",
     "text": [
      "setting half channel widths\n"
     ]
    },
    {
     "name": "stderr",
     "output_type": "stream",
     "text": [
      "100%|██████████| 14/14 [00:10<00:00,  1.37it/s]\n"
     ]
    },
    {
     "name": "stdout",
     "output_type": "stream",
     "text": [
      "creating directed graph\n"
     ]
    },
    {
     "name": "stderr",
     "output_type": "stream",
     "text": [
      "100%|██████████| 37/37 [00:00<00:00, 58.82it/s]\n"
     ]
    },
    {
     "name": "stdout",
     "output_type": "stream",
     "text": [
      "getting bank coordinates for main channel\n"
     ]
    },
    {
     "name": "stderr",
     "output_type": "stream",
     "text": [
      "100%|██████████| 13399/13399 [00:00<00:00, 38012.66it/s]\n",
      "100%|██████████| 13399/13399 [00:00<00:00, 37871.37it/s]\n",
      "100%|██████████| 12/12 [00:00<00:00, 3416.02it/s]\n",
      "100%|██████████| 37/37 [00:00<00:00, 746.27it/s]\n"
     ]
    }
   ],
   "source": [
    "reload(rb)\n",
    "dirname = '../data/Mamore/'\n",
    "fname = 'LC08_L2SP_232071_20160616_20200906_02_T1_SR'\n",
    "start_x = 303810\n",
    "start_y = -1851620\n",
    "end_x = 285603\n",
    "end_y = -1666131\n",
    "\n",
    "# note that 'flip_outlier_edges' and 'check_edges' are both set to 'False' for a meandering river\n",
    "D_primal, G_rook, G_primal, mndwi, dataset, left_utm_x, right_utm_x, lower_utm_y, upper_utm_y, xs, ys = \\\n",
    "        rb.extract_centerline(fname, dirname, start_x, start_y, end_x, end_y,\\\n",
    "        file_type='multiple_tifs', ch_belt_smooth_factor=1e8, ch_belt_half_width=2000, remove_smaller_components=False,\\\n",
    "        delete_pixels_polys=False, small_hole_threshold=64, solidity_filter=False, plot_D_primal=True, flip_outlier_edges=False, check_edges=False)"
   ]
  },
  {
   "cell_type": "markdown",
   "id": "52b1e802-f6d8-42e3-ac79-6e99d469ee29",
   "metadata": {},
   "source": [
    "### Plot width data for main channel"
   ]
  },
  {
   "cell_type": "code",
   "execution_count": 347,
   "id": "5d46f781-2990-44b7-b971-363973167c78",
   "metadata": {},
   "outputs": [],
   "source": [
    "xl, yl, w1l, w2l, w, s = rb.get_channel_widths_along_path(D_primal, D_primal.graph['main_path'])\n",
    "plt.figure(figsize=(12, 4))\n",
    "plt.plot(s, np.array(w)*30.0)\n",
    "plt.xlabel('along-channel distance (m)')\n",
    "plt.ylabel('channel width (m)');"
   ]
  },
  {
   "cell_type": "markdown",
   "id": "46ff76fe-db30-44eb-bb60-b00f238aad9d",
   "metadata": {},
   "source": [
    "### Plot meander wavelength and channel width data"
   ]
  },
  {
   "cell_type": "code",
   "execution_count": 348,
   "id": "2db1c6de-a04e-4997-9d4d-b936d7fd8985",
   "metadata": {},
   "outputs": [
    {
     "data": {
      "text/html": [
       "<div>\n",
       "<style scoped>\n",
       "    .dataframe tbody tr th:only-of-type {\n",
       "        vertical-align: middle;\n",
       "    }\n",
       "\n",
       "    .dataframe tbody tr th {\n",
       "        vertical-align: top;\n",
       "    }\n",
       "\n",
       "    .dataframe thead th {\n",
       "        text-align: right;\n",
       "    }\n",
       "</style>\n",
       "<table border=\"1\" class=\"dataframe\">\n",
       "  <thead>\n",
       "    <tr style=\"text-align: right;\">\n",
       "      <th></th>\n",
       "      <th>wavelengths (m)</th>\n",
       "      <th>sinuosities</th>\n",
       "      <th>mean widths (m)</th>\n",
       "      <th>std. dev. of widths (m)</th>\n",
       "      <th>along-channel distance (km)</th>\n",
       "    </tr>\n",
       "  </thead>\n",
       "  <tbody>\n",
       "    <tr>\n",
       "      <th>0</th>\n",
       "      <td>5431.627861</td>\n",
       "      <td>1.211017</td>\n",
       "      <td>204.999671</td>\n",
       "      <td>60.589707</td>\n",
       "      <td>2.283192</td>\n",
       "    </tr>\n",
       "    <tr>\n",
       "      <th>1</th>\n",
       "      <td>2558.965193</td>\n",
       "      <td>2.044979</td>\n",
       "      <td>146.129310</td>\n",
       "      <td>29.259071</td>\n",
       "      <td>8.296027</td>\n",
       "    </tr>\n",
       "    <tr>\n",
       "      <th>2</th>\n",
       "      <td>4589.684399</td>\n",
       "      <td>1.220040</td>\n",
       "      <td>188.131695</td>\n",
       "      <td>47.769163</td>\n",
       "      <td>11.860503</td>\n",
       "    </tr>\n",
       "    <tr>\n",
       "      <th>3</th>\n",
       "      <td>5460.337881</td>\n",
       "      <td>1.728385</td>\n",
       "      <td>206.057214</td>\n",
       "      <td>45.262533</td>\n",
       "      <td>16.967195</td>\n",
       "    </tr>\n",
       "    <tr>\n",
       "      <th>4</th>\n",
       "      <td>3392.622177</td>\n",
       "      <td>1.295413</td>\n",
       "      <td>225.374885</td>\n",
       "      <td>53.019634</td>\n",
       "      <td>20.441368</td>\n",
       "    </tr>\n",
       "  </tbody>\n",
       "</table>\n",
       "</div>"
      ],
      "text/plain": [
       "   wavelengths (m)  sinuosities  mean widths (m)  std. dev. of widths (m)  \\\n",
       "0      5431.627861     1.211017       204.999671                60.589707   \n",
       "1      2558.965193     2.044979       146.129310                29.259071   \n",
       "2      4589.684399     1.220040       188.131695                47.769163   \n",
       "3      5460.337881     1.728385       206.057214                45.262533   \n",
       "4      3392.622177     1.295413       225.374885                53.019634   \n",
       "\n",
       "   along-channel distance (km)  \n",
       "0                     2.283192  \n",
       "1                     8.296027  \n",
       "2                    11.860503  \n",
       "3                    16.967195  \n",
       "4                    20.441368  "
      ]
     },
     "execution_count": 348,
     "metadata": {},
     "output_type": "execute_result"
    }
   ],
   "source": [
    "fig, ax = plt.subplots()\n",
    "plt.imshow(mndwi, extent=[left_utm_x, right_utm_x, lower_utm_y, upper_utm_y], cmap='gray_r', alpha=0.5)\n",
    "df, curv, s, loc_zero_curv, xsmooth, ysmooth = rb.analyze_width_and_wavelength(D_primal, D_primal.graph['main_path'], ax, delta_s=5, smoothing_factor=0.5*1e7, min_sinuosity=1.1, dx=30)\n",
    "df.head()"
   ]
  },
  {
   "cell_type": "markdown",
   "id": "57c7a137",
   "metadata": {},
   "source": [
    "## Brahmaputra River, India / Bangladesh"
   ]
  },
  {
   "cell_type": "markdown",
   "id": "cbc38001",
   "metadata": {},
   "source": [
    "\n",
    "Data download links:"
   ]
  },
  {
   "cell_type": "code",
   "execution_count": 323,
   "id": "7f8b9c47",
   "metadata": {},
   "outputs": [
    {
     "name": "stdout",
     "output_type": "stream",
     "text": [
      "https://landsatlook.usgs.gov/data/collection02/level-2/standard/oli-tirs/2019/138/042/LC08_L2SP_138042_20190114_20200830_02_T1/LC08_L2SP_138042_20190114_20200830_02_T1_SR_B4.TIF\n",
      "https://landsatlook.usgs.gov/data/collection02/level-2/standard/oli-tirs/2019/138/042/LC08_L2SP_138042_20190114_20200830_02_T1/LC08_L2SP_138042_20190114_20200830_02_T1_SR_B3.TIF\n",
      "https://landsatlook.usgs.gov/data/collection02/level-2/standard/oli-tirs/2019/138/042/LC08_L2SP_138042_20190114_20200830_02_T1/LC08_L2SP_138042_20190114_20200830_02_T1_SR_B2.TIF\n",
      "https://landsatlook.usgs.gov/data/collection02/level-2/standard/oli-tirs/2019/138/042/LC08_L2SP_138042_20190114_20200830_02_T1/LC08_L2SP_138042_20190114_20200830_02_T1_SR_B6.TIF\n"
     ]
    }
   ],
   "source": [
    "catalog = Client.open(\"https://landsatlook.usgs.gov/stac-server\")\n",
    "scene_id = \"LC81380422019014LGN00\"\n",
    "search = catalog.search(\n",
    "    collections=[\"landsat-c2l2-sr\"],\n",
    "    query={\"landsat:scene_id\": {\"eq\": scene_id}},\n",
    "    limit=1\n",
    ")\n",
    "item = next(search.items())\n",
    "for band in ['red', 'green', 'blue', 'swir16']:\n",
    "    print(item.assets[band].href)"
   ]
  },
  {
   "cell_type": "code",
   "execution_count": 427,
   "id": "f3f37c7c",
   "metadata": {},
   "outputs": [
    {
     "name": "stdout",
     "output_type": "stream",
     "text": [
      "reading Landsat data\n"
     ]
    },
    {
     "name": "stderr",
     "output_type": "stream",
     "text": [
      "100%|██████████| 4/4 [00:00<00:00,  4.65it/s]\n"
     ]
    },
    {
     "name": "stdout",
     "output_type": "stream",
     "text": [
      "removing small holes\n",
      "removing small components\n",
      "running skeletonization\n",
      "building graph from skeleton\n",
      "finding reasonable starting and ending points on graph edges\n",
      "finding nodes that are within a certain radius of the path\n"
     ]
    },
    {
     "name": "stderr",
     "output_type": "stream",
     "text": [
      "100%|██████████| 213/213 [00:05<00:00, 37.28it/s]\n",
      "100%|██████████| 1615/1615 [00:14<00:00, 112.77it/s]\n",
      "100%|██████████| 272/272 [00:00<00:00, 5453.53it/s]\n"
     ]
    },
    {
     "name": "stdout",
     "output_type": "stream",
     "text": [
      "creating linestrings for primal graph\n"
     ]
    },
    {
     "name": "stderr",
     "output_type": "stream",
     "text": [
      "274it [00:11, 24.21it/s]\n"
     ]
    },
    {
     "name": "stdout",
     "output_type": "stream",
     "text": [
      "start and end nodes in G_primal:\n",
      "5 3\n",
      "getting bank coordinates for the two main banks\n"
     ]
    },
    {
     "name": "stderr",
     "output_type": "stream",
     "text": [
      "100%|██████████| 7595/7595 [00:00<00:00, 31630.66it/s]\n",
      "100%|██████████| 6719/6719 [00:00<00:00, 28130.75it/s]\n"
     ]
    },
    {
     "name": "stdout",
     "output_type": "stream",
     "text": [
      "getting bank coordinates for the rest of the islands\n"
     ]
    },
    {
     "name": "stderr",
     "output_type": "stream",
     "text": [
      "100%|██████████| 272/272 [00:30<00:00,  8.83it/s]\n"
     ]
    },
    {
     "name": "stdout",
     "output_type": "stream",
     "text": [
      "setting half channel widths\n"
     ]
    },
    {
     "name": "stderr",
     "output_type": "stream",
     "text": [
      "  0%|          | 0/274 [00:00<?, ?it/s]"
     ]
    },
    {
     "name": "stdout",
     "output_type": "stream",
     "text": [
      "unable to set half width for edge 522 523 0\n",
      "unable to set half width for edge 522 523 0\n",
      "unable to set half width for edge 522 523 0\n",
      "unable to set half width for edge 522 523 0\n",
      "unable to set half width for edge 522 523 0\n"
     ]
    },
    {
     "name": "stderr",
     "output_type": "stream",
     "text": [
      "100%|██████████| 274/274 [01:32<00:00,  2.96it/s]\n"
     ]
    },
    {
     "name": "stdout",
     "output_type": "stream",
     "text": [
      "creating directed graph\n"
     ]
    },
    {
     "name": "stderr",
     "output_type": "stream",
     "text": [
      "100%|██████████| 799/799 [00:06<00:00, 123.30it/s]\n"
     ]
    },
    {
     "name": "stdout",
     "output_type": "stream",
     "text": [
      "Found 3 source nodes: [5, 191, 38]\n",
      "Found 3 sink nodes: [3, 163, 313]\n",
      "After corrections, found 3 source nodes: [5, 191, 51]\n",
      "After corrections, found 1 sink nodes: [3]\n",
      "getting bank coordinates for main channel\n"
     ]
    },
    {
     "name": "stderr",
     "output_type": "stream",
     "text": [
      "100%|██████████| 6208/6208 [00:00<00:00, 23345.46it/s]\n",
      "100%|██████████| 6206/6206 [00:00<00:00, 23537.87it/s]\n",
      "100%|██████████| 272/272 [00:00<00:00, 3107.61it/s]\n",
      "100%|██████████| 799/799 [00:00<00:00, 3004.72it/s]\n"
     ]
    }
   ],
   "source": [
    "reload(rb)\n",
    "dirname = '../data/Brahmaputra/'\n",
    "fname = 'LC08_L2SP_138042_20190114_20200830_02_T1_SR' \n",
    "start_x = 859250.5\n",
    "start_y = 2903119.2\n",
    "end_x = 767358.1\n",
    "end_y = 2776067.9\n",
    "\n",
    "# setting 'flip_outlier_edges=True' is important in this case\n",
    "D_primal, G_rook, G_primal, mndwi, dataset, left_utm_x, right_utm_x, lower_utm_y, upper_utm_y, xs, ys = \\\n",
    "        rb.extract_centerline(fname, dirname, start_x, start_y, end_x, end_y,\\\n",
    "        file_type='multiple_tifs', ch_belt_smooth_factor=1e8, ch_belt_half_width=2000, remove_smaller_components=True,\\\n",
    "        delete_pixels_polys=False, small_hole_threshold=64, solidity_filter=False, flip_outlier_edges=True, check_edges=True, plot_D_primal=True)\n"
   ]
  },
  {
   "cell_type": "code",
   "execution_count": 428,
   "id": "4b33bdfa",
   "metadata": {},
   "outputs": [],
   "source": [
    "fig, ax = plt.subplots()\n",
    "plot_main_banklines = True\n",
    "from shapely.geometry import Polygon\n",
    "plt.imshow(mndwi, extent = [left_utm_x, right_utm_x, lower_utm_y, upper_utm_y], cmap='Blues', alpha=0.5)\n",
    "for i in range(2):\n",
    "    if type(G_rook.nodes()[i]['bank_polygon']) == Polygon:\n",
    "        x = G_rook.nodes()[i]['bank_polygon'].exterior.xy[0]\n",
    "        y = G_rook.nodes()[i]['bank_polygon'].exterior.xy[1]               \n",
    "    else:\n",
    "        x = G_rook.nodes()[i]['bank_polygon'].xy[0]\n",
    "        y = G_rook.nodes()[i]['bank_polygon'].xy[1]\n",
    "    if i == 0 and plot_main_banklines:\n",
    "        plt.plot(x, y, color='tab:blue', linewidth=2)\n",
    "    if i == 1 and plot_main_banklines:\n",
    "        plt.plot(x, y, color='tab:blue', linewidth=2)"
   ]
  },
  {
   "cell_type": "code",
   "execution_count": 425,
   "id": "37a13cd4",
   "metadata": {},
   "outputs": [
    {
     "name": "stderr",
     "output_type": "stream",
     "text": [
      "100%|██████████| 272/272 [00:00<00:00, 3243.73it/s]\n"
     ]
    }
   ],
   "source": [
    "fig, ax = rb.plot_im_and_lines(mndwi, left_utm_x, right_utm_x, lower_utm_y, upper_utm_y,\n",
    "    G_rook, G_primal, smoothing=False, start_x=start_x, start_y=start_y, end_x=end_x,\n",
    "    end_y=end_y, plot_lines=False)"
   ]
  },
  {
   "cell_type": "code",
   "execution_count": null,
   "id": "d7fc2c26-6215-4ff9-aa52-194c6f35abe1",
   "metadata": {},
   "outputs": [],
   "source": [
    "rb.create_channel_nw_polygon(G_rook)"
   ]
  },
  {
   "cell_type": "markdown",
   "id": "759f0649-db50-4477-89bf-bec71d3388f6",
   "metadata": {},
   "source": [
    "### Exceedance probability plot of island areas"
   ]
  },
  {
   "cell_type": "code",
   "execution_count": 352,
   "id": "587b6061-fcc3-40c7-aedc-394903d9dbb7",
   "metadata": {},
   "outputs": [],
   "source": [
    "island_areas = []\n",
    "channel_areas = []\n",
    "total_areas = []\n",
    "degrees = []\n",
    "lengths = []\n",
    "for node in G_rook:\n",
    "    poly1 = G_rook.nodes()[node]['bank_polygon']\n",
    "    poly2 = G_rook.nodes()[node]['cl_polygon']\n",
    "    if poly1.area > 0 and poly2.area > poly1.area:\n",
    "        island_areas.append(poly1.area)\n",
    "        channel_areas.append(poly2.area - poly1.area)\n",
    "        total_areas.append(poly2.area)\n",
    "        degrees.append(G_rook.degree(node))\n",
    "        lengths.append(poly1.length)\n",
    "        \n",
    "island_areas_sorted = np.sort(island_areas)\n",
    "island_areas_sorted = island_areas_sorted[:-2]\n",
    "exceedance = 1.-np.arange(1.,len(island_areas_sorted) + 1.)/len(island_areas_sorted)\n",
    "\n",
    "plt.figure()\n",
    "plt.loglog(island_areas_sorted, exceedance)\n",
    "plt.xlabel('island area (m2)')\n",
    "plt.ylabel('exceedance probability');"
   ]
  },
  {
   "cell_type": "markdown",
   "id": "79750cd4-15d1-4686-a30c-78313763c697",
   "metadata": {},
   "source": [
    "### Histogram of node degree distribution"
   ]
  },
  {
   "cell_type": "code",
   "execution_count": 353,
   "id": "2e7142f5-487e-494c-88bd-35fc23f73d51",
   "metadata": {},
   "outputs": [],
   "source": [
    "plt.figure()\n",
    "n, bins, patches = plt.hist(degrees, bins=np.arange(1.5, 25.6, 1))\n",
    "\n",
    "plt.bar(np.arange(2,26), n)\n",
    "plt.xticks(np.arange(2,26))\n",
    "plt.xlabel('node degree')\n",
    "plt.ylabel('count')\n",
    "plt.title('number of neighbors in island neighborhood graph');"
   ]
  },
  {
   "cell_type": "markdown",
   "id": "52a62796",
   "metadata": {},
   "source": [
    "## Purus River, Brazil"
   ]
  },
  {
   "cell_type": "markdown",
   "id": "e09c7769",
   "metadata": {},
   "source": [
    "The water mask was generated in Google Earth Engine.\n",
    "\n",
    "Initial output from GEE needs to be converted to UTM coordinates before running rivabar.\n",
    "\n",
    "Link to data files: https://utexas.box.com/s/cb6wsihdoykbti1iju57rs2cfrszqmyx"
   ]
  },
  {
   "cell_type": "code",
   "execution_count": 430,
   "id": "ef86106a",
   "metadata": {},
   "outputs": [
    {
     "name": "stdout",
     "output_type": "stream",
     "text": [
      "removing small holes\n",
      "removing small components\n",
      "running skeletonization\n",
      "building graph from skeleton\n",
      "finding reasonable starting and ending points on graph edges\n",
      "finding nodes that are within a certain radius of the path\n"
     ]
    },
    {
     "name": "stderr",
     "output_type": "stream",
     "text": [
      "100%|██████████| 281/281 [00:02<00:00, 106.74it/s]\n",
      "100%|██████████| 675/675 [00:02<00:00, 253.06it/s] \n",
      "100%|██████████| 11/11 [00:00<00:00, 1096.06it/s]\n"
     ]
    },
    {
     "name": "stdout",
     "output_type": "stream",
     "text": [
      "creating linestrings for primal graph\n"
     ]
    },
    {
     "name": "stderr",
     "output_type": "stream",
     "text": [
      "13it [00:00, 14.08it/s]\n"
     ]
    },
    {
     "name": "stdout",
     "output_type": "stream",
     "text": [
      "start and end nodes in G_primal:\n",
      "0 9\n",
      "getting bank coordinates for the two main banks\n"
     ]
    },
    {
     "name": "stderr",
     "output_type": "stream",
     "text": [
      "100%|██████████| 82635/82635 [00:02<00:00, 33450.12it/s]\n",
      "100%|██████████| 86455/86455 [00:02<00:00, 33284.90it/s]\n"
     ]
    },
    {
     "name": "stdout",
     "output_type": "stream",
     "text": [
      "getting bank coordinates for the rest of the islands\n"
     ]
    },
    {
     "name": "stderr",
     "output_type": "stream",
     "text": [
      "100%|██████████| 11/11 [00:09<00:00,  1.12it/s]\n"
     ]
    },
    {
     "name": "stdout",
     "output_type": "stream",
     "text": [
      "setting half channel widths\n"
     ]
    },
    {
     "name": "stderr",
     "output_type": "stream",
     "text": [
      "100%|██████████| 13/13 [01:37<00:00,  7.48s/it]\n"
     ]
    },
    {
     "name": "stdout",
     "output_type": "stream",
     "text": [
      "creating directed graph\n"
     ]
    },
    {
     "name": "stderr",
     "output_type": "stream",
     "text": [
      "100%|██████████| 34/34 [00:03<00:00,  9.59it/s]\n"
     ]
    },
    {
     "name": "stdout",
     "output_type": "stream",
     "text": [
      "getting bank coordinates for main channel\n"
     ]
    },
    {
     "name": "stderr",
     "output_type": "stream",
     "text": [
      "100%|██████████| 83245/83245 [00:02<00:00, 33311.03it/s]\n",
      "100%|██████████| 83245/83245 [00:02<00:00, 33357.93it/s]\n",
      "100%|██████████| 11/11 [00:00<00:00, 792.00it/s]\n",
      "100%|██████████| 34/34 [00:00<00:00, 50.92it/s]\n"
     ]
    }
   ],
   "source": [
    "reload(rb)\n",
    "dirname = \"../data/Purus/\"\n",
    "fname = \"L8_mndwi_Purus_2017_UTM.tif\"\n",
    "start_x = 363166.2\n",
    "start_y = -1011937.1\n",
    "end_x = 1254178.3\n",
    "end_y = -528280.7\n",
    "\n",
    "D_primal, G_rook, G_primal, mndwi, dataset, left_utm_x, right_utm_x, lower_utm_y, upper_utm_y, xs, ys = \\\n",
    "        rb.extract_centerline(fname, dirname, start_x, start_y, end_x, end_y,\\\n",
    "        file_type='water_index', ch_belt_smooth_factor=1e8, ch_belt_half_width=2000, remove_smaller_components=True,\\\n",
    "        delete_pixels_polys=False, small_hole_threshold=100, solidity_filter=False, plot_D_primal=True, flip_outlier_edges=False, check_edges=False)"
   ]
  },
  {
   "cell_type": "markdown",
   "id": "ef0538ab-218d-4af9-9f75-26d6a854c292",
   "metadata": {},
   "source": [
    "### Plot width data for main channel"
   ]
  },
  {
   "cell_type": "code",
   "execution_count": 431,
   "id": "c5c4026f-22e6-42c4-a7f7-6f361a5024ce",
   "metadata": {},
   "outputs": [],
   "source": [
    "xl, yl, w1l, w2l, w, s = rb.get_channel_widths_along_path(D_primal, D_primal.graph['main_path'])\n",
    "plt.figure(figsize=(12, 4))\n",
    "plt.plot(s/1000, np.array(w)*30.0)\n",
    "plt.xlabel('along-channel distance (km)')\n",
    "plt.ylabel('channel width (m)')\n",
    "plt.xlim(0, s[-1]/1000)\n",
    "plt.ylim(0, 1650);"
   ]
  },
  {
   "cell_type": "markdown",
   "id": "cec93243-4c73-4895-98f0-62038bf48777",
   "metadata": {},
   "source": [
    "### Plot meander wavelength and channel width data"
   ]
  },
  {
   "cell_type": "code",
   "execution_count": 432,
   "id": "15ccb7fc-eaf4-470f-a3c3-db51263aed0d",
   "metadata": {},
   "outputs": [],
   "source": [
    "fig, ax = plt.subplots()\n",
    "plt.imshow(mndwi, extent=[left_utm_x, right_utm_x, lower_utm_y, upper_utm_y], cmap='gray_r', alpha=0.5)\n",
    "df, curv, s, loc_zero_curv, xsmooth, ysmooth = rb.analyze_width_and_wavelength(D_primal, D_primal.graph['main_path'], ax, delta_s=30.0, \n",
    "                                                                    smoothing_factor=0.25*1e8, min_sinuosity=1.1, dx=30)"
   ]
  },
  {
   "cell_type": "markdown",
   "id": "57f651b3",
   "metadata": {},
   "source": [
    "### Plot a few bends in a different projection"
   ]
  },
  {
   "cell_type": "code",
   "execution_count": 433,
   "id": "1233b2c1-67be-4613-9884-095d200258b8",
   "metadata": {},
   "outputs": [],
   "source": [
    "reload(rb)\n",
    "# need to convert the original UTM bounds of the image to the new ones:\n",
    "transformer1 = pyproj.Transformer.from_crs(CRS.from_epsg(32619), CRS.from_epsg(5880), always_xy=True)\n",
    "left_utm_x1, lower_utm_y1 = transformer1.transform(left_utm_x, lower_utm_y)\n",
    "right_utm_x1, upper_utm_y1 = transformer1.transform(right_utm_x, upper_utm_y)\n",
    "\n",
    "fig = plt.figure(figsize=(14,10))\n",
    "ax = plt.axes(projection=ccrs.epsg(5880))\n",
    "# plt.imshow(mndwi, extent=[left_utm_x1, right_utm_x1, lower_utm_y1, upper_utm_y1], cmap='gray_r', alpha=0.5)\n",
    "\n",
    "x1 = D_primal.graph['main_channel_bank1_coords'][:,0]\n",
    "y1 = D_primal.graph['main_channel_bank1_coords'][:,1]\n",
    "x2 = D_primal.graph['main_channel_bank2_coords'][:,0]\n",
    "y2 = D_primal.graph['main_channel_bank2_coords'][:,1]\n",
    "x1s, y1s = transformer1.transform(x1, y1)\n",
    "x2s, y2s = transformer1.transform(x2, y2)\n",
    "plt.plot(x1s, y1s, 'k')\n",
    "plt.plot(x2s, y2s, 'k')\n",
    "plt.axis('equal')\n",
    "\n",
    "# draw lat/lon gridlines:\n",
    "transformer = pyproj.Transformer.from_crs(CRS.from_epsg(5880), CRS.from_epsg(4326), always_xy=True)\n",
    "lonmin, latmin = transformer.transform(min(x1s), min(y1s))\n",
    "lonmax, latmax = transformer.transform(max(x1s), max(y1s))\n",
    "lons = rb.find_numbers_between(lonmin, lonmax, 1)\n",
    "lats = rb.find_numbers_between(latmin, latmax, 1)\n",
    "ax.gridlines(draw_labels=True, xlocs = mticker.FixedLocator(lons), ylocs = mticker.FixedLocator(lats), color='k', linewidth=0.5);\n",
    "\n",
    "fig, ax2 = plt.subplots()\n",
    "df, curv, s, loc_zero_curv, xsmooth, ysmooth = rb.analyze_width_and_wavelength(D_primal, D_primal.graph['main_path'], ax2, delta_s=30.0, smoothing_factor=0.25*1e8, min_sinuosity=1.1, dx=30)\n",
    "xsmooth, ysmooth = transformer1.transform(xsmooth, ysmooth)\n",
    "ax.plot(xsmooth, ysmooth)\n",
    "ax.plot(xsmooth[loc_zero_curv], ysmooth[loc_zero_curv], 'ro', markersize=4)\n",
    "\n",
    "ax.set_xlim(3630105.04, 3656214.98)\n",
    "ax.set_ylim(9136647.83, 9154217.01)\n",
    "\n",
    "scalebar = ScaleBar(1.0, \"km\", length_fraction=0.25, location='lower right', box_color=\"white\", pad=0.5)\n",
    "ax.add_artist(scalebar);"
   ]
  },
  {
   "cell_type": "code",
   "execution_count": 434,
   "id": "b24de9c7-dcee-4d56-891b-b22af3316a79",
   "metadata": {},
   "outputs": [
    {
     "data": {
      "text/html": [
       "<div>\n",
       "<style scoped>\n",
       "    .dataframe tbody tr th:only-of-type {\n",
       "        vertical-align: middle;\n",
       "    }\n",
       "\n",
       "    .dataframe tbody tr th {\n",
       "        vertical-align: top;\n",
       "    }\n",
       "\n",
       "    .dataframe thead th {\n",
       "        text-align: right;\n",
       "    }\n",
       "</style>\n",
       "<table border=\"1\" class=\"dataframe\">\n",
       "  <thead>\n",
       "    <tr style=\"text-align: right;\">\n",
       "      <th></th>\n",
       "      <th>wavelengths (m)</th>\n",
       "      <th>sinuosities</th>\n",
       "      <th>mean widths (m)</th>\n",
       "      <th>std. dev. of widths (m)</th>\n",
       "      <th>along-channel distance (km)</th>\n",
       "    </tr>\n",
       "  </thead>\n",
       "  <tbody>\n",
       "    <tr>\n",
       "      <th>0</th>\n",
       "      <td>1705.567748</td>\n",
       "      <td>1.239965</td>\n",
       "      <td>124.310666</td>\n",
       "      <td>28.088273</td>\n",
       "      <td>2.801184</td>\n",
       "    </tr>\n",
       "    <tr>\n",
       "      <th>1</th>\n",
       "      <td>4263.379816</td>\n",
       "      <td>1.454972</td>\n",
       "      <td>134.235692</td>\n",
       "      <td>27.631182</td>\n",
       "      <td>6.206796</td>\n",
       "    </tr>\n",
       "    <tr>\n",
       "      <th>2</th>\n",
       "      <td>1581.067501</td>\n",
       "      <td>2.017297</td>\n",
       "      <td>131.736915</td>\n",
       "      <td>21.691657</td>\n",
       "      <td>10.055121</td>\n",
       "    </tr>\n",
       "    <tr>\n",
       "      <th>3</th>\n",
       "      <td>3620.877636</td>\n",
       "      <td>1.406359</td>\n",
       "      <td>147.689805</td>\n",
       "      <td>32.220466</td>\n",
       "      <td>13.784208</td>\n",
       "    </tr>\n",
       "    <tr>\n",
       "      <th>4</th>\n",
       "      <td>3006.874515</td>\n",
       "      <td>1.153527</td>\n",
       "      <td>151.072455</td>\n",
       "      <td>40.869887</td>\n",
       "      <td>15.964955</td>\n",
       "    </tr>\n",
       "  </tbody>\n",
       "</table>\n",
       "</div>"
      ],
      "text/plain": [
       "   wavelengths (m)  sinuosities  mean widths (m)  std. dev. of widths (m)  \\\n",
       "0      1705.567748     1.239965       124.310666                28.088273   \n",
       "1      4263.379816     1.454972       134.235692                27.631182   \n",
       "2      1581.067501     2.017297       131.736915                21.691657   \n",
       "3      3620.877636     1.406359       147.689805                32.220466   \n",
       "4      3006.874515     1.153527       151.072455                40.869887   \n",
       "\n",
       "   along-channel distance (km)  \n",
       "0                     2.801184  \n",
       "1                     6.206796  \n",
       "2                    10.055121  \n",
       "3                    13.784208  \n",
       "4                    15.964955  "
      ]
     },
     "execution_count": 434,
     "metadata": {},
     "output_type": "execute_result"
    }
   ],
   "source": [
    "df.head()"
   ]
  },
  {
   "cell_type": "markdown",
   "id": "fe83c0be",
   "metadata": {},
   "source": [
    "### Merge two files into a single TIF file (often needed when downloading files from GEE)"
   ]
  },
  {
   "cell_type": "code",
   "execution_count": null,
   "id": "5c6cc08f",
   "metadata": {},
   "outputs": [],
   "source": [
    "dirname = \"../data/Purus/\"\n",
    "fname1 = 'L8_mndwi_mosaic_Purus_2019_2020-0000000000-0000000000_UTM.tif'\n",
    "fname2 = 'L8_mndwi_mosaic_Purus_2019_2020-0000000000-0000032768_UTM.tif'\n",
    "\n",
    "from rasterio.merge import merge\n",
    "\n",
    "# Open the first raster dataset\n",
    "src1 = rasterio.open(dirname+fname1) \n",
    "meta1 = src1.meta\n",
    "# Open the second raster dataset\n",
    "src2 = rasterio.open(dirname+fname2)\n",
    "# Merge the two arrays\n",
    "merged_arr, merged_transform = merge([src1, src2])\n",
    "merged_arr = merged_arr[0, :, :]\n",
    "# Update the metadata with the merged shape and transform\n",
    "meta1.update({\n",
    "    'height': merged_arr.shape[0],\n",
    "    'width': merged_arr.shape[1],\n",
    "    'transform': merged_transform\n",
    "})\n",
    "# Write the merged raster dataset to disk\n",
    "with rasterio.open(dirname + 'L8_mndwi_mosaic_Purus_2019_2020_UTM.tif', 'w', **meta1) as dst:\n",
    "    dst.write(merged_arr, 1)"
   ]
  },
  {
   "cell_type": "markdown",
   "id": "435ac864",
   "metadata": {},
   "source": [
    "## Adelaide River, Australia"
   ]
  },
  {
   "cell_type": "markdown",
   "id": "50d06d23",
   "metadata": {},
   "source": [
    "Water mask was generated from Planet Labs data.\n",
    "\n",
    "Link to data file: https://utexas.box.com/s/g5mgrpw3pir8lwfnlx7nnexggg7o59an"
   ]
  },
  {
   "cell_type": "code",
   "execution_count": null,
   "id": "1c765407",
   "metadata": {},
   "outputs": [
    {
     "name": "stdout",
     "output_type": "stream",
     "text": [
      "removing small holes\n",
      "removing small components\n",
      "running skeletonization\n",
      "building graph from skeleton\n",
      "finding reasonable starting and ending points on graph edges\n",
      "finding nodes that are within a certain radius of the path\n"
     ]
    },
    {
     "name": "stderr",
     "output_type": "stream",
     "text": [
      "100%|██████████| 62/62 [00:00<00:00, 275.51it/s]\n",
      "100%|██████████| 80/80 [00:00<00:00, 1974.61it/s]\n",
      "0it [00:00, ?it/s]\n"
     ]
    },
    {
     "name": "stdout",
     "output_type": "stream",
     "text": [
      "creating linestrings for primal graph\n"
     ]
    },
    {
     "name": "stderr",
     "output_type": "stream",
     "text": [
      "2it [00:00,  8.40it/s]\n"
     ]
    },
    {
     "name": "stdout",
     "output_type": "stream",
     "text": [
      "start and end nodes in G_primal:\n",
      "1 0\n",
      "getting bank coordinates for the two main banks\n"
     ]
    },
    {
     "name": "stderr",
     "output_type": "stream",
     "text": [
      "100%|██████████| 29371/29371 [00:06<00:00, 4546.67it/s] \n",
      "100%|██████████| 30063/30063 [00:06<00:00, 4716.23it/s] \n"
     ]
    },
    {
     "name": "stdout",
     "output_type": "stream",
     "text": [
      "getting bank coordinates for the rest of the islands\n"
     ]
    },
    {
     "name": "stderr",
     "output_type": "stream",
     "text": [
      "0it [00:00, ?it/s]\n"
     ]
    },
    {
     "name": "stdout",
     "output_type": "stream",
     "text": [
      "setting half channel widths\n"
     ]
    },
    {
     "name": "stderr",
     "output_type": "stream",
     "text": [
      "100%|██████████| 2/2 [00:14<00:00,  7.15s/it]\n"
     ]
    },
    {
     "name": "stdout",
     "output_type": "stream",
     "text": [
      "creating directed graph\n"
     ]
    },
    {
     "name": "stderr",
     "output_type": "stream",
     "text": [
      "100%|██████████| 1/1 [00:00<00:00, 10.60it/s]\n"
     ]
    },
    {
     "name": "stdout",
     "output_type": "stream",
     "text": [
      "getting bank coordinates for main channel\n"
     ]
    },
    {
     "name": "stderr",
     "output_type": "stream",
     "text": [
      "100%|██████████| 28514/28514 [00:06<00:00, 4294.16it/s] \n",
      "100%|██████████| 28512/28512 [00:06<00:00, 4257.59it/s] \n"
     ]
    }
   ],
   "source": [
    "dirname = '../data/Adelaide/'\n",
    "fname = 'ndwi_mosaic.tif'\n",
    "start_x = 753443.4\n",
    "start_y = 8598434.2\n",
    "end_x = 743089.7\n",
    "end_y = 8648110.2\n",
    "\n",
    "D_primal, G_rook, G_primal, mndwi, dataset, left_utm_x, right_utm_x, lower_utm_y, upper_utm_y, xs, ys = \\\n",
    "        rb.extract_centerline(fname, dirname, start_x, start_y, end_x, end_y, mndwi_threshold = 0.5,\\\n",
    "        file_type='water_index', ch_belt_smooth_factor=1e8, ch_belt_half_width=2000, remove_smaller_components=False,\\\n",
    "        delete_pixels_polys=False, small_hole_threshold=64, solidity_filter=False, plot_D_primal=True)"
   ]
  },
  {
   "cell_type": "markdown",
   "id": "fbdff003-dee9-4826-b33c-8bfa06f8976e",
   "metadata": {},
   "source": [
    "### Plot width data for main channel"
   ]
  },
  {
   "cell_type": "code",
   "execution_count": 52,
   "id": "8a2f3657-d4de-4ebe-b8d1-1a968c8a8858",
   "metadata": {},
   "outputs": [],
   "source": [
    "xl, yl, w1l, w2l, w, s = rb.get_channel_widths_along_path(D_primal, D_primal.graph['main_path'])\n",
    "plt.figure(figsize=(12, 4))\n",
    "plt.plot(s, np.array(w)*3.0)\n",
    "plt.xlabel('along-channel distance (m)')\n",
    "plt.ylabel('channel width (m)');"
   ]
  },
  {
   "cell_type": "markdown",
   "id": "a6817793-9c8f-4a79-8924-05d207fd9cca",
   "metadata": {},
   "source": [
    "### Plot meander wavelength and channel width data"
   ]
  },
  {
   "cell_type": "code",
   "execution_count": 53,
   "id": "e63e1c49-3b22-49ca-a762-3cef16cccd6c",
   "metadata": {},
   "outputs": [],
   "source": [
    "fig, ax = plt.subplots()\n",
    "plt.imshow(mndwi, extent=[left_utm_x, right_utm_x, lower_utm_y, upper_utm_y], cmap='gray_r', alpha=0.5)\n",
    "df, curv, s, loc_zero_curv, xsmooth, ysmooth = rb.analyze_width_and_wavelength(D_primal, D_primal.graph['main_path'], ax, \n",
    "                                                            delta_s=5, smoothing_factor=1e6, min_sinuosity=1.1, dx=30)"
   ]
  },
  {
   "cell_type": "code",
   "execution_count": 54,
   "id": "03ac2e1e-36ec-4629-9a48-f0ad19ae9f0e",
   "metadata": {},
   "outputs": [
    {
     "data": {
      "text/html": [
       "<div>\n",
       "<style scoped>\n",
       "    .dataframe tbody tr th:only-of-type {\n",
       "        vertical-align: middle;\n",
       "    }\n",
       "\n",
       "    .dataframe tbody tr th {\n",
       "        vertical-align: top;\n",
       "    }\n",
       "\n",
       "    .dataframe thead th {\n",
       "        text-align: right;\n",
       "    }\n",
       "</style>\n",
       "<table border=\"1\" class=\"dataframe\">\n",
       "  <thead>\n",
       "    <tr style=\"text-align: right;\">\n",
       "      <th></th>\n",
       "      <th>wavelengths (m)</th>\n",
       "      <th>sinuosities</th>\n",
       "      <th>mean widths (m)</th>\n",
       "      <th>std. dev. of widths (m)</th>\n",
       "      <th>along-channel distance (km)</th>\n",
       "    </tr>\n",
       "  </thead>\n",
       "  <tbody>\n",
       "    <tr>\n",
       "      <th>0</th>\n",
       "      <td>1702.798992</td>\n",
       "      <td>1.260533</td>\n",
       "      <td>1177.606188</td>\n",
       "      <td>53.253008</td>\n",
       "      <td>3.320376</td>\n",
       "    </tr>\n",
       "    <tr>\n",
       "      <th>1</th>\n",
       "      <td>1827.987198</td>\n",
       "      <td>3.536084</td>\n",
       "      <td>1103.230996</td>\n",
       "      <td>81.002739</td>\n",
       "      <td>5.472576</td>\n",
       "    </tr>\n",
       "    <tr>\n",
       "      <th>2</th>\n",
       "      <td>3849.473068</td>\n",
       "      <td>1.380029</td>\n",
       "      <td>1038.693355</td>\n",
       "      <td>54.884470</td>\n",
       "      <td>8.420764</td>\n",
       "    </tr>\n",
       "    <tr>\n",
       "      <th>3</th>\n",
       "      <td>2375.920113</td>\n",
       "      <td>1.172625</td>\n",
       "      <td>1130.309515</td>\n",
       "      <td>62.764570</td>\n",
       "      <td>11.686329</td>\n",
       "    </tr>\n",
       "    <tr>\n",
       "      <th>4</th>\n",
       "      <td>3174.248635</td>\n",
       "      <td>1.334377</td>\n",
       "      <td>1074.331173</td>\n",
       "      <td>65.234065</td>\n",
       "      <td>13.435510</td>\n",
       "    </tr>\n",
       "  </tbody>\n",
       "</table>\n",
       "</div>"
      ],
      "text/plain": [
       "   wavelengths (m)  sinuosities  mean widths (m)  std. dev. of widths (m)  \\\n",
       "0      1702.798992     1.260533      1177.606188                53.253008   \n",
       "1      1827.987198     3.536084      1103.230996                81.002739   \n",
       "2      3849.473068     1.380029      1038.693355                54.884470   \n",
       "3      2375.920113     1.172625      1130.309515                62.764570   \n",
       "4      3174.248635     1.334377      1074.331173                65.234065   \n",
       "\n",
       "   along-channel distance (km)  \n",
       "0                     3.320376  \n",
       "1                     5.472576  \n",
       "2                     8.420764  \n",
       "3                    11.686329  \n",
       "4                    13.435510  "
      ]
     },
     "execution_count": 54,
     "metadata": {},
     "output_type": "execute_result"
    }
   ],
   "source": [
    "df.head()"
   ]
  },
  {
   "cell_type": "markdown",
   "id": "2f1e59fc",
   "metadata": {},
   "source": [
    "## Lena Delta, Russia"
   ]
  },
  {
   "cell_type": "markdown",
   "id": "6b70c522",
   "metadata": {},
   "source": [
    "\n",
    "Link to data file: https://utexas.box.com/s/4b87y3og9o40zti0cytye0ppecepncy8"
   ]
  },
  {
   "cell_type": "code",
   "execution_count": 411,
   "id": "c2312363",
   "metadata": {},
   "outputs": [
    {
     "name": "stdout",
     "output_type": "stream",
     "text": [
      "removing small holes\n",
      "removing small components\n",
      "running skeletonization\n",
      "building graph from skeleton\n",
      "finding reasonable starting and ending points on graph edges\n",
      "finding nodes that are within a certain radius of the path\n"
     ]
    },
    {
     "name": "stderr",
     "output_type": "stream",
     "text": [
      "100%|██████████| 185/185 [01:46<00:00,  1.73it/s]\n",
      "100%|██████████| 7052/7052 [04:32<00:00, 25.87it/s] \n",
      "100%|██████████| 1210/1210 [00:00<00:00, 3504.07it/s]\n"
     ]
    },
    {
     "name": "stdout",
     "output_type": "stream",
     "text": [
      "creating linestrings for primal graph\n"
     ]
    },
    {
     "name": "stderr",
     "output_type": "stream",
     "text": [
      "1212it [04:25,  4.56it/s]\n"
     ]
    },
    {
     "name": "stdout",
     "output_type": "stream",
     "text": [
      "start and end nodes in G_primal:\n",
      "1 108\n",
      "getting bank coordinates for the two main banks\n"
     ]
    },
    {
     "name": "stderr",
     "output_type": "stream",
     "text": [
      "100%|██████████| 12211/12211 [00:03<00:00, 3360.11it/s]\n",
      "100%|██████████| 12821/12821 [00:08<00:00, 1533.86it/s]\n"
     ]
    },
    {
     "name": "stdout",
     "output_type": "stream",
     "text": [
      "getting bank coordinates for the rest of the islands\n"
     ]
    },
    {
     "name": "stderr",
     "output_type": "stream",
     "text": [
      "100%|██████████| 1210/1210 [04:46<00:00,  4.22it/s]\n"
     ]
    },
    {
     "name": "stdout",
     "output_type": "stream",
     "text": [
      "setting half channel widths\n"
     ]
    },
    {
     "name": "stderr",
     "output_type": "stream",
     "text": [
      "100%|██████████| 1212/1212 [27:34<00:00,  1.37s/it] \n"
     ]
    },
    {
     "name": "stdout",
     "output_type": "stream",
     "text": [
      "creating directed graph\n"
     ]
    },
    {
     "name": "stderr",
     "output_type": "stream",
     "text": [
      "100%|██████████| 3607/3607 [00:49<00:00, 73.06it/s]\n"
     ]
    },
    {
     "name": "stdout",
     "output_type": "stream",
     "text": [
      "getting bank coordinates for main channel\n"
     ]
    },
    {
     "name": "stderr",
     "output_type": "stream",
     "text": [
      "100%|██████████| 5321/5321 [00:02<00:00, 2096.07it/s]\n",
      "100%|██████████| 5317/5317 [00:02<00:00, 2222.87it/s]\n"
     ]
    }
   ],
   "source": [
    "# it takes about 45 minutes to run this\n",
    "dirname = '../data/Lena/'\n",
    "fname = 'lena_1_mndwi_clipped.tif'\n",
    "\n",
    "start_x = 437535.424\n",
    "start_y = 7970396.089\n",
    "end_x = 522971.474\n",
    "end_y = 8092767.374\n",
    "\n",
    "D_primal, G_rook, G_primal, mndwi, dataset, left_utm_x, right_utm_x, lower_utm_y, upper_utm_y, xs, ys = \\\n",
    "        rb.extract_centerline(fname, dirname, start_x, start_y, end_x, end_y,\\\n",
    "        file_type='water_index', flip_outlier_edges=True, mndwi_threshold=0.0, radius=1000,\\\n",
    "        ch_belt_smooth_factor=1e8, ch_belt_half_width=100000, remove_smaller_components=True,\\\n",
    "        delete_pixels_polys=False, small_hole_threshold=64, solidity_filter=False, check_edges=False)"
   ]
  },
  {
   "cell_type": "code",
   "execution_count": null,
   "id": "0e9d1b60",
   "metadata": {},
   "outputs": [],
   "source": [
    "from shapely.geometry import Polygon\n",
    "# these points can be obtained by using 'ginput':\n",
    "points = [(494904.8165878182, 7970881.450080209),\n",
    " (502959.421306467, 7975311.482675467),\n",
    " (502355.3259525683, 7987192.024635473),\n",
    " (502153.9608346021, 7991017.961876832),\n",
    " (504368.97713223053, 7991017.961876832),\n",
    " (509000.37484545354, 7983970.182748014),\n",
    " (515444.05862037255, 7984574.278101913),\n",
    " (520880.9168054605, 7997663.010769717),\n",
    " (523297.2982210552, 8022229.555161595),\n",
    " (523095.93310308893, 8045185.178609745),\n",
    " (522693.2028671565, 8076396.771894509),\n",
    " (521686.3772773254, 8101366.04652232),\n",
    " (513229.04232274415, 8119488.90713928),\n",
    " (501549.8654807034, 8135195.386340645),\n",
    " (488461.1328128992, 8148888.2143623475),\n",
    " (471949.1931396692, 8159761.930732524),\n",
    " (453423.602286777, 8163587.867973882),\n",
    " (438925.3137932092, 8163185.137737949)]\n",
    "\n",
    "x_utm, y_utm, ch_map = rb.get_channel_mouth_polygon(mndwi, dataset, points)\n",
    "fig = rb.plot_im_and_lines(mndwi, left_utm_x, right_utm_x, lower_utm_y, upper_utm_y, \n",
    "                G_rook, G_primal, smoothing=False, start_x=start_x, start_y=start_y, \n",
    "                end_x=end_x, end_y=end_y)\n",
    "plt.plot(x_utm, y_utm, 'g', linewidth=3)\n",
    "ch_poly = rb.create_channel_nw_polygon(G_rook, buffer=10, \n",
    "                ch_mouth_poly=Polygon(np.vstack((x_utm, y_utm)).T), \n",
    "                dataset=dataset, mndwi=mndwi)\n"
   ]
  },
  {
   "cell_type": "code",
   "execution_count": 441,
   "id": "11fba5f4",
   "metadata": {},
   "outputs": [
    {
     "name": "stderr",
     "output_type": "stream",
     "text": [
      "100%|██████████| 3470/3470 [00:01<00:00, 2023.25it/s]\n"
     ]
    }
   ],
   "source": [
    "D_primal, sources, sinks = rb.create_directed_multigraph(G_primal, \\\n",
    "        G_rook, xs, ys, 1, 108, flip_outlier_edges=True, check_edges=False, \\\n",
    "        x_utm=x_utm, y_utm=y_utm)\n",
    "fig = rb.plot_im_and_lines(mndwi, left_utm_x, right_utm_x, lower_utm_y, upper_utm_y,\n",
    "        G_rook, G_primal, smoothing=False, start_x=start_x, start_y=start_y, end_x=end_x,\n",
    "        end_y=end_y, plot_main_banklines=False, plot_lines=False)\n",
    "ax = plt.gca()\n",
    "rb.plot_graph_w_colors(D_primal, ax)"
   ]
  },
  {
   "cell_type": "code",
   "execution_count": 417,
   "id": "0b7c7b9c",
   "metadata": {},
   "outputs": [],
   "source": [
    "# save graphs to pickle files\n",
    "import pickle\n",
    "with open(dirname+\"lena_delta_g_rook.pkl\", \"wb\") as f:\n",
    "    pickle.dump(G_rook, f)\n",
    "with open(dirname+\"lena_delta_g_primal.pkl\", \"wb\") as f:\n",
    "    pickle.dump(G_primal, f)\n",
    "with open(dirname+\"lena_delta_d_primal.pkl\", \"wb\") as f:\n",
    "    pickle.dump(D_primal, f)"
   ]
  },
  {
   "cell_type": "code",
   "execution_count": 440,
   "id": "d01ff064",
   "metadata": {},
   "outputs": [],
   "source": [
    "# load graphs from pickle files\n",
    "dirname = '../data/Lena/'\n",
    "with open(dirname+\"lena_delta_g_rook.pkl\", \"rb\") as f:\n",
    "    G_rook = pickle.load(f)\n",
    "with open(dirname+\"lena_delta_g_primal.pkl\", \"rb\") as f:\n",
    "    G_primal = pickle.load(f)\n",
    "with open(dirname+\"lena_delta_d_primal.pkl\", \"rb\") as f:\n",
    "    D_primal = pickle.load(f)\n",
    "ax = plt.gca()\n",
    "rb.plot_graph_w_colors(D_primal, ax)"
   ]
  },
  {
   "cell_type": "code",
   "execution_count": 443,
   "id": "1764b8d9",
   "metadata": {},
   "outputs": [],
   "source": [
    "dirname = '../data/Lena/'\n",
    "fname = 'lena_1_mndwi_clipped.tif'\n",
    "im, dataset, left_utm_x, right_utm_x, lower_utm_y, upper_utm_y = rb.read_and_plot_im(dirname, fname)"
   ]
  },
  {
   "cell_type": "code",
   "execution_count": 454,
   "id": "f9c3c019",
   "metadata": {},
   "outputs": [
    {
     "name": "stderr",
     "output_type": "stream",
     "text": [
      "100%|██████████| 1210/1210 [00:00<00:00, 2730.44it/s]\n"
     ]
    }
   ],
   "source": [
    "start_x = 437535.424\n",
    "start_y = 7970396.089\n",
    "end_x = 522971.474\n",
    "end_y = 8092767.374\n",
    "\n",
    "fig = rb.plot_im_and_lines(im, left_utm_x, right_utm_x, lower_utm_y, upper_utm_y,\n",
    "        G_rook, G_primal, smoothing=False, start_x=start_x, start_y=start_y, end_x=end_x,\n",
    "        end_y=end_y, plot_main_banklines=True, plot_lines=False, plot_image=True)"
   ]
  },
  {
   "cell_type": "code",
   "execution_count": 465,
   "id": "d7fa688b",
   "metadata": {},
   "outputs": [],
   "source": [
    "rb.write_shapefiles_and_graphs(G_rook, D_primal, dataset, dirname, 'Lena')"
   ]
  }
 ],
 "metadata": {
  "kernelspec": {
   "display_name": "rivabar",
   "language": "python",
   "name": "python3"
  },
  "language_info": {
   "codemirror_mode": {
    "name": "ipython",
    "version": 3
   },
   "file_extension": ".py",
   "mimetype": "text/x-python",
   "name": "python",
   "nbconvert_exporter": "python",
   "pygments_lexer": "ipython3",
   "version": "3.10.15"
  }
 },
 "nbformat": 4,
 "nbformat_minor": 5
}
